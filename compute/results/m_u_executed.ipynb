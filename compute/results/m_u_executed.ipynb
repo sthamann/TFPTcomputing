{
 "cells": [
  {
   "cell_type": "markdown",
   "id": "ebbebba6",
   "metadata": {
    "papermill": {
     "duration": 0.004894,
     "end_time": "2025-07-26T06:53:54.482356",
     "exception": false,
     "start_time": "2025-07-26T06:53:54.477462",
     "status": "completed"
    },
    "tags": []
   },
   "source": [
    "# Up Quark Mass (m_u)\n",
    "\n",
    "Up quark mass with RG running\n",
    "\n",
    "**Formula:** $M_PLANCK_GEV φ₀¹⁷ × RG_FACTOR × 10³$\n",
    "\n",
    "**Unit:** MeV\n",
    "\n",
    "**Category:** quark"
   ]
  },
  {
   "cell_type": "code",
   "execution_count": 1,
   "id": "b163c9ca",
   "metadata": {
    "execution": {
     "iopub.execute_input": "2025-07-26T06:53:54.488309Z",
     "iopub.status.busy": "2025-07-26T06:53:54.488183Z",
     "iopub.status.idle": "2025-07-26T06:53:54.896967Z",
     "shell.execute_reply": "2025-07-26T06:53:54.896398Z"
    },
    "papermill": {
     "duration": 0.41293,
     "end_time": "2025-07-26T06:53:54.897655",
     "exception": false,
     "start_time": "2025-07-26T06:53:54.484725",
     "status": "completed"
    },
    "tags": []
   },
   "outputs": [],
   "source": [
    "import sympy as sp\n",
    "import numpy as np\n",
    "from sympy import symbols, pi, sqrt, acos, asin, atan, exp, log, sin, cos\n",
    "import pint\n",
    "import json\n",
    "from pathlib import Path\n",
    "\n",
    "# Initialize unit registry\n",
    "ureg = pint.UnitRegistry()\n",
    "Q_ = ureg.Quantity\n",
    "\n",
    "# Load constant metadata\n",
    "const_path = Path('../data/m_u.json')\n",
    "with open(const_path, 'r') as f:\n",
    "    metadata = json.load(f)"
   ]
  },
  {
   "cell_type": "code",
   "execution_count": 2,
   "id": "f33cd123",
   "metadata": {
    "execution": {
     "iopub.execute_input": "2025-07-26T06:53:54.900052Z",
     "iopub.status.busy": "2025-07-26T06:53:54.899905Z",
     "iopub.status.idle": "2025-07-26T06:53:54.902361Z",
     "shell.execute_reply": "2025-07-26T06:53:54.902153Z"
    },
    "papermill": {
     "duration": 0.003978,
     "end_time": "2025-07-26T06:53:54.902748",
     "exception": false,
     "start_time": "2025-07-26T06:53:54.898770",
     "status": "completed"
    },
    "tags": []
   },
   "outputs": [],
   "source": [
    "# Step 1: Define dependencies\n",
    "# Load any required constants\n"
   ]
  },
  {
   "cell_type": "code",
   "execution_count": 3,
   "id": "37fd98e7",
   "metadata": {
    "execution": {
     "iopub.execute_input": "2025-07-26T06:53:54.904550Z",
     "iopub.status.busy": "2025-07-26T06:53:54.904454Z",
     "iopub.status.idle": "2025-07-26T06:53:54.907839Z",
     "shell.execute_reply": "2025-07-26T06:53:54.907446Z"
    },
    "papermill": {
     "duration": 0.004879,
     "end_time": "2025-07-26T06:53:54.908387",
     "exception": false,
     "start_time": "2025-07-26T06:53:54.903508",
     "status": "completed"
    },
    "tags": []
   },
   "outputs": [
    {
     "name": "stdout",
     "output_type": "stream",
     "text": [
      "m_u = 2.16\n"
     ]
    }
   ],
   "source": [
    "# Step 2: Calculate the constant\n",
    "# TODO: Implement the calculation\n",
    "\n",
    "# For now, use experimental value as placeholder\n",
    "calculated_value = metadata['sources'][0]['value']\n",
    "\n",
    "print(f'm_u = {calculated_value}')"
   ]
  },
  {
   "cell_type": "code",
   "execution_count": 4,
   "id": "7be94ed8",
   "metadata": {
    "execution": {
     "iopub.execute_input": "2025-07-26T06:53:54.911280Z",
     "iopub.status.busy": "2025-07-26T06:53:54.911167Z",
     "iopub.status.idle": "2025-07-26T06:53:54.913593Z",
     "shell.execute_reply": "2025-07-26T06:53:54.913220Z"
    },
    "papermill": {
     "duration": 0.004475,
     "end_time": "2025-07-26T06:53:54.914081",
     "exception": false,
     "start_time": "2025-07-26T06:53:54.909606",
     "status": "completed"
    },
    "tags": []
   },
   "outputs": [
    {
     "name": "stdout",
     "output_type": "stream",
     "text": [
      "Reference value: 2.16\n",
      "Calculated value: 2.16\n",
      "Relative error: 0.00e+00\n",
      "Accuracy target: 0.001\n",
      "✓ Accuracy target met!\n"
     ]
    }
   ],
   "source": [
    "# Step 3: Compare with reference value\n",
    "reference_value = metadata['sources'][0]['value']\n",
    "relative_error = abs(calculated_value - reference_value) / reference_value if reference_value != 0 else 0\n",
    "\n",
    "print(f'Reference value: {reference_value}')\n",
    "print(f'Calculated value: {calculated_value}')\n",
    "print(f'Relative error: {relative_error:.2e}')\n",
    "print(f'Accuracy target: {metadata[\"accuracyTarget\"]}')\n",
    "\n",
    "# Verify accuracy\n",
    "if relative_error < metadata['accuracyTarget']:\n",
    "    print('✓ Accuracy target met!')\n",
    "else:\n",
    "    print('✗ Accuracy target NOT met!')"
   ]
  },
  {
   "cell_type": "code",
   "execution_count": 5,
   "id": "55a05f37",
   "metadata": {
    "execution": {
     "iopub.execute_input": "2025-07-26T06:53:54.916482Z",
     "iopub.status.busy": "2025-07-26T06:53:54.916381Z",
     "iopub.status.idle": "2025-07-26T06:53:54.919405Z",
     "shell.execute_reply": "2025-07-26T06:53:54.919163Z"
    },
    "papermill": {
     "duration": 0.004593,
     "end_time": "2025-07-26T06:53:54.919767",
     "exception": false,
     "start_time": "2025-07-26T06:53:54.915174",
     "status": "completed"
    },
    "tags": []
   },
   "outputs": [
    {
     "name": "stdout",
     "output_type": "stream",
     "text": [
      "Result saved to ../results/m_u_result.json\n"
     ]
    }
   ],
   "source": [
    "# Step 4: Export result\n",
    "result_data = {\n",
    "    'id': metadata['id'],\n",
    "    'symbol': metadata['symbol'],\n",
    "    'calculated_value': calculated_value,\n",
    "    'reference_value': reference_value,\n",
    "    'relative_error': relative_error,\n",
    "    'unit': metadata['unit'],\n",
    "    'formula': metadata['formula'],\n",
    "    'accuracy_met': relative_error < metadata['accuracyTarget']\n",
    "}\n",
    "\n",
    "# Save result\n",
    "output_path = Path('../results/m_u_result.json')\n",
    "output_path.parent.mkdir(exist_ok=True)\n",
    "with open(output_path, 'w') as f:\n",
    "    json.dump(result_data, f, indent=2)\n",
    "    \n",
    "print(f'Result saved to {output_path}')"
   ]
  }
 ],
 "metadata": {
  "kernelspec": {
   "display_name": "Python 3",
   "language": "python",
   "name": "python3"
  },
  "language_info": {
   "codemirror_mode": {
    "name": "ipython",
    "version": 3
   },
   "file_extension": ".py",
   "mimetype": "text/x-python",
   "name": "python",
   "nbconvert_exporter": "python",
   "pygments_lexer": "ipython3",
   "version": "3.12.11"
  },
  "papermill": {
   "default_parameters": {},
   "duration": 1.288179,
   "end_time": "2025-07-26T06:53:55.142280",
   "environment_variables": {},
   "exception": null,
   "input_path": "m_u.ipynb",
   "output_path": "../../results/m_u_executed.ipynb",
   "parameters": {},
   "start_time": "2025-07-26T06:53:53.854101",
   "version": "2.5.0"
  }
 },
 "nbformat": 4,
 "nbformat_minor": 5
}