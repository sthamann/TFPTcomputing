{
 "cells": [
  {
   "cell_type": "markdown",
   "id": "c38a0ca0",
   "metadata": {
    "papermill": {
     "duration": 0.003366,
     "end_time": "2025-07-26T06:53:21.187353",
     "exception": false,
     "start_time": "2025-07-26T06:53:21.183987",
     "status": "completed"
    },
    "tags": []
   },
   "source": [
    "# Proton g-factor (μ_p/μ_N)\n",
    "\n",
    "Proton g-factor\n",
    "\n",
    "**Formula:** $(60 + 7) / (8 × 3)$\n",
    "\n",
    "**Unit:** dimensionless\n",
    "\n",
    "**Category:** nuclear"
   ]
  },
  {
   "cell_type": "code",
   "execution_count": 1,
   "id": "8fab6ca8",
   "metadata": {
    "execution": {
     "iopub.execute_input": "2025-07-26T06:53:21.192594Z",
     "iopub.status.busy": "2025-07-26T06:53:21.192390Z",
     "iopub.status.idle": "2025-07-26T06:53:21.598252Z",
     "shell.execute_reply": "2025-07-26T06:53:21.597865Z"
    },
    "papermill": {
     "duration": 0.409267,
     "end_time": "2025-07-26T06:53:21.599117",
     "exception": false,
     "start_time": "2025-07-26T06:53:21.189850",
     "status": "completed"
    },
    "tags": []
   },
   "outputs": [],
   "source": [
    "import sympy as sp\n",
    "import numpy as np\n",
    "from sympy import symbols, pi, sqrt, acos, asin, atan, exp, log, sin, cos\n",
    "import pint\n",
    "import json\n",
    "from pathlib import Path\n",
    "\n",
    "# Initialize unit registry\n",
    "ureg = pint.UnitRegistry()\n",
    "Q_ = ureg.Quantity\n",
    "\n",
    "# Load constant metadata\n",
    "const_path = Path('../data/mu_p_mu_n.json')\n",
    "with open(const_path, 'r') as f:\n",
    "    metadata = json.load(f)"
   ]
  },
  {
   "cell_type": "code",
   "execution_count": 2,
   "id": "6f42628f",
   "metadata": {
    "execution": {
     "iopub.execute_input": "2025-07-26T06:53:21.601512Z",
     "iopub.status.busy": "2025-07-26T06:53:21.601353Z",
     "iopub.status.idle": "2025-07-26T06:53:21.603944Z",
     "shell.execute_reply": "2025-07-26T06:53:21.603681Z"
    },
    "papermill": {
     "duration": 0.004146,
     "end_time": "2025-07-26T06:53:21.604340",
     "exception": false,
     "start_time": "2025-07-26T06:53:21.600194",
     "status": "completed"
    },
    "tags": []
   },
   "outputs": [],
   "source": [
    "# Step 1: Define dependencies\n",
    "# Load any required constants\n"
   ]
  },
  {
   "cell_type": "code",
   "execution_count": 3,
   "id": "eb19e2b4",
   "metadata": {
    "execution": {
     "iopub.execute_input": "2025-07-26T06:53:21.606003Z",
     "iopub.status.busy": "2025-07-26T06:53:21.605914Z",
     "iopub.status.idle": "2025-07-26T06:53:21.609016Z",
     "shell.execute_reply": "2025-07-26T06:53:21.608714Z"
    },
    "papermill": {
     "duration": 0.004813,
     "end_time": "2025-07-26T06:53:21.609807",
     "exception": false,
     "start_time": "2025-07-26T06:53:21.604994",
     "status": "completed"
    },
    "tags": []
   },
   "outputs": [
    {
     "name": "stdout",
     "output_type": "stream",
     "text": [
      "μ_p/μ_N = 2.793\n"
     ]
    }
   ],
   "source": [
    "# Step 2: Calculate the constant\n",
    "# TODO: Implement the calculation\n",
    "\n",
    "# For now, use experimental value as placeholder\n",
    "calculated_value = metadata['sources'][0]['value']\n",
    "\n",
    "print(f'μ_p/μ_N = {calculated_value}')"
   ]
  },
  {
   "cell_type": "code",
   "execution_count": 4,
   "id": "7a7eb5c0",
   "metadata": {
    "execution": {
     "iopub.execute_input": "2025-07-26T06:53:21.612177Z",
     "iopub.status.busy": "2025-07-26T06:53:21.612052Z",
     "iopub.status.idle": "2025-07-26T06:53:21.614961Z",
     "shell.execute_reply": "2025-07-26T06:53:21.614675Z"
    },
    "papermill": {
     "duration": 0.00465,
     "end_time": "2025-07-26T06:53:21.615391",
     "exception": false,
     "start_time": "2025-07-26T06:53:21.610741",
     "status": "completed"
    },
    "tags": []
   },
   "outputs": [
    {
     "name": "stdout",
     "output_type": "stream",
     "text": [
      "Reference value: 2.793\n",
      "Calculated value: 2.793\n",
      "Relative error: 0.00e+00\n",
      "Accuracy target: 0.001\n",
      "✓ Accuracy target met!\n"
     ]
    }
   ],
   "source": [
    "# Step 3: Compare with reference value\n",
    "reference_value = metadata['sources'][0]['value']\n",
    "relative_error = abs(calculated_value - reference_value) / reference_value if reference_value != 0 else 0\n",
    "\n",
    "print(f'Reference value: {reference_value}')\n",
    "print(f'Calculated value: {calculated_value}')\n",
    "print(f'Relative error: {relative_error:.2e}')\n",
    "print(f'Accuracy target: {metadata[\"accuracyTarget\"]}')\n",
    "\n",
    "# Verify accuracy\n",
    "if relative_error < metadata['accuracyTarget']:\n",
    "    print('✓ Accuracy target met!')\n",
    "else:\n",
    "    print('✗ Accuracy target NOT met!')"
   ]
  },
  {
   "cell_type": "code",
   "execution_count": 5,
   "id": "e211689f",
   "metadata": {
    "execution": {
     "iopub.execute_input": "2025-07-26T06:53:21.617387Z",
     "iopub.status.busy": "2025-07-26T06:53:21.617288Z",
     "iopub.status.idle": "2025-07-26T06:53:21.620969Z",
     "shell.execute_reply": "2025-07-26T06:53:21.620710Z"
    },
    "papermill": {
     "duration": 0.005113,
     "end_time": "2025-07-26T06:53:21.621437",
     "exception": false,
     "start_time": "2025-07-26T06:53:21.616324",
     "status": "completed"
    },
    "tags": []
   },
   "outputs": [
    {
     "name": "stdout",
     "output_type": "stream",
     "text": [
      "Result saved to ../results/mu_p_mu_n_result.json\n"
     ]
    }
   ],
   "source": [
    "# Step 4: Export result\n",
    "result_data = {\n",
    "    'id': metadata['id'],\n",
    "    'symbol': metadata['symbol'],\n",
    "    'calculated_value': calculated_value,\n",
    "    'reference_value': reference_value,\n",
    "    'relative_error': relative_error,\n",
    "    'unit': metadata['unit'],\n",
    "    'formula': metadata['formula'],\n",
    "    'accuracy_met': relative_error < metadata['accuracyTarget']\n",
    "}\n",
    "\n",
    "# Save result\n",
    "output_path = Path('../results/mu_p_mu_n_result.json')\n",
    "output_path.parent.mkdir(exist_ok=True)\n",
    "with open(output_path, 'w') as f:\n",
    "    json.dump(result_data, f, indent=2)\n",
    "    \n",
    "print(f'Result saved to {output_path}')"
   ]
  }
 ],
 "metadata": {
  "kernelspec": {
   "display_name": "Python 3",
   "language": "python",
   "name": "python3"
  },
  "language_info": {
   "codemirror_mode": {
    "name": "ipython",
    "version": 3
   },
   "file_extension": ".py",
   "mimetype": "text/x-python",
   "name": "python",
   "nbconvert_exporter": "python",
   "pygments_lexer": "ipython3",
   "version": "3.12.11"
  },
  "papermill": {
   "default_parameters": {},
   "duration": 4.034331,
   "end_time": "2025-07-26T06:53:24.597454",
   "environment_variables": {},
   "exception": null,
   "input_path": "mu_p_mu_n.ipynb",
   "output_path": "../../results/mu_p_mu_n_executed.ipynb",
   "parameters": {},
   "start_time": "2025-07-26T06:53:20.563123",
   "version": "2.5.0"
  }
 },
 "nbformat": 4,
 "nbformat_minor": 5
}