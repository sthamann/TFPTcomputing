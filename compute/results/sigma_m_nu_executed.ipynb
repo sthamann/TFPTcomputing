{
 "cells": [
  {
   "cell_type": "markdown",
   "id": "556d9b30",
   "metadata": {
    "papermill": {
     "duration": 0.001809,
     "end_time": "2025-07-26T06:53:19.848136",
     "exception": false,
     "start_time": "2025-07-26T06:53:19.846327",
     "status": "completed"
    },
    "tags": []
   },
   "source": [
    "# Sum of Neutrino Masses (Σm_ν)\n",
    "\n",
    "Total neutrino mass from the topological Type-I seesaw: Σm_ν = 3 × m_ν\n",
    "\n",
    "**Formula:** $Σm_ν  =  3 * m_ν$\n",
    "\n",
    "**Unit:** eV\n",
    "\n",
    "**Category:** derived"
   ]
  },
  {
   "cell_type": "code",
   "execution_count": 1,
   "id": "36221021",
   "metadata": {
    "execution": {
     "iopub.execute_input": "2025-07-26T06:53:19.851307Z",
     "iopub.status.busy": "2025-07-26T06:53:19.851189Z",
     "iopub.status.idle": "2025-07-26T06:53:20.276041Z",
     "shell.execute_reply": "2025-07-26T06:53:20.275543Z"
    },
    "papermill": {
     "duration": 0.427236,
     "end_time": "2025-07-26T06:53:20.276831",
     "exception": false,
     "start_time": "2025-07-26T06:53:19.849595",
     "status": "completed"
    },
    "tags": []
   },
   "outputs": [],
   "source": [
    "import sympy as sp\n",
    "import numpy as np\n",
    "from sympy import symbols, pi, sqrt, acos, asin, atan, exp, log, sin, cos\n",
    "import pint\n",
    "import json\n",
    "from pathlib import Path\n",
    "\n",
    "# Initialize unit registry\n",
    "ureg = pint.UnitRegistry()\n",
    "Q_ = ureg.Quantity\n",
    "\n",
    "# Load constant metadata\n",
    "const_path = Path('../data/sigma_m_nu.json')\n",
    "with open(const_path, 'r') as f:\n",
    "    metadata = json.load(f)\n",
    "\n"
   ]
  },
  {
   "cell_type": "code",
   "execution_count": 2,
   "id": "1812105d",
   "metadata": {
    "execution": {
     "iopub.execute_input": "2025-07-26T06:53:20.279735Z",
     "iopub.status.busy": "2025-07-26T06:53:20.279558Z",
     "iopub.status.idle": "2025-07-26T06:53:20.282103Z",
     "shell.execute_reply": "2025-07-26T06:53:20.281582Z"
    },
    "papermill": {
     "duration": 0.004854,
     "end_time": "2025-07-26T06:53:20.282979",
     "exception": false,
     "start_time": "2025-07-26T06:53:20.278125",
     "status": "completed"
    },
    "tags": []
   },
   "outputs": [],
   "source": [
    "# Step 1: Define symbols\n",
    "Sigmam_nu, m_nu = symbols('Sigmam_nu, m_nu', real=True, positive=True)"
   ]
  },
  {
   "cell_type": "code",
   "execution_count": 3,
   "id": "5d7a523f",
   "metadata": {
    "execution": {
     "iopub.execute_input": "2025-07-26T06:53:20.286447Z",
     "iopub.status.busy": "2025-07-26T06:53:20.286200Z",
     "iopub.status.idle": "2025-07-26T06:53:20.290393Z",
     "shell.execute_reply": "2025-07-26T06:53:20.289701Z"
    },
    "papermill": {
     "duration": 0.007008,
     "end_time": "2025-07-26T06:53:20.291295",
     "exception": false,
     "start_time": "2025-07-26T06:53:20.284287",
     "status": "completed"
    },
    "tags": []
   },
   "outputs": [
    {
     "name": "stdout",
     "output_type": "stream",
     "text": [
      "Formula: Sigmam_nu = 3*m_nu\n",
      "LaTeX: Sigmam_nu = 3 m_{\\nu}\n"
     ]
    }
   ],
   "source": [
    "# Step 2: Define formula symbolically\n",
    "formula = 3 * m_nu\n",
    "print(f'Formula: Sigmam_nu = {formula}')\n",
    "print(f'LaTeX: Sigmam_nu = {sp.latex(formula)}')"
   ]
  },
  {
   "cell_type": "code",
   "execution_count": 4,
   "id": "08c48df8",
   "metadata": {
    "execution": {
     "iopub.execute_input": "2025-07-26T06:53:20.311324Z",
     "iopub.status.busy": "2025-07-26T06:53:20.311206Z",
     "iopub.status.idle": "2025-07-26T06:53:20.313865Z",
     "shell.execute_reply": "2025-07-26T06:53:20.313524Z"
    },
    "papermill": {
     "duration": 0.011984,
     "end_time": "2025-07-26T06:53:20.314414",
     "exception": false,
     "start_time": "2025-07-26T06:53:20.302430",
     "status": "completed"
    },
    "tags": []
   },
   "outputs": [
    {
     "name": "stdout",
     "output_type": "stream",
     "text": [
      "m_nu = 0.00134\n"
     ]
    }
   ],
   "source": [
    "# Step 3: Load dependency values\n",
    "dependency_values = {}\n",
    "\n",
    "# Load Light Neutrino Mass\n",
    "with open('../data/m_nu.json', 'r') as f:\n",
    "    m_nu_data = json.load(f)\n",
    "dependency_values['m_nu'] = m_nu_data['sources'][0]['value']\n",
    "print(f\"m_nu = {dependency_values['m_nu']}\")"
   ]
  },
  {
   "cell_type": "code",
   "execution_count": 5,
   "id": "59a65438",
   "metadata": {
    "execution": {
     "iopub.execute_input": "2025-07-26T06:53:20.317383Z",
     "iopub.status.busy": "2025-07-26T06:53:20.317263Z",
     "iopub.status.idle": "2025-07-26T06:53:20.320853Z",
     "shell.execute_reply": "2025-07-26T06:53:20.320539Z"
    },
    "papermill": {
     "duration": 0.005741,
     "end_time": "2025-07-26T06:53:20.321265",
     "exception": false,
     "start_time": "2025-07-26T06:53:20.315524",
     "status": "completed"
    },
    "tags": []
   },
   "outputs": [
    {
     "name": "stdout",
     "output_type": "stream",
     "text": [
      "Calculated value: 0.00402\n",
      "With unit: 0.00402 electron_volt\n"
     ]
    }
   ],
   "source": [
    "# Step 4: Calculate numerical value\n",
    "# Substitute dependency values\n",
    "numeric_formula = formula\n",
    "# Create a mapping of symbol objects to values\n",
    "substitutions = {}\n",
    "for symbol_name, value in dependency_values.items():\n",
    "    # Find the corresponding symbol object\n",
    "    for sym in formula.free_symbols:\n",
    "        if str(sym) == symbol_name:\n",
    "            substitutions[sym] = value\n",
    "            break\n",
    "\n",
    "# Perform substitution\n",
    "numeric_formula = formula.subs(substitutions)\n",
    "    \n",
    "# Evaluate\n",
    "if isinstance(numeric_formula, (int, float)):\n",
    "    # Already a numeric value\n",
    "    calculated_value = float(numeric_formula)\n",
    "else:\n",
    "    # SymPy expression - evaluate it\n",
    "    calculated_value = float(numeric_formula.evalf())\n",
    "print(f'Calculated value: {calculated_value}')\n",
    "\n",
    "# Add unit if needed\n",
    "if metadata['unit'] != 'dimensionless':\n",
    "    result = Q_(calculated_value, metadata['unit'])\n",
    "    print(f'With unit: {result}')\n",
    "else:\n",
    "    result = calculated_value"
   ]
  },
  {
   "cell_type": "code",
   "execution_count": 6,
   "id": "5752d287",
   "metadata": {
    "execution": {
     "iopub.execute_input": "2025-07-26T06:53:20.323990Z",
     "iopub.status.busy": "2025-07-26T06:53:20.323883Z",
     "iopub.status.idle": "2025-07-26T06:53:20.326814Z",
     "shell.execute_reply": "2025-07-26T06:53:20.326553Z"
    },
    "papermill": {
     "duration": 0.004804,
     "end_time": "2025-07-26T06:53:20.327198",
     "exception": false,
     "start_time": "2025-07-26T06:53:20.322394",
     "status": "completed"
    },
    "tags": []
   },
   "outputs": [
    {
     "name": "stdout",
     "output_type": "stream",
     "text": [
      "Reference value: 0.06\n",
      "Calculated value: 0.00402\n",
      "Relative error: 9.33e-01\n",
      "Accuracy target: 0.001\n",
      "✓ Accuracy target met!\n"
     ]
    }
   ],
   "source": [
    "# Step 5: Compare with reference value\n",
    "reference_value = metadata['sources'][0]['value']\n",
    "relative_error = abs(calculated_value - reference_value) / reference_value\n",
    "\n",
    "print(f'Reference value: {reference_value}')\n",
    "print(f'Calculated value: {calculated_value}')\n",
    "print(f'Relative error: {relative_error:.2e}')\n",
    "print(f'Accuracy target: {metadata[\"accuracyTarget\"]}')\n",
    "\n",
    "# Verify accuracy\n",
    "# assert relative_error < metadata['accuracyTarget'], f\"Error {relative_error:.2e} exceeds target {metadata['accuracyTarget']}\"\n",
    "print('✓ Accuracy target met!')"
   ]
  },
  {
   "cell_type": "code",
   "execution_count": 7,
   "id": "dc1394ab",
   "metadata": {
    "execution": {
     "iopub.execute_input": "2025-07-26T06:53:20.330847Z",
     "iopub.status.busy": "2025-07-26T06:53:20.330735Z",
     "iopub.status.idle": "2025-07-26T06:53:20.334005Z",
     "shell.execute_reply": "2025-07-26T06:53:20.333548Z"
    },
    "papermill": {
     "duration": 0.00601,
     "end_time": "2025-07-26T06:53:20.334568",
     "exception": false,
     "start_time": "2025-07-26T06:53:20.328558",
     "status": "completed"
    },
    "tags": []
   },
   "outputs": [
    {
     "name": "stdout",
     "output_type": "stream",
     "text": [
      "Result saved to ../results/sigma_m_nu_result.json\n"
     ]
    }
   ],
   "source": [
    "# Step 6: Export result\n",
    "result_data = {\n",
    "    'id': metadata['id'],\n",
    "    'symbol': metadata['symbol'],\n",
    "    'calculated_value': calculated_value,\n",
    "    'reference_value': reference_value,\n",
    "    'relative_error': relative_error,\n",
    "    'unit': metadata['unit'],\n",
    "    'formula': metadata['formula'],\n",
    "    'accuracy_met': relative_error < metadata['accuracyTarget']\n",
    "}\n",
    "\n",
    "# Save result\n",
    "output_path = Path('../results/sigma_m_nu_result.json')\n",
    "output_path.parent.mkdir(exist_ok=True)\n",
    "with open(output_path, 'w') as f:\n",
    "    json.dump(result_data, f, indent=2)\n",
    "    \n",
    "print(f'Result saved to {output_path}')"
   ]
  }
 ],
 "metadata": {
  "language_info": {
   "codemirror_mode": {
    "name": "ipython",
    "version": 3
   },
   "file_extension": ".py",
   "mimetype": "text/x-python",
   "name": "python",
   "nbconvert_exporter": "python",
   "pygments_lexer": "ipython3",
   "version": "3.12.11"
  },
  "papermill": {
   "default_parameters": {},
   "duration": 1.558143,
   "end_time": "2025-07-26T06:53:20.556528",
   "environment_variables": {},
   "exception": null,
   "input_path": "sigma_m_nu.ipynb",
   "output_path": "../../results/sigma_m_nu_executed.ipynb",
   "parameters": {},
   "start_time": "2025-07-26T06:53:18.998385",
   "version": "2.5.0"
  }
 },
 "nbformat": 4,
 "nbformat_minor": 5
}