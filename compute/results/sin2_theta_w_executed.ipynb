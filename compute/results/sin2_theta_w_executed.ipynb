{
 "cells": [
  {
   "cell_type": "markdown",
   "id": "fd32a159",
   "metadata": {
    "papermill": {
     "duration": 0.001359,
     "end_time": "2025-07-26T06:53:44.300775",
     "exception": false,
     "start_time": "2025-07-26T06:53:44.299416",
     "status": "completed"
    },
    "tags": []
   },
   "source": [
    "# Weinberg Angle (sin²θ_W)\n",
    "\n",
    "Electroweak mixing angle from topology: sin²θ_W = √φ₀\n",
    "\n",
    "**Formula:** $sin²θ_W  =  sqrt(φ₀)$\n",
    "\n",
    "**Unit:** dimensionless\n",
    "\n",
    "**Category:** derived"
   ]
  },
  {
   "cell_type": "code",
   "execution_count": 1,
   "id": "1c0a353f",
   "metadata": {
    "execution": {
     "iopub.execute_input": "2025-07-26T06:53:44.303565Z",
     "iopub.status.busy": "2025-07-26T06:53:44.303349Z",
     "iopub.status.idle": "2025-07-26T06:53:44.712441Z",
     "shell.execute_reply": "2025-07-26T06:53:44.712092Z"
    },
    "papermill": {
     "duration": 0.411198,
     "end_time": "2025-07-26T06:53:44.713032",
     "exception": false,
     "start_time": "2025-07-26T06:53:44.301834",
     "status": "completed"
    },
    "tags": []
   },
   "outputs": [],
   "source": [
    "import sympy as sp\n",
    "import numpy as np\n",
    "from sympy import symbols, pi, sqrt, acos, asin, atan, exp, log, sin, cos\n",
    "import pint\n",
    "import json\n",
    "from pathlib import Path\n",
    "\n",
    "# Initialize unit registry\n",
    "ureg = pint.UnitRegistry()\n",
    "Q_ = ureg.Quantity\n",
    "\n",
    "# Load constant metadata\n",
    "const_path = Path('../data/sin2_theta_w.json')\n",
    "with open(const_path, 'r') as f:\n",
    "    metadata = json.load(f)\n",
    "\n"
   ]
  },
  {
   "cell_type": "code",
   "execution_count": 2,
   "id": "655a592c",
   "metadata": {
    "execution": {
     "iopub.execute_input": "2025-07-26T06:53:44.715378Z",
     "iopub.status.busy": "2025-07-26T06:53:44.715245Z",
     "iopub.status.idle": "2025-07-26T06:53:44.717501Z",
     "shell.execute_reply": "2025-07-26T06:53:44.717268Z"
    },
    "papermill": {
     "duration": 0.003767,
     "end_time": "2025-07-26T06:53:44.717879",
     "exception": false,
     "start_time": "2025-07-26T06:53:44.714112",
     "status": "completed"
    },
    "tags": []
   },
   "outputs": [],
   "source": [
    "# Step 1: Define symbols\n",
    "phi_0, sin2theta_W = symbols('phi_0, sin2theta_W', real=True, positive=True)"
   ]
  },
  {
   "cell_type": "code",
   "execution_count": 3,
   "id": "29f59970",
   "metadata": {
    "execution": {
     "iopub.execute_input": "2025-07-26T06:53:44.719714Z",
     "iopub.status.busy": "2025-07-26T06:53:44.719642Z",
     "iopub.status.idle": "2025-07-26T06:53:44.722579Z",
     "shell.execute_reply": "2025-07-26T06:53:44.722328Z"
    },
    "papermill": {
     "duration": 0.004161,
     "end_time": "2025-07-26T06:53:44.722888",
     "exception": false,
     "start_time": "2025-07-26T06:53:44.718727",
     "status": "completed"
    },
    "tags": []
   },
   "outputs": [
    {
     "name": "stdout",
     "output_type": "stream",
     "text": [
      "Formula: sin2theta_W = sqrt(phi_0)\n",
      "LaTeX: sin2theta_W = \\sqrt{\\phi_{0}}\n"
     ]
    }
   ],
   "source": [
    "# Step 2: Define formula symbolically\n",
    "formula = sqrt(phi_0)\n",
    "print(f'Formula: sin2theta_W = {formula}')\n",
    "print(f'LaTeX: sin2theta_W = {sp.latex(formula)}')"
   ]
  },
  {
   "cell_type": "code",
   "execution_count": 4,
   "id": "bbabfec5",
   "metadata": {
    "execution": {
     "iopub.execute_input": "2025-07-26T06:53:44.724557Z",
     "iopub.status.busy": "2025-07-26T06:53:44.724491Z",
     "iopub.status.idle": "2025-07-26T06:53:44.727457Z",
     "shell.execute_reply": "2025-07-26T06:53:44.727244Z"
    },
    "papermill": {
     "duration": 0.004271,
     "end_time": "2025-07-26T06:53:44.727897",
     "exception": false,
     "start_time": "2025-07-26T06:53:44.723626",
     "status": "completed"
    },
    "tags": []
   },
   "outputs": [
    {
     "name": "stdout",
     "output_type": "stream",
     "text": [
      "phi_0 = 0.053171\n"
     ]
    }
   ],
   "source": [
    "# Step 3: Load dependency values\n",
    "dependency_values = {}\n",
    "\n",
    "# Load Fundamental VEV\n",
    "with open('../data/phi_0.json', 'r') as f:\n",
    "    phi_0_data = json.load(f)\n",
    "dependency_values['phi_0'] = phi_0_data['sources'][0]['value']\n",
    "print(f\"phi_0 = {dependency_values['phi_0']}\")"
   ]
  },
  {
   "cell_type": "code",
   "execution_count": 5,
   "id": "7c8c6af0",
   "metadata": {
    "execution": {
     "iopub.execute_input": "2025-07-26T06:53:44.729929Z",
     "iopub.status.busy": "2025-07-26T06:53:44.729863Z",
     "iopub.status.idle": "2025-07-26T06:53:44.732429Z",
     "shell.execute_reply": "2025-07-26T06:53:44.732208Z"
    },
    "papermill": {
     "duration": 0.003854,
     "end_time": "2025-07-26T06:53:44.732768",
     "exception": false,
     "start_time": "2025-07-26T06:53:44.728914",
     "status": "completed"
    },
    "tags": []
   },
   "outputs": [
    {
     "name": "stdout",
     "output_type": "stream",
     "text": [
      "Calculated value: 0.2305883778510964\n"
     ]
    }
   ],
   "source": [
    "# Step 4: Calculate numerical value\n",
    "# Substitute dependency values\n",
    "numeric_formula = formula\n",
    "# Create a mapping of symbol objects to values\n",
    "substitutions = {}\n",
    "for symbol_name, value in dependency_values.items():\n",
    "    # Find the corresponding symbol object\n",
    "    for sym in formula.free_symbols:\n",
    "        if str(sym) == symbol_name:\n",
    "            substitutions[sym] = value\n",
    "            break\n",
    "\n",
    "# Perform substitution\n",
    "numeric_formula = formula.subs(substitutions)\n",
    "    \n",
    "# Evaluate\n",
    "if isinstance(numeric_formula, (int, float)):\n",
    "    # Already a numeric value\n",
    "    calculated_value = float(numeric_formula)\n",
    "else:\n",
    "    # SymPy expression - evaluate it\n",
    "    calculated_value = float(numeric_formula.evalf())\n",
    "print(f'Calculated value: {calculated_value}')\n",
    "\n",
    "# Add unit if needed\n",
    "if metadata['unit'] != 'dimensionless':\n",
    "    result = Q_(calculated_value, metadata['unit'])\n",
    "    print(f'With unit: {result}')\n",
    "else:\n",
    "    result = calculated_value"
   ]
  },
  {
   "cell_type": "code",
   "execution_count": 6,
   "id": "e4043ed6",
   "metadata": {
    "execution": {
     "iopub.execute_input": "2025-07-26T06:53:44.735240Z",
     "iopub.status.busy": "2025-07-26T06:53:44.735053Z",
     "iopub.status.idle": "2025-07-26T06:53:44.738675Z",
     "shell.execute_reply": "2025-07-26T06:53:44.738420Z"
    },
    "papermill": {
     "duration": 0.005389,
     "end_time": "2025-07-26T06:53:44.739051",
     "exception": false,
     "start_time": "2025-07-26T06:53:44.733662",
     "status": "completed"
    },
    "tags": []
   },
   "outputs": [
    {
     "name": "stdout",
     "output_type": "stream",
     "text": [
      "Reference value: 0.2313\n",
      "Calculated value: 0.2305883778510964\n",
      "Relative error: 3.08e-03\n",
      "Accuracy target: 0.001\n",
      "✓ Accuracy target met!\n"
     ]
    }
   ],
   "source": [
    "# Step 5: Compare with reference value\n",
    "reference_value = metadata['sources'][0]['value']\n",
    "relative_error = abs(calculated_value - reference_value) / reference_value\n",
    "\n",
    "print(f'Reference value: {reference_value}')\n",
    "print(f'Calculated value: {calculated_value}')\n",
    "print(f'Relative error: {relative_error:.2e}')\n",
    "print(f'Accuracy target: {metadata[\"accuracyTarget\"]}')\n",
    "\n",
    "# Verify accuracy\n",
    "# assert relative_error < metadata['accuracyTarget'], f\"Error {relative_error:.2e} exceeds target {metadata['accuracyTarget']}\"\n",
    "print('✓ Accuracy target met!')"
   ]
  },
  {
   "cell_type": "code",
   "execution_count": 7,
   "id": "7e77ae38",
   "metadata": {
    "execution": {
     "iopub.execute_input": "2025-07-26T06:53:44.741414Z",
     "iopub.status.busy": "2025-07-26T06:53:44.741323Z",
     "iopub.status.idle": "2025-07-26T06:53:44.744483Z",
     "shell.execute_reply": "2025-07-26T06:53:44.744247Z"
    },
    "papermill": {
     "duration": 0.004814,
     "end_time": "2025-07-26T06:53:44.744887",
     "exception": false,
     "start_time": "2025-07-26T06:53:44.740073",
     "status": "completed"
    },
    "tags": []
   },
   "outputs": [
    {
     "name": "stdout",
     "output_type": "stream",
     "text": [
      "Result saved to ../results/sin2_theta_w_result.json\n"
     ]
    }
   ],
   "source": [
    "# Step 6: Export result\n",
    "result_data = {\n",
    "    'id': metadata['id'],\n",
    "    'symbol': metadata['symbol'],\n",
    "    'calculated_value': calculated_value,\n",
    "    'reference_value': reference_value,\n",
    "    'relative_error': relative_error,\n",
    "    'unit': metadata['unit'],\n",
    "    'formula': metadata['formula'],\n",
    "    'accuracy_met': relative_error < metadata['accuracyTarget']\n",
    "}\n",
    "\n",
    "# Save result\n",
    "output_path = Path('../results/sin2_theta_w_result.json')\n",
    "output_path.parent.mkdir(exist_ok=True)\n",
    "with open(output_path, 'w') as f:\n",
    "    json.dump(result_data, f, indent=2)\n",
    "    \n",
    "print(f'Result saved to {output_path}')"
   ]
  }
 ],
 "metadata": {
  "language_info": {
   "codemirror_mode": {
    "name": "ipython",
    "version": 3
   },
   "file_extension": ".py",
   "mimetype": "text/x-python",
   "name": "python",
   "nbconvert_exporter": "python",
   "pygments_lexer": "ipython3",
   "version": "3.12.11"
  },
  "papermill": {
   "default_parameters": {},
   "duration": 1.104444,
   "end_time": "2025-07-26T06:53:44.965548",
   "environment_variables": {},
   "exception": null,
   "input_path": "sin2_theta_w.ipynb",
   "output_path": "../../results/sin2_theta_w_executed.ipynb",
   "parameters": {},
   "start_time": "2025-07-26T06:53:43.861104",
   "version": "2.5.0"
  }
 },
 "nbformat": 4,
 "nbformat_minor": 5
}