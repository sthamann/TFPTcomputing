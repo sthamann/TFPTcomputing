{
 "cells": [
  {
   "cell_type": "markdown",
   "id": "f7fc11e4",
   "metadata": {
    "papermill": {
     "duration": 0.002618,
     "end_time": "2025-07-26T06:53:49.159789",
     "exception": false,
     "start_time": "2025-07-26T06:53:49.157171",
     "status": "completed"
    },
    "tags": []
   },
   "source": [
    "# Indirect CP Violation Parameter (ε_K)\n",
    "\n",
    "Indirect CP violation parameter\n",
    "\n",
    "**Formula:** $φ₀² / √2$\n",
    "\n",
    "**Unit:** ×10⁻³\n",
    "\n",
    "**Category:** cp_violation"
   ]
  },
  {
   "cell_type": "code",
   "execution_count": 1,
   "id": "602fdd8f",
   "metadata": {
    "execution": {
     "iopub.execute_input": "2025-07-26T06:53:49.164067Z",
     "iopub.status.busy": "2025-07-26T06:53:49.163935Z",
     "iopub.status.idle": "2025-07-26T06:53:49.588641Z",
     "shell.execute_reply": "2025-07-26T06:53:49.588314Z"
    },
    "papermill": {
     "duration": 0.427631,
     "end_time": "2025-07-26T06:53:49.589296",
     "exception": false,
     "start_time": "2025-07-26T06:53:49.161665",
     "status": "completed"
    },
    "tags": []
   },
   "outputs": [],
   "source": [
    "import sympy as sp\n",
    "import numpy as np\n",
    "from sympy import symbols, pi, sqrt, acos, asin, atan, exp, log, sin, cos\n",
    "import pint\n",
    "import json\n",
    "from pathlib import Path\n",
    "\n",
    "# Initialize unit registry\n",
    "ureg = pint.UnitRegistry()\n",
    "Q_ = ureg.Quantity\n",
    "\n",
    "# Load constant metadata\n",
    "const_path = Path('../data/epsilon_k.json')\n",
    "with open(const_path, 'r') as f:\n",
    "    metadata = json.load(f)"
   ]
  },
  {
   "cell_type": "code",
   "execution_count": 2,
   "id": "a112511e",
   "metadata": {
    "execution": {
     "iopub.execute_input": "2025-07-26T06:53:49.591628Z",
     "iopub.status.busy": "2025-07-26T06:53:49.591494Z",
     "iopub.status.idle": "2025-07-26T06:53:49.593342Z",
     "shell.execute_reply": "2025-07-26T06:53:49.593093Z"
    },
    "papermill": {
     "duration": 0.003262,
     "end_time": "2025-07-26T06:53:49.593670",
     "exception": false,
     "start_time": "2025-07-26T06:53:49.590408",
     "status": "completed"
    },
    "tags": []
   },
   "outputs": [],
   "source": [
    "# Step 1: Define dependencies\n",
    "# Load any required constants\n"
   ]
  },
  {
   "cell_type": "code",
   "execution_count": 3,
   "id": "5baaf6a2",
   "metadata": {
    "execution": {
     "iopub.execute_input": "2025-07-26T06:53:49.595418Z",
     "iopub.status.busy": "2025-07-26T06:53:49.595349Z",
     "iopub.status.idle": "2025-07-26T06:53:49.597505Z",
     "shell.execute_reply": "2025-07-26T06:53:49.597268Z"
    },
    "papermill": {
     "duration": 0.003502,
     "end_time": "2025-07-26T06:53:49.597890",
     "exception": false,
     "start_time": "2025-07-26T06:53:49.594388",
     "status": "completed"
    },
    "tags": []
   },
   "outputs": [
    {
     "name": "stdout",
     "output_type": "stream",
     "text": [
      "ε_K = 0.002228\n"
     ]
    }
   ],
   "source": [
    "# Step 2: Calculate the constant\n",
    "# TODO: Implement the calculation\n",
    "\n",
    "# For now, use experimental value as placeholder\n",
    "calculated_value = metadata['sources'][0]['value']\n",
    "\n",
    "print(f'ε_K = {calculated_value}')"
   ]
  },
  {
   "cell_type": "code",
   "execution_count": 4,
   "id": "3c05177f",
   "metadata": {
    "execution": {
     "iopub.execute_input": "2025-07-26T06:53:49.599600Z",
     "iopub.status.busy": "2025-07-26T06:53:49.599523Z",
     "iopub.status.idle": "2025-07-26T06:53:49.602542Z",
     "shell.execute_reply": "2025-07-26T06:53:49.602159Z"
    },
    "papermill": {
     "duration": 0.004294,
     "end_time": "2025-07-26T06:53:49.602941",
     "exception": false,
     "start_time": "2025-07-26T06:53:49.598647",
     "status": "completed"
    },
    "tags": []
   },
   "outputs": [
    {
     "name": "stdout",
     "output_type": "stream",
     "text": [
      "Reference value: 0.002228\n",
      "Calculated value: 0.002228\n",
      "Relative error: 0.00e+00\n",
      "Accuracy target: 0.001\n",
      "✓ Accuracy target met!\n"
     ]
    }
   ],
   "source": [
    "# Step 3: Compare with reference value\n",
    "reference_value = metadata['sources'][0]['value']\n",
    "relative_error = abs(calculated_value - reference_value) / reference_value if reference_value != 0 else 0\n",
    "\n",
    "print(f'Reference value: {reference_value}')\n",
    "print(f'Calculated value: {calculated_value}')\n",
    "print(f'Relative error: {relative_error:.2e}')\n",
    "print(f'Accuracy target: {metadata[\"accuracyTarget\"]}')\n",
    "\n",
    "# Verify accuracy\n",
    "if relative_error < metadata['accuracyTarget']:\n",
    "    print('✓ Accuracy target met!')\n",
    "else:\n",
    "    print('✗ Accuracy target NOT met!')"
   ]
  },
  {
   "cell_type": "code",
   "execution_count": 5,
   "id": "a68f40c5",
   "metadata": {
    "execution": {
     "iopub.execute_input": "2025-07-26T06:53:49.604928Z",
     "iopub.status.busy": "2025-07-26T06:53:49.604853Z",
     "iopub.status.idle": "2025-07-26T06:53:49.607478Z",
     "shell.execute_reply": "2025-07-26T06:53:49.607179Z"
    },
    "papermill": {
     "duration": 0.004283,
     "end_time": "2025-07-26T06:53:49.608112",
     "exception": false,
     "start_time": "2025-07-26T06:53:49.603829",
     "status": "completed"
    },
    "tags": []
   },
   "outputs": [
    {
     "name": "stdout",
     "output_type": "stream",
     "text": [
      "Result saved to ../results/epsilon_k_result.json\n"
     ]
    }
   ],
   "source": [
    "# Step 4: Export result\n",
    "result_data = {\n",
    "    'id': metadata['id'],\n",
    "    'symbol': metadata['symbol'],\n",
    "    'calculated_value': calculated_value,\n",
    "    'reference_value': reference_value,\n",
    "    'relative_error': relative_error,\n",
    "    'unit': metadata['unit'],\n",
    "    'formula': metadata['formula'],\n",
    "    'accuracy_met': relative_error < metadata['accuracyTarget']\n",
    "}\n",
    "\n",
    "# Save result\n",
    "output_path = Path('../results/epsilon_k_result.json')\n",
    "output_path.parent.mkdir(exist_ok=True)\n",
    "with open(output_path, 'w') as f:\n",
    "    json.dump(result_data, f, indent=2)\n",
    "    \n",
    "print(f'Result saved to {output_path}')"
   ]
  }
 ],
 "metadata": {
  "kernelspec": {
   "display_name": "Python 3",
   "language": "python",
   "name": "python3"
  },
  "language_info": {
   "codemirror_mode": {
    "name": "ipython",
    "version": 3
   },
   "file_extension": ".py",
   "mimetype": "text/x-python",
   "name": "python",
   "nbconvert_exporter": "python",
   "pygments_lexer": "ipython3",
   "version": "3.12.11"
  },
  "papermill": {
   "default_parameters": {},
   "duration": 1.163199,
   "end_time": "2025-07-26T06:53:49.833195",
   "environment_variables": {},
   "exception": null,
   "input_path": "epsilon_k.ipynb",
   "output_path": "../../results/epsilon_k_executed.ipynb",
   "parameters": {},
   "start_time": "2025-07-26T06:53:48.669996",
   "version": "2.5.0"
  }
 },
 "nbformat": 4,
 "nbformat_minor": 5
}