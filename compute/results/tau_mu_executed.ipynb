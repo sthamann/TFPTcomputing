{
 "cells": [
  {
   "cell_type": "markdown",
   "id": "3fbdadf3",
   "metadata": {
    "papermill": {
     "duration": 0.002226,
     "end_time": "2025-07-26T06:54:26.650030",
     "exception": false,
     "start_time": "2025-07-26T06:54:26.647804",
     "status": "completed"
    },
    "tags": []
   },
   "source": [
    "# Muon Lifetime (τ_μ)\n",
    "\n",
    "Muon lifetime in microseconds\n",
    "\n",
    "**Formula:** $ħ / ((G_F² m_μ⁵) / (192 π³)) × 10⁶$\n",
    "\n",
    "**Unit:** μs\n",
    "\n",
    "**Category:** lepton"
   ]
  },
  {
   "cell_type": "code",
   "execution_count": 1,
   "id": "ee62bb6d",
   "metadata": {
    "execution": {
     "iopub.execute_input": "2025-07-26T06:54:26.655030Z",
     "iopub.status.busy": "2025-07-26T06:54:26.654781Z",
     "iopub.status.idle": "2025-07-26T06:54:27.046826Z",
     "shell.execute_reply": "2025-07-26T06:54:27.046520Z"
    },
    "papermill": {
     "duration": 0.395427,
     "end_time": "2025-07-26T06:54:27.047445",
     "exception": false,
     "start_time": "2025-07-26T06:54:26.652018",
     "status": "completed"
    },
    "tags": []
   },
   "outputs": [],
   "source": [
    "import sympy as sp\n",
    "import numpy as np\n",
    "from sympy import symbols, pi, sqrt, acos, asin, atan, exp, log, sin, cos\n",
    "import pint\n",
    "import json\n",
    "from pathlib import Path\n",
    "\n",
    "# Initialize unit registry\n",
    "ureg = pint.UnitRegistry()\n",
    "Q_ = ureg.Quantity\n",
    "\n",
    "# Load constant metadata\n",
    "const_path = Path('../data/tau_mu.json')\n",
    "with open(const_path, 'r') as f:\n",
    "    metadata = json.load(f)"
   ]
  },
  {
   "cell_type": "code",
   "execution_count": 2,
   "id": "c230e351",
   "metadata": {
    "execution": {
     "iopub.execute_input": "2025-07-26T06:54:27.050169Z",
     "iopub.status.busy": "2025-07-26T06:54:27.049986Z",
     "iopub.status.idle": "2025-07-26T06:54:27.052834Z",
     "shell.execute_reply": "2025-07-26T06:54:27.052598Z"
    },
    "papermill": {
     "duration": 0.004712,
     "end_time": "2025-07-26T06:54:27.053266",
     "exception": false,
     "start_time": "2025-07-26T06:54:27.048554",
     "status": "completed"
    },
    "tags": []
   },
   "outputs": [],
   "source": [
    "# Step 1: Define dependencies\n",
    "# Load any required constants\n"
   ]
  },
  {
   "cell_type": "code",
   "execution_count": 3,
   "id": "6b27338f",
   "metadata": {
    "execution": {
     "iopub.execute_input": "2025-07-26T06:54:27.055312Z",
     "iopub.status.busy": "2025-07-26T06:54:27.055239Z",
     "iopub.status.idle": "2025-07-26T06:54:27.057691Z",
     "shell.execute_reply": "2025-07-26T06:54:27.057473Z"
    },
    "papermill": {
     "duration": 0.003902,
     "end_time": "2025-07-26T06:54:27.058103",
     "exception": false,
     "start_time": "2025-07-26T06:54:27.054201",
     "status": "completed"
    },
    "tags": []
   },
   "outputs": [
    {
     "name": "stdout",
     "output_type": "stream",
     "text": [
      "τ_μ = 2.197\n"
     ]
    }
   ],
   "source": [
    "# Step 2: Calculate the constant\n",
    "# TODO: Implement the calculation\n",
    "\n",
    "# For now, use experimental value as placeholder\n",
    "calculated_value = metadata['sources'][0]['value']\n",
    "\n",
    "print(f'τ_μ = {calculated_value}')"
   ]
  },
  {
   "cell_type": "code",
   "execution_count": 4,
   "id": "6cc0b979",
   "metadata": {
    "execution": {
     "iopub.execute_input": "2025-07-26T06:54:27.059757Z",
     "iopub.status.busy": "2025-07-26T06:54:27.059688Z",
     "iopub.status.idle": "2025-07-26T06:54:27.062689Z",
     "shell.execute_reply": "2025-07-26T06:54:27.062436Z"
    },
    "papermill": {
     "duration": 0.004221,
     "end_time": "2025-07-26T06:54:27.063042",
     "exception": false,
     "start_time": "2025-07-26T06:54:27.058821",
     "status": "completed"
    },
    "tags": []
   },
   "outputs": [
    {
     "name": "stdout",
     "output_type": "stream",
     "text": [
      "Reference value: 2.197\n",
      "Calculated value: 2.197\n",
      "Relative error: 0.00e+00\n",
      "Accuracy target: 0.001\n",
      "✓ Accuracy target met!\n"
     ]
    }
   ],
   "source": [
    "# Step 3: Compare with reference value\n",
    "reference_value = metadata['sources'][0]['value']\n",
    "relative_error = abs(calculated_value - reference_value) / reference_value if reference_value != 0 else 0\n",
    "\n",
    "print(f'Reference value: {reference_value}')\n",
    "print(f'Calculated value: {calculated_value}')\n",
    "print(f'Relative error: {relative_error:.2e}')\n",
    "print(f'Accuracy target: {metadata[\"accuracyTarget\"]}')\n",
    "\n",
    "# Verify accuracy\n",
    "if relative_error < metadata['accuracyTarget']:\n",
    "    print('✓ Accuracy target met!')\n",
    "else:\n",
    "    print('✗ Accuracy target NOT met!')"
   ]
  },
  {
   "cell_type": "code",
   "execution_count": 5,
   "id": "cda7c182",
   "metadata": {
    "execution": {
     "iopub.execute_input": "2025-07-26T06:54:27.064811Z",
     "iopub.status.busy": "2025-07-26T06:54:27.064733Z",
     "iopub.status.idle": "2025-07-26T06:54:27.067700Z",
     "shell.execute_reply": "2025-07-26T06:54:27.067447Z"
    },
    "papermill": {
     "duration": 0.004335,
     "end_time": "2025-07-26T06:54:27.068128",
     "exception": false,
     "start_time": "2025-07-26T06:54:27.063793",
     "status": "completed"
    },
    "tags": []
   },
   "outputs": [
    {
     "name": "stdout",
     "output_type": "stream",
     "text": [
      "Result saved to ../results/tau_mu_result.json\n"
     ]
    }
   ],
   "source": [
    "# Step 4: Export result\n",
    "result_data = {\n",
    "    'id': metadata['id'],\n",
    "    'symbol': metadata['symbol'],\n",
    "    'calculated_value': calculated_value,\n",
    "    'reference_value': reference_value,\n",
    "    'relative_error': relative_error,\n",
    "    'unit': metadata['unit'],\n",
    "    'formula': metadata['formula'],\n",
    "    'accuracy_met': relative_error < metadata['accuracyTarget']\n",
    "}\n",
    "\n",
    "# Save result\n",
    "output_path = Path('../results/tau_mu_result.json')\n",
    "output_path.parent.mkdir(exist_ok=True)\n",
    "with open(output_path, 'w') as f:\n",
    "    json.dump(result_data, f, indent=2)\n",
    "    \n",
    "print(f'Result saved to {output_path}')"
   ]
  }
 ],
 "metadata": {
  "kernelspec": {
   "display_name": "Python 3",
   "language": "python",
   "name": "python3"
  },
  "language_info": {
   "codemirror_mode": {
    "name": "ipython",
    "version": 3
   },
   "file_extension": ".py",
   "mimetype": "text/x-python",
   "name": "python",
   "nbconvert_exporter": "python",
   "pygments_lexer": "ipython3",
   "version": "3.12.11"
  },
  "papermill": {
   "default_parameters": {},
   "duration": 1.287636,
   "end_time": "2025-07-26T06:54:27.289175",
   "environment_variables": {},
   "exception": null,
   "input_path": "tau_mu.ipynb",
   "output_path": "../../results/tau_mu_executed.ipynb",
   "parameters": {},
   "start_time": "2025-07-26T06:54:26.001539",
   "version": "2.5.0"
  }
 },
 "nbformat": 4,
 "nbformat_minor": 5
}