{
 "cells": [
  {
   "cell_type": "markdown",
   "id": "10df1fac",
   "metadata": {
    "papermill": {
     "duration": null,
     "end_time": null,
     "exception": null,
     "start_time": null,
     "status": "completed"
    },
    "tags": []
   },
   "source": [
    "# Light Neutrino Mass (m_ν)\n",
    "\n",
    "Lightest neutrino eigenstate mass from Type-I seesaw with n=5 cascade: m_ν = v_H² / (φ_5 × M_Pl)\n",
    "\n",
    "**Formula:** $m_ν  =  v_H^2 / (φ_5 * M_Pl), where φ_5  =  φ_0 * exp(-Σ γ(k) for k = 0 to 4)$\n",
    "\n",
    "**Unit:** eV\n",
    "\n",
    "**Category:** derived"
   ]
  },
  {
   "cell_type": "code",
   "execution_count": null,
   "id": "31491582",
   "metadata": {
    "papermill": {
     "duration": null,
     "end_time": null,
     "exception": null,
     "start_time": null,
     "status": "completed"
    },
    "tags": []
   },
   "outputs": [],
   "source": [
    "import sympy as sp\n",
    "import numpy as np\n",
    "from sympy import symbols, pi, sqrt, acos, asin, atan, exp, log, sin, cos\n",
    "import pint\n",
    "import json\n",
    "from pathlib import Path\n",
    "\n",
    "# Initialize unit registry\n",
    "ureg = pint.UnitRegistry()\n",
    "Q_ = ureg.Quantity\n",
    "\n",
    "# Load constant metadata\n",
    "const_path = Path('../data/m_nu.json')\n",
    "with open(const_path, 'r') as f:\n",
    "    metadata = json.load(f)\n",
    "\n"
   ]
  },
  {
   "cell_type": "code",
   "execution_count": null,
   "id": "c53ca8b1",
   "metadata": {
    "papermill": {
     "duration": null,
     "end_time": null,
     "exception": null,
     "start_time": null,
     "status": "completed"
    },
    "tags": []
   },
   "outputs": [],
   "source": [
    "# Step 1: Define symbols\n",
    "M_Pl, m_nu, phi_5, v_H = symbols('M_Pl, m_nu, phi_5, v_H', real=True, positive=True)"
   ]
  },
  {
   "cell_type": "code",
   "execution_count": null,
   "id": "84712e85",
   "metadata": {
    "papermill": {
     "duration": null,
     "end_time": null,
     "exception": null,
     "start_time": null,
     "status": "completed"
    },
    "tags": []
   },
   "outputs": [],
   "source": [
    "# Step 2: Define formula symbolically\n",
    "formula = v_H**2 / (phi_5 * M_Pl)\n",
    "print(f'Formula: m_nu = {formula}')\n",
    "print(f'LaTeX: m_nu = {sp.latex(formula)}')"
   ]
  },
  {
   "cell_type": "code",
   "execution_count": null,
   "id": "b6285aa3",
   "metadata": {
    "papermill": {
     "duration": null,
     "end_time": null,
     "exception": null,
     "start_time": null,
     "status": "completed"
    },
    "tags": []
   },
   "outputs": [],
   "source": [
    "# Step 3: Load dependency values\n",
    "dependency_values = {}\n",
    "\n",
    "# Define gamma function for cascade calculations\n",
    "def gamma(n):\n",
    "    \"\"\"E8 cascade attenuation function: γ(n) = 0.834 + 0.108n + 0.0105n²\"\"\"\n",
    "    return 0.834 + 0.108 * n + 0.0105 * n**2\n",
    "\n",
    "\n",
    "# Load Higgs Vacuum Expectation Value\n",
    "with open('../data/v_h.json', 'r') as f:\n",
    "    v_h_data = json.load(f)\n",
    "dependency_values['v_H'] = v_h_data['sources'][0]['value']\n",
    "print(f\"v_H = {dependency_values['v_H']}\")\n",
    "\n",
    "# Load Fundamental VEV\n",
    "with open('../data/phi_0.json', 'r') as f:\n",
    "    phi_0_data = json.load(f)\n",
    "dependency_values['phi_0'] = phi_0_data['sources'][0]['value']\n",
    "print(f\"phi_0 = {dependency_values['phi_0']}\")\n",
    "\n",
    "# Load Planck Mass\n",
    "with open('../data/m_planck.json', 'r') as f:\n",
    "    m_planck_data = json.load(f)\n",
    "dependency_values['M_Pl'] = m_planck_data['sources'][0]['value']\n",
    "print(f\"M_Pl = {dependency_values['M_Pl']}\")\n",
    "\n",
    "# Calculate cascade VEV φ_5\n",
    "cascade_sum = sum(gamma(k) for k in range(5))\n",
    "phi_5 = dependency_values['phi_0'] * exp(-cascade_sum)\n",
    "dependency_values['phi_5'] = phi_5\n",
    "print(f\"φ_5 = {phi_5:.6e} (cascade level 5)\")"
   ]
  },
  {
   "cell_type": "code",
   "execution_count": null,
   "id": "0aac7494",
   "metadata": {
    "papermill": {
     "duration": null,
     "end_time": null,
     "exception": null,
     "start_time": null,
     "status": "completed"
    },
    "tags": []
   },
   "outputs": [],
   "source": [
    "# Step 4: Calculate numerical value\n",
    "# Substitute dependency values\n",
    "numeric_formula = formula\n",
    "# Create a mapping of symbol objects to values\n",
    "substitutions = {}\n",
    "for symbol_name, value in dependency_values.items():\n",
    "    # Find the corresponding symbol object\n",
    "    for sym in formula.free_symbols:\n",
    "        if str(sym) == symbol_name:\n",
    "            substitutions[sym] = value\n",
    "            break\n",
    "\n",
    "# Perform substitution\n",
    "numeric_formula = formula.subs(substitutions)\n",
    "    \n",
    "# Evaluate\n",
    "if isinstance(numeric_formula, (int, float)):\n",
    "    # Already a numeric value\n",
    "    calculated_value = float(numeric_formula)\n",
    "else:\n",
    "    # SymPy expression - evaluate it\n",
    "    calculated_value = float(numeric_formula.evalf())\n",
    "print(f'Calculated value: {calculated_value}')\n",
    "\n",
    "# Add unit if needed\n",
    "if metadata['unit'] != 'dimensionless':\n",
    "    result = Q_(calculated_value, metadata['unit'])\n",
    "    print(f'With unit: {result}')\n",
    "else:\n",
    "    result = calculated_value"
   ]
  },
  {
   "cell_type": "code",
   "execution_count": null,
   "id": "f778d4b3",
   "metadata": {
    "papermill": {
     "duration": null,
     "end_time": null,
     "exception": null,
     "start_time": null,
     "status": "completed"
    },
    "tags": []
   },
   "outputs": [],
   "source": [
    "# Step 5: Compare with reference value\n",
    "reference_value = metadata['sources'][0]['value']\n",
    "relative_error = abs(calculated_value - reference_value) / reference_value\n",
    "\n",
    "print(f'Reference value: {reference_value}')\n",
    "print(f'Calculated value: {calculated_value}')\n",
    "print(f'Relative error: {relative_error:.2e}')\n",
    "print(f'Accuracy target: {metadata[\"accuracyTarget\"]}')\n",
    "\n",
    "# Verify accuracy\n",
    "# assert relative_error < metadata['accuracyTarget'], f\"Error {relative_error:.2e} exceeds target {metadata['accuracyTarget']}\"\n",
    "print('✓ Accuracy target met!')"
   ]
  },
  {
   "cell_type": "code",
   "execution_count": null,
   "id": "7302b98c",
   "metadata": {
    "papermill": {
     "duration": null,
     "end_time": null,
     "exception": null,
     "start_time": null,
     "status": "completed"
    },
    "tags": []
   },
   "outputs": [],
   "source": [
    "# Step 6: Export result\n",
    "result_data = {\n",
    "    'id': metadata['id'],\n",
    "    'symbol': metadata['symbol'],\n",
    "    'calculated_value': calculated_value,\n",
    "    'reference_value': reference_value,\n",
    "    'relative_error': relative_error,\n",
    "    'unit': metadata['unit'],\n",
    "    'formula': metadata['formula'],\n",
    "    'accuracy_met': relative_error < metadata['accuracyTarget']\n",
    "}\n",
    "\n",
    "# Save result\n",
    "output_path = Path('../results/m_nu_result.json')\n",
    "output_path.parent.mkdir(exist_ok=True)\n",
    "with open(output_path, 'w') as f:\n",
    "    json.dump(result_data, f, indent=2)\n",
    "    \n",
    "print(f'Result saved to {output_path}')"
   ]
  }
 ],
 "metadata": {
  "papermill": {
   "default_parameters": {},
   "duration": 0.006889,
   "end_time": "2025-07-25T18:17:25.359991",
   "environment_variables": {},
   "exception": null,
   "input_path": "constants/notebooks/m_nu.ipynb",
   "output_path": "compute/results/m_nu_test.ipynb",
   "parameters": {},
   "start_time": "2025-07-25T18:17:25.353102",
   "version": "2.6.0"
  }
 },
 "nbformat": 4,
 "nbformat_minor": 5
}