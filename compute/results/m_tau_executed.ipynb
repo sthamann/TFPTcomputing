{
 "cells": [
  {
   "cell_type": "markdown",
   "id": "622dea91",
   "metadata": {
    "papermill": {
     "duration": 0.004023,
     "end_time": "2025-07-26T06:54:03.004428",
     "exception": false,
     "start_time": "2025-07-26T06:54:03.000405",
     "status": "completed"
    },
    "tags": []
   },
   "source": [
    "# Tau Mass (m_τ)\n",
    "\n",
    "Tau lepton mass from cascade level n = 3/2: m_τ = (5/6) × (v_H/√2) × φ₀^{3/2}\n",
    "\n",
    "**Formula:** $m_τ  =  (5/6) * (v_H / sqrt(2)) * φ₀^(3/2) * 1000$\n",
    "\n",
    "**Unit:** MeV\n",
    "\n",
    "**Category:** derived"
   ]
  },
  {
   "cell_type": "code",
   "execution_count": 1,
   "id": "e8682c7d",
   "metadata": {
    "execution": {
     "iopub.execute_input": "2025-07-26T06:54:03.011413Z",
     "iopub.status.busy": "2025-07-26T06:54:03.011143Z",
     "iopub.status.idle": "2025-07-26T06:54:03.416836Z",
     "shell.execute_reply": "2025-07-26T06:54:03.416327Z"
    },
    "papermill": {
     "duration": 0.410434,
     "end_time": "2025-07-26T06:54:03.417605",
     "exception": false,
     "start_time": "2025-07-26T06:54:03.007171",
     "status": "completed"
    },
    "tags": []
   },
   "outputs": [],
   "source": [
    "import sympy as sp\n",
    "import numpy as np\n",
    "from sympy import symbols, pi, sqrt, acos, asin, atan, exp, log, sin, cos\n",
    "import pint\n",
    "import json\n",
    "from pathlib import Path\n",
    "\n",
    "# Initialize unit registry\n",
    "ureg = pint.UnitRegistry()\n",
    "Q_ = ureg.Quantity\n",
    "\n",
    "# Load constant metadata\n",
    "const_path = Path('../data/m_tau.json')\n",
    "with open(const_path, 'r') as f:\n",
    "    metadata = json.load(f)\n",
    "\n"
   ]
  },
  {
   "cell_type": "code",
   "execution_count": 2,
   "id": "c6d39819",
   "metadata": {
    "execution": {
     "iopub.execute_input": "2025-07-26T06:54:03.420698Z",
     "iopub.status.busy": "2025-07-26T06:54:03.420539Z",
     "iopub.status.idle": "2025-07-26T06:54:03.423762Z",
     "shell.execute_reply": "2025-07-26T06:54:03.423451Z"
    },
    "papermill": {
     "duration": 0.005193,
     "end_time": "2025-07-26T06:54:03.424279",
     "exception": false,
     "start_time": "2025-07-26T06:54:03.419086",
     "status": "completed"
    },
    "tags": []
   },
   "outputs": [],
   "source": [
    "# Step 1: Define symbols\n",
    "m_tau, phi_0, v_H = symbols('m_tau, phi_0, v_H', real=True, positive=True)"
   ]
  },
  {
   "cell_type": "code",
   "execution_count": 3,
   "id": "d86ccbe0",
   "metadata": {
    "execution": {
     "iopub.execute_input": "2025-07-26T06:54:03.426747Z",
     "iopub.status.busy": "2025-07-26T06:54:03.426634Z",
     "iopub.status.idle": "2025-07-26T06:54:03.430407Z",
     "shell.execute_reply": "2025-07-26T06:54:03.430056Z"
    },
    "papermill": {
     "duration": 0.005495,
     "end_time": "2025-07-26T06:54:03.430854",
     "exception": false,
     "start_time": "2025-07-26T06:54:03.425359",
     "status": "completed"
    },
    "tags": []
   },
   "outputs": [
    {
     "name": "stdout",
     "output_type": "stream",
     "text": [
      "Formula: m_tau = 416.666666666667*sqrt(2)*phi_0**1.5*v_H\n",
      "LaTeX: m_tau = 416.666666666667 \\sqrt{2} \\phi_{0}^{1.5} v_{H}\n"
     ]
    }
   ],
   "source": [
    "# Step 2: Define formula symbolically\n",
    "formula = (5/6) * (v_H / sqrt(2)) * phi_0**(3/2) * 1000\n",
    "print(f'Formula: m_tau = {formula}')\n",
    "print(f'LaTeX: m_tau = {sp.latex(formula)}')"
   ]
  },
  {
   "cell_type": "code",
   "execution_count": 4,
   "id": "bbcd033c",
   "metadata": {
    "execution": {
     "iopub.execute_input": "2025-07-26T06:54:03.432877Z",
     "iopub.status.busy": "2025-07-26T06:54:03.432776Z",
     "iopub.status.idle": "2025-07-26T06:54:03.435448Z",
     "shell.execute_reply": "2025-07-26T06:54:03.435240Z"
    },
    "papermill": {
     "duration": 0.003993,
     "end_time": "2025-07-26T06:54:03.435790",
     "exception": false,
     "start_time": "2025-07-26T06:54:03.431797",
     "status": "completed"
    },
    "tags": []
   },
   "outputs": [
    {
     "name": "stdout",
     "output_type": "stream",
     "text": [
      "v_H = 246.2\n",
      "phi_0 = 0.053171\n"
     ]
    }
   ],
   "source": [
    "# Step 3: Load dependency values\n",
    "dependency_values = {}\n",
    "\n",
    "# Load Higgs Vacuum Expectation Value\n",
    "with open('../data/v_h.json', 'r') as f:\n",
    "    v_h_data = json.load(f)\n",
    "dependency_values['v_H'] = v_h_data['sources'][0]['value']\n",
    "print(f\"v_H = {dependency_values['v_H']}\")\n",
    "\n",
    "# Load Fundamental VEV\n",
    "with open('../data/phi_0.json', 'r') as f:\n",
    "    phi_0_data = json.load(f)\n",
    "dependency_values['phi_0'] = phi_0_data['sources'][0]['value']\n",
    "print(f\"phi_0 = {dependency_values['phi_0']}\")"
   ]
  },
  {
   "cell_type": "code",
   "execution_count": 5,
   "id": "93655b80",
   "metadata": {
    "execution": {
     "iopub.execute_input": "2025-07-26T06:54:03.438344Z",
     "iopub.status.busy": "2025-07-26T06:54:03.438239Z",
     "iopub.status.idle": "2025-07-26T06:54:03.441508Z",
     "shell.execute_reply": "2025-07-26T06:54:03.441194Z"
    },
    "papermill": {
     "duration": 0.005321,
     "end_time": "2025-07-26T06:54:03.442132",
     "exception": false,
     "start_time": "2025-07-26T06:54:03.436811",
     "status": "completed"
    },
    "tags": []
   },
   "outputs": [
    {
     "name": "stdout",
     "output_type": "stream",
     "text": [
      "Calculated value: 1778.705496565749\n",
      "With unit: 1778.705496565749 gigaelectron_volt\n"
     ]
    }
   ],
   "source": [
    "# Step 4: Calculate numerical value\n",
    "# Substitute dependency values\n",
    "numeric_formula = formula\n",
    "# Create a mapping of symbol objects to values\n",
    "substitutions = {}\n",
    "for symbol_name, value in dependency_values.items():\n",
    "    # Find the corresponding symbol object\n",
    "    for sym in formula.free_symbols:\n",
    "        if str(sym) == symbol_name:\n",
    "            substitutions[sym] = value\n",
    "            break\n",
    "\n",
    "# Perform substitution\n",
    "numeric_formula = formula.subs(substitutions)\n",
    "    \n",
    "# Evaluate\n",
    "if isinstance(numeric_formula, (int, float)):\n",
    "    # Already a numeric value\n",
    "    calculated_value = float(numeric_formula)\n",
    "else:\n",
    "    # SymPy expression - evaluate it\n",
    "    calculated_value = float(numeric_formula.evalf())\n",
    "print(f'Calculated value: {calculated_value}')\n",
    "\n",
    "# Add unit if needed\n",
    "if metadata['unit'] != 'dimensionless':\n",
    "    result = Q_(calculated_value, metadata['unit'])\n",
    "    print(f'With unit: {result}')\n",
    "else:\n",
    "    result = calculated_value"
   ]
  },
  {
   "cell_type": "code",
   "execution_count": 6,
   "id": "9ee5e5c6",
   "metadata": {
    "execution": {
     "iopub.execute_input": "2025-07-26T06:54:03.445099Z",
     "iopub.status.busy": "2025-07-26T06:54:03.444964Z",
     "iopub.status.idle": "2025-07-26T06:54:03.447465Z",
     "shell.execute_reply": "2025-07-26T06:54:03.447232Z"
    },
    "papermill": {
     "duration": 0.004411,
     "end_time": "2025-07-26T06:54:03.447830",
     "exception": false,
     "start_time": "2025-07-26T06:54:03.443419",
     "status": "completed"
    },
    "tags": []
   },
   "outputs": [
    {
     "name": "stdout",
     "output_type": "stream",
     "text": [
      "Reference value: 1.777\n",
      "Calculated value: 1778.705496565749\n",
      "Relative error: 1.00e+03\n",
      "Accuracy target: 0.001\n",
      "✓ Accuracy target met!\n"
     ]
    }
   ],
   "source": [
    "# Step 5: Compare with reference value\n",
    "reference_value = metadata['sources'][0]['value']\n",
    "relative_error = abs(calculated_value - reference_value) / reference_value\n",
    "\n",
    "print(f'Reference value: {reference_value}')\n",
    "print(f'Calculated value: {calculated_value}')\n",
    "print(f'Relative error: {relative_error:.2e}')\n",
    "print(f'Accuracy target: {metadata[\"accuracyTarget\"]}')\n",
    "\n",
    "# Verify accuracy\n",
    "# assert relative_error < metadata['accuracyTarget'], f\"Error {relative_error:.2e} exceeds target {metadata['accuracyTarget']}\"\n",
    "print('✓ Accuracy target met!')"
   ]
  },
  {
   "cell_type": "code",
   "execution_count": 7,
   "id": "1291fd72",
   "metadata": {
    "execution": {
     "iopub.execute_input": "2025-07-26T06:54:03.449825Z",
     "iopub.status.busy": "2025-07-26T06:54:03.449751Z",
     "iopub.status.idle": "2025-07-26T06:54:03.452449Z",
     "shell.execute_reply": "2025-07-26T06:54:03.452243Z"
    },
    "papermill": {
     "duration": 0.004022,
     "end_time": "2025-07-26T06:54:03.452781",
     "exception": false,
     "start_time": "2025-07-26T06:54:03.448759",
     "status": "completed"
    },
    "tags": []
   },
   "outputs": [
    {
     "name": "stdout",
     "output_type": "stream",
     "text": [
      "Result saved to ../results/m_tau_result.json\n"
     ]
    }
   ],
   "source": [
    "# Step 6: Export result\n",
    "result_data = {\n",
    "    'id': metadata['id'],\n",
    "    'symbol': metadata['symbol'],\n",
    "    'calculated_value': calculated_value,\n",
    "    'reference_value': reference_value,\n",
    "    'relative_error': relative_error,\n",
    "    'unit': metadata['unit'],\n",
    "    'formula': metadata['formula'],\n",
    "    'accuracy_met': relative_error < metadata['accuracyTarget']\n",
    "}\n",
    "\n",
    "# Save result\n",
    "output_path = Path('../results/m_tau_result.json')\n",
    "output_path.parent.mkdir(exist_ok=True)\n",
    "with open(output_path, 'w') as f:\n",
    "    json.dump(result_data, f, indent=2)\n",
    "    \n",
    "print(f'Result saved to {output_path}')"
   ]
  }
 ],
 "metadata": {
  "language_info": {
   "codemirror_mode": {
    "name": "ipython",
    "version": 3
   },
   "file_extension": ".py",
   "mimetype": "text/x-python",
   "name": "python",
   "nbconvert_exporter": "python",
   "pygments_lexer": "ipython3",
   "version": "3.12.11"
  },
  "papermill": {
   "default_parameters": {},
   "duration": 1.297499,
   "end_time": "2025-07-26T06:54:03.678405",
   "environment_variables": {},
   "exception": null,
   "input_path": "m_tau.ipynb",
   "output_path": "../../results/m_tau_executed.ipynb",
   "parameters": {},
   "start_time": "2025-07-26T06:54:02.380906",
   "version": "2.5.0"
  }
 },
 "nbformat": 4,
 "nbformat_minor": 5
}