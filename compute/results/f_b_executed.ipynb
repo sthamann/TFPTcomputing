{
 "cells": [
  {
   "cell_type": "markdown",
   "id": "2a0c53ff",
   "metadata": {
    "papermill": {
     "duration": 0.00293,
     "end_time": "2025-07-26T06:54:59.068338",
     "exception": false,
     "start_time": "2025-07-26T06:54:59.065408",
     "status": "completed"
    },
    "tags": []
   },
   "source": [
    "# Cosmic baryon fraction (f_b)\n",
    "\n",
    "Baryon fraction of cosmic matter\n",
    "\n",
    "Formula: f_b = η_B / (η_B + 5 c₃⁷)"
   ]
  },
  {
   "cell_type": "code",
   "execution_count": 1,
   "id": "2bc5935e",
   "metadata": {
    "execution": {
     "iopub.execute_input": "2025-07-26T06:54:59.072998Z",
     "iopub.status.busy": "2025-07-26T06:54:59.072724Z",
     "iopub.status.idle": "2025-07-26T06:54:59.220736Z",
     "shell.execute_reply": "2025-07-26T06:54:59.220419Z"
    },
    "papermill": {
     "duration": 0.151163,
     "end_time": "2025-07-26T06:54:59.221413",
     "exception": false,
     "start_time": "2025-07-26T06:54:59.070250",
     "status": "completed"
    },
    "tags": []
   },
   "outputs": [],
   "source": [
    "import json\n",
    "import numpy as np\n",
    "from sympy import symbols, pi, log, sqrt\n",
    "\n",
    "# Note: Full calculation implementation needed\n",
    "# Formula: f_b = η_B / (η_B + 5 c₃⁷)\n",
    "# Dependencies: eta_b, c_3\n",
    "# Expected value: 0.158"
   ]
  }
 ],
 "metadata": {
  "kernelspec": {
   "display_name": "Python 3",
   "language": "python",
   "name": "python3"
  },
  "language_info": {
   "codemirror_mode": {
    "name": "ipython",
    "version": 3
   },
   "file_extension": ".py",
   "mimetype": "text/x-python",
   "name": "python",
   "nbconvert_exporter": "python",
   "pygments_lexer": "ipython3",
   "version": "3.12.11"
  },
  "papermill": {
   "default_parameters": {},
   "duration": 0.99297,
   "end_time": "2025-07-26T06:54:59.436808",
   "environment_variables": {},
   "exception": null,
   "input_path": "f_b.ipynb",
   "output_path": "../../results/f_b_executed.ipynb",
   "parameters": {},
   "start_time": "2025-07-26T06:54:58.443838",
   "version": "2.5.0"
  }
 },
 "nbformat": 4,
 "nbformat_minor": 5
}