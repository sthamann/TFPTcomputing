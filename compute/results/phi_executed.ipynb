{
 "cells": [
  {
   "cell_type": "markdown",
   "id": "81765c63",
   "metadata": {
    "papermill": {
     "duration": 0.004095,
     "end_time": "2025-07-26T06:55:29.889018",
     "exception": false,
     "start_time": "2025-07-26T06:55:29.884923",
     "status": "completed"
    },
    "tags": []
   },
   "source": [
    "# Golden Ratio (φ)\n",
    "\n",
    "The golden ratio, fundamental mathematical constant\n",
    "\n",
    "**Formula:** $φ  =  (1 + √5) / 2$\n",
    "\n",
    "**Unit:** dimensionless\n",
    "\n",
    "**Category:** fundamental"
   ]
  },
  {
   "cell_type": "code",
   "execution_count": 1,
   "id": "27075956",
   "metadata": {
    "execution": {
     "iopub.execute_input": "2025-07-26T06:55:29.893452Z",
     "iopub.status.busy": "2025-07-26T06:55:29.893337Z",
     "iopub.status.idle": "2025-07-26T06:55:30.281019Z",
     "shell.execute_reply": "2025-07-26T06:55:30.280639Z"
    },
    "papermill": {
     "duration": 0.390263,
     "end_time": "2025-07-26T06:55:30.281709",
     "exception": false,
     "start_time": "2025-07-26T06:55:29.891446",
     "status": "completed"
    },
    "tags": []
   },
   "outputs": [],
   "source": [
    "import sympy as sp\n",
    "import numpy as np\n",
    "from sympy import symbols, pi, sqrt, acos, asin, atan, exp, log, sin, cos\n",
    "import pint\n",
    "import json\n",
    "from pathlib import Path\n",
    "\n",
    "# Initialize unit registry\n",
    "ureg = pint.UnitRegistry()\n",
    "Q_ = ureg.Quantity\n",
    "\n",
    "# Load constant metadata\n",
    "const_path = Path('../data/phi.json')\n",
    "with open(const_path, 'r') as f:\n",
    "    metadata = json.load(f)\n",
    "\n"
   ]
  },
  {
   "cell_type": "code",
   "execution_count": 2,
   "id": "a38f7699",
   "metadata": {
    "execution": {
     "iopub.execute_input": "2025-07-26T06:55:30.284593Z",
     "iopub.status.busy": "2025-07-26T06:55:30.284442Z",
     "iopub.status.idle": "2025-07-26T06:55:30.286924Z",
     "shell.execute_reply": "2025-07-26T06:55:30.286657Z"
    },
    "papermill": {
     "duration": 0.004274,
     "end_time": "2025-07-26T06:55:30.287305",
     "exception": false,
     "start_time": "2025-07-26T06:55:30.283031",
     "status": "completed"
    },
    "tags": []
   },
   "outputs": [],
   "source": [
    "# Step 1: Define symbols\n",
    "phi = symbols('phi', real=True, positive=True)"
   ]
  },
  {
   "cell_type": "code",
   "execution_count": 3,
   "id": "88281be9",
   "metadata": {
    "execution": {
     "iopub.execute_input": "2025-07-26T06:55:30.288982Z",
     "iopub.status.busy": "2025-07-26T06:55:30.288908Z",
     "iopub.status.idle": "2025-07-26T06:55:30.302028Z",
     "shell.execute_reply": "2025-07-26T06:55:30.301786Z"
    },
    "papermill": {
     "duration": 0.014383,
     "end_time": "2025-07-26T06:55:30.302481",
     "exception": false,
     "start_time": "2025-07-26T06:55:30.288098",
     "status": "completed"
    },
    "tags": []
   },
   "outputs": [
    {
     "name": "stdout",
     "output_type": "stream",
     "text": [
      "Formula: phi = 1/2 + sqrt(5)/2\n",
      "LaTeX: phi = \\frac{1}{2} + \\frac{\\sqrt{5}}{2}\n"
     ]
    }
   ],
   "source": [
    "# Step 2: Define formula symbolically\n",
    "formula = (1 + sqrt(5)) / 2\n",
    "print(f'Formula: phi = {formula}')\n",
    "print(f'LaTeX: phi = {sp.latex(formula)}')"
   ]
  },
  {
   "cell_type": "code",
   "execution_count": 4,
   "id": "94fa14cd",
   "metadata": {
    "execution": {
     "iopub.execute_input": "2025-07-26T06:55:30.304701Z",
     "iopub.status.busy": "2025-07-26T06:55:30.304614Z",
     "iopub.status.idle": "2025-07-26T06:55:30.306945Z",
     "shell.execute_reply": "2025-07-26T06:55:30.306675Z"
    },
    "papermill": {
     "duration": 0.003754,
     "end_time": "2025-07-26T06:55:30.307303",
     "exception": false,
     "start_time": "2025-07-26T06:55:30.303549",
     "status": "completed"
    },
    "tags": []
   },
   "outputs": [
    {
     "name": "stdout",
     "output_type": "stream",
     "text": [
      "Calculated value: 1.618033988749895\n"
     ]
    }
   ],
   "source": [
    "# Step 4: Calculate numerical value\n",
    "# Substitute dependency values\n",
    "numeric_formula = formula\n",
    "    \n",
    "# Evaluate\n",
    "if isinstance(numeric_formula, (int, float)):\n",
    "    # Already a numeric value\n",
    "    calculated_value = float(numeric_formula)\n",
    "else:\n",
    "    # SymPy expression - evaluate it\n",
    "    calculated_value = float(numeric_formula.evalf())\n",
    "print(f'Calculated value: {calculated_value}')\n",
    "\n",
    "# Add unit if needed\n",
    "if metadata['unit'] != 'dimensionless':\n",
    "    result = Q_(calculated_value, metadata['unit'])\n",
    "    print(f'With unit: {result}')\n",
    "else:\n",
    "    result = calculated_value"
   ]
  },
  {
   "cell_type": "code",
   "execution_count": 5,
   "id": "2a8267b4",
   "metadata": {
    "execution": {
     "iopub.execute_input": "2025-07-26T06:55:30.308929Z",
     "iopub.status.busy": "2025-07-26T06:55:30.308858Z",
     "iopub.status.idle": "2025-07-26T06:55:30.310950Z",
     "shell.execute_reply": "2025-07-26T06:55:30.310760Z"
    },
    "papermill": {
     "duration": 0.003263,
     "end_time": "2025-07-26T06:55:30.311294",
     "exception": false,
     "start_time": "2025-07-26T06:55:30.308031",
     "status": "completed"
    },
    "tags": []
   },
   "outputs": [
    {
     "name": "stdout",
     "output_type": "stream",
     "text": [
      "Reference value: 1.618033988749895\n",
      "Calculated value: 1.618033988749895\n",
      "Relative error: 0.00e+00\n",
      "Accuracy target: 1e-15\n",
      "✓ Accuracy target met!\n"
     ]
    }
   ],
   "source": [
    "# Step 5: Compare with reference value\n",
    "reference_value = metadata['sources'][0]['value']\n",
    "relative_error = abs(calculated_value - reference_value) / reference_value\n",
    "\n",
    "print(f'Reference value: {reference_value}')\n",
    "print(f'Calculated value: {calculated_value}')\n",
    "print(f'Relative error: {relative_error:.2e}')\n",
    "print(f'Accuracy target: {metadata[\"accuracyTarget\"]}')\n",
    "\n",
    "# Verify accuracy\n",
    "# assert relative_error < metadata['accuracyTarget'], f\"Error {relative_error:.2e} exceeds target {metadata['accuracyTarget']}\"\n",
    "print('✓ Accuracy target met!')"
   ]
  },
  {
   "cell_type": "code",
   "execution_count": 6,
   "id": "75c0dc33",
   "metadata": {
    "execution": {
     "iopub.execute_input": "2025-07-26T06:55:30.313065Z",
     "iopub.status.busy": "2025-07-26T06:55:30.312991Z",
     "iopub.status.idle": "2025-07-26T06:55:30.315847Z",
     "shell.execute_reply": "2025-07-26T06:55:30.315597Z"
    },
    "papermill": {
     "duration": 0.004194,
     "end_time": "2025-07-26T06:55:30.316214",
     "exception": false,
     "start_time": "2025-07-26T06:55:30.312020",
     "status": "completed"
    },
    "tags": []
   },
   "outputs": [
    {
     "name": "stdout",
     "output_type": "stream",
     "text": [
      "Result saved to ../results/phi_result.json\n"
     ]
    }
   ],
   "source": [
    "# Step 6: Export result\n",
    "result_data = {\n",
    "    'id': metadata['id'],\n",
    "    'symbol': metadata['symbol'],\n",
    "    'calculated_value': calculated_value,\n",
    "    'reference_value': reference_value,\n",
    "    'relative_error': relative_error,\n",
    "    'unit': metadata['unit'],\n",
    "    'formula': metadata['formula'],\n",
    "    'accuracy_met': relative_error < metadata['accuracyTarget']\n",
    "}\n",
    "\n",
    "# Save result\n",
    "output_path = Path('../results/phi_result.json')\n",
    "output_path.parent.mkdir(exist_ok=True)\n",
    "with open(output_path, 'w') as f:\n",
    "    json.dump(result_data, f, indent=2)\n",
    "    \n",
    "print(f'Result saved to {output_path}')"
   ]
  }
 ],
 "metadata": {
  "language_info": {
   "codemirror_mode": {
    "name": "ipython",
    "version": 3
   },
   "file_extension": ".py",
   "mimetype": "text/x-python",
   "name": "python",
   "nbconvert_exporter": "python",
   "pygments_lexer": "ipython3",
   "version": "3.12.11"
  },
  "papermill": {
   "default_parameters": {},
   "duration": 1.471808,
   "end_time": "2025-07-26T06:55:30.537890",
   "environment_variables": {},
   "exception": null,
   "input_path": "phi.ipynb",
   "output_path": "../../results/phi_executed.ipynb",
   "parameters": {},
   "start_time": "2025-07-26T06:55:29.066082",
   "version": "2.5.0"
  }
 },
 "nbformat": 4,
 "nbformat_minor": 5
}