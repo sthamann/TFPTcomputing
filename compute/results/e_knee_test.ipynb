{
 "cells": [
  {
   "cell_type": "markdown",
   "id": "50e76e65",
   "metadata": {
    "papermill": {
     "duration": null,
     "end_time": null,
     "exception": null,
     "start_time": null,
     "status": "completed"
    },
    "tags": []
   },
   "source": [
    "# Cosmic-ray knee energy (E_knee)\n",
    "\n",
    "Cosmic-ray spectrum feature from cascade\n",
    "\n",
    "Formula: E_knee = M_Pl φ₀²⁰"
   ]
  },
  {
   "cell_type": "code",
   "execution_count": null,
   "id": "6922324a",
   "metadata": {
    "papermill": {
     "duration": null,
     "end_time": null,
     "exception": null,
     "start_time": null,
     "status": "completed"
    },
    "tags": []
   },
   "outputs": [],
   "source": [
    "import json\n",
    "import numpy as np\n",
    "from sympy import symbols, pi, log, sqrt\n",
    "\n",
    "# Note: Full calculation implementation needed\n",
    "# Formula: E_knee = M_Pl φ₀²⁰\n",
    "# Dependencies: m_planck, phi_0\n",
    "# Expected value: 2.9"
   ]
  }
 ],
 "metadata": {
  "kernelspec": {
   "display_name": "Python 3",
   "language": "python",
   "name": "python3"
  },
  "papermill": {
   "default_parameters": {},
   "duration": 0.019063,
   "end_time": "2025-07-25T18:17:21.894204",
   "environment_variables": {},
   "exception": null,
   "input_path": "constants/notebooks/e_knee.ipynb",
   "output_path": "compute/results/e_knee_test.ipynb",
   "parameters": {},
   "start_time": "2025-07-25T18:17:21.875141",
   "version": "2.6.0"
  }
 },
 "nbformat": 4,
 "nbformat_minor": 5
}