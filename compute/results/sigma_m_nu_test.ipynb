{
 "cells": [
  {
   "cell_type": "markdown",
   "id": "556d9b30",
   "metadata": {
    "papermill": {
     "duration": null,
     "end_time": null,
     "exception": null,
     "start_time": null,
     "status": "completed"
    },
    "tags": []
   },
   "source": [
    "# Sum of Neutrino Masses (Σm_ν)\n",
    "\n",
    "Total neutrino mass from the topological Type-I seesaw: Σm_ν = 3 × m_ν\n",
    "\n",
    "**Formula:** $Σm_ν  =  3 * m_ν$\n",
    "\n",
    "**Unit:** eV\n",
    "\n",
    "**Category:** derived"
   ]
  },
  {
   "cell_type": "code",
   "execution_count": null,
   "id": "36221021",
   "metadata": {
    "papermill": {
     "duration": null,
     "end_time": null,
     "exception": null,
     "start_time": null,
     "status": "completed"
    },
    "tags": []
   },
   "outputs": [],
   "source": [
    "import sympy as sp\n",
    "import numpy as np\n",
    "from sympy import symbols, pi, sqrt, acos, asin, atan, exp, log, sin, cos\n",
    "import pint\n",
    "import json\n",
    "from pathlib import Path\n",
    "\n",
    "# Initialize unit registry\n",
    "ureg = pint.UnitRegistry()\n",
    "Q_ = ureg.Quantity\n",
    "\n",
    "# Load constant metadata\n",
    "const_path = Path('../data/sigma_m_nu.json')\n",
    "with open(const_path, 'r') as f:\n",
    "    metadata = json.load(f)\n",
    "\n"
   ]
  },
  {
   "cell_type": "code",
   "execution_count": null,
   "id": "1812105d",
   "metadata": {
    "papermill": {
     "duration": null,
     "end_time": null,
     "exception": null,
     "start_time": null,
     "status": "completed"
    },
    "tags": []
   },
   "outputs": [],
   "source": [
    "# Step 1: Define symbols\n",
    "Sigmam_nu, m_nu = symbols('Sigmam_nu, m_nu', real=True, positive=True)"
   ]
  },
  {
   "cell_type": "code",
   "execution_count": null,
   "id": "5d7a523f",
   "metadata": {
    "papermill": {
     "duration": null,
     "end_time": null,
     "exception": null,
     "start_time": null,
     "status": "completed"
    },
    "tags": []
   },
   "outputs": [],
   "source": [
    "# Step 2: Define formula symbolically\n",
    "formula = 3 * m_nu\n",
    "print(f'Formula: Sigmam_nu = {formula}')\n",
    "print(f'LaTeX: Sigmam_nu = {sp.latex(formula)}')"
   ]
  },
  {
   "cell_type": "code",
   "execution_count": null,
   "id": "08c48df8",
   "metadata": {
    "papermill": {
     "duration": null,
     "end_time": null,
     "exception": null,
     "start_time": null,
     "status": "completed"
    },
    "tags": []
   },
   "outputs": [],
   "source": [
    "# Step 3: Load dependency values\n",
    "dependency_values = {}\n",
    "\n",
    "# Load Light Neutrino Mass\n",
    "with open('../data/m_nu.json', 'r') as f:\n",
    "    m_nu_data = json.load(f)\n",
    "dependency_values['m_nu'] = m_nu_data['sources'][0]['value']\n",
    "print(f\"m_nu = {dependency_values['m_nu']}\")"
   ]
  },
  {
   "cell_type": "code",
   "execution_count": null,
   "id": "59a65438",
   "metadata": {
    "papermill": {
     "duration": null,
     "end_time": null,
     "exception": null,
     "start_time": null,
     "status": "completed"
    },
    "tags": []
   },
   "outputs": [],
   "source": [
    "# Step 4: Calculate numerical value\n",
    "# Substitute dependency values\n",
    "numeric_formula = formula\n",
    "# Create a mapping of symbol objects to values\n",
    "substitutions = {}\n",
    "for symbol_name, value in dependency_values.items():\n",
    "    # Find the corresponding symbol object\n",
    "    for sym in formula.free_symbols:\n",
    "        if str(sym) == symbol_name:\n",
    "            substitutions[sym] = value\n",
    "            break\n",
    "\n",
    "# Perform substitution\n",
    "numeric_formula = formula.subs(substitutions)\n",
    "    \n",
    "# Evaluate\n",
    "if isinstance(numeric_formula, (int, float)):\n",
    "    # Already a numeric value\n",
    "    calculated_value = float(numeric_formula)\n",
    "else:\n",
    "    # SymPy expression - evaluate it\n",
    "    calculated_value = float(numeric_formula.evalf())\n",
    "print(f'Calculated value: {calculated_value}')\n",
    "\n",
    "# Add unit if needed\n",
    "if metadata['unit'] != 'dimensionless':\n",
    "    result = Q_(calculated_value, metadata['unit'])\n",
    "    print(f'With unit: {result}')\n",
    "else:\n",
    "    result = calculated_value"
   ]
  },
  {
   "cell_type": "code",
   "execution_count": null,
   "id": "5752d287",
   "metadata": {
    "papermill": {
     "duration": null,
     "end_time": null,
     "exception": null,
     "start_time": null,
     "status": "completed"
    },
    "tags": []
   },
   "outputs": [],
   "source": [
    "# Step 5: Compare with reference value\n",
    "reference_value = metadata['sources'][0]['value']\n",
    "relative_error = abs(calculated_value - reference_value) / reference_value\n",
    "\n",
    "print(f'Reference value: {reference_value}')\n",
    "print(f'Calculated value: {calculated_value}')\n",
    "print(f'Relative error: {relative_error:.2e}')\n",
    "print(f'Accuracy target: {metadata[\"accuracyTarget\"]}')\n",
    "\n",
    "# Verify accuracy\n",
    "# assert relative_error < metadata['accuracyTarget'], f\"Error {relative_error:.2e} exceeds target {metadata['accuracyTarget']}\"\n",
    "print('✓ Accuracy target met!')"
   ]
  },
  {
   "cell_type": "code",
   "execution_count": null,
   "id": "dc1394ab",
   "metadata": {
    "papermill": {
     "duration": null,
     "end_time": null,
     "exception": null,
     "start_time": null,
     "status": "completed"
    },
    "tags": []
   },
   "outputs": [],
   "source": [
    "# Step 6: Export result\n",
    "result_data = {\n",
    "    'id': metadata['id'],\n",
    "    'symbol': metadata['symbol'],\n",
    "    'calculated_value': calculated_value,\n",
    "    'reference_value': reference_value,\n",
    "    'relative_error': relative_error,\n",
    "    'unit': metadata['unit'],\n",
    "    'formula': metadata['formula'],\n",
    "    'accuracy_met': relative_error < metadata['accuracyTarget']\n",
    "}\n",
    "\n",
    "# Save result\n",
    "output_path = Path('../results/sigma_m_nu_result.json')\n",
    "output_path.parent.mkdir(exist_ok=True)\n",
    "with open(output_path, 'w') as f:\n",
    "    json.dump(result_data, f, indent=2)\n",
    "    \n",
    "print(f'Result saved to {output_path}')"
   ]
  }
 ],
 "metadata": {
  "papermill": {
   "default_parameters": {},
   "duration": 0.005742,
   "end_time": "2025-07-25T18:17:28.209200",
   "environment_variables": {},
   "exception": null,
   "input_path": "constants/notebooks/sigma_m_nu.ipynb",
   "output_path": "compute/results/sigma_m_nu_test.ipynb",
   "parameters": {},
   "start_time": "2025-07-25T18:17:28.203458",
   "version": "2.6.0"
  }
 },
 "nbformat": 4,
 "nbformat_minor": 5
}