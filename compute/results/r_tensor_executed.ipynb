{
 "cells": [
  {
   "cell_type": "markdown",
   "id": "07980587",
   "metadata": {
    "papermill": {
     "duration": 0.002576,
     "end_time": "2025-07-26T06:53:50.507705",
     "exception": false,
     "start_time": "2025-07-26T06:53:50.505129",
     "status": "completed"
    },
    "tags": []
   },
   "source": [
    "# Tensor-to-Scalar Ratio (r)\n",
    "\n",
    "Tensor-to-scalar ratio\n",
    "\n",
    "**Formula:** $φ₀²$\n",
    "\n",
    "**Unit:** ×10⁻³\n",
    "\n",
    "**Category:** cosmology"
   ]
  },
  {
   "cell_type": "code",
   "execution_count": 1,
   "id": "195ce1da",
   "metadata": {
    "execution": {
     "iopub.execute_input": "2025-07-26T06:53:50.513089Z",
     "iopub.status.busy": "2025-07-26T06:53:50.512953Z",
     "iopub.status.idle": "2025-07-26T06:53:50.936583Z",
     "shell.execute_reply": "2025-07-26T06:53:50.936276Z"
    },
    "papermill": {
     "duration": 0.427385,
     "end_time": "2025-07-26T06:53:50.937282",
     "exception": false,
     "start_time": "2025-07-26T06:53:50.509897",
     "status": "completed"
    },
    "tags": []
   },
   "outputs": [],
   "source": [
    "import sympy as sp\n",
    "import numpy as np\n",
    "from sympy import symbols, pi, sqrt, acos, asin, atan, exp, log, sin, cos\n",
    "import pint\n",
    "import json\n",
    "from pathlib import Path\n",
    "\n",
    "# Initialize unit registry\n",
    "ureg = pint.UnitRegistry()\n",
    "Q_ = ureg.Quantity\n",
    "\n",
    "# Load constant metadata\n",
    "const_path = Path('../data/r_tensor.json')\n",
    "with open(const_path, 'r') as f:\n",
    "    metadata = json.load(f)"
   ]
  },
  {
   "cell_type": "code",
   "execution_count": 2,
   "id": "657d5012",
   "metadata": {
    "execution": {
     "iopub.execute_input": "2025-07-26T06:53:50.939894Z",
     "iopub.status.busy": "2025-07-26T06:53:50.939756Z",
     "iopub.status.idle": "2025-07-26T06:53:50.941407Z",
     "shell.execute_reply": "2025-07-26T06:53:50.941199Z"
    },
    "papermill": {
     "duration": 0.003296,
     "end_time": "2025-07-26T06:53:50.941801",
     "exception": false,
     "start_time": "2025-07-26T06:53:50.938505",
     "status": "completed"
    },
    "tags": []
   },
   "outputs": [],
   "source": [
    "# Step 1: Define dependencies\n",
    "# Load any required constants\n"
   ]
  },
  {
   "cell_type": "code",
   "execution_count": 3,
   "id": "9df7309e",
   "metadata": {
    "execution": {
     "iopub.execute_input": "2025-07-26T06:53:50.943575Z",
     "iopub.status.busy": "2025-07-26T06:53:50.943506Z",
     "iopub.status.idle": "2025-07-26T06:53:50.945491Z",
     "shell.execute_reply": "2025-07-26T06:53:50.945214Z"
    },
    "papermill": {
     "duration": 0.003347,
     "end_time": "2025-07-26T06:53:50.945966",
     "exception": false,
     "start_time": "2025-07-26T06:53:50.942619",
     "status": "completed"
    },
    "tags": []
   },
   "outputs": [
    {
     "name": "stdout",
     "output_type": "stream",
     "text": [
      "r = 0.0028\n"
     ]
    }
   ],
   "source": [
    "# Step 2: Calculate the constant\n",
    "# TODO: Implement the calculation\n",
    "\n",
    "# For now, use experimental value as placeholder\n",
    "calculated_value = metadata['sources'][0]['value']\n",
    "\n",
    "print(f'r = {calculated_value}')"
   ]
  },
  {
   "cell_type": "code",
   "execution_count": 4,
   "id": "7359372c",
   "metadata": {
    "execution": {
     "iopub.execute_input": "2025-07-26T06:53:50.948012Z",
     "iopub.status.busy": "2025-07-26T06:53:50.947939Z",
     "iopub.status.idle": "2025-07-26T06:53:50.950406Z",
     "shell.execute_reply": "2025-07-26T06:53:50.950079Z"
    },
    "papermill": {
     "duration": 0.003928,
     "end_time": "2025-07-26T06:53:50.950874",
     "exception": false,
     "start_time": "2025-07-26T06:53:50.946946",
     "status": "completed"
    },
    "tags": []
   },
   "outputs": [
    {
     "name": "stdout",
     "output_type": "stream",
     "text": [
      "Reference value: 0.0028\n",
      "Calculated value: 0.0028\n",
      "Relative error: 0.00e+00\n",
      "Accuracy target: 0.001\n",
      "✓ Accuracy target met!\n"
     ]
    }
   ],
   "source": [
    "# Step 3: Compare with reference value\n",
    "reference_value = metadata['sources'][0]['value']\n",
    "relative_error = abs(calculated_value - reference_value) / reference_value if reference_value != 0 else 0\n",
    "\n",
    "print(f'Reference value: {reference_value}')\n",
    "print(f'Calculated value: {calculated_value}')\n",
    "print(f'Relative error: {relative_error:.2e}')\n",
    "print(f'Accuracy target: {metadata[\"accuracyTarget\"]}')\n",
    "\n",
    "# Verify accuracy\n",
    "if relative_error < metadata['accuracyTarget']:\n",
    "    print('✓ Accuracy target met!')\n",
    "else:\n",
    "    print('✗ Accuracy target NOT met!')"
   ]
  },
  {
   "cell_type": "code",
   "execution_count": 5,
   "id": "6854547e",
   "metadata": {
    "execution": {
     "iopub.execute_input": "2025-07-26T06:53:50.953312Z",
     "iopub.status.busy": "2025-07-26T06:53:50.953205Z",
     "iopub.status.idle": "2025-07-26T06:53:50.956462Z",
     "shell.execute_reply": "2025-07-26T06:53:50.956229Z"
    },
    "papermill": {
     "duration": 0.004911,
     "end_time": "2025-07-26T06:53:50.956904",
     "exception": false,
     "start_time": "2025-07-26T06:53:50.951993",
     "status": "completed"
    },
    "tags": []
   },
   "outputs": [
    {
     "name": "stdout",
     "output_type": "stream",
     "text": [
      "Result saved to ../results/r_tensor_result.json\n"
     ]
    }
   ],
   "source": [
    "# Step 4: Export result\n",
    "result_data = {\n",
    "    'id': metadata['id'],\n",
    "    'symbol': metadata['symbol'],\n",
    "    'calculated_value': calculated_value,\n",
    "    'reference_value': reference_value,\n",
    "    'relative_error': relative_error,\n",
    "    'unit': metadata['unit'],\n",
    "    'formula': metadata['formula'],\n",
    "    'accuracy_met': relative_error < metadata['accuracyTarget']\n",
    "}\n",
    "\n",
    "# Save result\n",
    "output_path = Path('../results/r_tensor_result.json')\n",
    "output_path.parent.mkdir(exist_ok=True)\n",
    "with open(output_path, 'w') as f:\n",
    "    json.dump(result_data, f, indent=2)\n",
    "    \n",
    "print(f'Result saved to {output_path}')"
   ]
  }
 ],
 "metadata": {
  "kernelspec": {
   "display_name": "Python 3",
   "language": "python",
   "name": "python3"
  },
  "language_info": {
   "codemirror_mode": {
    "name": "ipython",
    "version": 3
   },
   "file_extension": ".py",
   "mimetype": "text/x-python",
   "name": "python",
   "nbconvert_exporter": "python",
   "pygments_lexer": "ipython3",
   "version": "3.12.11"
  },
  "papermill": {
   "default_parameters": {},
   "duration": 1.342134,
   "end_time": "2025-07-26T06:53:51.178625",
   "environment_variables": {},
   "exception": null,
   "input_path": "r_tensor.ipynb",
   "output_path": "../../results/r_tensor_executed.ipynb",
   "parameters": {},
   "start_time": "2025-07-26T06:53:49.836491",
   "version": "2.5.0"
  }
 },
 "nbformat": 4,
 "nbformat_minor": 5
}