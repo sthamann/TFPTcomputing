{
 "cells": [],
 "metadata": {
  "language_info": {
   "name": "python"
  },
  "papermill": {
   "default_parameters": {},
   "duration": 0.020455,
   "end_time": "2025-07-25T18:17:20.258746",
   "environment_variables": {},
   "exception": null,
   "input_path": "constants/notebooks/beta_x.ipynb",
   "output_path": "compute/results/beta_x_test.ipynb",
   "parameters": {},
   "start_time": "2025-07-25T18:17:20.238291",
   "version": "2.6.0"
  }
 },
 "nbformat": 4,
 "nbformat_minor": 5
}