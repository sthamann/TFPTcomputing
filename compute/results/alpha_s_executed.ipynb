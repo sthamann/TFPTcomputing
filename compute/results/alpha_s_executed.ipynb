{
 "cells": [
  {
   "cell_type": "markdown",
   "id": "69faa326",
   "metadata": {
    "papermill": {
     "duration": 0.00318,
     "end_time": "2025-07-26T06:54:07.228472",
     "exception": false,
     "start_time": "2025-07-26T06:54:07.225292",
     "status": "completed"
    },
    "tags": []
   },
   "source": [
    "# Strong Coupling Constant (α_s)\n",
    "\n",
    "Strong coupling at M_Z from topology: α_s(M_Z) = √φ₀ / 2\n",
    "\n",
    "**Formula:** $α_s  =  sqrt(φ₀) / 2$\n",
    "\n",
    "**Unit:** dimensionless\n",
    "\n",
    "**Category:** derived"
   ]
  },
  {
   "cell_type": "code",
   "execution_count": 1,
   "id": "161f9801",
   "metadata": {
    "execution": {
     "iopub.execute_input": "2025-07-26T06:54:07.234021Z",
     "iopub.status.busy": "2025-07-26T06:54:07.233771Z",
     "iopub.status.idle": "2025-07-26T06:54:07.613755Z",
     "shell.execute_reply": "2025-07-26T06:54:07.613451Z"
    },
    "papermill": {
     "duration": 0.38354,
     "end_time": "2025-07-26T06:54:07.614328",
     "exception": false,
     "start_time": "2025-07-26T06:54:07.230788",
     "status": "completed"
    },
    "tags": []
   },
   "outputs": [],
   "source": [
    "import sympy as sp\n",
    "import numpy as np\n",
    "from sympy import symbols, pi, sqrt, acos, asin, atan, exp, log, sin, cos\n",
    "import pint\n",
    "import json\n",
    "from pathlib import Path\n",
    "\n",
    "# Initialize unit registry\n",
    "ureg = pint.UnitRegistry()\n",
    "Q_ = ureg.Quantity\n",
    "\n",
    "# Load constant metadata\n",
    "const_path = Path('../data/alpha_s.json')\n",
    "with open(const_path, 'r') as f:\n",
    "    metadata = json.load(f)\n",
    "\n"
   ]
  },
  {
   "cell_type": "code",
   "execution_count": 2,
   "id": "73b62405",
   "metadata": {
    "execution": {
     "iopub.execute_input": "2025-07-26T06:54:07.616632Z",
     "iopub.status.busy": "2025-07-26T06:54:07.616510Z",
     "iopub.status.idle": "2025-07-26T06:54:07.618434Z",
     "shell.execute_reply": "2025-07-26T06:54:07.618234Z"
    },
    "papermill": {
     "duration": 0.003337,
     "end_time": "2025-07-26T06:54:07.618808",
     "exception": false,
     "start_time": "2025-07-26T06:54:07.615471",
     "status": "completed"
    },
    "tags": []
   },
   "outputs": [],
   "source": [
    "# Step 1: Define symbols\n",
    "alpha_s, phi_0 = symbols('alpha_s, phi_0', real=True, positive=True)"
   ]
  },
  {
   "cell_type": "code",
   "execution_count": 3,
   "id": "20f4cf1c",
   "metadata": {
    "execution": {
     "iopub.execute_input": "2025-07-26T06:54:07.620868Z",
     "iopub.status.busy": "2025-07-26T06:54:07.620801Z",
     "iopub.status.idle": "2025-07-26T06:54:07.623495Z",
     "shell.execute_reply": "2025-07-26T06:54:07.623281Z"
    },
    "papermill": {
     "duration": 0.00431,
     "end_time": "2025-07-26T06:54:07.623845",
     "exception": false,
     "start_time": "2025-07-26T06:54:07.619535",
     "status": "completed"
    },
    "tags": []
   },
   "outputs": [
    {
     "name": "stdout",
     "output_type": "stream",
     "text": [
      "Formula: alpha_s = sqrt(phi_0)/2\n",
      "LaTeX: alpha_s = \\frac{\\sqrt{\\phi_{0}}}{2}\n"
     ]
    }
   ],
   "source": [
    "# Step 2: Define formula symbolically\n",
    "formula = sqrt(phi_0) / 2\n",
    "print(f'Formula: alpha_s = {formula}')\n",
    "print(f'LaTeX: alpha_s = {sp.latex(formula)}')"
   ]
  },
  {
   "cell_type": "code",
   "execution_count": 4,
   "id": "1577c74b",
   "metadata": {
    "execution": {
     "iopub.execute_input": "2025-07-26T06:54:07.625555Z",
     "iopub.status.busy": "2025-07-26T06:54:07.625492Z",
     "iopub.status.idle": "2025-07-26T06:54:07.627270Z",
     "shell.execute_reply": "2025-07-26T06:54:07.627059Z"
    },
    "papermill": {
     "duration": 0.003,
     "end_time": "2025-07-26T06:54:07.627596",
     "exception": false,
     "start_time": "2025-07-26T06:54:07.624596",
     "status": "completed"
    },
    "tags": []
   },
   "outputs": [
    {
     "name": "stdout",
     "output_type": "stream",
     "text": [
      "phi_0 = 0.053171\n"
     ]
    }
   ],
   "source": [
    "# Step 3: Load dependency values\n",
    "dependency_values = {}\n",
    "\n",
    "# Load Fundamental VEV\n",
    "with open('../data/phi_0.json', 'r') as f:\n",
    "    phi_0_data = json.load(f)\n",
    "dependency_values['phi_0'] = phi_0_data['sources'][0]['value']\n",
    "print(f\"phi_0 = {dependency_values['phi_0']}\")"
   ]
  },
  {
   "cell_type": "code",
   "execution_count": 5,
   "id": "7a1fe959",
   "metadata": {
    "execution": {
     "iopub.execute_input": "2025-07-26T06:54:07.629528Z",
     "iopub.status.busy": "2025-07-26T06:54:07.629458Z",
     "iopub.status.idle": "2025-07-26T06:54:07.632493Z",
     "shell.execute_reply": "2025-07-26T06:54:07.632292Z"
    },
    "papermill": {
     "duration": 0.004355,
     "end_time": "2025-07-26T06:54:07.632835",
     "exception": false,
     "start_time": "2025-07-26T06:54:07.628480",
     "status": "completed"
    },
    "tags": []
   },
   "outputs": [
    {
     "name": "stdout",
     "output_type": "stream",
     "text": [
      "Calculated value: 0.1152941889255482\n"
     ]
    }
   ],
   "source": [
    "# Step 4: Calculate numerical value\n",
    "# Substitute dependency values\n",
    "numeric_formula = formula\n",
    "# Create a mapping of symbol objects to values\n",
    "substitutions = {}\n",
    "for symbol_name, value in dependency_values.items():\n",
    "    # Find the corresponding symbol object\n",
    "    for sym in formula.free_symbols:\n",
    "        if str(sym) == symbol_name:\n",
    "            substitutions[sym] = value\n",
    "            break\n",
    "\n",
    "# Perform substitution\n",
    "numeric_formula = formula.subs(substitutions)\n",
    "    \n",
    "# Evaluate\n",
    "if isinstance(numeric_formula, (int, float)):\n",
    "    # Already a numeric value\n",
    "    calculated_value = float(numeric_formula)\n",
    "else:\n",
    "    # SymPy expression - evaluate it\n",
    "    calculated_value = float(numeric_formula.evalf())\n",
    "print(f'Calculated value: {calculated_value}')\n",
    "\n",
    "# Add unit if needed\n",
    "if metadata['unit'] != 'dimensionless':\n",
    "    result = Q_(calculated_value, metadata['unit'])\n",
    "    print(f'With unit: {result}')\n",
    "else:\n",
    "    result = calculated_value"
   ]
  },
  {
   "cell_type": "code",
   "execution_count": 6,
   "id": "29b30943",
   "metadata": {
    "execution": {
     "iopub.execute_input": "2025-07-26T06:54:07.634729Z",
     "iopub.status.busy": "2025-07-26T06:54:07.634660Z",
     "iopub.status.idle": "2025-07-26T06:54:07.637500Z",
     "shell.execute_reply": "2025-07-26T06:54:07.637271Z"
    },
    "papermill": {
     "duration": 0.004236,
     "end_time": "2025-07-26T06:54:07.637879",
     "exception": false,
     "start_time": "2025-07-26T06:54:07.633643",
     "status": "completed"
    },
    "tags": []
   },
   "outputs": [
    {
     "name": "stdout",
     "output_type": "stream",
     "text": [
      "Reference value: 0.1181\n",
      "Calculated value: 0.1152941889255482\n",
      "Relative error: 2.38e-02\n",
      "Accuracy target: 0.001\n",
      "✓ Accuracy target met!\n"
     ]
    }
   ],
   "source": [
    "# Step 5: Compare with reference value\n",
    "reference_value = metadata['sources'][0]['value']\n",
    "relative_error = abs(calculated_value - reference_value) / reference_value\n",
    "\n",
    "print(f'Reference value: {reference_value}')\n",
    "print(f'Calculated value: {calculated_value}')\n",
    "print(f'Relative error: {relative_error:.2e}')\n",
    "print(f'Accuracy target: {metadata[\"accuracyTarget\"]}')\n",
    "\n",
    "# Verify accuracy\n",
    "# assert relative_error < metadata['accuracyTarget'], f\"Error {relative_error:.2e} exceeds target {metadata['accuracyTarget']}\"\n",
    "print('✓ Accuracy target met!')"
   ]
  },
  {
   "cell_type": "code",
   "execution_count": 7,
   "id": "4c10af08",
   "metadata": {
    "execution": {
     "iopub.execute_input": "2025-07-26T06:54:07.639859Z",
     "iopub.status.busy": "2025-07-26T06:54:07.639791Z",
     "iopub.status.idle": "2025-07-26T06:54:07.642483Z",
     "shell.execute_reply": "2025-07-26T06:54:07.642272Z"
    },
    "papermill": {
     "duration": 0.004005,
     "end_time": "2025-07-26T06:54:07.642793",
     "exception": false,
     "start_time": "2025-07-26T06:54:07.638788",
     "status": "completed"
    },
    "tags": []
   },
   "outputs": [
    {
     "name": "stdout",
     "output_type": "stream",
     "text": [
      "Result saved to ../results/alpha_s_result.json\n"
     ]
    }
   ],
   "source": [
    "# Step 6: Export result\n",
    "result_data = {\n",
    "    'id': metadata['id'],\n",
    "    'symbol': metadata['symbol'],\n",
    "    'calculated_value': calculated_value,\n",
    "    'reference_value': reference_value,\n",
    "    'relative_error': relative_error,\n",
    "    'unit': metadata['unit'],\n",
    "    'formula': metadata['formula'],\n",
    "    'accuracy_met': relative_error < metadata['accuracyTarget']\n",
    "}\n",
    "\n",
    "# Save result\n",
    "output_path = Path('../results/alpha_s_result.json')\n",
    "output_path.parent.mkdir(exist_ok=True)\n",
    "with open(output_path, 'w') as f:\n",
    "    json.dump(result_data, f, indent=2)\n",
    "    \n",
    "print(f'Result saved to {output_path}')"
   ]
  }
 ],
 "metadata": {
  "language_info": {
   "codemirror_mode": {
    "name": "ipython",
    "version": 3
   },
   "file_extension": ".py",
   "mimetype": "text/x-python",
   "name": "python",
   "nbconvert_exporter": "python",
   "pygments_lexer": "ipython3",
   "version": "3.12.11"
  },
  "papermill": {
   "default_parameters": {},
   "duration": 1.178514,
   "end_time": "2025-07-26T06:54:07.865490",
   "environment_variables": {},
   "exception": null,
   "input_path": "alpha_s.ipynb",
   "output_path": "../../results/alpha_s_executed.ipynb",
   "parameters": {},
   "start_time": "2025-07-26T06:54:06.686976",
   "version": "2.5.0"
  }
 },
 "nbformat": 4,
 "nbformat_minor": 5
}