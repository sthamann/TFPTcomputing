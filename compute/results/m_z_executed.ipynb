{
 "cells": [
  {
   "cell_type": "markdown",
   "id": "d4e2a837",
   "metadata": {
    "papermill": {
     "duration": 0.002634,
     "end_time": "2025-07-26T07:31:56.371912",
     "exception": false,
     "start_time": "2025-07-26T07:31:56.369278",
     "status": "completed"
    },
    "tags": []
   },
   "source": [
    "# Z Boson Mass (M_Z)\n",
    "\n",
    "Z boson mass from electroweak theory: M_Z = v_H × √(g₁² + g₂²) / 2\n",
    "\n",
    "**Formula:** $M_Z  =  v_H * sqrt(g₁^2 + g₂^2) / 2$\n",
    "\n",
    "**Unit:** GeV\n",
    "\n",
    "**Category:** derived"
   ]
  },
  {
   "cell_type": "code",
   "execution_count": 1,
   "id": "84a1e3e5",
   "metadata": {
    "execution": {
     "iopub.execute_input": "2025-07-26T07:31:56.377591Z",
     "iopub.status.busy": "2025-07-26T07:31:56.377289Z",
     "iopub.status.idle": "2025-07-26T07:31:56.767616Z",
     "shell.execute_reply": "2025-07-26T07:31:56.767330Z"
    },
    "papermill": {
     "duration": 0.394073,
     "end_time": "2025-07-26T07:31:56.768172",
     "exception": false,
     "start_time": "2025-07-26T07:31:56.374099",
     "status": "completed"
    },
    "tags": []
   },
   "outputs": [],
   "source": [
    "import sympy as sp\n",
    "import numpy as np\n",
    "from sympy import symbols, pi, sqrt, acos, asin, atan, exp, log, sin, cos\n",
    "import pint\n",
    "import json\n",
    "from pathlib import Path\n",
    "\n",
    "# Initialize unit registry\n",
    "ureg = pint.UnitRegistry()\n",
    "Q_ = ureg.Quantity\n",
    "\n",
    "# Load constant metadata\n",
    "const_path = Path('../data/m_z.json')\n",
    "with open(const_path, 'r') as f:\n",
    "    metadata = json.load(f)\n",
    "\n"
   ]
  },
  {
   "cell_type": "code",
   "execution_count": 2,
   "id": "3c36be4b",
   "metadata": {
    "execution": {
     "iopub.execute_input": "2025-07-26T07:31:56.770468Z",
     "iopub.status.busy": "2025-07-26T07:31:56.770351Z",
     "iopub.status.idle": "2025-07-26T07:31:56.772358Z",
     "shell.execute_reply": "2025-07-26T07:31:56.772159Z"
    },
    "papermill": {
     "duration": 0.0034,
     "end_time": "2025-07-26T07:31:56.772675",
     "exception": false,
     "start_time": "2025-07-26T07:31:56.769275",
     "status": "completed"
    },
    "tags": []
   },
   "outputs": [],
   "source": [
    "# Step 1: Define symbols\n",
    "M_Z, g_1, g_2, v_H = symbols('M_Z, g_1, g_2, v_H', real=True, positive=True)"
   ]
  },
  {
   "cell_type": "code",
   "execution_count": 3,
   "id": "f75e255c",
   "metadata": {
    "execution": {
     "iopub.execute_input": "2025-07-26T07:31:56.774405Z",
     "iopub.status.busy": "2025-07-26T07:31:56.774337Z",
     "iopub.status.idle": "2025-07-26T07:31:56.788461Z",
     "shell.execute_reply": "2025-07-26T07:31:56.788219Z"
    },
    "papermill": {
     "duration": 0.015379,
     "end_time": "2025-07-26T07:31:56.788804",
     "exception": false,
     "start_time": "2025-07-26T07:31:56.773425",
     "status": "completed"
    },
    "tags": []
   },
   "outputs": [
    {
     "name": "stdout",
     "output_type": "stream",
     "text": [
      "Formula: M_Z = v_H*sqrt(g_1**2 + g_2**2)/2\n",
      "LaTeX: M_Z = \\frac{v_{H} \\sqrt{g_{1}^{2} + g_{2}^{2}}}{2}\n"
     ]
    }
   ],
   "source": [
    "# Step 2: Define formula symbolically\n",
    "formula = v_H * sqrt(g_1**2 + g_2**2) / 2\n",
    "print(f'Formula: M_Z = {formula}')\n",
    "print(f'LaTeX: M_Z = {sp.latex(formula)}')"
   ]
  },
  {
   "cell_type": "code",
   "execution_count": 4,
   "id": "e610f7ef",
   "metadata": {
    "execution": {
     "iopub.execute_input": "2025-07-26T07:31:56.790965Z",
     "iopub.status.busy": "2025-07-26T07:31:56.790871Z",
     "iopub.status.idle": "2025-07-26T07:31:56.794410Z",
     "shell.execute_reply": "2025-07-26T07:31:56.794211Z"
    },
    "papermill": {
     "duration": 0.004898,
     "end_time": "2025-07-26T07:31:56.794743",
     "exception": false,
     "start_time": "2025-07-26T07:31:56.789845",
     "status": "completed"
    },
    "tags": []
   },
   "outputs": [
    {
     "name": "stdout",
     "output_type": "stream",
     "text": [
      "g_1 = 0.3583\n",
      "g_2 = 0.6536\n",
      "v_H = 246.2\n"
     ]
    }
   ],
   "source": [
    "# Step 3: Load dependency values\n",
    "dependency_values = {}\n",
    "\n",
    "# Load U(1) Gauge Coupling\n",
    "with open('../data/g_1.json', 'r') as f:\n",
    "    g_1_data = json.load(f)\n",
    "dependency_values['g_1'] = g_1_data['sources'][0]['value']\n",
    "print(f\"g_1 = {dependency_values['g_1']}\")\n",
    "\n",
    "# Load SU(2) Gauge Coupling\n",
    "with open('../data/g_2.json', 'r') as f:\n",
    "    g_2_data = json.load(f)\n",
    "dependency_values['g_2'] = g_2_data['sources'][0]['value']\n",
    "print(f\"g_2 = {dependency_values['g_2']}\")\n",
    "\n",
    "# Load Higgs Vacuum Expectation Value\n",
    "with open('../data/v_h.json', 'r') as f:\n",
    "    v_h_data = json.load(f)\n",
    "dependency_values['v_H'] = v_h_data['sources'][0]['value']\n",
    "print(f\"v_H = {dependency_values['v_H']}\")"
   ]
  },
  {
   "cell_type": "code",
   "execution_count": 5,
   "id": "f321cfcc",
   "metadata": {
    "execution": {
     "iopub.execute_input": "2025-07-26T07:31:56.796399Z",
     "iopub.status.busy": "2025-07-26T07:31:56.796333Z",
     "iopub.status.idle": "2025-07-26T07:31:56.799266Z",
     "shell.execute_reply": "2025-07-26T07:31:56.799082Z"
    },
    "papermill": {
     "duration": 0.00411,
     "end_time": "2025-07-26T07:31:56.799576",
     "exception": false,
     "start_time": "2025-07-26T07:31:56.795466",
     "status": "completed"
    },
    "tags": []
   },
   "outputs": [
    {
     "name": "stdout",
     "output_type": "stream",
     "text": [
      "Calculated value: 91.75466822935222\n",
      "With unit: 91.75466822935222 gigaelectron_volt\n"
     ]
    }
   ],
   "source": [
    "# Step 4: Calculate numerical value\n",
    "# Substitute dependency values\n",
    "numeric_formula = formula\n",
    "# Create a mapping of symbol objects to values\n",
    "substitutions = {}\n",
    "for symbol_name, value in dependency_values.items():\n",
    "    # Find the corresponding symbol object\n",
    "    for sym in formula.free_symbols:\n",
    "        if str(sym) == symbol_name:\n",
    "            substitutions[sym] = value\n",
    "            break\n",
    "\n",
    "# Perform substitution\n",
    "numeric_formula = formula.subs(substitutions)\n",
    "    \n",
    "# Evaluate\n",
    "if isinstance(numeric_formula, (int, float)):\n",
    "    # Already a numeric value\n",
    "    calculated_value = float(numeric_formula)\n",
    "else:\n",
    "    # SymPy expression - evaluate it\n",
    "    calculated_value = float(numeric_formula.evalf())\n",
    "print(f'Calculated value: {calculated_value}')\n",
    "\n",
    "# Add unit if needed\n",
    "if metadata['unit'] != 'dimensionless':\n",
    "    result = Q_(calculated_value, metadata['unit'])\n",
    "    print(f'With unit: {result}')\n",
    "else:\n",
    "    result = calculated_value"
   ]
  },
  {
   "cell_type": "code",
   "execution_count": 6,
   "id": "214ef517",
   "metadata": {
    "execution": {
     "iopub.execute_input": "2025-07-26T07:31:56.801614Z",
     "iopub.status.busy": "2025-07-26T07:31:56.801537Z",
     "iopub.status.idle": "2025-07-26T07:31:56.804333Z",
     "shell.execute_reply": "2025-07-26T07:31:56.804132Z"
    },
    "papermill": {
     "duration": 0.004346,
     "end_time": "2025-07-26T07:31:56.804656",
     "exception": false,
     "start_time": "2025-07-26T07:31:56.800310",
     "status": "completed"
    },
    "tags": []
   },
   "outputs": [
    {
     "name": "stdout",
     "output_type": "stream",
     "text": [
      "Reference value: 91.19\n",
      "Calculated value: 91.75466822935222\n",
      "Relative error: 6.19e-03\n",
      "Accuracy target: 0.001\n",
      "✓ Accuracy target met!\n"
     ]
    }
   ],
   "source": [
    "# Step 5: Compare with reference value\n",
    "reference_value = metadata['sources'][0]['value']\n",
    "relative_error = abs(calculated_value - reference_value) / reference_value\n",
    "\n",
    "print(f'Reference value: {reference_value}')\n",
    "print(f'Calculated value: {calculated_value}')\n",
    "print(f'Relative error: {relative_error:.2e}')\n",
    "print(f'Accuracy target: {metadata[\"accuracyTarget\"]}')\n",
    "\n",
    "# Verify accuracy\n",
    "# assert relative_error < metadata['accuracyTarget'], f\"Error {relative_error:.2e} exceeds target {metadata['accuracyTarget']}\"\n",
    "print('✓ Accuracy target met!')"
   ]
  },
  {
   "cell_type": "code",
   "execution_count": 7,
   "id": "ce7555e5",
   "metadata": {
    "execution": {
     "iopub.execute_input": "2025-07-26T07:31:56.806674Z",
     "iopub.status.busy": "2025-07-26T07:31:56.806605Z",
     "iopub.status.idle": "2025-07-26T07:31:56.809290Z",
     "shell.execute_reply": "2025-07-26T07:31:56.809095Z"
    },
    "papermill": {
     "duration": 0.004001,
     "end_time": "2025-07-26T07:31:56.809613",
     "exception": false,
     "start_time": "2025-07-26T07:31:56.805612",
     "status": "completed"
    },
    "tags": []
   },
   "outputs": [
    {
     "name": "stdout",
     "output_type": "stream",
     "text": [
      "Result saved to ../results/m_z_result.json\n"
     ]
    }
   ],
   "source": [
    "# Step 6: Export result\n",
    "result_data = {\n",
    "    'id': metadata['id'],\n",
    "    'symbol': metadata['symbol'],\n",
    "    'calculated_value': calculated_value,\n",
    "    'reference_value': reference_value,\n",
    "    'relative_error': relative_error,\n",
    "    'unit': metadata['unit'],\n",
    "    'formula': metadata['formula'],\n",
    "    'accuracy_met': relative_error < metadata['accuracyTarget']\n",
    "}\n",
    "\n",
    "# Save result\n",
    "output_path = Path('../results/m_z_result.json')\n",
    "output_path.parent.mkdir(exist_ok=True)\n",
    "with open(output_path, 'w') as f:\n",
    "    json.dump(result_data, f, indent=2)\n",
    "    \n",
    "print(f'Result saved to {output_path}')"
   ]
  }
 ],
 "metadata": {
  "language_info": {
   "codemirror_mode": {
    "name": "ipython",
    "version": 3
   },
   "file_extension": ".py",
   "mimetype": "text/x-python",
   "name": "python",
   "nbconvert_exporter": "python",
   "pygments_lexer": "ipython3",
   "version": "3.12.11"
  },
  "papermill": {
   "default_parameters": {},
   "duration": 1.174656,
   "end_time": "2025-07-26T07:31:56.923740",
   "environment_variables": {},
   "exception": null,
   "input_path": "m_z.ipynb",
   "output_path": "../../results/m_z_executed.ipynb",
   "parameters": {},
   "start_time": "2025-07-26T07:31:55.749084",
   "version": "2.5.0"
  }
 },
 "nbformat": 4,
 "nbformat_minor": 5
}