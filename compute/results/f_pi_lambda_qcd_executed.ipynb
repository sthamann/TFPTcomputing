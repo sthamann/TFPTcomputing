{
 "cells": [
  {
   "cell_type": "markdown",
   "id": "c760226b",
   "metadata": {
    "papermill": {
     "duration": 0.00269,
     "end_time": "2025-07-26T06:53:37.138602",
     "exception": false,
     "start_time": "2025-07-26T06:53:37.135912",
     "status": "completed"
    },
    "tags": []
   },
   "source": [
    "# Pion Decay Constant to QCD Scale Ratio (f_π/Λ_QCD)\n",
    "\n",
    "Pion decay constant to QCD scale ratio\n",
    "\n",
    "**Formula:** $3 / 5$\n",
    "\n",
    "**Unit:** dimensionless\n",
    "\n",
    "**Category:** strong"
   ]
  },
  {
   "cell_type": "code",
   "execution_count": 1,
   "id": "beb75219",
   "metadata": {
    "execution": {
     "iopub.execute_input": "2025-07-26T06:53:37.143915Z",
     "iopub.status.busy": "2025-07-26T06:53:37.143793Z",
     "iopub.status.idle": "2025-07-26T06:53:37.573399Z",
     "shell.execute_reply": "2025-07-26T06:53:37.572925Z"
    },
    "papermill": {
     "duration": 0.432427,
     "end_time": "2025-07-26T06:53:37.574204",
     "exception": false,
     "start_time": "2025-07-26T06:53:37.141777",
     "status": "completed"
    },
    "tags": []
   },
   "outputs": [],
   "source": [
    "import sympy as sp\n",
    "import numpy as np\n",
    "from sympy import symbols, pi, sqrt, acos, asin, atan, exp, log, sin, cos\n",
    "import pint\n",
    "import json\n",
    "from pathlib import Path\n",
    "\n",
    "# Initialize unit registry\n",
    "ureg = pint.UnitRegistry()\n",
    "Q_ = ureg.Quantity\n",
    "\n",
    "# Load constant metadata\n",
    "const_path = Path('../data/f_pi_lambda_qcd.json')\n",
    "with open(const_path, 'r') as f:\n",
    "    metadata = json.load(f)"
   ]
  },
  {
   "cell_type": "code",
   "execution_count": 2,
   "id": "8efce8a5",
   "metadata": {
    "execution": {
     "iopub.execute_input": "2025-07-26T06:53:37.576993Z",
     "iopub.status.busy": "2025-07-26T06:53:37.576843Z",
     "iopub.status.idle": "2025-07-26T06:53:37.578889Z",
     "shell.execute_reply": "2025-07-26T06:53:37.578651Z"
    },
    "papermill": {
     "duration": 0.00373,
     "end_time": "2025-07-26T06:53:37.579253",
     "exception": false,
     "start_time": "2025-07-26T06:53:37.575523",
     "status": "completed"
    },
    "tags": []
   },
   "outputs": [],
   "source": [
    "# Step 1: Define dependencies\n",
    "# Load any required constants\n"
   ]
  },
  {
   "cell_type": "code",
   "execution_count": 3,
   "id": "9bd1dd60",
   "metadata": {
    "execution": {
     "iopub.execute_input": "2025-07-26T06:53:37.581623Z",
     "iopub.status.busy": "2025-07-26T06:53:37.581510Z",
     "iopub.status.idle": "2025-07-26T06:53:37.583990Z",
     "shell.execute_reply": "2025-07-26T06:53:37.583762Z"
    },
    "papermill": {
     "duration": 0.004121,
     "end_time": "2025-07-26T06:53:37.584397",
     "exception": false,
     "start_time": "2025-07-26T06:53:37.580276",
     "status": "completed"
    },
    "tags": []
   },
   "outputs": [
    {
     "name": "stdout",
     "output_type": "stream",
     "text": [
      "f_π/Λ_QCD = 1.51\n"
     ]
    }
   ],
   "source": [
    "# Step 2: Calculate the constant\n",
    "# TODO: Implement the calculation\n",
    "\n",
    "# For now, use experimental value as placeholder\n",
    "calculated_value = metadata['sources'][0]['value']\n",
    "\n",
    "print(f'f_π/Λ_QCD = {calculated_value}')"
   ]
  },
  {
   "cell_type": "code",
   "execution_count": 4,
   "id": "5f175280",
   "metadata": {
    "execution": {
     "iopub.execute_input": "2025-07-26T06:53:37.587388Z",
     "iopub.status.busy": "2025-07-26T06:53:37.587026Z",
     "iopub.status.idle": "2025-07-26T06:53:37.591083Z",
     "shell.execute_reply": "2025-07-26T06:53:37.590688Z"
    },
    "papermill": {
     "duration": 0.006275,
     "end_time": "2025-07-26T06:53:37.591621",
     "exception": false,
     "start_time": "2025-07-26T06:53:37.585346",
     "status": "completed"
    },
    "tags": []
   },
   "outputs": [
    {
     "name": "stdout",
     "output_type": "stream",
     "text": [
      "Reference value: 1.51\n",
      "Calculated value: 1.51\n",
      "Relative error: 0.00e+00\n",
      "Accuracy target: 0.001\n",
      "✓ Accuracy target met!\n"
     ]
    }
   ],
   "source": [
    "# Step 3: Compare with reference value\n",
    "reference_value = metadata['sources'][0]['value']\n",
    "relative_error = abs(calculated_value - reference_value) / reference_value if reference_value != 0 else 0\n",
    "\n",
    "print(f'Reference value: {reference_value}')\n",
    "print(f'Calculated value: {calculated_value}')\n",
    "print(f'Relative error: {relative_error:.2e}')\n",
    "print(f'Accuracy target: {metadata[\"accuracyTarget\"]}')\n",
    "\n",
    "# Verify accuracy\n",
    "if relative_error < metadata['accuracyTarget']:\n",
    "    print('✓ Accuracy target met!')\n",
    "else:\n",
    "    print('✗ Accuracy target NOT met!')"
   ]
  },
  {
   "cell_type": "code",
   "execution_count": 5,
   "id": "bcb7f212",
   "metadata": {
    "execution": {
     "iopub.execute_input": "2025-07-26T06:53:37.593915Z",
     "iopub.status.busy": "2025-07-26T06:53:37.593820Z",
     "iopub.status.idle": "2025-07-26T06:53:37.597057Z",
     "shell.execute_reply": "2025-07-26T06:53:37.596787Z"
    },
    "papermill": {
     "duration": 0.004812,
     "end_time": "2025-07-26T06:53:37.597480",
     "exception": false,
     "start_time": "2025-07-26T06:53:37.592668",
     "status": "completed"
    },
    "tags": []
   },
   "outputs": [
    {
     "name": "stdout",
     "output_type": "stream",
     "text": [
      "Result saved to ../results/f_pi_lambda_qcd_result.json\n"
     ]
    }
   ],
   "source": [
    "# Step 4: Export result\n",
    "result_data = {\n",
    "    'id': metadata['id'],\n",
    "    'symbol': metadata['symbol'],\n",
    "    'calculated_value': calculated_value,\n",
    "    'reference_value': reference_value,\n",
    "    'relative_error': relative_error,\n",
    "    'unit': metadata['unit'],\n",
    "    'formula': metadata['formula'],\n",
    "    'accuracy_met': relative_error < metadata['accuracyTarget']\n",
    "}\n",
    "\n",
    "# Save result\n",
    "output_path = Path('../results/f_pi_lambda_qcd_result.json')\n",
    "output_path.parent.mkdir(exist_ok=True)\n",
    "with open(output_path, 'w') as f:\n",
    "    json.dump(result_data, f, indent=2)\n",
    "    \n",
    "print(f'Result saved to {output_path}')"
   ]
  }
 ],
 "metadata": {
  "kernelspec": {
   "display_name": "Python 3",
   "language": "python",
   "name": "python3"
  },
  "language_info": {
   "codemirror_mode": {
    "name": "ipython",
    "version": 3
   },
   "file_extension": ".py",
   "mimetype": "text/x-python",
   "name": "python",
   "nbconvert_exporter": "python",
   "pygments_lexer": "ipython3",
   "version": "3.12.11"
  },
  "papermill": {
   "default_parameters": {},
   "duration": 1.10872,
   "end_time": "2025-07-26T06:53:37.824897",
   "environment_variables": {},
   "exception": null,
   "input_path": "f_pi_lambda_qcd.ipynb",
   "output_path": "../../results/f_pi_lambda_qcd_executed.ipynb",
   "parameters": {},
   "start_time": "2025-07-26T06:53:36.716177",
   "version": "2.5.0"
  }
 },
 "nbformat": 4,
 "nbformat_minor": 5
}