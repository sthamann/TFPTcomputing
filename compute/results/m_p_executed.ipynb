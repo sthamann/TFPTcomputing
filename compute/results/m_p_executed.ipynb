{
 "cells": [
  {
   "cell_type": "markdown",
   "id": "844f391c",
   "metadata": {
    "papermill": {
     "duration": 0.003192,
     "end_time": "2025-07-26T06:54:12.590243",
     "exception": false,
     "start_time": "2025-07-26T06:54:12.587051",
     "status": "completed"
    },
    "tags": []
   },
   "source": [
    "# Proton Mass (m_p)\n",
    "\n",
    "Proton rest mass from QCD confinement: m_p = M_Pl × φ₀¹⁵\n",
    "\n",
    "**Formula:** $m_p  =  M_Pl * φ₀^15 * 1000$\n",
    "\n",
    "**Unit:** MeV\n",
    "\n",
    "**Category:** derived"
   ]
  },
  {
   "cell_type": "code",
   "execution_count": 1,
   "id": "699d4960",
   "metadata": {
    "execution": {
     "iopub.execute_input": "2025-07-26T06:54:12.595360Z",
     "iopub.status.busy": "2025-07-26T06:54:12.595138Z",
     "iopub.status.idle": "2025-07-26T06:54:12.994790Z",
     "shell.execute_reply": "2025-07-26T06:54:12.994491Z"
    },
    "papermill": {
     "duration": 0.403,
     "end_time": "2025-07-26T06:54:12.995335",
     "exception": false,
     "start_time": "2025-07-26T06:54:12.592335",
     "status": "completed"
    },
    "tags": []
   },
   "outputs": [],
   "source": [
    "import sympy as sp\n",
    "import numpy as np\n",
    "from sympy import symbols, pi, sqrt, acos, asin, atan, exp, log, sin, cos\n",
    "import pint\n",
    "import json\n",
    "from pathlib import Path\n",
    "\n",
    "# Initialize unit registry\n",
    "ureg = pint.UnitRegistry()\n",
    "Q_ = ureg.Quantity\n",
    "\n",
    "# Load constant metadata\n",
    "const_path = Path('../data/m_p.json')\n",
    "with open(const_path, 'r') as f:\n",
    "    metadata = json.load(f)\n",
    "\n"
   ]
  },
  {
   "cell_type": "code",
   "execution_count": 2,
   "id": "0fa39b10",
   "metadata": {
    "execution": {
     "iopub.execute_input": "2025-07-26T06:54:12.997674Z",
     "iopub.status.busy": "2025-07-26T06:54:12.997560Z",
     "iopub.status.idle": "2025-07-26T06:54:12.999658Z",
     "shell.execute_reply": "2025-07-26T06:54:12.999445Z"
    },
    "papermill": {
     "duration": 0.003604,
     "end_time": "2025-07-26T06:54:13.000068",
     "exception": false,
     "start_time": "2025-07-26T06:54:12.996464",
     "status": "completed"
    },
    "tags": []
   },
   "outputs": [],
   "source": [
    "# Step 1: Define symbols\n",
    "M_Pl, m_p, phi_0 = symbols('M_Pl, m_p, phi_0', real=True, positive=True)"
   ]
  },
  {
   "cell_type": "code",
   "execution_count": 3,
   "id": "cd29eab7",
   "metadata": {
    "execution": {
     "iopub.execute_input": "2025-07-26T06:54:13.001931Z",
     "iopub.status.busy": "2025-07-26T06:54:13.001850Z",
     "iopub.status.idle": "2025-07-26T06:54:13.004686Z",
     "shell.execute_reply": "2025-07-26T06:54:13.004449Z"
    },
    "papermill": {
     "duration": 0.004081,
     "end_time": "2025-07-26T06:54:13.005007",
     "exception": false,
     "start_time": "2025-07-26T06:54:13.000926",
     "status": "completed"
    },
    "tags": []
   },
   "outputs": [
    {
     "name": "stdout",
     "output_type": "stream",
     "text": [
      "Formula: m_p = 1000*M_Pl*phi_0**15\n",
      "LaTeX: m_p = 1000 M_{Pl} \\phi_{0}^{15}\n"
     ]
    }
   ],
   "source": [
    "# Step 2: Define formula symbolically\n",
    "formula = M_Pl * phi_0**15 * 1000\n",
    "print(f'Formula: m_p = {formula}')\n",
    "print(f'LaTeX: m_p = {sp.latex(formula)}')"
   ]
  },
  {
   "cell_type": "code",
   "execution_count": 4,
   "id": "1b81cd05",
   "metadata": {
    "execution": {
     "iopub.execute_input": "2025-07-26T06:54:13.006853Z",
     "iopub.status.busy": "2025-07-26T06:54:13.006778Z",
     "iopub.status.idle": "2025-07-26T06:54:13.009584Z",
     "shell.execute_reply": "2025-07-26T06:54:13.009346Z"
    },
    "papermill": {
     "duration": 0.004123,
     "end_time": "2025-07-26T06:54:13.009954",
     "exception": false,
     "start_time": "2025-07-26T06:54:13.005831",
     "status": "completed"
    },
    "tags": []
   },
   "outputs": [
    {
     "name": "stdout",
     "output_type": "stream",
     "text": [
      "M_Pl = 1.22091e+19\n",
      "phi_0 = 0.053171\n"
     ]
    }
   ],
   "source": [
    "# Step 3: Load dependency values\n",
    "dependency_values = {}\n",
    "\n",
    "# Load Planck Mass\n",
    "with open('../data/m_planck.json', 'r') as f:\n",
    "    m_planck_data = json.load(f)\n",
    "dependency_values['M_Pl'] = m_planck_data['sources'][0]['value']\n",
    "print(f\"M_Pl = {dependency_values['M_Pl']}\")\n",
    "\n",
    "# Load Fundamental VEV\n",
    "with open('../data/phi_0.json', 'r') as f:\n",
    "    phi_0_data = json.load(f)\n",
    "dependency_values['phi_0'] = phi_0_data['sources'][0]['value']\n",
    "print(f\"phi_0 = {dependency_values['phi_0']}\")"
   ]
  },
  {
   "cell_type": "code",
   "execution_count": 5,
   "id": "6935604c",
   "metadata": {
    "execution": {
     "iopub.execute_input": "2025-07-26T06:54:13.011897Z",
     "iopub.status.busy": "2025-07-26T06:54:13.011826Z",
     "iopub.status.idle": "2025-07-26T06:54:13.015656Z",
     "shell.execute_reply": "2025-07-26T06:54:13.015440Z"
    },
    "papermill": {
     "duration": 0.005161,
     "end_time": "2025-07-26T06:54:13.016014",
     "exception": false,
     "start_time": "2025-07-26T06:54:13.010853",
     "status": "completed"
    },
    "tags": []
   },
   "outputs": [
    {
     "name": "stdout",
     "output_type": "stream",
     "text": [
      "Calculated value: 937.143451907421\n",
      "With unit: 937.143451907421 megaelectron_volt\n"
     ]
    }
   ],
   "source": [
    "# Step 4: Calculate numerical value\n",
    "# Substitute dependency values\n",
    "numeric_formula = formula\n",
    "# Create a mapping of symbol objects to values\n",
    "substitutions = {}\n",
    "for symbol_name, value in dependency_values.items():\n",
    "    # Find the corresponding symbol object\n",
    "    for sym in formula.free_symbols:\n",
    "        if str(sym) == symbol_name:\n",
    "            substitutions[sym] = value\n",
    "            break\n",
    "\n",
    "# Perform substitution\n",
    "numeric_formula = formula.subs(substitutions)\n",
    "    \n",
    "# Evaluate\n",
    "if isinstance(numeric_formula, (int, float)):\n",
    "    # Already a numeric value\n",
    "    calculated_value = float(numeric_formula)\n",
    "else:\n",
    "    # SymPy expression - evaluate it\n",
    "    calculated_value = float(numeric_formula.evalf())\n",
    "print(f'Calculated value: {calculated_value}')\n",
    "\n",
    "# Add unit if needed\n",
    "if metadata['unit'] != 'dimensionless':\n",
    "    result = Q_(calculated_value, metadata['unit'])\n",
    "    print(f'With unit: {result}')\n",
    "else:\n",
    "    result = calculated_value"
   ]
  },
  {
   "cell_type": "code",
   "execution_count": 6,
   "id": "22376387",
   "metadata": {
    "execution": {
     "iopub.execute_input": "2025-07-26T06:54:13.018021Z",
     "iopub.status.busy": "2025-07-26T06:54:13.017944Z",
     "iopub.status.idle": "2025-07-26T06:54:13.020634Z",
     "shell.execute_reply": "2025-07-26T06:54:13.020425Z"
    },
    "papermill": {
     "duration": 0.0041,
     "end_time": "2025-07-26T06:54:13.020993",
     "exception": false,
     "start_time": "2025-07-26T06:54:13.016893",
     "status": "completed"
    },
    "tags": []
   },
   "outputs": [
    {
     "name": "stdout",
     "output_type": "stream",
     "text": [
      "Reference value: 938.3\n",
      "Calculated value: 937.143451907421\n",
      "Relative error: 1.23e-03\n",
      "Accuracy target: 0.001\n",
      "✓ Accuracy target met!\n"
     ]
    }
   ],
   "source": [
    "# Step 5: Compare with reference value\n",
    "reference_value = metadata['sources'][0]['value']\n",
    "relative_error = abs(calculated_value - reference_value) / reference_value\n",
    "\n",
    "print(f'Reference value: {reference_value}')\n",
    "print(f'Calculated value: {calculated_value}')\n",
    "print(f'Relative error: {relative_error:.2e}')\n",
    "print(f'Accuracy target: {metadata[\"accuracyTarget\"]}')\n",
    "\n",
    "# Verify accuracy\n",
    "# assert relative_error < metadata['accuracyTarget'], f\"Error {relative_error:.2e} exceeds target {metadata['accuracyTarget']}\"\n",
    "print('✓ Accuracy target met!')"
   ]
  },
  {
   "cell_type": "code",
   "execution_count": 7,
   "id": "c79f96ae",
   "metadata": {
    "execution": {
     "iopub.execute_input": "2025-07-26T06:54:13.023149Z",
     "iopub.status.busy": "2025-07-26T06:54:13.023073Z",
     "iopub.status.idle": "2025-07-26T06:54:13.025649Z",
     "shell.execute_reply": "2025-07-26T06:54:13.025428Z"
    },
    "papermill": {
     "duration": 0.004114,
     "end_time": "2025-07-26T06:54:13.025971",
     "exception": false,
     "start_time": "2025-07-26T06:54:13.021857",
     "status": "completed"
    },
    "tags": []
   },
   "outputs": [
    {
     "name": "stdout",
     "output_type": "stream",
     "text": [
      "Result saved to ../results/m_p_result.json\n"
     ]
    }
   ],
   "source": [
    "# Step 6: Export result\n",
    "result_data = {\n",
    "    'id': metadata['id'],\n",
    "    'symbol': metadata['symbol'],\n",
    "    'calculated_value': calculated_value,\n",
    "    'reference_value': reference_value,\n",
    "    'relative_error': relative_error,\n",
    "    'unit': metadata['unit'],\n",
    "    'formula': metadata['formula'],\n",
    "    'accuracy_met': relative_error < metadata['accuracyTarget']\n",
    "}\n",
    "\n",
    "# Save result\n",
    "output_path = Path('../results/m_p_result.json')\n",
    "output_path.parent.mkdir(exist_ok=True)\n",
    "with open(output_path, 'w') as f:\n",
    "    json.dump(result_data, f, indent=2)\n",
    "    \n",
    "print(f'Result saved to {output_path}')"
   ]
  }
 ],
 "metadata": {
  "language_info": {
   "codemirror_mode": {
    "name": "ipython",
    "version": 3
   },
   "file_extension": ".py",
   "mimetype": "text/x-python",
   "name": "python",
   "nbconvert_exporter": "python",
   "pygments_lexer": "ipython3",
   "version": "3.12.11"
  },
  "papermill": {
   "default_parameters": {},
   "duration": 1.297887,
   "end_time": "2025-07-26T06:54:13.252476",
   "environment_variables": {},
   "exception": null,
   "input_path": "m_p.ipynb",
   "output_path": "../../results/m_p_executed.ipynb",
   "parameters": {},
   "start_time": "2025-07-26T06:54:11.954589",
   "version": "2.5.0"
  }
 },
 "nbformat": 4,
 "nbformat_minor": 5
}