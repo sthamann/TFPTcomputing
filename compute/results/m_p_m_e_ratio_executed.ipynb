{
 "cells": [
  {
   "cell_type": "markdown",
   "id": "f2dbe293",
   "metadata": {
    "papermill": {
     "duration": 0.002052,
     "end_time": "2025-07-25T14:53:45.910726",
     "exception": false,
     "start_time": "2025-07-25T14:53:45.908674",
     "status": "completed"
    },
    "tags": []
   },
   "source": [
    "# Proton/Electron Mass Ratio (m_p/m_e)\n",
    "\n",
    "Direct mass ratio: m_p/m_e\n",
    "\n",
    "**Formula:** $m_p/m_e  =  m_p / m_e$\n",
    "\n",
    "**Unit:** dimensionless\n",
    "\n",
    "**Category:** derived"
   ]
  },
  {
   "cell_type": "code",
   "execution_count": 1,
   "id": "d66eb2ba",
   "metadata": {
    "execution": {
     "iopub.execute_input": "2025-07-25T14:53:45.915487Z",
     "iopub.status.busy": "2025-07-25T14:53:45.915208Z",
     "iopub.status.idle": "2025-07-25T14:53:46.129996Z",
     "shell.execute_reply": "2025-07-25T14:53:46.129672Z"
    },
    "papermill": {
     "duration": 0.218199,
     "end_time": "2025-07-25T14:53:46.130824",
     "exception": false,
     "start_time": "2025-07-25T14:53:45.912625",
     "status": "completed"
    },
    "tags": []
   },
   "outputs": [],
   "source": [
    "import sympy as sp\n",
    "import numpy as np\n",
    "from sympy import symbols, pi, sqrt, acos, asin, atan, exp, log, sin, cos\n",
    "import pint\n",
    "import json\n",
    "from pathlib import Path\n",
    "\n",
    "# Initialize unit registry\n",
    "ureg = pint.UnitRegistry()\n",
    "Q_ = ureg.Quantity\n",
    "\n",
    "# Load constant metadata\n",
    "const_path = Path('../constants/data/m_p_m_e_ratio.json')\n",
    "with open(const_path, 'r') as f:\n",
    "    metadata = json.load(f)\n"
   ]
  },
  {
   "cell_type": "code",
   "execution_count": 2,
   "id": "9bf7db9a",
   "metadata": {
    "execution": {
     "iopub.execute_input": "2025-07-25T14:53:46.132578Z",
     "iopub.status.busy": "2025-07-25T14:53:46.132456Z",
     "iopub.status.idle": "2025-07-25T14:53:46.134102Z",
     "shell.execute_reply": "2025-07-25T14:53:46.133841Z"
    },
    "papermill": {
     "duration": 0.003059,
     "end_time": "2025-07-25T14:53:46.134641",
     "exception": false,
     "start_time": "2025-07-25T14:53:46.131582",
     "status": "completed"
    },
    "tags": []
   },
   "outputs": [],
   "source": [
    "# Step 1: Define symbols\n",
    "m_e, m_p = symbols('m_e, m_p', real=True, positive=True)"
   ]
  },
  {
   "cell_type": "code",
   "execution_count": 3,
   "id": "089faf87",
   "metadata": {
    "execution": {
     "iopub.execute_input": "2025-07-25T14:53:46.136162Z",
     "iopub.status.busy": "2025-07-25T14:53:46.136068Z",
     "iopub.status.idle": "2025-07-25T14:53:46.138131Z",
     "shell.execute_reply": "2025-07-25T14:53:46.137914Z"
    },
    "papermill": {
     "duration": 0.003365,
     "end_time": "2025-07-25T14:53:46.138680",
     "exception": false,
     "start_time": "2025-07-25T14:53:46.135315",
     "status": "completed"
    },
    "tags": []
   },
   "outputs": [
    {
     "name": "stdout",
     "output_type": "stream",
     "text": [
      "Formula: m_p_m_e_ratio = m_p/m_e\n",
      "LaTeX: m_p_m_e_ratio = \\frac{m_{p}}{m_{e}}\n"
     ]
    }
   ],
   "source": [
    "# Step 2: Define formula symbolically\n",
    "formula = m_p / m_e\n",
    "print(f'Formula: m_p_m_e_ratio = {formula}')\n",
    "print(f'LaTeX: m_p_m_e_ratio = {sp.latex(formula)}')"
   ]
  },
  {
   "cell_type": "code",
   "execution_count": 4,
   "id": "87a6e777",
   "metadata": {
    "execution": {
     "iopub.execute_input": "2025-07-25T14:53:46.140167Z",
     "iopub.status.busy": "2025-07-25T14:53:46.140088Z",
     "iopub.status.idle": "2025-07-25T14:53:46.142204Z",
     "shell.execute_reply": "2025-07-25T14:53:46.142003Z"
    },
    "papermill": {
     "duration": 0.00343,
     "end_time": "2025-07-25T14:53:46.142743",
     "exception": false,
     "start_time": "2025-07-25T14:53:46.139313",
     "status": "completed"
    },
    "tags": []
   },
   "outputs": [
    {
     "name": "stdout",
     "output_type": "stream",
     "text": [
      "m_p = 938.27208816\n",
      "m_e = 0.51099895069\n"
     ]
    }
   ],
   "source": [
    "# Step 3: Load dependency values\n",
    "dependency_values = {}\n",
    "\n",
    "# Load Proton Mass\n",
    "with open('../constants/data/m_p.json', 'r') as f:\n",
    "    m_p_data = json.load(f)\n",
    "dependency_values['m_p'] = m_p_data['sources'][0]['value']\n",
    "print(f\"m_p = {dependency_values['m_p']}\")\n",
    "\n",
    "# Load Electron Mass\n",
    "with open('../constants/data/m_e.json', 'r') as f:\n",
    "    m_e_data = json.load(f)\n",
    "dependency_values['m_e'] = m_e_data['sources'][0]['value']\n",
    "print(f\"m_e = {dependency_values['m_e']}\")"
   ]
  },
  {
   "cell_type": "code",
   "execution_count": 5,
   "id": "a2779c65",
   "metadata": {
    "execution": {
     "iopub.execute_input": "2025-07-25T14:53:46.144259Z",
     "iopub.status.busy": "2025-07-25T14:53:46.144179Z",
     "iopub.status.idle": "2025-07-25T14:53:46.146678Z",
     "shell.execute_reply": "2025-07-25T14:53:46.146459Z"
    },
    "papermill": {
     "duration": 0.003891,
     "end_time": "2025-07-25T14:53:46.147274",
     "exception": false,
     "start_time": "2025-07-25T14:53:46.143383",
     "status": "completed"
    },
    "tags": []
   },
   "outputs": [
    {
     "name": "stdout",
     "output_type": "stream",
     "text": [
      "Calculated value: 1836.1526709459083\n"
     ]
    }
   ],
   "source": [
    "# Step 4: Calculate numerical value\n",
    "# Substitute dependency values\n",
    "numeric_formula = formula\n",
    "# Create a mapping of symbol objects to values\n",
    "substitutions = {}\n",
    "for symbol_name, value in dependency_values.items():\n",
    "    # Find the corresponding symbol object\n",
    "    for sym in formula.free_symbols:\n",
    "        if str(sym) == symbol_name:\n",
    "            substitutions[sym] = value\n",
    "            break\n",
    "\n",
    "# Perform substitution\n",
    "numeric_formula = formula.subs(substitutions)\n",
    "    \n",
    "# Evaluate\n",
    "if isinstance(numeric_formula, (int, float)):\n",
    "    # Already a numeric value\n",
    "    calculated_value = float(numeric_formula)\n",
    "else:\n",
    "    # SymPy expression - evaluate it\n",
    "    calculated_value = float(numeric_formula.evalf())\n",
    "print(f'Calculated value: {calculated_value}')\n",
    "\n",
    "# Add unit if needed\n",
    "if metadata['unit'] != 'dimensionless':\n",
    "    result = Q_(calculated_value, metadata['unit'])\n",
    "    print(f'With unit: {result}')\n",
    "else:\n",
    "    result = calculated_value"
   ]
  },
  {
   "cell_type": "code",
   "execution_count": 6,
   "id": "a4b9701b",
   "metadata": {
    "execution": {
     "iopub.execute_input": "2025-07-25T14:53:46.148880Z",
     "iopub.status.busy": "2025-07-25T14:53:46.148794Z",
     "iopub.status.idle": "2025-07-25T14:53:46.150689Z",
     "shell.execute_reply": "2025-07-25T14:53:46.150459Z"
    },
    "papermill": {
     "duration": 0.003253,
     "end_time": "2025-07-25T14:53:46.151215",
     "exception": false,
     "start_time": "2025-07-25T14:53:46.147962",
     "status": "completed"
    },
    "tags": []
   },
   "outputs": [
    {
     "name": "stdout",
     "output_type": "stream",
     "text": [
      "Reference value: 1836.15267343\n",
      "Calculated value: 1836.1526709459083\n",
      "Relative error: 1.35e-09\n",
      "Accuracy target: 0.001\n",
      "✓ Accuracy target met!\n"
     ]
    }
   ],
   "source": [
    "# Step 5: Compare with reference value\n",
    "reference_value = metadata['sources'][0]['value']\n",
    "relative_error = abs(calculated_value - reference_value) / reference_value\n",
    "\n",
    "print(f'Reference value: {reference_value}')\n",
    "print(f'Calculated value: {calculated_value}')\n",
    "print(f'Relative error: {relative_error:.2e}')\n",
    "print(f'Accuracy target: {metadata[\"accuracyTarget\"]}')\n",
    "\n",
    "# Verify accuracy\n",
    "assert relative_error < metadata['accuracyTarget'], f\"Error {relative_error:.2e} exceeds target {metadata['accuracyTarget']}\"\n",
    "print('✓ Accuracy target met!')"
   ]
  },
  {
   "cell_type": "code",
   "execution_count": 7,
   "id": "65a57e1a",
   "metadata": {
    "execution": {
     "iopub.execute_input": "2025-07-25T14:53:46.152812Z",
     "iopub.status.busy": "2025-07-25T14:53:46.152729Z",
     "iopub.status.idle": "2025-07-25T14:53:46.154876Z",
     "shell.execute_reply": "2025-07-25T14:53:46.154681Z"
    },
    "papermill": {
     "duration": 0.003474,
     "end_time": "2025-07-25T14:53:46.155385",
     "exception": false,
     "start_time": "2025-07-25T14:53:46.151911",
     "status": "completed"
    },
    "tags": []
   },
   "outputs": [
    {
     "name": "stdout",
     "output_type": "stream",
     "text": [
      "Result saved to ../constants/results/m_p_m_e_ratio_result.json\n"
     ]
    }
   ],
   "source": [
    "# Step 6: Export result\n",
    "result_data = {\n",
    "    'id': metadata['id'],\n",
    "    'symbol': metadata['symbol'],\n",
    "    'calculated_value': calculated_value,\n",
    "    'reference_value': reference_value,\n",
    "    'relative_error': relative_error,\n",
    "    'unit': metadata['unit'],\n",
    "    'formula': metadata['formula'],\n",
    "    'accuracy_met': relative_error < metadata['accuracyTarget']\n",
    "}\n",
    "\n",
    "# Save result\n",
    "output_path = Path('../constants/results/m_p_m_e_ratio_result.json')\n",
    "output_path.parent.mkdir(exist_ok=True)\n",
    "with open(output_path, 'w') as f:\n",
    "    json.dump(result_data, f, indent=2)\n",
    "    \n",
    "print(f'Result saved to {output_path}')"
   ]
  }
 ],
 "metadata": {
  "language_info": {
   "codemirror_mode": {
    "name": "ipython",
    "version": 3
   },
   "file_extension": ".py",
   "mimetype": "text/x-python",
   "name": "python",
   "nbconvert_exporter": "python",
   "pygments_lexer": "ipython3",
   "version": "3.13.5"
  },
  "papermill": {
   "default_parameters": {},
   "duration": 1.12216,
   "end_time": "2025-07-25T14:53:46.369891",
   "environment_variables": {},
   "exception": null,
   "input_path": "../constants/notebooks/m_p_m_e_ratio.ipynb",
   "output_path": "results/m_p_m_e_ratio_executed.ipynb",
   "parameters": {},
   "start_time": "2025-07-25T14:53:45.247731",
   "version": "2.5.0"
  }
 },
 "nbformat": 4,
 "nbformat_minor": 5
}