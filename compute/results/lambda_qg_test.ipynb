{
 "cells": [],
 "metadata": {
  "language_info": {
   "name": "python"
  },
  "papermill": {
   "default_parameters": {},
   "duration": 0.019753,
   "end_time": "2025-07-25T18:17:23.809760",
   "environment_variables": {},
   "exception": null,
   "input_path": "constants/notebooks/lambda_qg.ipynb",
   "output_path": "compute/results/lambda_qg_test.ipynb",
   "parameters": {},
   "start_time": "2025-07-25T18:17:23.790007",
   "version": "2.6.0"
  }
 },
 "nbformat": 4,
 "nbformat_minor": 5
}