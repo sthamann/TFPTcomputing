{
 "cells": [
  {
   "cell_type": "markdown",
   "id": "1f75fa15",
   "metadata": {
    "papermill": {
     "duration": 0.003889,
     "end_time": "2025-07-26T06:53:53.138354",
     "exception": false,
     "start_time": "2025-07-26T06:53:53.134465",
     "status": "completed"
    },
    "tags": []
   },
   "source": [
    "# Fermi Constant (G_F)\n",
    "\n",
    "Fermi constant from weak coupling: G_F = 1 / (√2 × v_H²)\n",
    "\n",
    "**Formula:** $G_F  =  1 / (sqrt(2) * v_H^2)$\n",
    "\n",
    "**Unit:** GeV^-2\n",
    "\n",
    "**Category:** derived"
   ]
  },
  {
   "cell_type": "code",
   "execution_count": 1,
   "id": "03ea5da0",
   "metadata": {
    "execution": {
     "iopub.execute_input": "2025-07-26T06:53:53.142861Z",
     "iopub.status.busy": "2025-07-26T06:53:53.142746Z",
     "iopub.status.idle": "2025-07-26T06:53:53.572895Z",
     "shell.execute_reply": "2025-07-26T06:53:53.572471Z"
    },
    "papermill": {
     "duration": 0.433298,
     "end_time": "2025-07-26T06:53:53.573614",
     "exception": false,
     "start_time": "2025-07-26T06:53:53.140316",
     "status": "completed"
    },
    "tags": []
   },
   "outputs": [],
   "source": [
    "import sympy as sp\n",
    "import numpy as np\n",
    "from sympy import symbols, pi, sqrt, acos, asin, atan, exp, log, sin, cos\n",
    "import pint\n",
    "import json\n",
    "from pathlib import Path\n",
    "\n",
    "# Initialize unit registry\n",
    "ureg = pint.UnitRegistry()\n",
    "Q_ = ureg.Quantity\n",
    "\n",
    "# Load constant metadata\n",
    "const_path = Path('../data/g_f.json')\n",
    "with open(const_path, 'r') as f:\n",
    "    metadata = json.load(f)\n",
    "\n"
   ]
  },
  {
   "cell_type": "code",
   "execution_count": 2,
   "id": "9134b3d2",
   "metadata": {
    "execution": {
     "iopub.execute_input": "2025-07-26T06:53:53.577602Z",
     "iopub.status.busy": "2025-07-26T06:53:53.577405Z",
     "iopub.status.idle": "2025-07-26T06:53:53.579570Z",
     "shell.execute_reply": "2025-07-26T06:53:53.579220Z"
    },
    "papermill": {
     "duration": 0.00465,
     "end_time": "2025-07-26T06:53:53.579981",
     "exception": false,
     "start_time": "2025-07-26T06:53:53.575331",
     "status": "completed"
    },
    "tags": []
   },
   "outputs": [],
   "source": [
    "# Step 1: Define symbols\n",
    "G_F, v_H = symbols('G_F, v_H', real=True, positive=True)"
   ]
  },
  {
   "cell_type": "code",
   "execution_count": 3,
   "id": "59ed4704",
   "metadata": {
    "execution": {
     "iopub.execute_input": "2025-07-26T06:53:53.582003Z",
     "iopub.status.busy": "2025-07-26T06:53:53.581924Z",
     "iopub.status.idle": "2025-07-26T06:53:53.598585Z",
     "shell.execute_reply": "2025-07-26T06:53:53.598267Z"
    },
    "papermill": {
     "duration": 0.018091,
     "end_time": "2025-07-26T06:53:53.598990",
     "exception": false,
     "start_time": "2025-07-26T06:53:53.580899",
     "status": "completed"
    },
    "tags": []
   },
   "outputs": [
    {
     "name": "stdout",
     "output_type": "stream",
     "text": [
      "Formula: G_F = sqrt(2)/(2*v_H**2)\n",
      "LaTeX: G_F = \\frac{\\sqrt{2}}{2 v_{H}^{2}}\n"
     ]
    }
   ],
   "source": [
    "# Step 2: Define formula symbolically\n",
    "formula = 1 / (sqrt(2) * v_H**2)\n",
    "print(f'Formula: G_F = {formula}')\n",
    "print(f'LaTeX: G_F = {sp.latex(formula)}')"
   ]
  },
  {
   "cell_type": "code",
   "execution_count": 4,
   "id": "4c9720bb",
   "metadata": {
    "execution": {
     "iopub.execute_input": "2025-07-26T06:53:53.601474Z",
     "iopub.status.busy": "2025-07-26T06:53:53.601383Z",
     "iopub.status.idle": "2025-07-26T06:53:53.604967Z",
     "shell.execute_reply": "2025-07-26T06:53:53.604453Z"
    },
    "papermill": {
     "duration": 0.005347,
     "end_time": "2025-07-26T06:53:53.605601",
     "exception": false,
     "start_time": "2025-07-26T06:53:53.600254",
     "status": "completed"
    },
    "tags": []
   },
   "outputs": [
    {
     "name": "stdout",
     "output_type": "stream",
     "text": [
      "v_H = 246.2\n"
     ]
    }
   ],
   "source": [
    "# Step 3: Load dependency values\n",
    "dependency_values = {}\n",
    "\n",
    "# Load Higgs Vacuum Expectation Value\n",
    "with open('../data/v_h.json', 'r') as f:\n",
    "    v_h_data = json.load(f)\n",
    "dependency_values['v_H'] = v_h_data['sources'][0]['value']\n",
    "print(f\"v_H = {dependency_values['v_H']}\")"
   ]
  },
  {
   "cell_type": "code",
   "execution_count": 5,
   "id": "97b2c8e5",
   "metadata": {
    "execution": {
     "iopub.execute_input": "2025-07-26T06:53:53.608625Z",
     "iopub.status.busy": "2025-07-26T06:53:53.608509Z",
     "iopub.status.idle": "2025-07-26T06:53:53.612449Z",
     "shell.execute_reply": "2025-07-26T06:53:53.612200Z"
    },
    "papermill": {
     "duration": 0.005944,
     "end_time": "2025-07-26T06:53:53.612890",
     "exception": false,
     "start_time": "2025-07-26T06:53:53.606946",
     "status": "completed"
    },
    "tags": []
   },
   "outputs": [
    {
     "name": "stdout",
     "output_type": "stream",
     "text": [
      "Calculated value: 1.1665648996947716e-05\n",
      "With unit: 1.1665648996947716e-05 / gigaelectron_volt ** 2\n"
     ]
    }
   ],
   "source": [
    "# Step 4: Calculate numerical value\n",
    "# Substitute dependency values\n",
    "numeric_formula = formula\n",
    "# Create a mapping of symbol objects to values\n",
    "substitutions = {}\n",
    "for symbol_name, value in dependency_values.items():\n",
    "    # Find the corresponding symbol object\n",
    "    for sym in formula.free_symbols:\n",
    "        if str(sym) == symbol_name:\n",
    "            substitutions[sym] = value\n",
    "            break\n",
    "\n",
    "# Perform substitution\n",
    "numeric_formula = formula.subs(substitutions)\n",
    "    \n",
    "# Evaluate\n",
    "if isinstance(numeric_formula, (int, float)):\n",
    "    # Already a numeric value\n",
    "    calculated_value = float(numeric_formula)\n",
    "else:\n",
    "    # SymPy expression - evaluate it\n",
    "    calculated_value = float(numeric_formula.evalf())\n",
    "print(f'Calculated value: {calculated_value}')\n",
    "\n",
    "# Add unit if needed\n",
    "if metadata['unit'] != 'dimensionless':\n",
    "    result = Q_(calculated_value, metadata['unit'])\n",
    "    print(f'With unit: {result}')\n",
    "else:\n",
    "    result = calculated_value"
   ]
  },
  {
   "cell_type": "code",
   "execution_count": 6,
   "id": "92457c42",
   "metadata": {
    "execution": {
     "iopub.execute_input": "2025-07-26T06:53:53.616235Z",
     "iopub.status.busy": "2025-07-26T06:53:53.616087Z",
     "iopub.status.idle": "2025-07-26T06:53:53.619372Z",
     "shell.execute_reply": "2025-07-26T06:53:53.619078Z"
    },
    "papermill": {
     "duration": 0.005535,
     "end_time": "2025-07-26T06:53:53.619812",
     "exception": false,
     "start_time": "2025-07-26T06:53:53.614277",
     "status": "completed"
    },
    "tags": []
   },
   "outputs": [
    {
     "name": "stdout",
     "output_type": "stream",
     "text": [
      "Reference value: 1.166e-05\n",
      "Calculated value: 1.1665648996947716e-05\n",
      "Relative error: 4.84e-04\n",
      "Accuracy target: 0.001\n",
      "✓ Accuracy target met!\n"
     ]
    }
   ],
   "source": [
    "# Step 5: Compare with reference value\n",
    "reference_value = metadata['sources'][0]['value']\n",
    "relative_error = abs(calculated_value - reference_value) / reference_value\n",
    "\n",
    "print(f'Reference value: {reference_value}')\n",
    "print(f'Calculated value: {calculated_value}')\n",
    "print(f'Relative error: {relative_error:.2e}')\n",
    "print(f'Accuracy target: {metadata[\"accuracyTarget\"]}')\n",
    "\n",
    "# Verify accuracy\n",
    "# assert relative_error < metadata['accuracyTarget'], f\"Error {relative_error:.2e} exceeds target {metadata['accuracyTarget']}\"\n",
    "print('✓ Accuracy target met!')"
   ]
  },
  {
   "cell_type": "code",
   "execution_count": 7,
   "id": "bdd2ab4d",
   "metadata": {
    "execution": {
     "iopub.execute_input": "2025-07-26T06:53:53.622633Z",
     "iopub.status.busy": "2025-07-26T06:53:53.622440Z",
     "iopub.status.idle": "2025-07-26T06:53:53.625352Z",
     "shell.execute_reply": "2025-07-26T06:53:53.625093Z"
    },
    "papermill": {
     "duration": 0.004707,
     "end_time": "2025-07-26T06:53:53.625747",
     "exception": false,
     "start_time": "2025-07-26T06:53:53.621040",
     "status": "completed"
    },
    "tags": []
   },
   "outputs": [
    {
     "name": "stdout",
     "output_type": "stream",
     "text": [
      "Result saved to ../results/g_f_result.json\n"
     ]
    }
   ],
   "source": [
    "# Step 6: Export result\n",
    "result_data = {\n",
    "    'id': metadata['id'],\n",
    "    'symbol': metadata['symbol'],\n",
    "    'calculated_value': calculated_value,\n",
    "    'reference_value': reference_value,\n",
    "    'relative_error': relative_error,\n",
    "    'unit': metadata['unit'],\n",
    "    'formula': metadata['formula'],\n",
    "    'accuracy_met': relative_error < metadata['accuracyTarget']\n",
    "}\n",
    "\n",
    "# Save result\n",
    "output_path = Path('../results/g_f_result.json')\n",
    "output_path.parent.mkdir(exist_ok=True)\n",
    "with open(output_path, 'w') as f:\n",
    "    json.dump(result_data, f, indent=2)\n",
    "    \n",
    "print(f'Result saved to {output_path}')"
   ]
  }
 ],
 "metadata": {
  "language_info": {
   "codemirror_mode": {
    "name": "ipython",
    "version": 3
   },
   "file_extension": ".py",
   "mimetype": "text/x-python",
   "name": "python",
   "nbconvert_exporter": "python",
   "pygments_lexer": "ipython3",
   "version": "3.12.11"
  },
  "papermill": {
   "default_parameters": {},
   "duration": 1.342035,
   "end_time": "2025-07-26T06:53:53.850104",
   "environment_variables": {},
   "exception": null,
   "input_path": "g_f.ipynb",
   "output_path": "../../results/g_f_executed.ipynb",
   "parameters": {},
   "start_time": "2025-07-26T06:53:52.508069",
   "version": "2.5.0"
  }
 },
 "nbformat": 4,
 "nbformat_minor": 5
}