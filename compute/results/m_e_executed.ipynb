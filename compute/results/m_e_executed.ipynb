{
 "cells": [
  {
   "cell_type": "markdown",
   "id": "59ebdab9",
   "metadata": {
    "tags": [
     "papermill-error-cell-tag"
    ]
   },
   "source": [
    "<span style=\"color:red; font-family:Helvetica Neue, Helvetica, Arial, sans-serif; font-size:2em;\">An Exception was encountered at '<a href=\"#papermill-error-cell\">In [6]</a>'.</span>"
   ]
  },
  {
   "cell_type": "markdown",
   "id": "302715cd",
   "metadata": {
    "papermill": {
     "duration": 0.002295,
     "end_time": "2025-07-25T14:53:42.436272",
     "exception": false,
     "start_time": "2025-07-25T14:53:42.433977",
     "status": "completed"
    },
    "tags": []
   },
   "source": [
    "# Electron Mass (m_e)\n",
    "\n",
    "Electron rest mass from Yukawa coupling: m_e = (v_H/√2) × α × φ₀⁵\n",
    "\n",
    "**Formula:** $m_e  =  (v_H / sqrt(2)) * α * φ₀^5 * 1000$\n",
    "\n",
    "**Unit:** MeV\n",
    "\n",
    "**Category:** derived"
   ]
  },
  {
   "cell_type": "code",
   "execution_count": 1,
   "id": "53fe8d51",
   "metadata": {
    "execution": {
     "iopub.execute_input": "2025-07-25T14:53:42.439117Z",
     "iopub.status.busy": "2025-07-25T14:53:42.438954Z",
     "iopub.status.idle": "2025-07-25T14:53:42.651606Z",
     "shell.execute_reply": "2025-07-25T14:53:42.651328Z"
    },
    "papermill": {
     "duration": 0.214756,
     "end_time": "2025-07-25T14:53:42.652441",
     "exception": false,
     "start_time": "2025-07-25T14:53:42.437685",
     "status": "completed"
    },
    "tags": []
   },
   "outputs": [],
   "source": [
    "import sympy as sp\n",
    "import numpy as np\n",
    "from sympy import symbols, pi, sqrt, acos, asin, atan, exp, log, sin, cos\n",
    "import pint\n",
    "import json\n",
    "from pathlib import Path\n",
    "\n",
    "# Initialize unit registry\n",
    "ureg = pint.UnitRegistry()\n",
    "Q_ = ureg.Quantity\n",
    "\n",
    "# Load constant metadata\n",
    "const_path = Path('../constants/data/m_e.json')\n",
    "with open(const_path, 'r') as f:\n",
    "    metadata = json.load(f)\n"
   ]
  },
  {
   "cell_type": "code",
   "execution_count": 2,
   "id": "146eed3b",
   "metadata": {
    "execution": {
     "iopub.execute_input": "2025-07-25T14:53:42.654174Z",
     "iopub.status.busy": "2025-07-25T14:53:42.654053Z",
     "iopub.status.idle": "2025-07-25T14:53:42.655687Z",
     "shell.execute_reply": "2025-07-25T14:53:42.655461Z"
    },
    "papermill": {
     "duration": 0.003029,
     "end_time": "2025-07-25T14:53:42.656237",
     "exception": false,
     "start_time": "2025-07-25T14:53:42.653208",
     "status": "completed"
    },
    "tags": []
   },
   "outputs": [],
   "source": [
    "# Step 1: Define symbols\n",
    "alpha, m_e, phi_0, v_H = symbols('alpha, m_e, phi_0, v_H', real=True, positive=True)"
   ]
  },
  {
   "cell_type": "code",
   "execution_count": 3,
   "id": "2f6e4502",
   "metadata": {
    "execution": {
     "iopub.execute_input": "2025-07-25T14:53:42.657698Z",
     "iopub.status.busy": "2025-07-25T14:53:42.657607Z",
     "iopub.status.idle": "2025-07-25T14:53:42.660367Z",
     "shell.execute_reply": "2025-07-25T14:53:42.660150Z"
    },
    "papermill": {
     "duration": 0.004165,
     "end_time": "2025-07-25T14:53:42.661007",
     "exception": false,
     "start_time": "2025-07-25T14:53:42.656842",
     "status": "completed"
    },
    "tags": []
   },
   "outputs": [
    {
     "name": "stdout",
     "output_type": "stream",
     "text": [
      "Formula: m_e = 500*sqrt(2)*alpha*phi_0**5*v_H\n",
      "LaTeX: m_e = 500 \\sqrt{2} \\alpha \\phi_{0}^{5} v_{H}\n"
     ]
    }
   ],
   "source": [
    "# Step 2: Define formula symbolically\n",
    "formula = (v_H / sqrt(2)) * alpha * phi_0**5 * 1000\n",
    "print(f'Formula: m_e = {formula}')\n",
    "print(f'LaTeX: m_e = {sp.latex(formula)}')"
   ]
  },
  {
   "cell_type": "code",
   "execution_count": 4,
   "id": "31b4d164",
   "metadata": {
    "execution": {
     "iopub.execute_input": "2025-07-25T14:53:42.662649Z",
     "iopub.status.busy": "2025-07-25T14:53:42.662560Z",
     "iopub.status.idle": "2025-07-25T14:53:42.664910Z",
     "shell.execute_reply": "2025-07-25T14:53:42.664726Z"
    },
    "papermill": {
     "duration": 0.003723,
     "end_time": "2025-07-25T14:53:42.665448",
     "exception": false,
     "start_time": "2025-07-25T14:53:42.661725",
     "status": "completed"
    },
    "tags": []
   },
   "outputs": [
    {
     "name": "stdout",
     "output_type": "stream",
     "text": [
      "v_H = 246.22\n",
      "alpha = 0.0072973525643\n",
      "phi_0 = 0.053171\n"
     ]
    }
   ],
   "source": [
    "# Step 3: Load dependency values\n",
    "dependency_values = {}\n",
    "\n",
    "# Load Higgs Vacuum Expectation Value\n",
    "with open('../constants/data/v_h.json', 'r') as f:\n",
    "    v_h_data = json.load(f)\n",
    "dependency_values['v_H'] = v_h_data['sources'][0]['value']\n",
    "print(f\"v_H = {dependency_values['v_H']}\")\n",
    "\n",
    "# Load Fine Structure Constant\n",
    "with open('../constants/data/alpha.json', 'r') as f:\n",
    "    alpha_data = json.load(f)\n",
    "dependency_values['alpha'] = alpha_data['sources'][0]['value']\n",
    "print(f\"alpha = {dependency_values['alpha']}\")\n",
    "\n",
    "# Load Fundamental VEV\n",
    "with open('../constants/data/phi_0.json', 'r') as f:\n",
    "    phi_0_data = json.load(f)\n",
    "dependency_values['phi_0'] = phi_0_data['sources'][0]['value']\n",
    "print(f\"phi_0 = {dependency_values['phi_0']}\")"
   ]
  },
  {
   "cell_type": "code",
   "execution_count": 5,
   "id": "0551976d",
   "metadata": {
    "execution": {
     "iopub.execute_input": "2025-07-25T14:53:42.667025Z",
     "iopub.status.busy": "2025-07-25T14:53:42.666944Z",
     "iopub.status.idle": "2025-07-25T14:53:42.669782Z",
     "shell.execute_reply": "2025-07-25T14:53:42.669606Z"
    },
    "papermill": {
     "duration": 0.004123,
     "end_time": "2025-07-25T14:53:42.670267",
     "exception": false,
     "start_time": "2025-07-25T14:53:42.666144",
     "status": "completed"
    },
    "tags": []
   },
   "outputs": [
    {
     "name": "stdout",
     "output_type": "stream",
     "text": [
      "Calculated value: 0.0005399428564841136\n",
      "With unit: 0.0005399428564841136 megaelectron_volt\n"
     ]
    }
   ],
   "source": [
    "# Step 4: Calculate numerical value\n",
    "# Substitute dependency values\n",
    "numeric_formula = formula\n",
    "# Create a mapping of symbol objects to values\n",
    "substitutions = {}\n",
    "for symbol_name, value in dependency_values.items():\n",
    "    # Find the corresponding symbol object\n",
    "    for sym in formula.free_symbols:\n",
    "        if str(sym) == symbol_name:\n",
    "            substitutions[sym] = value\n",
    "            break\n",
    "\n",
    "# Perform substitution\n",
    "numeric_formula = formula.subs(substitutions)\n",
    "    \n",
    "# Evaluate\n",
    "if isinstance(numeric_formula, (int, float)):\n",
    "    # Already a numeric value\n",
    "    calculated_value = float(numeric_formula)\n",
    "else:\n",
    "    # SymPy expression - evaluate it\n",
    "    calculated_value = float(numeric_formula.evalf())\n",
    "print(f'Calculated value: {calculated_value}')\n",
    "\n",
    "# Add unit if needed\n",
    "if metadata['unit'] != 'dimensionless':\n",
    "    result = Q_(calculated_value, metadata['unit'])\n",
    "    print(f'With unit: {result}')\n",
    "else:\n",
    "    result = calculated_value"
   ]
  },
  {
   "cell_type": "markdown",
   "id": "a615a4b7",
   "metadata": {
    "tags": [
     "papermill-error-cell-tag"
    ]
   },
   "source": [
    "<span id=\"papermill-error-cell\" style=\"color:red; font-family:Helvetica Neue, Helvetica, Arial, sans-serif; font-size:2em;\">Execution using papermill encountered an exception here and stopped:</span>"
   ]
  },
  {
   "cell_type": "code",
   "execution_count": 6,
   "id": "87fffd7f",
   "metadata": {
    "execution": {
     "iopub.execute_input": "2025-07-25T14:53:42.671848Z",
     "iopub.status.busy": "2025-07-25T14:53:42.671766Z",
     "iopub.status.idle": "2025-07-25T14:53:42.748744Z",
     "shell.execute_reply": "2025-07-25T14:53:42.748307Z"
    },
    "papermill": {
     "duration": 0.07835,
     "end_time": "2025-07-25T14:53:42.749249",
     "exception": true,
     "start_time": "2025-07-25T14:53:42.670899",
     "status": "failed"
    },
    "tags": []
   },
   "outputs": [
    {
     "name": "stdout",
     "output_type": "stream",
     "text": [
      "Reference value: 0.51099895069\n",
      "Calculated value: 0.0005399428564841136\n",
      "Relative error: 9.99e-01\n",
      "Accuracy target: 0.06\n"
     ]
    },
    {
     "ename": "AssertionError",
     "evalue": "Error 9.99e-01 exceeds target 0.06",
     "output_type": "error",
     "traceback": [
      "\u001b[31m---------------------------------------------------------------------------\u001b[39m",
      "\u001b[31mAssertionError\u001b[39m                            Traceback (most recent call last)",
      "\u001b[36mCell\u001b[39m\u001b[36m \u001b[39m\u001b[32mIn[6]\u001b[39m\u001b[32m, line 11\u001b[39m\n\u001b[32m      8\u001b[39m \u001b[38;5;28mprint\u001b[39m(\u001b[33mf\u001b[39m\u001b[33m'\u001b[39m\u001b[33mAccuracy target: \u001b[39m\u001b[38;5;132;01m{\u001b[39;00mmetadata[\u001b[33m\"\u001b[39m\u001b[33maccuracyTarget\u001b[39m\u001b[33m\"\u001b[39m]\u001b[38;5;132;01m}\u001b[39;00m\u001b[33m'\u001b[39m)\n\u001b[32m     10\u001b[39m \u001b[38;5;66;03m# Verify accuracy\u001b[39;00m\n\u001b[32m---> \u001b[39m\u001b[32m11\u001b[39m \u001b[38;5;28;01massert\u001b[39;00m relative_error < metadata[\u001b[33m'\u001b[39m\u001b[33maccuracyTarget\u001b[39m\u001b[33m'\u001b[39m], \u001b[33mf\u001b[39m\u001b[33m\"\u001b[39m\u001b[33mError \u001b[39m\u001b[38;5;132;01m{\u001b[39;00mrelative_error\u001b[38;5;132;01m:\u001b[39;00m\u001b[33m.2e\u001b[39m\u001b[38;5;132;01m}\u001b[39;00m\u001b[33m exceeds target \u001b[39m\u001b[38;5;132;01m{\u001b[39;00mmetadata[\u001b[33m'\u001b[39m\u001b[33maccuracyTarget\u001b[39m\u001b[33m'\u001b[39m]\u001b[38;5;132;01m}\u001b[39;00m\u001b[33m\"\u001b[39m\n\u001b[32m     12\u001b[39m \u001b[38;5;28mprint\u001b[39m(\u001b[33m'\u001b[39m\u001b[33m✓ Accuracy target met!\u001b[39m\u001b[33m'\u001b[39m)\n",
      "\u001b[31mAssertionError\u001b[39m: Error 9.99e-01 exceeds target 0.06"
     ]
    }
   ],
   "source": [
    "# Step 5: Compare with reference value\n",
    "reference_value = metadata['sources'][0]['value']\n",
    "relative_error = abs(calculated_value - reference_value) / reference_value\n",
    "\n",
    "print(f'Reference value: {reference_value}')\n",
    "print(f'Calculated value: {calculated_value}')\n",
    "print(f'Relative error: {relative_error:.2e}')\n",
    "print(f'Accuracy target: {metadata[\"accuracyTarget\"]}')\n",
    "\n",
    "# Verify accuracy\n",
    "assert relative_error < metadata['accuracyTarget'], f\"Error {relative_error:.2e} exceeds target {metadata['accuracyTarget']}\"\n",
    "print('✓ Accuracy target met!')"
   ]
  },
  {
   "cell_type": "code",
   "execution_count": null,
   "id": "0a03fc7d",
   "metadata": {
    "papermill": {
     "duration": null,
     "end_time": null,
     "exception": null,
     "start_time": null,
     "status": "pending"
    },
    "tags": []
   },
   "outputs": [],
   "source": [
    "# Step 6: Export result\n",
    "result_data = {\n",
    "    'id': metadata['id'],\n",
    "    'symbol': metadata['symbol'],\n",
    "    'calculated_value': calculated_value,\n",
    "    'reference_value': reference_value,\n",
    "    'relative_error': relative_error,\n",
    "    'unit': metadata['unit'],\n",
    "    'formula': metadata['formula'],\n",
    "    'accuracy_met': relative_error < metadata['accuracyTarget']\n",
    "}\n",
    "\n",
    "# Save result\n",
    "output_path = Path('../constants/results/m_e_result.json')\n",
    "output_path.parent.mkdir(exist_ok=True)\n",
    "with open(output_path, 'w') as f:\n",
    "    json.dump(result_data, f, indent=2)\n",
    "    \n",
    "print(f'Result saved to {output_path}')"
   ]
  }
 ],
 "metadata": {
  "language_info": {
   "codemirror_mode": {
    "name": "ipython",
    "version": 3
   },
   "file_extension": ".py",
   "mimetype": "text/x-python",
   "name": "python",
   "nbconvert_exporter": "python",
   "pygments_lexer": "ipython3",
   "version": "3.13.5"
  },
  "papermill": {
   "default_parameters": {},
   "duration": 1.026374,
   "end_time": "2025-07-25T14:53:42.964039",
   "environment_variables": {},
   "exception": true,
   "input_path": "../constants/notebooks/m_e.ipynb",
   "output_path": "results/m_e_executed.ipynb",
   "parameters": {},
   "start_time": "2025-07-25T14:53:41.937665",
   "version": "2.5.0"
  }
 },
 "nbformat": 4,
 "nbformat_minor": 5
}