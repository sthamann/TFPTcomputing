{
 "cells": [
  {
   "cell_type": "markdown",
   "id": "7dd016e1",
   "metadata": {
    "tags": [
     "papermill-error-cell-tag"
    ]
   },
   "source": [
    "<span style=\"color:red; font-family:Helvetica Neue, Helvetica, Arial, sans-serif; font-size:2em;\">An Exception was encountered at '<a href=\"#papermill-error-cell\">In [6]</a>'.</span>"
   ]
  },
  {
   "cell_type": "markdown",
   "id": "9678b789",
   "metadata": {
    "papermill": {
     "duration": 0.002955,
     "end_time": "2025-07-25T14:53:47.047971",
     "exception": false,
     "start_time": "2025-07-25T14:53:47.045016",
     "status": "completed"
    },
    "tags": []
   },
   "source": [
    "# SU(2) Gauge Coupling (g₂)\n",
    "\n",
    "SU(2)_L gauge coupling at electroweak scale: g₂ = √(4πα) / sin(θ_W)\n",
    "\n",
    "**Formula:** $g₂  =  sqrt(4 * pi * α) / sqrt(sin²θ_W)$\n",
    "\n",
    "**Unit:** dimensionless\n",
    "\n",
    "**Category:** derived"
   ]
  },
  {
   "cell_type": "code",
   "execution_count": 1,
   "id": "adbcf534",
   "metadata": {
    "execution": {
     "iopub.execute_input": "2025-07-25T14:53:47.052101Z",
     "iopub.status.busy": "2025-07-25T14:53:47.051868Z",
     "iopub.status.idle": "2025-07-25T14:53:47.273074Z",
     "shell.execute_reply": "2025-07-25T14:53:47.272822Z"
    },
    "papermill": {
     "duration": 0.224074,
     "end_time": "2025-07-25T14:53:47.273875",
     "exception": false,
     "start_time": "2025-07-25T14:53:47.049801",
     "status": "completed"
    },
    "tags": []
   },
   "outputs": [],
   "source": [
    "import sympy as sp\n",
    "import numpy as np\n",
    "from sympy import symbols, pi, sqrt, acos, asin, atan, exp, log, sin, cos\n",
    "import pint\n",
    "import json\n",
    "from pathlib import Path\n",
    "\n",
    "# Initialize unit registry\n",
    "ureg = pint.UnitRegistry()\n",
    "Q_ = ureg.Quantity\n",
    "\n",
    "# Load constant metadata\n",
    "const_path = Path('../constants/data/g_2.json')\n",
    "with open(const_path, 'r') as f:\n",
    "    metadata = json.load(f)\n"
   ]
  },
  {
   "cell_type": "code",
   "execution_count": 2,
   "id": "73c573d8",
   "metadata": {
    "execution": {
     "iopub.execute_input": "2025-07-25T14:53:47.275655Z",
     "iopub.status.busy": "2025-07-25T14:53:47.275534Z",
     "iopub.status.idle": "2025-07-25T14:53:47.277180Z",
     "shell.execute_reply": "2025-07-25T14:53:47.276972Z"
    },
    "papermill": {
     "duration": 0.003119,
     "end_time": "2025-07-25T14:53:47.277749",
     "exception": false,
     "start_time": "2025-07-25T14:53:47.274630",
     "status": "completed"
    },
    "tags": []
   },
   "outputs": [],
   "source": [
    "# Step 1: Define symbols\n",
    "alpha, g_2, sin2theta_W = symbols('alpha, g_2, sin2theta_W', real=True, positive=True)"
   ]
  },
  {
   "cell_type": "code",
   "execution_count": 3,
   "id": "2a362cfa",
   "metadata": {
    "execution": {
     "iopub.execute_input": "2025-07-25T14:53:47.279368Z",
     "iopub.status.busy": "2025-07-25T14:53:47.279278Z",
     "iopub.status.idle": "2025-07-25T14:53:47.281816Z",
     "shell.execute_reply": "2025-07-25T14:53:47.281605Z"
    },
    "papermill": {
     "duration": 0.003894,
     "end_time": "2025-07-25T14:53:47.282329",
     "exception": false,
     "start_time": "2025-07-25T14:53:47.278435",
     "status": "completed"
    },
    "tags": []
   },
   "outputs": [
    {
     "name": "stdout",
     "output_type": "stream",
     "text": [
      "Formula: g_2 = 2*sqrt(pi)*sqrt(alpha)/sqrt(sin2theta_W)\n",
      "LaTeX: g_2 = \\frac{2 \\sqrt{\\pi} \\sqrt{\\alpha}}{\\sqrt{sin2theta_{W}}}\n"
     ]
    }
   ],
   "source": [
    "# Step 2: Define formula symbolically\n",
    "formula = sqrt(4 * pi * alpha) / sqrt(sin2theta_W)\n",
    "print(f'Formula: g_2 = {formula}')\n",
    "print(f'LaTeX: g_2 = {sp.latex(formula)}')"
   ]
  },
  {
   "cell_type": "code",
   "execution_count": 4,
   "id": "fa067a1f",
   "metadata": {
    "execution": {
     "iopub.execute_input": "2025-07-25T14:53:47.283769Z",
     "iopub.status.busy": "2025-07-25T14:53:47.283689Z",
     "iopub.status.idle": "2025-07-25T14:53:47.285828Z",
     "shell.execute_reply": "2025-07-25T14:53:47.285625Z"
    },
    "papermill": {
     "duration": 0.003365,
     "end_time": "2025-07-25T14:53:47.286332",
     "exception": false,
     "start_time": "2025-07-25T14:53:47.282967",
     "status": "completed"
    },
    "tags": []
   },
   "outputs": [
    {
     "name": "stdout",
     "output_type": "stream",
     "text": [
      "alpha = 0.0072973525643\n",
      "sin2theta_W = 0.23126\n"
     ]
    }
   ],
   "source": [
    "# Step 3: Load dependency values\n",
    "dependency_values = {}\n",
    "\n",
    "# Load Fine Structure Constant\n",
    "with open('../constants/data/alpha.json', 'r') as f:\n",
    "    alpha_data = json.load(f)\n",
    "dependency_values['alpha'] = alpha_data['sources'][0]['value']\n",
    "print(f\"alpha = {dependency_values['alpha']}\")\n",
    "\n",
    "# Load Weinberg Angle\n",
    "with open('../constants/data/sin2_theta_w.json', 'r') as f:\n",
    "    sin2_theta_w_data = json.load(f)\n",
    "dependency_values['sin2theta_W'] = sin2_theta_w_data['sources'][0]['value']\n",
    "print(f\"sin2theta_W = {dependency_values['sin2theta_W']}\")"
   ]
  },
  {
   "cell_type": "code",
   "execution_count": 5,
   "id": "ef71b894",
   "metadata": {
    "execution": {
     "iopub.execute_input": "2025-07-25T14:53:47.287650Z",
     "iopub.status.busy": "2025-07-25T14:53:47.287572Z",
     "iopub.status.idle": "2025-07-25T14:53:47.290203Z",
     "shell.execute_reply": "2025-07-25T14:53:47.290020Z"
    },
    "papermill": {
     "duration": 0.00386,
     "end_time": "2025-07-25T14:53:47.290707",
     "exception": false,
     "start_time": "2025-07-25T14:53:47.286847",
     "status": "completed"
    },
    "tags": []
   },
   "outputs": [
    {
     "name": "stdout",
     "output_type": "stream",
     "text": [
      "Calculated value: 0.6297052816923346\n"
     ]
    }
   ],
   "source": [
    "# Step 4: Calculate numerical value\n",
    "# Substitute dependency values\n",
    "numeric_formula = formula\n",
    "# Create a mapping of symbol objects to values\n",
    "substitutions = {}\n",
    "for symbol_name, value in dependency_values.items():\n",
    "    # Find the corresponding symbol object\n",
    "    for sym in formula.free_symbols:\n",
    "        if str(sym) == symbol_name:\n",
    "            substitutions[sym] = value\n",
    "            break\n",
    "\n",
    "# Perform substitution\n",
    "numeric_formula = formula.subs(substitutions)\n",
    "    \n",
    "# Evaluate\n",
    "if isinstance(numeric_formula, (int, float)):\n",
    "    # Already a numeric value\n",
    "    calculated_value = float(numeric_formula)\n",
    "else:\n",
    "    # SymPy expression - evaluate it\n",
    "    calculated_value = float(numeric_formula.evalf())\n",
    "print(f'Calculated value: {calculated_value}')\n",
    "\n",
    "# Add unit if needed\n",
    "if metadata['unit'] != 'dimensionless':\n",
    "    result = Q_(calculated_value, metadata['unit'])\n",
    "    print(f'With unit: {result}')\n",
    "else:\n",
    "    result = calculated_value"
   ]
  },
  {
   "cell_type": "markdown",
   "id": "05ac9ee2",
   "metadata": {
    "tags": [
     "papermill-error-cell-tag"
    ]
   },
   "source": [
    "<span id=\"papermill-error-cell\" style=\"color:red; font-family:Helvetica Neue, Helvetica, Arial, sans-serif; font-size:2em;\">Execution using papermill encountered an exception here and stopped:</span>"
   ]
  },
  {
   "cell_type": "code",
   "execution_count": 6,
   "id": "993c9f0a",
   "metadata": {
    "execution": {
     "iopub.execute_input": "2025-07-25T14:53:47.292422Z",
     "iopub.status.busy": "2025-07-25T14:53:47.292314Z",
     "iopub.status.idle": "2025-07-25T14:53:47.372203Z",
     "shell.execute_reply": "2025-07-25T14:53:47.371775Z"
    },
    "papermill": {
     "duration": 0.081425,
     "end_time": "2025-07-25T14:53:47.372775",
     "exception": true,
     "start_time": "2025-07-25T14:53:47.291350",
     "status": "failed"
    },
    "tags": []
   },
   "outputs": [
    {
     "name": "stdout",
     "output_type": "stream",
     "text": [
      "Reference value: 0.6536\n",
      "Calculated value: 0.6297052816923346\n",
      "Relative error: 3.66e-02\n",
      "Accuracy target: 0.001\n"
     ]
    },
    {
     "ename": "AssertionError",
     "evalue": "Error 3.66e-02 exceeds target 0.001",
     "output_type": "error",
     "traceback": [
      "\u001b[31m---------------------------------------------------------------------------\u001b[39m",
      "\u001b[31mAssertionError\u001b[39m                            Traceback (most recent call last)",
      "\u001b[36mCell\u001b[39m\u001b[36m \u001b[39m\u001b[32mIn[6]\u001b[39m\u001b[32m, line 11\u001b[39m\n\u001b[32m      8\u001b[39m \u001b[38;5;28mprint\u001b[39m(\u001b[33mf\u001b[39m\u001b[33m'\u001b[39m\u001b[33mAccuracy target: \u001b[39m\u001b[38;5;132;01m{\u001b[39;00mmetadata[\u001b[33m\"\u001b[39m\u001b[33maccuracyTarget\u001b[39m\u001b[33m\"\u001b[39m]\u001b[38;5;132;01m}\u001b[39;00m\u001b[33m'\u001b[39m)\n\u001b[32m     10\u001b[39m \u001b[38;5;66;03m# Verify accuracy\u001b[39;00m\n\u001b[32m---> \u001b[39m\u001b[32m11\u001b[39m \u001b[38;5;28;01massert\u001b[39;00m relative_error < metadata[\u001b[33m'\u001b[39m\u001b[33maccuracyTarget\u001b[39m\u001b[33m'\u001b[39m], \u001b[33mf\u001b[39m\u001b[33m\"\u001b[39m\u001b[33mError \u001b[39m\u001b[38;5;132;01m{\u001b[39;00mrelative_error\u001b[38;5;132;01m:\u001b[39;00m\u001b[33m.2e\u001b[39m\u001b[38;5;132;01m}\u001b[39;00m\u001b[33m exceeds target \u001b[39m\u001b[38;5;132;01m{\u001b[39;00mmetadata[\u001b[33m'\u001b[39m\u001b[33maccuracyTarget\u001b[39m\u001b[33m'\u001b[39m]\u001b[38;5;132;01m}\u001b[39;00m\u001b[33m\"\u001b[39m\n\u001b[32m     12\u001b[39m \u001b[38;5;28mprint\u001b[39m(\u001b[33m'\u001b[39m\u001b[33m✓ Accuracy target met!\u001b[39m\u001b[33m'\u001b[39m)\n",
      "\u001b[31mAssertionError\u001b[39m: Error 3.66e-02 exceeds target 0.001"
     ]
    }
   ],
   "source": [
    "# Step 5: Compare with reference value\n",
    "reference_value = metadata['sources'][0]['value']\n",
    "relative_error = abs(calculated_value - reference_value) / reference_value\n",
    "\n",
    "print(f'Reference value: {reference_value}')\n",
    "print(f'Calculated value: {calculated_value}')\n",
    "print(f'Relative error: {relative_error:.2e}')\n",
    "print(f'Accuracy target: {metadata[\"accuracyTarget\"]}')\n",
    "\n",
    "# Verify accuracy\n",
    "assert relative_error < metadata['accuracyTarget'], f\"Error {relative_error:.2e} exceeds target {metadata['accuracyTarget']}\"\n",
    "print('✓ Accuracy target met!')"
   ]
  },
  {
   "cell_type": "code",
   "execution_count": null,
   "id": "c18e863e",
   "metadata": {
    "papermill": {
     "duration": null,
     "end_time": null,
     "exception": null,
     "start_time": null,
     "status": "pending"
    },
    "tags": []
   },
   "outputs": [],
   "source": [
    "# Step 6: Export result\n",
    "result_data = {\n",
    "    'id': metadata['id'],\n",
    "    'symbol': metadata['symbol'],\n",
    "    'calculated_value': calculated_value,\n",
    "    'reference_value': reference_value,\n",
    "    'relative_error': relative_error,\n",
    "    'unit': metadata['unit'],\n",
    "    'formula': metadata['formula'],\n",
    "    'accuracy_met': relative_error < metadata['accuracyTarget']\n",
    "}\n",
    "\n",
    "# Save result\n",
    "output_path = Path('../constants/results/g_2_result.json')\n",
    "output_path.parent.mkdir(exist_ok=True)\n",
    "with open(output_path, 'w') as f:\n",
    "    json.dump(result_data, f, indent=2)\n",
    "    \n",
    "print(f'Result saved to {output_path}')"
   ]
  }
 ],
 "metadata": {
  "language_info": {
   "codemirror_mode": {
    "name": "ipython",
    "version": 3
   },
   "file_extension": ".py",
   "mimetype": "text/x-python",
   "name": "python",
   "nbconvert_exporter": "python",
   "pygments_lexer": "ipython3",
   "version": "3.13.5"
  },
  "papermill": {
   "default_parameters": {},
   "duration": 1.215016,
   "end_time": "2025-07-25T14:53:47.587071",
   "environment_variables": {},
   "exception": true,
   "input_path": "../constants/notebooks/g_2.ipynb",
   "output_path": "results/g_2_executed.ipynb",
   "parameters": {},
   "start_time": "2025-07-25T14:53:46.372055",
   "version": "2.5.0"
  }
 },
 "nbformat": 4,
 "nbformat_minor": 5
}