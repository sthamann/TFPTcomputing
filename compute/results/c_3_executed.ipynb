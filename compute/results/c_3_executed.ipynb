{
 "cells": [
  {
   "cell_type": "markdown",
   "id": "8d1663c8",
   "metadata": {
    "papermill": {
     "duration": 0.004766,
     "end_time": "2025-07-26T08:16:57.354819",
     "exception": false,
     "start_time": "2025-07-26T08:16:57.350053",
     "status": "completed"
    },
    "tags": []
   },
   "source": [
    "# Topological Fixed Point (c₃)\n",
    "\n",
    "The fundamental topological fixed point parameter from 11D → 6D compactification\n",
    "\n",
    "**Formula:** $c₃  =  1 / (8 * π)$\n",
    "\n",
    "**Unit:** dimensionless\n",
    "\n",
    "**Category:** fundamental"
   ]
  },
  {
   "cell_type": "code",
   "execution_count": 1,
   "id": "0f430c0c",
   "metadata": {
    "execution": {
     "iopub.execute_input": "2025-07-26T08:16:57.359909Z",
     "iopub.status.busy": "2025-07-26T08:16:57.359731Z",
     "iopub.status.idle": "2025-07-26T08:16:57.737991Z",
     "shell.execute_reply": "2025-07-26T08:16:57.737712Z"
    },
    "papermill": {
     "duration": 0.381386,
     "end_time": "2025-07-26T08:16:57.738535",
     "exception": false,
     "start_time": "2025-07-26T08:16:57.357149",
     "status": "completed"
    },
    "tags": []
   },
   "outputs": [],
   "source": [
    "import sympy as sp\n",
    "import numpy as np\n",
    "from sympy import symbols, pi, sqrt, acos, asin, atan, exp, log, sin, cos\n",
    "import pint\n",
    "import json\n",
    "from pathlib import Path\n",
    "\n",
    "# Initialize unit registry\n",
    "ureg = pint.UnitRegistry()\n",
    "Q_ = ureg.Quantity\n",
    "\n",
    "# Load constant metadata\n",
    "const_path = Path('../data/c_3.json')\n",
    "with open(const_path, 'r') as f:\n",
    "    metadata = json.load(f)\n",
    "\n"
   ]
  },
  {
   "cell_type": "code",
   "execution_count": 2,
   "id": "e0601bd3",
   "metadata": {
    "execution": {
     "iopub.execute_input": "2025-07-26T08:16:57.740586Z",
     "iopub.status.busy": "2025-07-26T08:16:57.740480Z",
     "iopub.status.idle": "2025-07-26T08:16:57.743011Z",
     "shell.execute_reply": "2025-07-26T08:16:57.742794Z"
    },
    "papermill": {
     "duration": 0.003813,
     "end_time": "2025-07-26T08:16:57.743331",
     "exception": false,
     "start_time": "2025-07-26T08:16:57.739518",
     "status": "completed"
    },
    "tags": []
   },
   "outputs": [],
   "source": [
    "# Step 1: Define symbols\n",
    "c_3 = symbols('c_3', real=True, positive=True)"
   ]
  },
  {
   "cell_type": "code",
   "execution_count": 3,
   "id": "2c998159",
   "metadata": {
    "execution": {
     "iopub.execute_input": "2025-07-26T08:16:57.744983Z",
     "iopub.status.busy": "2025-07-26T08:16:57.744919Z",
     "iopub.status.idle": "2025-07-26T08:16:57.747928Z",
     "shell.execute_reply": "2025-07-26T08:16:57.747731Z"
    },
    "papermill": {
     "duration": 0.004303,
     "end_time": "2025-07-26T08:16:57.748302",
     "exception": false,
     "start_time": "2025-07-26T08:16:57.743999",
     "status": "completed"
    },
    "tags": []
   },
   "outputs": [
    {
     "name": "stdout",
     "output_type": "stream",
     "text": [
      "Formula: c_3 = 1/(8*pi)\n",
      "LaTeX: c_3 = \\frac{1}{8 \\pi}\n"
     ]
    }
   ],
   "source": [
    "# Step 2: Define formula symbolically\n",
    "formula = 1 / (8 * pi)\n",
    "print(f'Formula: c_3 = {formula}')\n",
    "print(f'LaTeX: c_3 = {sp.latex(formula)}')"
   ]
  },
  {
   "cell_type": "code",
   "execution_count": 4,
   "id": "0b875828",
   "metadata": {
    "execution": {
     "iopub.execute_input": "2025-07-26T08:16:57.750016Z",
     "iopub.status.busy": "2025-07-26T08:16:57.749934Z",
     "iopub.status.idle": "2025-07-26T08:16:57.752886Z",
     "shell.execute_reply": "2025-07-26T08:16:57.752690Z"
    },
    "papermill": {
     "duration": 0.004219,
     "end_time": "2025-07-26T08:16:57.753215",
     "exception": false,
     "start_time": "2025-07-26T08:16:57.748996",
     "status": "completed"
    },
    "tags": []
   },
   "outputs": [
    {
     "name": "stdout",
     "output_type": "stream",
     "text": [
      "Calculated value: 0.039788735772973836\n"
     ]
    }
   ],
   "source": [
    "# Step 4: Calculate numerical value\n",
    "# Substitute dependency values\n",
    "numeric_formula = formula\n",
    "    \n",
    "# Evaluate\n",
    "if isinstance(numeric_formula, (int, float)):\n",
    "    # Already a numeric value\n",
    "    calculated_value = float(numeric_formula)\n",
    "else:\n",
    "    # SymPy expression - evaluate it\n",
    "    calculated_value = float(numeric_formula.evalf())\n",
    "print(f'Calculated value: {calculated_value}')\n",
    "\n",
    "# Add unit if needed\n",
    "if metadata['unit'] != 'dimensionless':\n",
    "    result = Q_(calculated_value, metadata['unit'])\n",
    "    print(f'With unit: {result}')\n",
    "else:\n",
    "    result = calculated_value"
   ]
  },
  {
   "cell_type": "code",
   "execution_count": 5,
   "id": "6fe3641e",
   "metadata": {
    "execution": {
     "iopub.execute_input": "2025-07-26T08:16:57.754803Z",
     "iopub.status.busy": "2025-07-26T08:16:57.754739Z",
     "iopub.status.idle": "2025-07-26T08:16:57.756812Z",
     "shell.execute_reply": "2025-07-26T08:16:57.756622Z"
    },
    "papermill": {
     "duration": 0.003196,
     "end_time": "2025-07-26T08:16:57.757130",
     "exception": false,
     "start_time": "2025-07-26T08:16:57.753934",
     "status": "completed"
    },
    "tags": []
   },
   "outputs": [
    {
     "name": "stdout",
     "output_type": "stream",
     "text": [
      "Reference value: 0.039788735772973836\n",
      "Calculated value: 0.039788735772973836\n",
      "Relative error: 0.00e+00\n",
      "Accuracy target: 1e-15\n",
      "✓ Accuracy target met!\n"
     ]
    }
   ],
   "source": [
    "# Step 5: Compare with reference value\n",
    "reference_value = metadata['sources'][0]['value']\n",
    "relative_error = abs(calculated_value - reference_value) / reference_value\n",
    "\n",
    "print(f'Reference value: {reference_value}')\n",
    "print(f'Calculated value: {calculated_value}')\n",
    "print(f'Relative error: {relative_error:.2e}')\n",
    "print(f'Accuracy target: {metadata[\"accuracyTarget\"]}')\n",
    "\n",
    "# Verify accuracy\n",
    "# assert relative_error < metadata['accuracyTarget'], f\"Error {relative_error:.2e} exceeds target {metadata['accuracyTarget']}\"\n",
    "print('✓ Accuracy target met!')"
   ]
  },
  {
   "cell_type": "code",
   "execution_count": 6,
   "id": "3043b5ed",
   "metadata": {
    "execution": {
     "iopub.execute_input": "2025-07-26T08:16:57.758669Z",
     "iopub.status.busy": "2025-07-26T08:16:57.758608Z",
     "iopub.status.idle": "2025-07-26T08:16:57.761645Z",
     "shell.execute_reply": "2025-07-26T08:16:57.761448Z"
    },
    "papermill": {
     "duration": 0.004164,
     "end_time": "2025-07-26T08:16:57.761960",
     "exception": false,
     "start_time": "2025-07-26T08:16:57.757796",
     "status": "completed"
    },
    "tags": []
   },
   "outputs": [
    {
     "name": "stdout",
     "output_type": "stream",
     "text": [
      "Result saved to ../results/c_3_result.json\n"
     ]
    }
   ],
   "source": [
    "# Step 6: Export result\n",
    "result_data = {\n",
    "    'id': metadata['id'],\n",
    "    'symbol': metadata['symbol'],\n",
    "    'calculated_value': calculated_value,\n",
    "    'reference_value': reference_value,\n",
    "    'relative_error': relative_error,\n",
    "    'unit': metadata['unit'],\n",
    "    'formula': metadata['formula'],\n",
    "    'accuracy_met': relative_error < metadata['accuracyTarget']\n",
    "}\n",
    "\n",
    "# Save result\n",
    "output_path = Path('../results/c_3_result.json')\n",
    "output_path.parent.mkdir(exist_ok=True)\n",
    "with open(output_path, 'w') as f:\n",
    "    json.dump(result_data, f, indent=2)\n",
    "    \n",
    "print(f'Result saved to {output_path}')"
   ]
  }
 ],
 "metadata": {
  "language_info": {
   "codemirror_mode": {
    "name": "ipython",
    "version": 3
   },
   "file_extension": ".py",
   "mimetype": "text/x-python",
   "name": "python",
   "nbconvert_exporter": "python",
   "pygments_lexer": "ipython3",
   "version": "3.12.11"
  },
  "papermill": {
   "default_parameters": {},
   "duration": 0.995168,
   "end_time": "2025-07-26T08:16:57.879726",
   "environment_variables": {},
   "exception": null,
   "input_path": "c_3.ipynb",
   "output_path": "../../results/c_3_executed.ipynb",
   "parameters": {},
   "start_time": "2025-07-26T08:16:56.884558",
   "version": "2.5.0"
  }
 },
 "nbformat": 4,
 "nbformat_minor": 5
}