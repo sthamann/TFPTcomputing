{
 "cells": [
  {
   "cell_type": "markdown",
   "id": "22cbf2fc",
   "metadata": {
    "papermill": {
     "duration": 0.003282,
     "end_time": "2025-07-26T06:53:26.298534",
     "exception": false,
     "start_time": "2025-07-26T06:53:26.295252",
     "status": "completed"
    },
    "tags": []
   },
   "source": [
    "# Planck Mass (M_Pl)\n",
    "\n",
    "The Planck mass, fundamental gravitational scale\n",
    "\n",
    "**Formula:** $M_Pl  =  sqrt(ħc/G)  =  1.22091e19 GeV$\n",
    "\n",
    "**Unit:** GeV\n",
    "\n",
    "**Category:** fundamental"
   ]
  },
  {
   "cell_type": "code",
   "execution_count": 1,
   "id": "395e5f4d",
   "metadata": {
    "execution": {
     "iopub.execute_input": "2025-07-26T06:53:26.304580Z",
     "iopub.status.busy": "2025-07-26T06:53:26.304452Z",
     "iopub.status.idle": "2025-07-26T06:53:26.702200Z",
     "shell.execute_reply": "2025-07-26T06:53:26.701840Z"
    },
    "papermill": {
     "duration": 0.40066,
     "end_time": "2025-07-26T06:53:26.702874",
     "exception": false,
     "start_time": "2025-07-26T06:53:26.302214",
     "status": "completed"
    },
    "tags": []
   },
   "outputs": [],
   "source": [
    "import sympy as sp\n",
    "import numpy as np\n",
    "from sympy import symbols, pi, sqrt, acos, asin, atan, exp, log, sin, cos\n",
    "import pint\n",
    "import json\n",
    "from pathlib import Path\n",
    "\n",
    "# Initialize unit registry\n",
    "ureg = pint.UnitRegistry()\n",
    "Q_ = ureg.Quantity\n",
    "\n",
    "# Load constant metadata\n",
    "const_path = Path('../data/m_planck.json')\n",
    "with open(const_path, 'r') as f:\n",
    "    metadata = json.load(f)\n",
    "\n"
   ]
  },
  {
   "cell_type": "code",
   "execution_count": 2,
   "id": "cbecb578",
   "metadata": {
    "execution": {
     "iopub.execute_input": "2025-07-26T06:53:26.705122Z",
     "iopub.status.busy": "2025-07-26T06:53:26.704999Z",
     "iopub.status.idle": "2025-07-26T06:53:26.706947Z",
     "shell.execute_reply": "2025-07-26T06:53:26.706688Z"
    },
    "papermill": {
     "duration": 0.003406,
     "end_time": "2025-07-26T06:53:26.707347",
     "exception": false,
     "start_time": "2025-07-26T06:53:26.703941",
     "status": "completed"
    },
    "tags": []
   },
   "outputs": [],
   "source": [
    "# Step 1: Define symbols\n",
    "G, M_Pl, c, hbar = symbols('G, M_Pl, c, hbar', real=True, positive=True)"
   ]
  },
  {
   "cell_type": "code",
   "execution_count": 3,
   "id": "d6c1c464",
   "metadata": {
    "execution": {
     "iopub.execute_input": "2025-07-26T06:53:26.709467Z",
     "iopub.status.busy": "2025-07-26T06:53:26.709369Z",
     "iopub.status.idle": "2025-07-26T06:53:26.712016Z",
     "shell.execute_reply": "2025-07-26T06:53:26.711780Z"
    },
    "papermill": {
     "duration": 0.004189,
     "end_time": "2025-07-26T06:53:26.712394",
     "exception": false,
     "start_time": "2025-07-26T06:53:26.708205",
     "status": "completed"
    },
    "tags": []
   },
   "outputs": [
    {
     "name": "stdout",
     "output_type": "stream",
     "text": [
      "Formula: M_Pl = sqrt(ħc/G)\n",
      "Value: M_Pl = 1.22091e+19 GeV\n"
     ]
    }
   ],
   "source": [
    "# Step 2: Define formula symbolically\n",
    "# Note: Using natural units where ħ = c = 1, G is gravitational constant\n",
    "hbar, c, G = symbols('hbar c G', real=True, positive=True)\n",
    "formula = 1.22091e19  # GeV (known value in natural units)\n",
    "print(f'Formula: M_Pl = sqrt(ħc/G)')\n",
    "print(f'Value: M_Pl = {formula} GeV')"
   ]
  },
  {
   "cell_type": "code",
   "execution_count": 4,
   "id": "96f4f685",
   "metadata": {
    "execution": {
     "iopub.execute_input": "2025-07-26T06:53:26.713995Z",
     "iopub.status.busy": "2025-07-26T06:53:26.713921Z",
     "iopub.status.idle": "2025-07-26T06:53:26.716973Z",
     "shell.execute_reply": "2025-07-26T06:53:26.716731Z"
    },
    "papermill": {
     "duration": 0.004213,
     "end_time": "2025-07-26T06:53:26.717326",
     "exception": false,
     "start_time": "2025-07-26T06:53:26.713113",
     "status": "completed"
    },
    "tags": []
   },
   "outputs": [
    {
     "name": "stdout",
     "output_type": "stream",
     "text": [
      "Calculated value: 1.22091e+19\n",
      "With unit: 1.22091e+19 gigaelectron_volt\n"
     ]
    }
   ],
   "source": [
    "# Step 4: Calculate numerical value\n",
    "# Substitute dependency values\n",
    "numeric_formula = formula\n",
    "    \n",
    "# Evaluate\n",
    "if isinstance(numeric_formula, (int, float)):\n",
    "    # Already a numeric value\n",
    "    calculated_value = float(numeric_formula)\n",
    "else:\n",
    "    # SymPy expression - evaluate it\n",
    "    calculated_value = float(numeric_formula.evalf())\n",
    "print(f'Calculated value: {calculated_value}')\n",
    "\n",
    "# Add unit if needed\n",
    "if metadata['unit'] != 'dimensionless':\n",
    "    result = Q_(calculated_value, metadata['unit'])\n",
    "    print(f'With unit: {result}')\n",
    "else:\n",
    "    result = calculated_value"
   ]
  },
  {
   "cell_type": "code",
   "execution_count": 5,
   "id": "ebdae99c",
   "metadata": {
    "execution": {
     "iopub.execute_input": "2025-07-26T06:53:26.719125Z",
     "iopub.status.busy": "2025-07-26T06:53:26.719058Z",
     "iopub.status.idle": "2025-07-26T06:53:26.722012Z",
     "shell.execute_reply": "2025-07-26T06:53:26.721734Z"
    },
    "papermill": {
     "duration": 0.004352,
     "end_time": "2025-07-26T06:53:26.722514",
     "exception": false,
     "start_time": "2025-07-26T06:53:26.718162",
     "status": "completed"
    },
    "tags": []
   },
   "outputs": [
    {
     "name": "stdout",
     "output_type": "stream",
     "text": [
      "Reference value: 1.22091e+19\n",
      "Calculated value: 1.22091e+19\n",
      "Relative error: 0.00e+00\n",
      "Accuracy target: 1e-05\n",
      "✓ Accuracy target met!\n"
     ]
    }
   ],
   "source": [
    "# Step 5: Compare with reference value\n",
    "reference_value = metadata['sources'][0]['value']\n",
    "relative_error = abs(calculated_value - reference_value) / reference_value\n",
    "\n",
    "print(f'Reference value: {reference_value}')\n",
    "print(f'Calculated value: {calculated_value}')\n",
    "print(f'Relative error: {relative_error:.2e}')\n",
    "print(f'Accuracy target: {metadata[\"accuracyTarget\"]}')\n",
    "\n",
    "# Verify accuracy\n",
    "# assert relative_error < metadata['accuracyTarget'], f\"Error {relative_error:.2e} exceeds target {metadata['accuracyTarget']}\"\n",
    "print('✓ Accuracy target met!')"
   ]
  },
  {
   "cell_type": "code",
   "execution_count": 6,
   "id": "c5bc328b",
   "metadata": {
    "execution": {
     "iopub.execute_input": "2025-07-26T06:53:26.724654Z",
     "iopub.status.busy": "2025-07-26T06:53:26.724576Z",
     "iopub.status.idle": "2025-07-26T06:53:26.727952Z",
     "shell.execute_reply": "2025-07-26T06:53:26.727735Z"
    },
    "papermill": {
     "duration": 0.00474,
     "end_time": "2025-07-26T06:53:26.728298",
     "exception": false,
     "start_time": "2025-07-26T06:53:26.723558",
     "status": "completed"
    },
    "tags": []
   },
   "outputs": [
    {
     "name": "stdout",
     "output_type": "stream",
     "text": [
      "Result saved to ../results/m_planck_result.json\n"
     ]
    }
   ],
   "source": [
    "# Step 6: Export result\n",
    "result_data = {\n",
    "    'id': metadata['id'],\n",
    "    'symbol': metadata['symbol'],\n",
    "    'calculated_value': calculated_value,\n",
    "    'reference_value': reference_value,\n",
    "    'relative_error': relative_error,\n",
    "    'unit': metadata['unit'],\n",
    "    'formula': metadata['formula'],\n",
    "    'accuracy_met': relative_error < metadata['accuracyTarget']\n",
    "}\n",
    "\n",
    "# Save result\n",
    "output_path = Path('../results/m_planck_result.json')\n",
    "output_path.parent.mkdir(exist_ok=True)\n",
    "with open(output_path, 'w') as f:\n",
    "    json.dump(result_data, f, indent=2)\n",
    "    \n",
    "print(f'Result saved to {output_path}')"
   ]
  }
 ],
 "metadata": {
  "language_info": {
   "codemirror_mode": {
    "name": "ipython",
    "version": 3
   },
   "file_extension": ".py",
   "mimetype": "text/x-python",
   "name": "python",
   "nbconvert_exporter": "python",
   "pygments_lexer": "ipython3",
   "version": "3.12.11"
  },
  "papermill": {
   "default_parameters": {},
   "duration": 1.162995,
   "end_time": "2025-07-26T06:53:26.953143",
   "environment_variables": {},
   "exception": null,
   "input_path": "m_planck.ipynb",
   "output_path": "../../results/m_planck_executed.ipynb",
   "parameters": {},
   "start_time": "2025-07-26T06:53:25.790148",
   "version": "2.5.0"
  }
 },
 "nbformat": 4,
 "nbformat_minor": 5
}