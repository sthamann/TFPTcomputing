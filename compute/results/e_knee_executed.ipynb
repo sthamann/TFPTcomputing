{
 "cells": [
  {
   "cell_type": "markdown",
   "id": "d8f81db3",
   "metadata": {
    "papermill": {
     "duration": 0.006608,
     "end_time": "2025-07-26T06:55:01.960851",
     "exception": false,
     "start_time": "2025-07-26T06:55:01.954243",
     "status": "completed"
    },
    "tags": []
   },
   "source": [
    "# Cosmic-ray knee energy (E_knee)\n",
    "\n",
    "Cosmic-ray spectrum feature from cascade\n",
    "\n",
    "Formula: E_knee = M_Pl φ₀²⁰"
   ]
  },
  {
   "cell_type": "code",
   "execution_count": 1,
   "id": "1a4d92b8",
   "metadata": {
    "execution": {
     "iopub.execute_input": "2025-07-26T06:55:01.964539Z",
     "iopub.status.busy": "2025-07-26T06:55:01.964270Z",
     "iopub.status.idle": "2025-07-26T06:55:02.136208Z",
     "shell.execute_reply": "2025-07-26T06:55:02.135700Z"
    },
    "papermill": {
     "duration": 0.174418,
     "end_time": "2025-07-26T06:55:02.136875",
     "exception": false,
     "start_time": "2025-07-26T06:55:01.962457",
     "status": "completed"
    },
    "tags": []
   },
   "outputs": [],
   "source": [
    "import json\n",
    "import numpy as np\n",
    "from sympy import symbols, pi, log, sqrt\n",
    "\n",
    "# Note: Full calculation implementation needed\n",
    "# Formula: E_knee = M_Pl φ₀²⁰\n",
    "# Dependencies: m_planck, phi_0\n",
    "# Expected value: 2.9"
   ]
  }
 ],
 "metadata": {
  "kernelspec": {
   "display_name": "Python 3",
   "language": "python",
   "name": "python3"
  },
  "language_info": {
   "codemirror_mode": {
    "name": "ipython",
    "version": 3
   },
   "file_extension": ".py",
   "mimetype": "text/x-python",
   "name": "python",
   "nbconvert_exporter": "python",
   "pygments_lexer": "ipython3",
   "version": "3.12.11"
  },
  "papermill": {
   "default_parameters": {},
   "duration": 1.01809,
   "end_time": "2025-07-26T06:55:02.360500",
   "environment_variables": {},
   "exception": null,
   "input_path": "e_knee.ipynb",
   "output_path": "../../results/e_knee_executed.ipynb",
   "parameters": {},
   "start_time": "2025-07-26T06:55:01.342410",
   "version": "2.5.0"
  }
 },
 "nbformat": 4,
 "nbformat_minor": 5
}