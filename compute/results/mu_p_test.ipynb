{
 "cells": [
  {
   "cell_type": "markdown",
   "id": "a49c3fef",
   "metadata": {
    "papermill": {
     "duration": null,
     "end_time": null,
     "exception": null,
     "start_time": null,
     "status": "completed"
    },
    "tags": []
   },
   "source": [
    "# Proton magnetic moment (μ_p)\n",
    "\n",
    "Proton magnetic moment in nuclear magnetons\n",
    "\n",
    "Formula: μ_p = (1+φ₀) (q_Pl ħ)/(2 m_p c_TFP)"
   ]
  },
  {
   "cell_type": "code",
   "execution_count": null,
   "id": "4c25b1a3",
   "metadata": {
    "papermill": {
     "duration": null,
     "end_time": null,
     "exception": null,
     "start_time": null,
     "status": "completed"
    },
    "tags": []
   },
   "outputs": [],
   "source": [
    "import json\n",
    "import numpy as np\n",
    "from sympy import symbols, pi, log, sqrt\n",
    "\n",
    "# Note: Full calculation implementation needed\n",
    "# Formula: μ_p = (1+φ₀) (q_Pl ħ)/(2 m_p c_TFP)\n",
    "# Dependencies: phi_0, q_pl, m_p, c_tfp\n",
    "# Expected value: 2.792"
   ]
  }
 ],
 "metadata": {
  "kernelspec": {
   "display_name": "Python 3",
   "language": "python",
   "name": "python3"
  },
  "papermill": {
   "default_parameters": {},
   "duration": 0.01995,
   "end_time": "2025-07-25T18:17:26.886394",
   "environment_variables": {},
   "exception": null,
   "input_path": "constants/notebooks/mu_p.ipynb",
   "output_path": "compute/results/mu_p_test.ipynb",
   "parameters": {},
   "start_time": "2025-07-25T18:17:26.866444",
   "version": "2.6.0"
  }
 },
 "nbformat": 4,
 "nbformat_minor": 5
}