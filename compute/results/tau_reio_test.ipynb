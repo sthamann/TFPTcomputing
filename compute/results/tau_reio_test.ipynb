{
 "cells": [
  {
   "cell_type": "markdown",
   "id": "8ad6b122",
   "metadata": {
    "papermill": {
     "duration": null,
     "end_time": null,
     "exception": null,
     "start_time": null,
     "status": "completed"
    },
    "tags": []
   },
   "source": [
    "# Optical depth to re-ionisation (τ_reio)\n",
    "\n",
    "Thomson optical depth to reionization\n",
    "\n",
    "Formula: τ_reio = 2 c₃ φ₀⁵"
   ]
  },
  {
   "cell_type": "code",
   "execution_count": null,
   "id": "c5752a60",
   "metadata": {
    "papermill": {
     "duration": null,
     "end_time": null,
     "exception": null,
     "start_time": null,
     "status": "completed"
    },
    "tags": []
   },
   "outputs": [],
   "source": [
    "import json\n",
    "import numpy as np\n",
    "from sympy import symbols, pi, log, sqrt\n",
    "\n",
    "# Note: Full calculation implementation needed\n",
    "# Formula: τ_reio = 2 c₃ φ₀⁵\n",
    "# Dependencies: c_3, phi_0\n",
    "# Expected value: 0.054"
   ]
  }
 ],
 "metadata": {
  "kernelspec": {
   "display_name": "Python 3",
   "language": "python",
   "name": "python3"
  },
  "papermill": {
   "default_parameters": {},
   "duration": 0.021581,
   "end_time": "2025-07-25T18:17:28.684544",
   "environment_variables": {},
   "exception": null,
   "input_path": "constants/notebooks/tau_reio.ipynb",
   "output_path": "compute/results/tau_reio_test.ipynb",
   "parameters": {},
   "start_time": "2025-07-25T18:17:28.662963",
   "version": "2.6.0"
  }
 },
 "nbformat": 4,
 "nbformat_minor": 5
}