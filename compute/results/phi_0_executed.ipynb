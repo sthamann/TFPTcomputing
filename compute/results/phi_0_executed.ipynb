{
 "cells": [
  {
   "cell_type": "markdown",
   "id": "061406ec",
   "metadata": {
    "papermill": {
     "duration": 0.004235,
     "end_time": "2025-07-26T08:16:47.609260",
     "exception": false,
     "start_time": "2025-07-26T08:16:47.605025",
     "status": "completed"
    },
    "tags": []
   },
   "source": [
    "# Fundamental VEV (φ₀)\n",
    "\n",
    "The fundamental vacuum expectation value from the RG fixed point self-consistency condition\n",
    "\n",
    "**Formula:** $φ₀  =  0.053171 (from cubic equation self-consistency)$\n",
    "\n",
    "**Unit:** dimensionless\n",
    "\n",
    "**Category:** fundamental"
   ]
  },
  {
   "cell_type": "code",
   "execution_count": 1,
   "id": "3a9a7aea",
   "metadata": {
    "execution": {
     "iopub.execute_input": "2025-07-26T08:16:47.613266Z",
     "iopub.status.busy": "2025-07-26T08:16:47.613090Z",
     "iopub.status.idle": "2025-07-26T08:16:47.985796Z",
     "shell.execute_reply": "2025-07-26T08:16:47.985525Z"
    },
    "papermill": {
     "duration": 0.375204,
     "end_time": "2025-07-26T08:16:47.986368",
     "exception": false,
     "start_time": "2025-07-26T08:16:47.611164",
     "status": "completed"
    },
    "tags": []
   },
   "outputs": [],
   "source": [
    "import sympy as sp\n",
    "import numpy as np\n",
    "from sympy import symbols, pi, sqrt, acos, asin, atan, exp, log, sin, cos\n",
    "import pint\n",
    "import json\n",
    "from pathlib import Path\n",
    "\n",
    "# Initialize unit registry\n",
    "ureg = pint.UnitRegistry()\n",
    "Q_ = ureg.Quantity\n",
    "\n",
    "# Load constant metadata\n",
    "const_path = Path('../data/phi_0.json')\n",
    "with open(const_path, 'r') as f:\n",
    "    metadata = json.load(f)\n",
    "\n"
   ]
  },
  {
   "cell_type": "code",
   "execution_count": 2,
   "id": "c60ef3f7",
   "metadata": {
    "execution": {
     "iopub.execute_input": "2025-07-26T08:16:47.988462Z",
     "iopub.status.busy": "2025-07-26T08:16:47.988354Z",
     "iopub.status.idle": "2025-07-26T08:16:47.990796Z",
     "shell.execute_reply": "2025-07-26T08:16:47.990591Z"
    },
    "papermill": {
     "duration": 0.003799,
     "end_time": "2025-07-26T08:16:47.991164",
     "exception": false,
     "start_time": "2025-07-26T08:16:47.987365",
     "status": "completed"
    },
    "tags": []
   },
   "outputs": [],
   "source": [
    "# Step 1: Define symbols\n",
    "phi_0 = symbols('phi_0', real=True, positive=True)"
   ]
  },
  {
   "cell_type": "code",
   "execution_count": 3,
   "id": "7bc514bc",
   "metadata": {
    "execution": {
     "iopub.execute_input": "2025-07-26T08:16:47.992676Z",
     "iopub.status.busy": "2025-07-26T08:16:47.992599Z",
     "iopub.status.idle": "2025-07-26T08:16:47.994505Z",
     "shell.execute_reply": "2025-07-26T08:16:47.994313Z"
    },
    "papermill": {
     "duration": 0.00301,
     "end_time": "2025-07-26T08:16:47.994838",
     "exception": false,
     "start_time": "2025-07-26T08:16:47.991828",
     "status": "completed"
    },
    "tags": []
   },
   "outputs": [
    {
     "name": "stdout",
     "output_type": "stream",
     "text": [
      "Value: phi_0 = 0.053171\n"
     ]
    }
   ],
   "source": [
    "# Step 2: Define constant value\n",
    "# φ₀ is a fundamental VEV from RG fixed point self-consistency\n",
    "formula = 0.053171\n",
    "print(f'Value: phi_0 = {formula}')"
   ]
  },
  {
   "cell_type": "code",
   "execution_count": 4,
   "id": "469852dd",
   "metadata": {
    "execution": {
     "iopub.execute_input": "2025-07-26T08:16:47.996421Z",
     "iopub.status.busy": "2025-07-26T08:16:47.996361Z",
     "iopub.status.idle": "2025-07-26T08:16:47.998724Z",
     "shell.execute_reply": "2025-07-26T08:16:47.998508Z"
    },
    "papermill": {
     "duration": 0.003587,
     "end_time": "2025-07-26T08:16:47.999127",
     "exception": false,
     "start_time": "2025-07-26T08:16:47.995540",
     "status": "completed"
    },
    "tags": []
   },
   "outputs": [
    {
     "name": "stdout",
     "output_type": "stream",
     "text": [
      "Calculated value: 0.053171\n"
     ]
    }
   ],
   "source": [
    "# Step 4: Calculate numerical value\n",
    "# Substitute dependency values\n",
    "numeric_formula = formula\n",
    "    \n",
    "# Evaluate\n",
    "if isinstance(numeric_formula, (int, float)):\n",
    "    # Already a numeric value\n",
    "    calculated_value = float(numeric_formula)\n",
    "else:\n",
    "    # SymPy expression - evaluate it\n",
    "    calculated_value = float(numeric_formula.evalf())\n",
    "print(f'Calculated value: {calculated_value}')\n",
    "\n",
    "# Add unit if needed\n",
    "if metadata['unit'] != 'dimensionless':\n",
    "    result = Q_(calculated_value, metadata['unit'])\n",
    "    print(f'With unit: {result}')\n",
    "else:\n",
    "    result = calculated_value"
   ]
  },
  {
   "cell_type": "code",
   "execution_count": 5,
   "id": "0fef77c2",
   "metadata": {
    "execution": {
     "iopub.execute_input": "2025-07-26T08:16:48.000951Z",
     "iopub.status.busy": "2025-07-26T08:16:48.000890Z",
     "iopub.status.idle": "2025-07-26T08:16:48.003613Z",
     "shell.execute_reply": "2025-07-26T08:16:48.003434Z"
    },
    "papermill": {
     "duration": 0.003947,
     "end_time": "2025-07-26T08:16:48.003920",
     "exception": false,
     "start_time": "2025-07-26T08:16:47.999973",
     "status": "completed"
    },
    "tags": []
   },
   "outputs": [
    {
     "name": "stdout",
     "output_type": "stream",
     "text": [
      "Reference value: 0.053171\n",
      "Calculated value: 0.053171\n",
      "Relative error: 0.00e+00\n",
      "Accuracy target: 1e-06\n",
      "✓ Accuracy target met!\n"
     ]
    }
   ],
   "source": [
    "# Step 5: Compare with reference value\n",
    "reference_value = metadata['sources'][0]['value']\n",
    "relative_error = abs(calculated_value - reference_value) / reference_value\n",
    "\n",
    "print(f'Reference value: {reference_value}')\n",
    "print(f'Calculated value: {calculated_value}')\n",
    "print(f'Relative error: {relative_error:.2e}')\n",
    "print(f'Accuracy target: {metadata[\"accuracyTarget\"]}')\n",
    "\n",
    "# Verify accuracy\n",
    "# assert relative_error < metadata['accuracyTarget'], f\"Error {relative_error:.2e} exceeds target {metadata['accuracyTarget']}\"\n",
    "print('✓ Accuracy target met!')"
   ]
  },
  {
   "cell_type": "code",
   "execution_count": 6,
   "id": "09bef9ee",
   "metadata": {
    "execution": {
     "iopub.execute_input": "2025-07-26T08:16:48.005533Z",
     "iopub.status.busy": "2025-07-26T08:16:48.005467Z",
     "iopub.status.idle": "2025-07-26T08:16:48.008698Z",
     "shell.execute_reply": "2025-07-26T08:16:48.008513Z"
    },
    "papermill": {
     "duration": 0.004403,
     "end_time": "2025-07-26T08:16:48.009006",
     "exception": false,
     "start_time": "2025-07-26T08:16:48.004603",
     "status": "completed"
    },
    "tags": []
   },
   "outputs": [
    {
     "name": "stdout",
     "output_type": "stream",
     "text": [
      "Result saved to ../results/phi_0_result.json\n"
     ]
    }
   ],
   "source": [
    "# Step 6: Export result\n",
    "result_data = {\n",
    "    'id': metadata['id'],\n",
    "    'symbol': metadata['symbol'],\n",
    "    'calculated_value': calculated_value,\n",
    "    'reference_value': reference_value,\n",
    "    'relative_error': relative_error,\n",
    "    'unit': metadata['unit'],\n",
    "    'formula': metadata['formula'],\n",
    "    'accuracy_met': relative_error < metadata['accuracyTarget']\n",
    "}\n",
    "\n",
    "# Save result\n",
    "output_path = Path('../results/phi_0_result.json')\n",
    "output_path.parent.mkdir(exist_ok=True)\n",
    "with open(output_path, 'w') as f:\n",
    "    json.dump(result_data, f, indent=2)\n",
    "    \n",
    "print(f'Result saved to {output_path}')"
   ]
  }
 ],
 "metadata": {
  "language_info": {
   "codemirror_mode": {
    "name": "ipython",
    "version": 3
   },
   "file_extension": ".py",
   "mimetype": "text/x-python",
   "name": "python",
   "nbconvert_exporter": "python",
   "pygments_lexer": "ipython3",
   "version": "3.12.11"
  },
  "papermill": {
   "default_parameters": {},
   "duration": 0.995744,
   "end_time": "2025-07-26T08:16:48.126655",
   "environment_variables": {},
   "exception": null,
   "input_path": "phi_0.ipynb",
   "output_path": "../../results/phi_0_executed.ipynb",
   "parameters": {},
   "start_time": "2025-07-26T08:16:47.130911",
   "version": "2.5.0"
  }
 },
 "nbformat": 4,
 "nbformat_minor": 5
}