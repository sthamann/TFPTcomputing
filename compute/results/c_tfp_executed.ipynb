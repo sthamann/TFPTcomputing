{
 "cells": [
  {
   "cell_type": "markdown",
   "id": "1809b043",
   "metadata": {
    "papermill": {
     "duration": 0.003289,
     "end_time": "2025-07-26T07:04:16.510997",
     "exception": false,
     "start_time": "2025-07-26T07:04:16.507708",
     "status": "completed"
    },
    "tags": []
   },
   "source": [
    "# Speed of light derived (c_TFP)\n",
    "\n",
    "Speed of light as output, not axiom\n",
    "\n",
    "Formula: c_TFP = λ★/τ★ = 4πM_Pl√(ħ/G)/φ₀⁵"
   ]
  },
  {
   "cell_type": "code",
   "execution_count": 1,
   "id": "8b386138",
   "metadata": {
    "execution": {
     "iopub.execute_input": "2025-07-26T07:04:16.515981Z",
     "iopub.status.busy": "2025-07-26T07:04:16.515829Z",
     "iopub.status.idle": "2025-07-26T07:04:16.675804Z",
     "shell.execute_reply": "2025-07-26T07:04:16.675484Z"
    },
    "papermill": {
     "duration": 0.163781,
     "end_time": "2025-07-26T07:04:16.676438",
     "exception": false,
     "start_time": "2025-07-26T07:04:16.512657",
     "status": "completed"
    },
    "tags": []
   },
   "outputs": [],
   "source": [
    "import json\n",
    "import numpy as np\n",
    "from sympy import symbols, pi, log, sqrt\n",
    "\n",
    "# Note: Full calculation implementation needed\n",
    "# Formula: c_TFP = λ★/τ★ = 4πM_Pl√(ħ/G)/φ₀⁵\n",
    "# Dependencies: lambda_star, tau_star, m_planck, phi_0\n",
    "# Expected value: 299790000.0"
   ]
  }
 ],
 "metadata": {
  "kernelspec": {
   "display_name": "Python 3",
   "language": "python",
   "name": "python3"
  },
  "language_info": {
   "codemirror_mode": {
    "name": "ipython",
    "version": 3
   },
   "file_extension": ".py",
   "mimetype": "text/x-python",
   "name": "python",
   "nbconvert_exporter": "python",
   "pygments_lexer": "ipython3",
   "version": "3.12.11"
  },
  "papermill": {
   "default_parameters": {},
   "duration": 1.022303,
   "end_time": "2025-07-26T07:04:16.899951",
   "environment_variables": {},
   "exception": null,
   "input_path": "c_tfp.ipynb",
   "output_path": "../../results/c_tfp_executed.ipynb",
   "parameters": {},
   "start_time": "2025-07-26T07:04:15.877648",
   "version": "2.5.0"
  }
 },
 "nbformat": 4,
 "nbformat_minor": 5
}