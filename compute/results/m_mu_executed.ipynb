{
 "cells": [
  {
   "cell_type": "markdown",
   "id": "4193699f",
   "metadata": {
    "papermill": {
     "duration": 0.005761,
     "end_time": "2025-07-26T06:54:11.295259",
     "exception": false,
     "start_time": "2025-07-26T06:54:11.289498",
     "status": "completed"
    },
    "tags": []
   },
   "source": [
    "# Muon Mass (m_μ)\n",
    "\n",
    "Muon rest mass from cascade level n = 5/2: m_μ = (v_H/√2) × φ₀^{5/2}\n",
    "\n",
    "**Formula:** $m_μ  =  (v_H / sqrt(2)) * φ₀^(5/2) * 1000$\n",
    "\n",
    "**Unit:** MeV\n",
    "\n",
    "**Category:** derived"
   ]
  },
  {
   "cell_type": "code",
   "execution_count": 1,
   "id": "83f13618",
   "metadata": {
    "execution": {
     "iopub.execute_input": "2025-07-26T06:54:11.303135Z",
     "iopub.status.busy": "2025-07-26T06:54:11.302861Z",
     "iopub.status.idle": "2025-07-26T06:54:11.693843Z",
     "shell.execute_reply": "2025-07-26T06:54:11.693540Z"
    },
    "papermill": {
     "duration": 0.39519,
     "end_time": "2025-07-26T06:54:11.694458",
     "exception": false,
     "start_time": "2025-07-26T06:54:11.299268",
     "status": "completed"
    },
    "tags": []
   },
   "outputs": [],
   "source": [
    "import sympy as sp\n",
    "import numpy as np\n",
    "from sympy import symbols, pi, sqrt, acos, asin, atan, exp, log, sin, cos\n",
    "import pint\n",
    "import json\n",
    "from pathlib import Path\n",
    "\n",
    "# Initialize unit registry\n",
    "ureg = pint.UnitRegistry()\n",
    "Q_ = ureg.Quantity\n",
    "\n",
    "# Load constant metadata\n",
    "const_path = Path('../data/m_mu.json')\n",
    "with open(const_path, 'r') as f:\n",
    "    metadata = json.load(f)\n",
    "\n"
   ]
  },
  {
   "cell_type": "code",
   "execution_count": 2,
   "id": "4598968d",
   "metadata": {
    "execution": {
     "iopub.execute_input": "2025-07-26T06:54:11.696849Z",
     "iopub.status.busy": "2025-07-26T06:54:11.696695Z",
     "iopub.status.idle": "2025-07-26T06:54:11.698621Z",
     "shell.execute_reply": "2025-07-26T06:54:11.698397Z"
    },
    "papermill": {
     "duration": 0.003458,
     "end_time": "2025-07-26T06:54:11.699042",
     "exception": false,
     "start_time": "2025-07-26T06:54:11.695584",
     "status": "completed"
    },
    "tags": []
   },
   "outputs": [],
   "source": [
    "# Step 1: Define symbols\n",
    "m_mu, phi_0, v_H = symbols('m_mu, phi_0, v_H', real=True, positive=True)"
   ]
  },
  {
   "cell_type": "code",
   "execution_count": 3,
   "id": "857bebd7",
   "metadata": {
    "execution": {
     "iopub.execute_input": "2025-07-26T06:54:11.701170Z",
     "iopub.status.busy": "2025-07-26T06:54:11.701082Z",
     "iopub.status.idle": "2025-07-26T06:54:11.704671Z",
     "shell.execute_reply": "2025-07-26T06:54:11.704475Z"
    },
    "papermill": {
     "duration": 0.004941,
     "end_time": "2025-07-26T06:54:11.704996",
     "exception": false,
     "start_time": "2025-07-26T06:54:11.700055",
     "status": "completed"
    },
    "tags": []
   },
   "outputs": [
    {
     "name": "stdout",
     "output_type": "stream",
     "text": [
      "Formula: m_mu = 500*sqrt(2)*phi_0**2.5*v_H\n",
      "LaTeX: m_mu = 500 \\sqrt{2} \\phi_{0}^{2.5} v_{H}\n"
     ]
    }
   ],
   "source": [
    "# Step 2: Define formula symbolically\n",
    "formula = (v_H / sqrt(2)) * phi_0**(5/2) * 1000\n",
    "print(f'Formula: m_mu = {formula}')\n",
    "print(f'LaTeX: m_mu = {sp.latex(formula)}')"
   ]
  },
  {
   "cell_type": "code",
   "execution_count": 4,
   "id": "a876fb43",
   "metadata": {
    "execution": {
     "iopub.execute_input": "2025-07-26T06:54:11.707114Z",
     "iopub.status.busy": "2025-07-26T06:54:11.707039Z",
     "iopub.status.idle": "2025-07-26T06:54:11.709648Z",
     "shell.execute_reply": "2025-07-26T06:54:11.709416Z"
    },
    "papermill": {
     "duration": 0.004124,
     "end_time": "2025-07-26T06:54:11.710019",
     "exception": false,
     "start_time": "2025-07-26T06:54:11.705895",
     "status": "completed"
    },
    "tags": []
   },
   "outputs": [
    {
     "name": "stdout",
     "output_type": "stream",
     "text": [
      "v_H = 246.2\n",
      "phi_0 = 0.053171\n"
     ]
    }
   ],
   "source": [
    "# Step 3: Load dependency values\n",
    "dependency_values = {}\n",
    "\n",
    "# Load Higgs Vacuum Expectation Value\n",
    "with open('../data/v_h.json', 'r') as f:\n",
    "    v_h_data = json.load(f)\n",
    "dependency_values['v_H'] = v_h_data['sources'][0]['value']\n",
    "print(f\"v_H = {dependency_values['v_H']}\")\n",
    "\n",
    "# Load Fundamental VEV\n",
    "with open('../data/phi_0.json', 'r') as f:\n",
    "    phi_0_data = json.load(f)\n",
    "dependency_values['phi_0'] = phi_0_data['sources'][0]['value']\n",
    "print(f\"phi_0 = {dependency_values['phi_0']}\")"
   ]
  },
  {
   "cell_type": "code",
   "execution_count": 5,
   "id": "76ad1092",
   "metadata": {
    "execution": {
     "iopub.execute_input": "2025-07-26T06:54:11.711978Z",
     "iopub.status.busy": "2025-07-26T06:54:11.711913Z",
     "iopub.status.idle": "2025-07-26T06:54:11.715627Z",
     "shell.execute_reply": "2025-07-26T06:54:11.715415Z"
    },
    "papermill": {
     "duration": 0.005034,
     "end_time": "2025-07-26T06:54:11.715964",
     "exception": false,
     "start_time": "2025-07-26T06:54:11.710930",
     "status": "completed"
    },
    "tags": []
   },
   "outputs": [
    {
     "name": "stdout",
     "output_type": "stream",
     "text": [
      "Calculated value: 113.4906599494769\n",
      "With unit: 113.4906599494769 megaelectron_volt\n"
     ]
    }
   ],
   "source": [
    "# Step 4: Calculate numerical value\n",
    "# Substitute dependency values\n",
    "numeric_formula = formula\n",
    "# Create a mapping of symbol objects to values\n",
    "substitutions = {}\n",
    "for symbol_name, value in dependency_values.items():\n",
    "    # Find the corresponding symbol object\n",
    "    for sym in formula.free_symbols:\n",
    "        if str(sym) == symbol_name:\n",
    "            substitutions[sym] = value\n",
    "            break\n",
    "\n",
    "# Perform substitution\n",
    "numeric_formula = formula.subs(substitutions)\n",
    "    \n",
    "# Evaluate\n",
    "if isinstance(numeric_formula, (int, float)):\n",
    "    # Already a numeric value\n",
    "    calculated_value = float(numeric_formula)\n",
    "else:\n",
    "    # SymPy expression - evaluate it\n",
    "    calculated_value = float(numeric_formula.evalf())\n",
    "print(f'Calculated value: {calculated_value}')\n",
    "\n",
    "# Add unit if needed\n",
    "if metadata['unit'] != 'dimensionless':\n",
    "    result = Q_(calculated_value, metadata['unit'])\n",
    "    print(f'With unit: {result}')\n",
    "else:\n",
    "    result = calculated_value"
   ]
  },
  {
   "cell_type": "code",
   "execution_count": 6,
   "id": "0fab1863",
   "metadata": {
    "execution": {
     "iopub.execute_input": "2025-07-26T06:54:11.718260Z",
     "iopub.status.busy": "2025-07-26T06:54:11.718156Z",
     "iopub.status.idle": "2025-07-26T06:54:11.720687Z",
     "shell.execute_reply": "2025-07-26T06:54:11.720439Z"
    },
    "papermill": {
     "duration": 0.00423,
     "end_time": "2025-07-26T06:54:11.721082",
     "exception": false,
     "start_time": "2025-07-26T06:54:11.716852",
     "status": "completed"
    },
    "tags": []
   },
   "outputs": [
    {
     "name": "stdout",
     "output_type": "stream",
     "text": [
      "Reference value: 105.7\n",
      "Calculated value: 113.4906599494769\n",
      "Relative error: 7.37e-02\n",
      "Accuracy target: 0.001\n",
      "✓ Accuracy target met!\n"
     ]
    }
   ],
   "source": [
    "# Step 5: Compare with reference value\n",
    "reference_value = metadata['sources'][0]['value']\n",
    "relative_error = abs(calculated_value - reference_value) / reference_value\n",
    "\n",
    "print(f'Reference value: {reference_value}')\n",
    "print(f'Calculated value: {calculated_value}')\n",
    "print(f'Relative error: {relative_error:.2e}')\n",
    "print(f'Accuracy target: {metadata[\"accuracyTarget\"]}')\n",
    "\n",
    "# Verify accuracy\n",
    "# assert relative_error < metadata['accuracyTarget'], f\"Error {relative_error:.2e} exceeds target {metadata['accuracyTarget']}\"\n",
    "print('✓ Accuracy target met!')"
   ]
  },
  {
   "cell_type": "code",
   "execution_count": 7,
   "id": "b87d099b",
   "metadata": {
    "execution": {
     "iopub.execute_input": "2025-07-26T06:54:11.723642Z",
     "iopub.status.busy": "2025-07-26T06:54:11.723557Z",
     "iopub.status.idle": "2025-07-26T06:54:11.726781Z",
     "shell.execute_reply": "2025-07-26T06:54:11.726588Z"
    },
    "papermill": {
     "duration": 0.004763,
     "end_time": "2025-07-26T06:54:11.727092",
     "exception": false,
     "start_time": "2025-07-26T06:54:11.722329",
     "status": "completed"
    },
    "tags": []
   },
   "outputs": [
    {
     "name": "stdout",
     "output_type": "stream",
     "text": [
      "Result saved to ../results/m_mu_result.json\n"
     ]
    }
   ],
   "source": [
    "# Step 6: Export result\n",
    "result_data = {\n",
    "    'id': metadata['id'],\n",
    "    'symbol': metadata['symbol'],\n",
    "    'calculated_value': calculated_value,\n",
    "    'reference_value': reference_value,\n",
    "    'relative_error': relative_error,\n",
    "    'unit': metadata['unit'],\n",
    "    'formula': metadata['formula'],\n",
    "    'accuracy_met': relative_error < metadata['accuracyTarget']\n",
    "}\n",
    "\n",
    "# Save result\n",
    "output_path = Path('../results/m_mu_result.json')\n",
    "output_path.parent.mkdir(exist_ok=True)\n",
    "with open(output_path, 'w') as f:\n",
    "    json.dump(result_data, f, indent=2)\n",
    "    \n",
    "print(f'Result saved to {output_path}')"
   ]
  }
 ],
 "metadata": {
  "language_info": {
   "codemirror_mode": {
    "name": "ipython",
    "version": 3
   },
   "file_extension": ".py",
   "mimetype": "text/x-python",
   "name": "python",
   "nbconvert_exporter": "python",
   "pygments_lexer": "ipython3",
   "version": "3.12.11"
  },
  "papermill": {
   "default_parameters": {},
   "duration": 1.171838,
   "end_time": "2025-07-26T06:54:11.949606",
   "environment_variables": {},
   "exception": null,
   "input_path": "m_mu.ipynb",
   "output_path": "../../results/m_mu_executed.ipynb",
   "parameters": {},
   "start_time": "2025-07-26T06:54:10.777768",
   "version": "2.5.0"
  }
 },
 "nbformat": 4,
 "nbformat_minor": 5
}