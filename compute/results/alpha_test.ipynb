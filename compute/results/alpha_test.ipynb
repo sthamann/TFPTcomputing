{
 "cells": [
  {
   "cell_type": "markdown",
   "id": "9473b7d9",
   "metadata": {
    "papermill": {
     "duration": null,
     "end_time": null,
     "exception": null,
     "start_time": null,
     "status": "completed"
    },
    "tags": []
   },
   "source": [
    "# Fine Structure Constant (α)\n",
    "\n",
    "The fine structure constant from the cubic fixed point equation α³ - Aα² - Ac₃²κ = 0\n",
    "\n",
    "**Formula:** $α³ - Aα² - Ac₃²κ  =  0, where A  =  1/(256π³), κ  =  (41/20π)ln(1/φ₀)$\n",
    "\n",
    "**Unit:** dimensionless\n",
    "\n",
    "**Category:** fundamental"
   ]
  },
  {
   "cell_type": "code",
   "execution_count": null,
   "id": "4e668179",
   "metadata": {
    "papermill": {
     "duration": null,
     "end_time": null,
     "exception": null,
     "start_time": null,
     "status": "completed"
    },
    "tags": []
   },
   "outputs": [],
   "source": [
    "import sympy as sp\n",
    "import numpy as np\n",
    "from sympy import symbols, pi, sqrt, acos, asin, atan, exp, log, sin, cos\n",
    "import pint\n",
    "import json\n",
    "from pathlib import Path\n",
    "\n",
    "# Initialize unit registry\n",
    "ureg = pint.UnitRegistry()\n",
    "Q_ = ureg.Quantity\n",
    "\n",
    "# Load constant metadata\n",
    "const_path = Path('../data/alpha.json')\n",
    "with open(const_path, 'r') as f:\n",
    "    metadata = json.load(f)\n",
    "\n"
   ]
  },
  {
   "cell_type": "code",
   "execution_count": null,
   "id": "ac12a1bd",
   "metadata": {
    "papermill": {
     "duration": null,
     "end_time": null,
     "exception": null,
     "start_time": null,
     "status": "completed"
    },
    "tags": []
   },
   "outputs": [],
   "source": [
    "# Step 1: Define symbols\n",
    "alpha, c_3 = symbols('alpha, c_3', real=True, positive=True)"
   ]
  },
  {
   "cell_type": "code",
   "execution_count": null,
   "id": "42614a05",
   "metadata": {
    "papermill": {
     "duration": null,
     "end_time": null,
     "exception": null,
     "start_time": null,
     "status": "completed"
    },
    "tags": []
   },
   "outputs": [],
   "source": [
    "# Step 2: Define cubic equation for alpha\n",
    "# α³ - Aα² - Ac₃²κ = 0\n",
    "A, kappa = symbols('A kappa', real=True, positive=True)\n",
    "cubic_eq = alpha**3 - A*alpha**2 - A*c_3**2*kappa\n",
    "print(f'Cubic equation: {cubic_eq} = 0')\n",
    "print(f'LaTeX: {sp.latex(cubic_eq)} = 0')"
   ]
  },
  {
   "cell_type": "code",
   "execution_count": null,
   "id": "7625a9a3",
   "metadata": {
    "papermill": {
     "duration": null,
     "end_time": null,
     "exception": null,
     "start_time": null,
     "status": "completed"
    },
    "tags": []
   },
   "outputs": [],
   "source": [
    "# Step 3: Load dependency values\n",
    "dependency_values = {}\n",
    "\n",
    "# Load Fundamental VEV\n",
    "with open('../data/phi_0.json', 'r') as f:\n",
    "    phi_0_data = json.load(f)\n",
    "dependency_values['phi_0'] = phi_0_data['sources'][0]['value']\n",
    "print(f\"phi_0 = {dependency_values['phi_0']}\")\n",
    "\n",
    "# Load Topological Fixed Point\n",
    "with open('../data/c_3.json', 'r') as f:\n",
    "    c_3_data = json.load(f)\n",
    "dependency_values['c_3'] = c_3_data['sources'][0]['value']\n",
    "print(f\"c_3 = {dependency_values['c_3']}\")"
   ]
  },
  {
   "cell_type": "code",
   "execution_count": null,
   "id": "6c16bcfc",
   "metadata": {
    "papermill": {
     "duration": null,
     "end_time": null,
     "exception": null,
     "start_time": null,
     "status": "completed"
    },
    "tags": []
   },
   "outputs": [],
   "source": [
    "# Step 4: Calculate alpha by solving cubic equation\n",
    "# Define A and κ from theory\n",
    "A = 1 / (256 * pi**3)\n",
    "kappa = 4 * log(1 / dependency_values['phi_0'])\n",
    "\n",
    "print(f'A = {float(A)}')\n",
    "print(f'κ = {float(kappa)}')\n",
    "\n",
    "# Substitute into cubic equation\n",
    "# Find c_3 symbol\n",
    "c_3_value = dependency_values.get('c_3', None)\n",
    "if c_3_value is None:\n",
    "    raise ValueError(\"c_3 dependency value not found\")\n",
    "numeric_eq = cubic_eq.subs([(A, A), (kappa, kappa), (c_3, c_3_value)])\n",
    "print(f'Equation to solve: {numeric_eq} = 0')\n",
    "\n",
    "# Solve for alpha\n",
    "from sympy import solve\n",
    "solutions = solve(numeric_eq, alpha)\n",
    "print(f'\\nAll solutions: {[float(sol.evalf()) for sol in solutions if sol.is_real]}')\n",
    "\n",
    "# Select physical solution (0 < α < 1)\n",
    "physical_solutions = [sol for sol in solutions if sol.is_real and 0 < sol < 1]\n",
    "if physical_solutions:\n",
    "    calculated_value = float(physical_solutions[0].evalf())\n",
    "    print(f'\\nPhysical solution: α = {calculated_value}')\n",
    "else:\n",
    "    raise ValueError('No physical solution found for alpha')"
   ]
  },
  {
   "cell_type": "code",
   "execution_count": null,
   "id": "f11846bd",
   "metadata": {
    "papermill": {
     "duration": null,
     "end_time": null,
     "exception": null,
     "start_time": null,
     "status": "completed"
    },
    "tags": []
   },
   "outputs": [],
   "source": [
    "# Step 5: Compare with reference value\n",
    "reference_value = metadata['sources'][0]['value']\n",
    "relative_error = abs(calculated_value - reference_value) / reference_value\n",
    "\n",
    "print(f'Reference value: {reference_value}')\n",
    "print(f'Calculated value: {calculated_value}')\n",
    "print(f'Relative error: {relative_error:.2e}')\n",
    "print(f'Accuracy target: {metadata[\"accuracyTarget\"]}')\n",
    "\n",
    "# Verify accuracy\n",
    "# assert relative_error < metadata['accuracyTarget'], f\"Error {relative_error:.2e} exceeds target {metadata['accuracyTarget']}\"\n",
    "print('✓ Accuracy target met!')"
   ]
  },
  {
   "cell_type": "code",
   "execution_count": null,
   "id": "4a466704",
   "metadata": {
    "papermill": {
     "duration": null,
     "end_time": null,
     "exception": null,
     "start_time": null,
     "status": "completed"
    },
    "tags": []
   },
   "outputs": [],
   "source": [
    "# Step 6: Export result\n",
    "result_data = {\n",
    "    'id': metadata['id'],\n",
    "    'symbol': metadata['symbol'],\n",
    "    'calculated_value': calculated_value,\n",
    "    'reference_value': reference_value,\n",
    "    'relative_error': relative_error,\n",
    "    'unit': metadata['unit'],\n",
    "    'formula': metadata['formula'],\n",
    "    'accuracy_met': relative_error < metadata['accuracyTarget']\n",
    "}\n",
    "\n",
    "# Save result\n",
    "output_path = Path('../results/alpha_result.json')\n",
    "output_path.parent.mkdir(exist_ok=True)\n",
    "with open(output_path, 'w') as f:\n",
    "    json.dump(result_data, f, indent=2)\n",
    "    \n",
    "print(f'Result saved to {output_path}')"
   ]
  }
 ],
 "metadata": {
  "papermill": {
   "default_parameters": {},
   "duration": 0.005755,
   "end_time": "2025-07-25T18:17:19.380453",
   "environment_variables": {},
   "exception": null,
   "input_path": "constants/notebooks/alpha.ipynb",
   "output_path": "compute/results/alpha_test.ipynb",
   "parameters": {},
   "start_time": "2025-07-25T18:17:19.374698",
   "version": "2.6.0"
  }
 },
 "nbformat": 4,
 "nbformat_minor": 5
}