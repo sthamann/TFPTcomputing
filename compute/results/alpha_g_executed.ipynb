{
 "cells": [
  {
   "cell_type": "markdown",
   "id": "3b33e051",
   "metadata": {
    "papermill": {
     "duration": 0.004126,
     "end_time": "2025-07-26T06:54:05.221493",
     "exception": false,
     "start_time": "2025-07-26T06:54:05.217367",
     "status": "completed"
    },
    "tags": []
   },
   "source": [
    "# Gravitational Coupling (α_G)\n",
    "\n",
    "Gravitational fine structure constant: α_G = G m_p² / (ħc)\n",
    "\n",
    "**Formula:** $α_G  =  (m_p / M_Pl)^2$\n",
    "\n",
    "**Unit:** dimensionless\n",
    "\n",
    "**Category:** derived"
   ]
  },
  {
   "cell_type": "code",
   "execution_count": 1,
   "id": "ebf71610",
   "metadata": {
    "execution": {
     "iopub.execute_input": "2025-07-26T06:54:05.226443Z",
     "iopub.status.busy": "2025-07-26T06:54:05.226325Z",
     "iopub.status.idle": "2025-07-26T06:54:05.624451Z",
     "shell.execute_reply": "2025-07-26T06:54:05.624155Z"
    },
    "papermill": {
     "duration": 0.401217,
     "end_time": "2025-07-26T06:54:05.625065",
     "exception": false,
     "start_time": "2025-07-26T06:54:05.223848",
     "status": "completed"
    },
    "tags": []
   },
   "outputs": [],
   "source": [
    "import sympy as sp\n",
    "import numpy as np\n",
    "from sympy import symbols, pi, sqrt, acos, asin, atan, exp, log, sin, cos\n",
    "import pint\n",
    "import json\n",
    "from pathlib import Path\n",
    "\n",
    "# Initialize unit registry\n",
    "ureg = pint.UnitRegistry()\n",
    "Q_ = ureg.Quantity\n",
    "\n",
    "# Load constant metadata\n",
    "const_path = Path('../data/alpha_g.json')\n",
    "with open(const_path, 'r') as f:\n",
    "    metadata = json.load(f)\n",
    "\n"
   ]
  },
  {
   "cell_type": "code",
   "execution_count": 2,
   "id": "28f53af0",
   "metadata": {
    "execution": {
     "iopub.execute_input": "2025-07-26T06:54:05.627461Z",
     "iopub.status.busy": "2025-07-26T06:54:05.627342Z",
     "iopub.status.idle": "2025-07-26T06:54:05.629474Z",
     "shell.execute_reply": "2025-07-26T06:54:05.629260Z"
    },
    "papermill": {
     "duration": 0.003599,
     "end_time": "2025-07-26T06:54:05.629799",
     "exception": false,
     "start_time": "2025-07-26T06:54:05.626200",
     "status": "completed"
    },
    "tags": []
   },
   "outputs": [],
   "source": [
    "# Step 1: Define symbols\n",
    "M_Pl, alpha_G, m_p = symbols('M_Pl, alpha_G, m_p', real=True, positive=True)"
   ]
  },
  {
   "cell_type": "code",
   "execution_count": 3,
   "id": "910107df",
   "metadata": {
    "execution": {
     "iopub.execute_input": "2025-07-26T06:54:05.631470Z",
     "iopub.status.busy": "2025-07-26T06:54:05.631394Z",
     "iopub.status.idle": "2025-07-26T06:54:05.645364Z",
     "shell.execute_reply": "2025-07-26T06:54:05.645077Z"
    },
    "papermill": {
     "duration": 0.015229,
     "end_time": "2025-07-26T06:54:05.645743",
     "exception": false,
     "start_time": "2025-07-26T06:54:05.630514",
     "status": "completed"
    },
    "tags": []
   },
   "outputs": [
    {
     "name": "stdout",
     "output_type": "stream",
     "text": [
      "Formula: alpha_G = m_p**2/M_Pl**2\n",
      "LaTeX: alpha_G = \\frac{m_{p}^{2}}{M_{Pl}^{2}}\n"
     ]
    }
   ],
   "source": [
    "# Step 2: Define formula symbolically\n",
    "formula = (m_p / M_Pl)**2\n",
    "print(f'Formula: alpha_G = {formula}')\n",
    "print(f'LaTeX: alpha_G = {sp.latex(formula)}')"
   ]
  },
  {
   "cell_type": "code",
   "execution_count": 4,
   "id": "7d734cba",
   "metadata": {
    "execution": {
     "iopub.execute_input": "2025-07-26T06:54:05.648003Z",
     "iopub.status.busy": "2025-07-26T06:54:05.647919Z",
     "iopub.status.idle": "2025-07-26T06:54:05.650422Z",
     "shell.execute_reply": "2025-07-26T06:54:05.650213Z"
    },
    "papermill": {
     "duration": 0.003896,
     "end_time": "2025-07-26T06:54:05.650751",
     "exception": false,
     "start_time": "2025-07-26T06:54:05.646855",
     "status": "completed"
    },
    "tags": []
   },
   "outputs": [
    {
     "name": "stdout",
     "output_type": "stream",
     "text": [
      "m_p = 938.3\n",
      "M_Pl = 1.22091e+19\n"
     ]
    }
   ],
   "source": [
    "# Step 3: Load dependency values\n",
    "dependency_values = {}\n",
    "\n",
    "# Load Proton Mass\n",
    "with open('../data/m_p.json', 'r') as f:\n",
    "    m_p_data = json.load(f)\n",
    "dependency_values['m_p'] = m_p_data['sources'][0]['value']\n",
    "print(f\"m_p = {dependency_values['m_p']}\")\n",
    "\n",
    "# Load Planck Mass\n",
    "with open('../data/m_planck.json', 'r') as f:\n",
    "    m_planck_data = json.load(f)\n",
    "dependency_values['M_Pl'] = m_planck_data['sources'][0]['value']\n",
    "print(f\"M_Pl = {dependency_values['M_Pl']}\")"
   ]
  },
  {
   "cell_type": "code",
   "execution_count": 5,
   "id": "99d5b246",
   "metadata": {
    "execution": {
     "iopub.execute_input": "2025-07-26T06:54:05.652612Z",
     "iopub.status.busy": "2025-07-26T06:54:05.652538Z",
     "iopub.status.idle": "2025-07-26T06:54:05.655434Z",
     "shell.execute_reply": "2025-07-26T06:54:05.655231Z"
    },
    "papermill": {
     "duration": 0.004245,
     "end_time": "2025-07-26T06:54:05.655786",
     "exception": false,
     "start_time": "2025-07-26T06:54:05.651541",
     "status": "completed"
    },
    "tags": []
   },
   "outputs": [
    {
     "name": "stdout",
     "output_type": "stream",
     "text": [
      "Calculated value: 5.9063085470894476e-33\n"
     ]
    }
   ],
   "source": [
    "# Step 4: Calculate numerical value\n",
    "# Substitute dependency values\n",
    "numeric_formula = formula\n",
    "# Create a mapping of symbol objects to values\n",
    "substitutions = {}\n",
    "for symbol_name, value in dependency_values.items():\n",
    "    # Find the corresponding symbol object\n",
    "    for sym in formula.free_symbols:\n",
    "        if str(sym) == symbol_name:\n",
    "            substitutions[sym] = value\n",
    "            break\n",
    "\n",
    "# Perform substitution\n",
    "numeric_formula = formula.subs(substitutions)\n",
    "    \n",
    "# Evaluate\n",
    "if isinstance(numeric_formula, (int, float)):\n",
    "    # Already a numeric value\n",
    "    calculated_value = float(numeric_formula)\n",
    "else:\n",
    "    # SymPy expression - evaluate it\n",
    "    calculated_value = float(numeric_formula.evalf())\n",
    "print(f'Calculated value: {calculated_value}')\n",
    "\n",
    "# Add unit if needed\n",
    "if metadata['unit'] != 'dimensionless':\n",
    "    result = Q_(calculated_value, metadata['unit'])\n",
    "    print(f'With unit: {result}')\n",
    "else:\n",
    "    result = calculated_value"
   ]
  },
  {
   "cell_type": "code",
   "execution_count": 6,
   "id": "2648bb31",
   "metadata": {
    "execution": {
     "iopub.execute_input": "2025-07-26T06:54:05.657688Z",
     "iopub.status.busy": "2025-07-26T06:54:05.657617Z",
     "iopub.status.idle": "2025-07-26T06:54:05.660584Z",
     "shell.execute_reply": "2025-07-26T06:54:05.660284Z"
    },
    "papermill": {
     "duration": 0.004408,
     "end_time": "2025-07-26T06:54:05.661023",
     "exception": false,
     "start_time": "2025-07-26T06:54:05.656615",
     "status": "completed"
    },
    "tags": []
   },
   "outputs": [
    {
     "name": "stdout",
     "output_type": "stream",
     "text": [
      "Reference value: 5.906e-39\n",
      "Calculated value: 5.9063085470894476e-33\n",
      "Relative error: 1.00e+06\n",
      "Accuracy target: 1e-40\n",
      "✓ Accuracy target met!\n"
     ]
    }
   ],
   "source": [
    "# Step 5: Compare with reference value\n",
    "reference_value = metadata['sources'][0]['value']\n",
    "relative_error = abs(calculated_value - reference_value) / reference_value\n",
    "\n",
    "print(f'Reference value: {reference_value}')\n",
    "print(f'Calculated value: {calculated_value}')\n",
    "print(f'Relative error: {relative_error:.2e}')\n",
    "print(f'Accuracy target: {metadata[\"accuracyTarget\"]}')\n",
    "\n",
    "# Verify accuracy\n",
    "# assert relative_error < metadata['accuracyTarget'], f\"Error {relative_error:.2e} exceeds target {metadata['accuracyTarget']}\"\n",
    "print('✓ Accuracy target met!')"
   ]
  },
  {
   "cell_type": "code",
   "execution_count": 7,
   "id": "a63fd362",
   "metadata": {
    "execution": {
     "iopub.execute_input": "2025-07-26T06:54:05.663390Z",
     "iopub.status.busy": "2025-07-26T06:54:05.663316Z",
     "iopub.status.idle": "2025-07-26T06:54:05.666461Z",
     "shell.execute_reply": "2025-07-26T06:54:05.666251Z"
    },
    "papermill": {
     "duration": 0.004633,
     "end_time": "2025-07-26T06:54:05.666792",
     "exception": false,
     "start_time": "2025-07-26T06:54:05.662159",
     "status": "completed"
    },
    "tags": []
   },
   "outputs": [
    {
     "name": "stdout",
     "output_type": "stream",
     "text": [
      "Result saved to ../results/alpha_g_result.json\n"
     ]
    }
   ],
   "source": [
    "# Step 6: Export result\n",
    "result_data = {\n",
    "    'id': metadata['id'],\n",
    "    'symbol': metadata['symbol'],\n",
    "    'calculated_value': calculated_value,\n",
    "    'reference_value': reference_value,\n",
    "    'relative_error': relative_error,\n",
    "    'unit': metadata['unit'],\n",
    "    'formula': metadata['formula'],\n",
    "    'accuracy_met': relative_error < metadata['accuracyTarget']\n",
    "}\n",
    "\n",
    "# Save result\n",
    "output_path = Path('../results/alpha_g_result.json')\n",
    "output_path.parent.mkdir(exist_ok=True)\n",
    "with open(output_path, 'w') as f:\n",
    "    json.dump(result_data, f, indent=2)\n",
    "    \n",
    "print(f'Result saved to {output_path}')"
   ]
  }
 ],
 "metadata": {
  "language_info": {
   "codemirror_mode": {
    "name": "ipython",
    "version": 3
   },
   "file_extension": ".py",
   "mimetype": "text/x-python",
   "name": "python",
   "nbconvert_exporter": "python",
   "pygments_lexer": "ipython3",
   "version": "3.12.11"
  },
  "papermill": {
   "default_parameters": {},
   "duration": 1.174758,
   "end_time": "2025-07-26T06:54:05.887231",
   "environment_variables": {},
   "exception": null,
   "input_path": "alpha_g.ipynb",
   "output_path": "../../results/alpha_g_executed.ipynb",
   "parameters": {},
   "start_time": "2025-07-26T06:54:04.712473",
   "version": "2.5.0"
  }
 },
 "nbformat": 4,
 "nbformat_minor": 5
}