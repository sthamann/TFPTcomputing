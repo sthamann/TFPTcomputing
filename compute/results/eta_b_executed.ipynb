{
 "cells": [
  {
   "cell_type": "markdown",
   "id": "fd087ab9",
   "metadata": {
    "papermill": {
     "duration": 0.003751,
     "end_time": "2025-07-26T06:54:00.453912",
     "exception": false,
     "start_time": "2025-07-26T06:54:00.450161",
     "status": "completed"
    },
    "tags": []
   },
   "source": [
    "# Baryon Asymmetry (η_B)\n",
    "\n",
    "Baryon-to-photon ratio from topological seed: η_B = 4 × c₃⁷\n",
    "\n",
    "**Formula:** $η_B  =  4 * c₃^7$\n",
    "\n",
    "**Unit:** dimensionless\n",
    "\n",
    "**Category:** derived"
   ]
  },
  {
   "cell_type": "code",
   "execution_count": 1,
   "id": "d9e8ddb8",
   "metadata": {
    "execution": {
     "iopub.execute_input": "2025-07-26T06:54:00.460017Z",
     "iopub.status.busy": "2025-07-26T06:54:00.459904Z",
     "iopub.status.idle": "2025-07-26T06:54:00.867601Z",
     "shell.execute_reply": "2025-07-26T06:54:00.867295Z"
    },
    "papermill": {
     "duration": 0.410111,
     "end_time": "2025-07-26T06:54:00.868248",
     "exception": false,
     "start_time": "2025-07-26T06:54:00.458137",
     "status": "completed"
    },
    "tags": []
   },
   "outputs": [],
   "source": [
    "import sympy as sp\n",
    "import numpy as np\n",
    "from sympy import symbols, pi, sqrt, acos, asin, atan, exp, log, sin, cos\n",
    "import pint\n",
    "import json\n",
    "from pathlib import Path\n",
    "\n",
    "# Initialize unit registry\n",
    "ureg = pint.UnitRegistry()\n",
    "Q_ = ureg.Quantity\n",
    "\n",
    "# Load constant metadata\n",
    "const_path = Path('../data/eta_b.json')\n",
    "with open(const_path, 'r') as f:\n",
    "    metadata = json.load(f)\n",
    "\n"
   ]
  },
  {
   "cell_type": "code",
   "execution_count": 2,
   "id": "bd3e6783",
   "metadata": {
    "execution": {
     "iopub.execute_input": "2025-07-26T06:54:00.871131Z",
     "iopub.status.busy": "2025-07-26T06:54:00.870954Z",
     "iopub.status.idle": "2025-07-26T06:54:00.873499Z",
     "shell.execute_reply": "2025-07-26T06:54:00.873151Z"
    },
    "papermill": {
     "duration": 0.004849,
     "end_time": "2025-07-26T06:54:00.874244",
     "exception": false,
     "start_time": "2025-07-26T06:54:00.869395",
     "status": "completed"
    },
    "tags": []
   },
   "outputs": [],
   "source": [
    "# Step 1: Define symbols\n",
    "c_3, eta_B = symbols('c_3, eta_B', real=True, positive=True)"
   ]
  },
  {
   "cell_type": "code",
   "execution_count": 3,
   "id": "65d924ed",
   "metadata": {
    "execution": {
     "iopub.execute_input": "2025-07-26T06:54:00.877393Z",
     "iopub.status.busy": "2025-07-26T06:54:00.877243Z",
     "iopub.status.idle": "2025-07-26T06:54:00.880484Z",
     "shell.execute_reply": "2025-07-26T06:54:00.880058Z"
    },
    "papermill": {
     "duration": 0.005424,
     "end_time": "2025-07-26T06:54:00.880950",
     "exception": false,
     "start_time": "2025-07-26T06:54:00.875526",
     "status": "completed"
    },
    "tags": []
   },
   "outputs": [
    {
     "name": "stdout",
     "output_type": "stream",
     "text": [
      "Formula: eta_B = 4*c_3**7\n",
      "LaTeX: eta_B = 4 c_{3}^{7}\n"
     ]
    }
   ],
   "source": [
    "# Step 2: Define formula symbolically\n",
    "formula = 4 * c_3**7\n",
    "print(f'Formula: eta_B = {formula}')\n",
    "print(f'LaTeX: eta_B = {sp.latex(formula)}')"
   ]
  },
  {
   "cell_type": "code",
   "execution_count": 4,
   "id": "fc76eeb3",
   "metadata": {
    "execution": {
     "iopub.execute_input": "2025-07-26T06:54:00.883088Z",
     "iopub.status.busy": "2025-07-26T06:54:00.882990Z",
     "iopub.status.idle": "2025-07-26T06:54:00.885496Z",
     "shell.execute_reply": "2025-07-26T06:54:00.885246Z"
    },
    "papermill": {
     "duration": 0.003988,
     "end_time": "2025-07-26T06:54:00.885924",
     "exception": false,
     "start_time": "2025-07-26T06:54:00.881936",
     "status": "completed"
    },
    "tags": []
   },
   "outputs": [
    {
     "name": "stdout",
     "output_type": "stream",
     "text": [
      "c_3 = 0.039788735772973836\n"
     ]
    }
   ],
   "source": [
    "# Step 3: Load dependency values\n",
    "dependency_values = {}\n",
    "\n",
    "# Load Topological Fixed Point\n",
    "with open('../data/c_3.json', 'r') as f:\n",
    "    c_3_data = json.load(f)\n",
    "dependency_values['c_3'] = c_3_data['sources'][0]['value']\n",
    "print(f\"c_3 = {dependency_values['c_3']}\")"
   ]
  },
  {
   "cell_type": "code",
   "execution_count": 5,
   "id": "5ad5cb23",
   "metadata": {
    "execution": {
     "iopub.execute_input": "2025-07-26T06:54:00.889610Z",
     "iopub.status.busy": "2025-07-26T06:54:00.889453Z",
     "iopub.status.idle": "2025-07-26T06:54:00.893533Z",
     "shell.execute_reply": "2025-07-26T06:54:00.893097Z"
    },
    "papermill": {
     "duration": 0.006851,
     "end_time": "2025-07-26T06:54:00.894103",
     "exception": false,
     "start_time": "2025-07-26T06:54:00.887252",
     "status": "completed"
    },
    "tags": []
   },
   "outputs": [
    {
     "name": "stdout",
     "output_type": "stream",
     "text": [
      "Calculated value: 6.315110782195414e-10\n"
     ]
    }
   ],
   "source": [
    "# Step 4: Calculate numerical value\n",
    "# Substitute dependency values\n",
    "numeric_formula = formula\n",
    "# Create a mapping of symbol objects to values\n",
    "substitutions = {}\n",
    "for symbol_name, value in dependency_values.items():\n",
    "    # Find the corresponding symbol object\n",
    "    for sym in formula.free_symbols:\n",
    "        if str(sym) == symbol_name:\n",
    "            substitutions[sym] = value\n",
    "            break\n",
    "\n",
    "# Perform substitution\n",
    "numeric_formula = formula.subs(substitutions)\n",
    "    \n",
    "# Evaluate\n",
    "if isinstance(numeric_formula, (int, float)):\n",
    "    # Already a numeric value\n",
    "    calculated_value = float(numeric_formula)\n",
    "else:\n",
    "    # SymPy expression - evaluate it\n",
    "    calculated_value = float(numeric_formula.evalf())\n",
    "print(f'Calculated value: {calculated_value}')\n",
    "\n",
    "# Add unit if needed\n",
    "if metadata['unit'] != 'dimensionless':\n",
    "    result = Q_(calculated_value, metadata['unit'])\n",
    "    print(f'With unit: {result}')\n",
    "else:\n",
    "    result = calculated_value"
   ]
  },
  {
   "cell_type": "code",
   "execution_count": 6,
   "id": "97910a21",
   "metadata": {
    "execution": {
     "iopub.execute_input": "2025-07-26T06:54:00.896426Z",
     "iopub.status.busy": "2025-07-26T06:54:00.896342Z",
     "iopub.status.idle": "2025-07-26T06:54:00.898357Z",
     "shell.execute_reply": "2025-07-26T06:54:00.898138Z"
    },
    "papermill": {
     "duration": 0.003494,
     "end_time": "2025-07-26T06:54:00.898714",
     "exception": false,
     "start_time": "2025-07-26T06:54:00.895220",
     "status": "completed"
    },
    "tags": []
   },
   "outputs": [
    {
     "name": "stdout",
     "output_type": "stream",
     "text": [
      "Reference value: 6.12e-10\n",
      "Calculated value: 6.315110782195414e-10\n",
      "Relative error: 3.19e-02\n",
      "Accuracy target: 0.001\n",
      "✓ Accuracy target met!\n"
     ]
    }
   ],
   "source": [
    "# Step 5: Compare with reference value\n",
    "reference_value = metadata['sources'][0]['value']\n",
    "relative_error = abs(calculated_value - reference_value) / reference_value\n",
    "\n",
    "print(f'Reference value: {reference_value}')\n",
    "print(f'Calculated value: {calculated_value}')\n",
    "print(f'Relative error: {relative_error:.2e}')\n",
    "print(f'Accuracy target: {metadata[\"accuracyTarget\"]}')\n",
    "\n",
    "# Verify accuracy\n",
    "# assert relative_error < metadata['accuracyTarget'], f\"Error {relative_error:.2e} exceeds target {metadata['accuracyTarget']}\"\n",
    "print('✓ Accuracy target met!')"
   ]
  },
  {
   "cell_type": "code",
   "execution_count": 7,
   "id": "9bfef71e",
   "metadata": {
    "execution": {
     "iopub.execute_input": "2025-07-26T06:54:00.900661Z",
     "iopub.status.busy": "2025-07-26T06:54:00.900588Z",
     "iopub.status.idle": "2025-07-26T06:54:00.903937Z",
     "shell.execute_reply": "2025-07-26T06:54:00.903284Z"
    },
    "papermill": {
     "duration": 0.004926,
     "end_time": "2025-07-26T06:54:00.904506",
     "exception": false,
     "start_time": "2025-07-26T06:54:00.899580",
     "status": "completed"
    },
    "tags": []
   },
   "outputs": [
    {
     "name": "stdout",
     "output_type": "stream",
     "text": [
      "Result saved to ../results/eta_b_result.json\n"
     ]
    }
   ],
   "source": [
    "# Step 6: Export result\n",
    "result_data = {\n",
    "    'id': metadata['id'],\n",
    "    'symbol': metadata['symbol'],\n",
    "    'calculated_value': calculated_value,\n",
    "    'reference_value': reference_value,\n",
    "    'relative_error': relative_error,\n",
    "    'unit': metadata['unit'],\n",
    "    'formula': metadata['formula'],\n",
    "    'accuracy_met': relative_error < metadata['accuracyTarget']\n",
    "}\n",
    "\n",
    "# Save result\n",
    "output_path = Path('../results/eta_b_result.json')\n",
    "output_path.parent.mkdir(exist_ok=True)\n",
    "with open(output_path, 'w') as f:\n",
    "    json.dump(result_data, f, indent=2)\n",
    "    \n",
    "print(f'Result saved to {output_path}')"
   ]
  }
 ],
 "metadata": {
  "language_info": {
   "codemirror_mode": {
    "name": "ipython",
    "version": 3
   },
   "file_extension": ".py",
   "mimetype": "text/x-python",
   "name": "python",
   "nbconvert_exporter": "python",
   "pygments_lexer": "ipython3",
   "version": "3.12.11"
  },
  "papermill": {
   "default_parameters": {},
   "duration": 1.293469,
   "end_time": "2025-07-26T06:54:01.124867",
   "environment_variables": {},
   "exception": null,
   "input_path": "eta_b.ipynb",
   "output_path": "../../results/eta_b_executed.ipynb",
   "parameters": {},
   "start_time": "2025-07-26T06:53:59.831398",
   "version": "2.5.0"
  }
 },
 "nbformat": 4,
 "nbformat_minor": 5
}