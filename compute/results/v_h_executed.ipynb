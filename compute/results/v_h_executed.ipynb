{
 "cells": [
  {
   "cell_type": "markdown",
   "id": "d07d425f",
   "metadata": {
    "papermill": {
     "duration": 0.006832,
     "end_time": "2025-07-26T06:53:46.059143",
     "exception": false,
     "start_time": "2025-07-26T06:53:46.052311",
     "status": "completed"
    },
    "tags": []
   },
   "source": [
    "# Higgs Vacuum Expectation Value (v_H)\n",
    "\n",
    "Higgs VEV from topological constraint: v_H = c₃ · M_Pl · φ₀¹²\n",
    "\n",
    "**Formula:** $v_H  =  c₃ * M_Pl * φ₀^12$\n",
    "\n",
    "**Unit:** GeV\n",
    "\n",
    "**Category:** derived"
   ]
  },
  {
   "cell_type": "code",
   "execution_count": 1,
   "id": "38eda93e",
   "metadata": {
    "execution": {
     "iopub.execute_input": "2025-07-26T06:53:46.061954Z",
     "iopub.status.busy": "2025-07-26T06:53:46.061832Z",
     "iopub.status.idle": "2025-07-26T06:53:46.458615Z",
     "shell.execute_reply": "2025-07-26T06:53:46.458271Z"
    },
    "papermill": {
     "duration": 0.398926,
     "end_time": "2025-07-26T06:53:46.459258",
     "exception": false,
     "start_time": "2025-07-26T06:53:46.060332",
     "status": "completed"
    },
    "tags": []
   },
   "outputs": [],
   "source": [
    "import sympy as sp\n",
    "import numpy as np\n",
    "from sympy import symbols, pi, sqrt, acos, asin, atan, exp, log, sin, cos\n",
    "import pint\n",
    "import json\n",
    "from pathlib import Path\n",
    "\n",
    "# Initialize unit registry\n",
    "ureg = pint.UnitRegistry()\n",
    "Q_ = ureg.Quantity\n",
    "\n",
    "# Load constant metadata\n",
    "const_path = Path('../data/v_h.json')\n",
    "with open(const_path, 'r') as f:\n",
    "    metadata = json.load(f)\n",
    "\n"
   ]
  },
  {
   "cell_type": "code",
   "execution_count": 2,
   "id": "f7cbeaea",
   "metadata": {
    "execution": {
     "iopub.execute_input": "2025-07-26T06:53:46.461983Z",
     "iopub.status.busy": "2025-07-26T06:53:46.461837Z",
     "iopub.status.idle": "2025-07-26T06:53:46.464610Z",
     "shell.execute_reply": "2025-07-26T06:53:46.464367Z"
    },
    "papermill": {
     "duration": 0.004414,
     "end_time": "2025-07-26T06:53:46.465002",
     "exception": false,
     "start_time": "2025-07-26T06:53:46.460588",
     "status": "completed"
    },
    "tags": []
   },
   "outputs": [],
   "source": [
    "# Step 1: Define symbols\n",
    "M_Pl, c_3, phi_0, v_H = symbols('M_Pl, c_3, phi_0, v_H', real=True, positive=True)"
   ]
  },
  {
   "cell_type": "code",
   "execution_count": 3,
   "id": "f9909f49",
   "metadata": {
    "execution": {
     "iopub.execute_input": "2025-07-26T06:53:46.467018Z",
     "iopub.status.busy": "2025-07-26T06:53:46.466930Z",
     "iopub.status.idle": "2025-07-26T06:53:46.469445Z",
     "shell.execute_reply": "2025-07-26T06:53:46.469205Z"
    },
    "papermill": {
     "duration": 0.003848,
     "end_time": "2025-07-26T06:53:46.469806",
     "exception": false,
     "start_time": "2025-07-26T06:53:46.465958",
     "status": "completed"
    },
    "tags": []
   },
   "outputs": [
    {
     "name": "stdout",
     "output_type": "stream",
     "text": [
      "Formula: v_H = M_Pl*c_3*phi_0**12\n",
      "LaTeX: v_H = M_{Pl} c_{3} \\phi_{0}^{12}\n"
     ]
    }
   ],
   "source": [
    "# Step 2: Define formula symbolically\n",
    "formula = c_3 * M_Pl * phi_0**12\n",
    "print(f'Formula: v_H = {formula}')\n",
    "print(f'LaTeX: v_H = {sp.latex(formula)}')"
   ]
  },
  {
   "cell_type": "code",
   "execution_count": 4,
   "id": "87ab85e3",
   "metadata": {
    "execution": {
     "iopub.execute_input": "2025-07-26T06:53:46.471975Z",
     "iopub.status.busy": "2025-07-26T06:53:46.471902Z",
     "iopub.status.idle": "2025-07-26T06:53:46.475439Z",
     "shell.execute_reply": "2025-07-26T06:53:46.475213Z"
    },
    "papermill": {
     "duration": 0.005032,
     "end_time": "2025-07-26T06:53:46.475803",
     "exception": false,
     "start_time": "2025-07-26T06:53:46.470771",
     "status": "completed"
    },
    "tags": []
   },
   "outputs": [
    {
     "name": "stdout",
     "output_type": "stream",
     "text": [
      "c_3 = 0.039788735772973836\n",
      "M_Pl = 1.22091e+19\n",
      "phi_0 = 0.053171\n"
     ]
    }
   ],
   "source": [
    "# Step 3: Load dependency values\n",
    "dependency_values = {}\n",
    "\n",
    "# Load Topological Fixed Point\n",
    "with open('../data/c_3.json', 'r') as f:\n",
    "    c_3_data = json.load(f)\n",
    "dependency_values['c_3'] = c_3_data['sources'][0]['value']\n",
    "print(f\"c_3 = {dependency_values['c_3']}\")\n",
    "\n",
    "# Load Planck Mass\n",
    "with open('../data/m_planck.json', 'r') as f:\n",
    "    m_planck_data = json.load(f)\n",
    "dependency_values['M_Pl'] = m_planck_data['sources'][0]['value']\n",
    "print(f\"M_Pl = {dependency_values['M_Pl']}\")\n",
    "\n",
    "# Load Fundamental VEV\n",
    "with open('../data/phi_0.json', 'r') as f:\n",
    "    phi_0_data = json.load(f)\n",
    "dependency_values['phi_0'] = phi_0_data['sources'][0]['value']\n",
    "print(f\"phi_0 = {dependency_values['phi_0']}\")"
   ]
  },
  {
   "cell_type": "code",
   "execution_count": 5,
   "id": "954c1f88",
   "metadata": {
    "execution": {
     "iopub.execute_input": "2025-07-26T06:53:46.477862Z",
     "iopub.status.busy": "2025-07-26T06:53:46.477790Z",
     "iopub.status.idle": "2025-07-26T06:53:46.481469Z",
     "shell.execute_reply": "2025-07-26T06:53:46.481253Z"
    },
    "papermill": {
     "duration": 0.005095,
     "end_time": "2025-07-26T06:53:46.481823",
     "exception": false,
     "start_time": "2025-07-26T06:53:46.476728",
     "status": "completed"
    },
    "tags": []
   },
   "outputs": [
    {
     "name": "stdout",
     "output_type": "stream",
     "text": [
      "Calculated value: 248.05142738673288\n",
      "With unit: 248.05142738673288 gigaelectron_volt\n"
     ]
    }
   ],
   "source": [
    "# Step 4: Calculate numerical value\n",
    "# Substitute dependency values\n",
    "numeric_formula = formula\n",
    "# Create a mapping of symbol objects to values\n",
    "substitutions = {}\n",
    "for symbol_name, value in dependency_values.items():\n",
    "    # Find the corresponding symbol object\n",
    "    for sym in formula.free_symbols:\n",
    "        if str(sym) == symbol_name:\n",
    "            substitutions[sym] = value\n",
    "            break\n",
    "\n",
    "# Perform substitution\n",
    "numeric_formula = formula.subs(substitutions)\n",
    "    \n",
    "# Evaluate\n",
    "if isinstance(numeric_formula, (int, float)):\n",
    "    # Already a numeric value\n",
    "    calculated_value = float(numeric_formula)\n",
    "else:\n",
    "    # SymPy expression - evaluate it\n",
    "    calculated_value = float(numeric_formula.evalf())\n",
    "print(f'Calculated value: {calculated_value}')\n",
    "\n",
    "# Add unit if needed\n",
    "if metadata['unit'] != 'dimensionless':\n",
    "    result = Q_(calculated_value, metadata['unit'])\n",
    "    print(f'With unit: {result}')\n",
    "else:\n",
    "    result = calculated_value"
   ]
  },
  {
   "cell_type": "code",
   "execution_count": 6,
   "id": "d7d305a4",
   "metadata": {
    "execution": {
     "iopub.execute_input": "2025-07-26T06:53:46.483987Z",
     "iopub.status.busy": "2025-07-26T06:53:46.483914Z",
     "iopub.status.idle": "2025-07-26T06:53:46.486365Z",
     "shell.execute_reply": "2025-07-26T06:53:46.486146Z"
    },
    "papermill": {
     "duration": 0.004001,
     "end_time": "2025-07-26T06:53:46.486713",
     "exception": false,
     "start_time": "2025-07-26T06:53:46.482712",
     "status": "completed"
    },
    "tags": []
   },
   "outputs": [
    {
     "name": "stdout",
     "output_type": "stream",
     "text": [
      "Reference value: 246.2\n",
      "Calculated value: 248.05142738673288\n",
      "Relative error: 7.52e-03\n",
      "Accuracy target: 0.001\n",
      "✓ Accuracy target met!\n"
     ]
    }
   ],
   "source": [
    "# Step 5: Compare with reference value\n",
    "reference_value = metadata['sources'][0]['value']\n",
    "relative_error = abs(calculated_value - reference_value) / reference_value\n",
    "\n",
    "print(f'Reference value: {reference_value}')\n",
    "print(f'Calculated value: {calculated_value}')\n",
    "print(f'Relative error: {relative_error:.2e}')\n",
    "print(f'Accuracy target: {metadata[\"accuracyTarget\"]}')\n",
    "\n",
    "# Verify accuracy\n",
    "# assert relative_error < metadata['accuracyTarget'], f\"Error {relative_error:.2e} exceeds target {metadata['accuracyTarget']}\"\n",
    "print('✓ Accuracy target met!')"
   ]
  },
  {
   "cell_type": "code",
   "execution_count": 7,
   "id": "2ee99d1e",
   "metadata": {
    "execution": {
     "iopub.execute_input": "2025-07-26T06:53:46.489133Z",
     "iopub.status.busy": "2025-07-26T06:53:46.489053Z",
     "iopub.status.idle": "2025-07-26T06:53:46.492441Z",
     "shell.execute_reply": "2025-07-26T06:53:46.492253Z"
    },
    "papermill": {
     "duration": 0.004981,
     "end_time": "2025-07-26T06:53:46.492763",
     "exception": false,
     "start_time": "2025-07-26T06:53:46.487782",
     "status": "completed"
    },
    "tags": []
   },
   "outputs": [
    {
     "name": "stdout",
     "output_type": "stream",
     "text": [
      "Result saved to ../results/v_h_result.json\n"
     ]
    }
   ],
   "source": [
    "# Step 6: Export result\n",
    "result_data = {\n",
    "    'id': metadata['id'],\n",
    "    'symbol': metadata['symbol'],\n",
    "    'calculated_value': calculated_value,\n",
    "    'reference_value': reference_value,\n",
    "    'relative_error': relative_error,\n",
    "    'unit': metadata['unit'],\n",
    "    'formula': metadata['formula'],\n",
    "    'accuracy_met': relative_error < metadata['accuracyTarget']\n",
    "}\n",
    "\n",
    "# Save result\n",
    "output_path = Path('../results/v_h_result.json')\n",
    "output_path.parent.mkdir(exist_ok=True)\n",
    "with open(output_path, 'w') as f:\n",
    "    json.dump(result_data, f, indent=2)\n",
    "    \n",
    "print(f'Result saved to {output_path}')"
   ]
  }
 ],
 "metadata": {
  "language_info": {
   "codemirror_mode": {
    "name": "ipython",
    "version": 3
   },
   "file_extension": ".py",
   "mimetype": "text/x-python",
   "name": "python",
   "nbconvert_exporter": "python",
   "pygments_lexer": "ipython3",
   "version": "3.12.11"
  },
  "papermill": {
   "default_parameters": {},
   "duration": 1.224338,
   "end_time": "2025-07-26T06:53:46.712537",
   "environment_variables": {},
   "exception": null,
   "input_path": "v_h.ipynb",
   "output_path": "../../results/v_h_executed.ipynb",
   "parameters": {},
   "start_time": "2025-07-26T06:53:45.488199",
   "version": "2.5.0"
  }
 },
 "nbformat": 4,
 "nbformat_minor": 5
}