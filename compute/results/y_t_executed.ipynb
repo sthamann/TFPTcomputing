{
 "cells": [
  {
   "cell_type": "markdown",
   "id": "617a6f5e",
   "metadata": {
    "papermill": {
     "duration": 0.001986,
     "end_time": "2025-07-26T06:55:13.323365",
     "exception": false,
     "start_time": "2025-07-26T06:55:13.321379",
     "status": "completed"
    },
    "tags": []
   },
   "source": [
    "# Top Yukawa (y_t)\n",
    "\n",
    "Top quark Yukawa coupling\n",
    "\n",
    "Formula: y_t = √2 c₃ φ₀⁻³"
   ]
  },
  {
   "cell_type": "code",
   "execution_count": 1,
   "id": "a6de192e",
   "metadata": {
    "execution": {
     "iopub.execute_input": "2025-07-26T06:55:13.327285Z",
     "iopub.status.busy": "2025-07-26T06:55:13.327127Z",
     "iopub.status.idle": "2025-07-26T06:55:13.482977Z",
     "shell.execute_reply": "2025-07-26T06:55:13.482628Z"
    },
    "papermill": {
     "duration": 0.158711,
     "end_time": "2025-07-26T06:55:13.483588",
     "exception": false,
     "start_time": "2025-07-26T06:55:13.324877",
     "status": "completed"
    },
    "tags": []
   },
   "outputs": [],
   "source": [
    "import json\n",
    "import numpy as np\n",
    "from sympy import symbols, pi, log, sqrt\n",
    "\n",
    "# Note: Full calculation implementation needed\n",
    "# Formula: y_t = √2 c₃ φ₀⁻³\n",
    "# Dependencies: c_3, phi_0\n",
    "# Expected value: 0.935"
   ]
  }
 ],
 "metadata": {
  "kernelspec": {
   "display_name": "Python 3",
   "language": "python",
   "name": "python3"
  },
  "language_info": {
   "codemirror_mode": {
    "name": "ipython",
    "version": 3
   },
   "file_extension": ".py",
   "mimetype": "text/x-python",
   "name": "python",
   "nbconvert_exporter": "python",
   "pygments_lexer": "ipython3",
   "version": "3.12.11"
  },
  "papermill": {
   "default_parameters": {},
   "duration": 0.77593,
   "end_time": "2025-07-26T06:55:13.706939",
   "environment_variables": {},
   "exception": null,
   "input_path": "y_t.ipynb",
   "output_path": "../../results/y_t_executed.ipynb",
   "parameters": {},
   "start_time": "2025-07-26T06:55:12.931009",
   "version": "2.5.0"
  }
 },
 "nbformat": 4,
 "nbformat_minor": 5
}