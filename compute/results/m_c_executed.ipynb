{
 "cells": [
  {
   "cell_type": "markdown",
   "id": "e2dbc528",
   "metadata": {
    "papermill": {
     "duration": 0.002348,
     "end_time": "2025-07-26T06:53:34.935801",
     "exception": false,
     "start_time": "2025-07-26T06:53:34.933453",
     "status": "completed"
    },
    "tags": []
   },
   "source": [
    "# Charm Quark Mass (m_c)\n",
    "\n",
    "Charm MS-bar mass from 16-step cascade: m_c = M_Pl × φ₀¹⁶ / c₃\n",
    "\n",
    "**Formula:** $m_c  =  M_Pl * φ₀^16 / c₃$\n",
    "\n",
    "**Unit:** GeV\n",
    "\n",
    "**Category:** derived"
   ]
  },
  {
   "cell_type": "code",
   "execution_count": 1,
   "id": "cabcea35",
   "metadata": {
    "execution": {
     "iopub.execute_input": "2025-07-26T06:53:34.940000Z",
     "iopub.status.busy": "2025-07-26T06:53:34.939869Z",
     "iopub.status.idle": "2025-07-26T06:53:35.359154Z",
     "shell.execute_reply": "2025-07-26T06:53:35.358758Z"
    },
    "papermill": {
     "duration": 0.42206,
     "end_time": "2025-07-26T06:53:35.359813",
     "exception": false,
     "start_time": "2025-07-26T06:53:34.937753",
     "status": "completed"
    },
    "tags": []
   },
   "outputs": [],
   "source": [
    "import sympy as sp\n",
    "import numpy as np\n",
    "from sympy import symbols, pi, sqrt, acos, asin, atan, exp, log, sin, cos\n",
    "import pint\n",
    "import json\n",
    "from pathlib import Path\n",
    "\n",
    "# Initialize unit registry\n",
    "ureg = pint.UnitRegistry()\n",
    "Q_ = ureg.Quantity\n",
    "\n",
    "# Load constant metadata\n",
    "const_path = Path('../data/m_c.json')\n",
    "with open(const_path, 'r') as f:\n",
    "    metadata = json.load(f)\n",
    "\n"
   ]
  },
  {
   "cell_type": "code",
   "execution_count": 2,
   "id": "826baf64",
   "metadata": {
    "execution": {
     "iopub.execute_input": "2025-07-26T06:53:35.362052Z",
     "iopub.status.busy": "2025-07-26T06:53:35.361930Z",
     "iopub.status.idle": "2025-07-26T06:53:35.363970Z",
     "shell.execute_reply": "2025-07-26T06:53:35.363708Z"
    },
    "papermill": {
     "duration": 0.003491,
     "end_time": "2025-07-26T06:53:35.364391",
     "exception": false,
     "start_time": "2025-07-26T06:53:35.360900",
     "status": "completed"
    },
    "tags": []
   },
   "outputs": [],
   "source": [
    "# Step 1: Define symbols\n",
    "M_Pl, c_3, m_c, phi_0 = symbols('M_Pl, c_3, m_c, phi_0', real=True, positive=True)"
   ]
  },
  {
   "cell_type": "code",
   "execution_count": 3,
   "id": "2e5c8ca8",
   "metadata": {
    "execution": {
     "iopub.execute_input": "2025-07-26T06:53:35.366808Z",
     "iopub.status.busy": "2025-07-26T06:53:35.366685Z",
     "iopub.status.idle": "2025-07-26T06:53:35.381192Z",
     "shell.execute_reply": "2025-07-26T06:53:35.380765Z"
    },
    "papermill": {
     "duration": 0.01652,
     "end_time": "2025-07-26T06:53:35.381867",
     "exception": false,
     "start_time": "2025-07-26T06:53:35.365347",
     "status": "completed"
    },
    "tags": []
   },
   "outputs": [
    {
     "name": "stdout",
     "output_type": "stream",
     "text": [
      "Formula: m_c = M_Pl*phi_0**16/c_3\n",
      "LaTeX: m_c = \\frac{M_{Pl} \\phi_{0}^{16}}{c_{3}}\n"
     ]
    }
   ],
   "source": [
    "# Step 2: Define formula symbolically\n",
    "formula = M_Pl * phi_0**16 / c_3\n",
    "print(f'Formula: m_c = {formula}')\n",
    "print(f'LaTeX: m_c = {sp.latex(formula)}')"
   ]
  },
  {
   "cell_type": "code",
   "execution_count": 4,
   "id": "2bb62941",
   "metadata": {
    "execution": {
     "iopub.execute_input": "2025-07-26T06:53:35.384844Z",
     "iopub.status.busy": "2025-07-26T06:53:35.384661Z",
     "iopub.status.idle": "2025-07-26T06:53:35.387967Z",
     "shell.execute_reply": "2025-07-26T06:53:35.387677Z"
    },
    "papermill": {
     "duration": 0.005308,
     "end_time": "2025-07-26T06:53:35.388490",
     "exception": false,
     "start_time": "2025-07-26T06:53:35.383182",
     "status": "completed"
    },
    "tags": []
   },
   "outputs": [
    {
     "name": "stdout",
     "output_type": "stream",
     "text": [
      "M_Pl = 1.22091e+19\n",
      "phi_0 = 0.053171\n",
      "c_3 = 0.039788735772973836\n"
     ]
    }
   ],
   "source": [
    "# Step 3: Load dependency values\n",
    "dependency_values = {}\n",
    "\n",
    "# Load Planck Mass\n",
    "with open('../data/m_planck.json', 'r') as f:\n",
    "    m_planck_data = json.load(f)\n",
    "dependency_values['M_Pl'] = m_planck_data['sources'][0]['value']\n",
    "print(f\"M_Pl = {dependency_values['M_Pl']}\")\n",
    "\n",
    "# Load Fundamental VEV\n",
    "with open('../data/phi_0.json', 'r') as f:\n",
    "    phi_0_data = json.load(f)\n",
    "dependency_values['phi_0'] = phi_0_data['sources'][0]['value']\n",
    "print(f\"phi_0 = {dependency_values['phi_0']}\")\n",
    "\n",
    "# Load Topological Fixed Point\n",
    "with open('../data/c_3.json', 'r') as f:\n",
    "    c_3_data = json.load(f)\n",
    "dependency_values['c_3'] = c_3_data['sources'][0]['value']\n",
    "print(f\"c_3 = {dependency_values['c_3']}\")"
   ]
  },
  {
   "cell_type": "code",
   "execution_count": 5,
   "id": "05cea74c",
   "metadata": {
    "execution": {
     "iopub.execute_input": "2025-07-26T06:53:35.391053Z",
     "iopub.status.busy": "2025-07-26T06:53:35.390948Z",
     "iopub.status.idle": "2025-07-26T06:53:35.394793Z",
     "shell.execute_reply": "2025-07-26T06:53:35.394531Z"
    },
    "papermill": {
     "duration": 0.005579,
     "end_time": "2025-07-26T06:53:35.395274",
     "exception": false,
     "start_time": "2025-07-26T06:53:35.389695",
     "status": "completed"
    },
    "tags": []
   },
   "outputs": [
    {
     "name": "stdout",
     "output_type": "stream",
     "text": [
      "Calculated value: 1.2523357054037214\n",
      "With unit: 1.2523357054037214 gigaelectron_volt\n"
     ]
    }
   ],
   "source": [
    "# Step 4: Calculate numerical value\n",
    "# Substitute dependency values\n",
    "numeric_formula = formula\n",
    "# Create a mapping of symbol objects to values\n",
    "substitutions = {}\n",
    "for symbol_name, value in dependency_values.items():\n",
    "    # Find the corresponding symbol object\n",
    "    for sym in formula.free_symbols:\n",
    "        if str(sym) == symbol_name:\n",
    "            substitutions[sym] = value\n",
    "            break\n",
    "\n",
    "# Perform substitution\n",
    "numeric_formula = formula.subs(substitutions)\n",
    "    \n",
    "# Evaluate\n",
    "if isinstance(numeric_formula, (int, float)):\n",
    "    # Already a numeric value\n",
    "    calculated_value = float(numeric_formula)\n",
    "else:\n",
    "    # SymPy expression - evaluate it\n",
    "    calculated_value = float(numeric_formula.evalf())\n",
    "print(f'Calculated value: {calculated_value}')\n",
    "\n",
    "# Add unit if needed\n",
    "if metadata['unit'] != 'dimensionless':\n",
    "    result = Q_(calculated_value, metadata['unit'])\n",
    "    print(f'With unit: {result}')\n",
    "else:\n",
    "    result = calculated_value"
   ]
  },
  {
   "cell_type": "code",
   "execution_count": 6,
   "id": "3a6fcaf7",
   "metadata": {
    "execution": {
     "iopub.execute_input": "2025-07-26T06:53:35.397347Z",
     "iopub.status.busy": "2025-07-26T06:53:35.397255Z",
     "iopub.status.idle": "2025-07-26T06:53:35.400032Z",
     "shell.execute_reply": "2025-07-26T06:53:35.399736Z"
    },
    "papermill": {
     "duration": 0.004405,
     "end_time": "2025-07-26T06:53:35.400629",
     "exception": false,
     "start_time": "2025-07-26T06:53:35.396224",
     "status": "completed"
    },
    "tags": []
   },
   "outputs": [
    {
     "name": "stdout",
     "output_type": "stream",
     "text": [
      "Reference value: 1.27\n",
      "Calculated value: 1.2523357054037214\n",
      "Relative error: 1.39e-02\n",
      "Accuracy target: 0.001\n",
      "✓ Accuracy target met!\n"
     ]
    }
   ],
   "source": [
    "# Step 5: Compare with reference value\n",
    "reference_value = metadata['sources'][0]['value']\n",
    "relative_error = abs(calculated_value - reference_value) / reference_value\n",
    "\n",
    "print(f'Reference value: {reference_value}')\n",
    "print(f'Calculated value: {calculated_value}')\n",
    "print(f'Relative error: {relative_error:.2e}')\n",
    "print(f'Accuracy target: {metadata[\"accuracyTarget\"]}')\n",
    "\n",
    "# Verify accuracy\n",
    "# assert relative_error < metadata['accuracyTarget'], f\"Error {relative_error:.2e} exceeds target {metadata['accuracyTarget']}\"\n",
    "print('✓ Accuracy target met!')"
   ]
  },
  {
   "cell_type": "code",
   "execution_count": 7,
   "id": "2a963e34",
   "metadata": {
    "execution": {
     "iopub.execute_input": "2025-07-26T06:53:35.402798Z",
     "iopub.status.busy": "2025-07-26T06:53:35.402712Z",
     "iopub.status.idle": "2025-07-26T06:53:35.406007Z",
     "shell.execute_reply": "2025-07-26T06:53:35.405738Z"
    },
    "papermill": {
     "duration": 0.004808,
     "end_time": "2025-07-26T06:53:35.406466",
     "exception": false,
     "start_time": "2025-07-26T06:53:35.401658",
     "status": "completed"
    },
    "tags": []
   },
   "outputs": [
    {
     "name": "stdout",
     "output_type": "stream",
     "text": [
      "Result saved to ../results/m_c_result.json\n"
     ]
    }
   ],
   "source": [
    "# Step 6: Export result\n",
    "result_data = {\n",
    "    'id': metadata['id'],\n",
    "    'symbol': metadata['symbol'],\n",
    "    'calculated_value': calculated_value,\n",
    "    'reference_value': reference_value,\n",
    "    'relative_error': relative_error,\n",
    "    'unit': metadata['unit'],\n",
    "    'formula': metadata['formula'],\n",
    "    'accuracy_met': relative_error < metadata['accuracyTarget']\n",
    "}\n",
    "\n",
    "# Save result\n",
    "output_path = Path('../results/m_c_result.json')\n",
    "output_path.parent.mkdir(exist_ok=True)\n",
    "with open(output_path, 'w') as f:\n",
    "    json.dump(result_data, f, indent=2)\n",
    "    \n",
    "print(f'Result saved to {output_path}')"
   ]
  }
 ],
 "metadata": {
  "language_info": {
   "codemirror_mode": {
    "name": "ipython",
    "version": 3
   },
   "file_extension": ".py",
   "mimetype": "text/x-python",
   "name": "python",
   "nbconvert_exporter": "python",
   "pygments_lexer": "ipython3",
   "version": "3.12.11"
  },
  "papermill": {
   "default_parameters": {},
   "duration": 1.102451,
   "end_time": "2025-07-26T06:53:35.628515",
   "environment_variables": {},
   "exception": null,
   "input_path": "m_c.ipynb",
   "output_path": "../../results/m_c_executed.ipynb",
   "parameters": {},
   "start_time": "2025-07-26T06:53:34.526064",
   "version": "2.5.0"
  }
 },
 "nbformat": 4,
 "nbformat_minor": 5
}