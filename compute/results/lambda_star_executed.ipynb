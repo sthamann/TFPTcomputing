{
 "cells": [
  {
   "cell_type": "markdown",
   "id": "ae3d762a",
   "metadata": {
    "papermill": {
     "duration": 0.003352,
     "end_time": "2025-07-26T06:55:01.043928",
     "exception": false,
     "start_time": "2025-07-26T06:55:01.040576",
     "status": "completed"
    },
    "tags": []
   },
   "source": [
    "# Cascade-horizon length (λ★)\n",
    "\n",
    "Minimal causal distance after unwrapping 6-D fibre\n",
    "\n",
    "Formula: λ★ = √(ħ G)/φ₀²"
   ]
  },
  {
   "cell_type": "code",
   "execution_count": 1,
   "id": "90d586ef",
   "metadata": {
    "execution": {
     "iopub.execute_input": "2025-07-26T06:55:01.050181Z",
     "iopub.status.busy": "2025-07-26T06:55:01.049872Z",
     "iopub.status.idle": "2025-07-26T06:55:01.224110Z",
     "shell.execute_reply": "2025-07-26T06:55:01.223754Z"
    },
    "papermill": {
     "duration": 0.178412,
     "end_time": "2025-07-26T06:55:01.224726",
     "exception": false,
     "start_time": "2025-07-26T06:55:01.046314",
     "status": "completed"
    },
    "tags": []
   },
   "outputs": [],
   "source": [
    "import json\n",
    "import numpy as np\n",
    "from sympy import symbols, pi, log, sqrt\n",
    "\n",
    "# Note: Full calculation implementation needed\n",
    "# Formula: λ★ = √(ħ G)/φ₀²\n",
    "# Dependencies: phi_0\n",
    "# Expected value: 3e-20"
   ]
  }
 ],
 "metadata": {
  "kernelspec": {
   "display_name": "Python 3",
   "language": "python",
   "name": "python3"
  },
  "language_info": {
   "codemirror_mode": {
    "name": "ipython",
    "version": 3
   },
   "file_extension": ".py",
   "mimetype": "text/x-python",
   "name": "python",
   "nbconvert_exporter": "python",
   "pygments_lexer": "ipython3",
   "version": "3.12.11"
  },
  "papermill": {
   "default_parameters": {},
   "duration": 0.992669,
   "end_time": "2025-07-26T06:55:01.340158",
   "environment_variables": {},
   "exception": null,
   "input_path": "lambda_star.ipynb",
   "output_path": "../../results/lambda_star_executed.ipynb",
   "parameters": {},
   "start_time": "2025-07-26T06:55:00.347489",
   "version": "2.5.0"
  }
 },
 "nbformat": 4,
 "nbformat_minor": 5
}