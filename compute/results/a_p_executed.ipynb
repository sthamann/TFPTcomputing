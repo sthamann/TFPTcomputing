{
 "cells": [
  {
   "cell_type": "markdown",
   "id": "a1b2c3d4",
   "metadata": {
    "papermill": {
     "duration": 0.003915,
     "end_time": "2025-07-26T07:07:43.832463",
     "exception": false,
     "start_time": "2025-07-26T07:07:43.828548",
     "status": "completed"
    },
    "tags": []
   },
   "source": [
    "# Pioneer anomalous acceleration (a_P)\n",
    "\n",
    "Anomalous acceleration affecting Pioneer spacecraft\n",
    "\n",
    "Formula: a_P = c H₀ φ₀/c₃"
   ]
  },
  {
   "cell_type": "code",
   "execution_count": 1,
   "id": "e5f6g7h8",
   "metadata": {
    "execution": {
     "iopub.execute_input": "2025-07-26T07:07:43.838742Z",
     "iopub.status.busy": "2025-07-26T07:07:43.838481Z",
     "iopub.status.idle": "2025-07-26T07:07:43.920388Z",
     "shell.execute_reply": "2025-07-26T07:07:43.908567Z"
    },
    "papermill": {
     "duration": 0.086662,
     "end_time": "2025-07-26T07:07:43.921962",
     "exception": false,
     "start_time": "2025-07-26T07:07:43.835300",
     "status": "completed"
    },
    "tags": []
   },
   "outputs": [
    {
     "name": "stdout",
     "output_type": "stream",
     "text": [
      "Calculating Pioneer anomalous acceleration (a_P)\n",
      "\n",
      "Formula: a_P = c H₀ φ₀/c₃\n",
      "\n",
      "Inputs:\n",
      "  c = 2.997925e+08 m/s\n",
      "  H₀ = 2.268000e-18 s⁻¹\n",
      "  φ₀ = 0.0531710000\n",
      "  c₃ = 0.0397887358\n",
      "\n",
      "Calculated value: 9.086119e-10 m/s²\n",
      "Reference value: 8.800000e-10 m/s²\n",
      "Relative error: 3.251357e-02\n",
      "Accuracy target met: False\n",
      "\n",
      "Result saved to ../results/a_p_result.json\n"
     ]
    }
   ],
   "source": [
    "import json\n",
    "import numpy as np\n",
    "from pathlib import Path\n",
    "\n",
    "# Load metadata\n",
    "const_path = Path('../data/a_p.json')\n",
    "with open(const_path, 'r') as f:\n",
    "    metadata = json.load(f)\n",
    "\n",
    "# Load dependencies\n",
    "# Use standard speed of light value since c_tfp should equal c\n",
    "c = 299792458  # m/s (exact by definition)\n",
    "\n",
    "with open('../data/phi_0.json', 'r') as f:\n",
    "    phi_0_data = json.load(f)\n",
    "    phi_0 = phi_0_data['sources'][0]['value']  # Fundamental VEV\n",
    "\n",
    "with open('../data/c_3.json', 'r') as f:\n",
    "    c_3_data = json.load(f)\n",
    "    c_3 = c_3_data['sources'][0]['value']  # Topological fixed point\n",
    "\n",
    "# Hubble constant in SI units (s^-1)\n",
    "# H₀ ≈ 70 km/s/Mpc = 70 × 10³ m/s / (3.086 × 10²² m) ≈ 2.268 × 10⁻¹⁸ s⁻¹\n",
    "H_0 = 2.268e-18  # s^-1\n",
    "\n",
    "# Calculate Pioneer anomaly\n",
    "# a_P = c H₀ φ₀/c₃\n",
    "calculated_value = c * H_0 * phi_0 / c_3\n",
    "\n",
    "print(f\"Calculating {metadata['name']} ({metadata['symbol']})\")\n",
    "print(f\"\\nFormula: {metadata['formula']}\")\n",
    "print(f\"\\nInputs:\")\n",
    "print(f\"  c = {c:.6e} m/s\")\n",
    "print(f\"  H₀ = {H_0:.6e} s⁻¹\")\n",
    "print(f\"  φ₀ = {phi_0:.10f}\")\n",
    "print(f\"  c₃ = {c_3:.10f}\")\n",
    "print(f\"\\nCalculated value: {calculated_value:.6e} {metadata['unit']}\")\n",
    "print(f\"Reference value: {metadata['sources'][0]['value']:.6e} {metadata['unit']}\")\n",
    "\n",
    "# Calculate relative error\n",
    "reference_value = metadata['sources'][0]['value']\n",
    "relative_error = abs(calculated_value - reference_value) / reference_value\n",
    "print(f\"Relative error: {relative_error:.6e}\")\n",
    "\n",
    "# Check accuracy\n",
    "accuracy_met = relative_error < metadata['accuracyTarget']\n",
    "print(f\"Accuracy target met: {accuracy_met}\")\n",
    "\n",
    "# Save result\n",
    "result_data = {\n",
    "    'id': metadata['id'],\n",
    "    'symbol': metadata['symbol'],\n",
    "    'calculated_value': calculated_value,\n",
    "    'reference_value': reference_value,\n",
    "    'relative_error': relative_error,\n",
    "    'unit': metadata['unit'],\n",
    "    'formula': metadata['formula'],\n",
    "    'accuracy_met': accuracy_met\n",
    "}\n",
    "\n",
    "output_path = Path('../results/a_p_result.json')\n",
    "output_path.parent.mkdir(exist_ok=True)\n",
    "with open(output_path, 'w') as f:\n",
    "    json.dump(result_data, f, indent=2)\n",
    "\n",
    "print(f'\\nResult saved to {output_path}')"
   ]
  }
 ],
 "metadata": {
  "kernelspec": {
   "display_name": "Python 3",
   "language": "python",
   "name": "python3"
  },
  "language_info": {
   "codemirror_mode": {
    "name": "ipython",
    "version": 3
   },
   "file_extension": ".py",
   "mimetype": "text/x-python",
   "name": "python",
   "nbconvert_exporter": "python",
   "pygments_lexer": "ipython3",
   "version": "3.12.11"
  },
  "papermill": {
   "default_parameters": {},
   "duration": 0.933771,
   "end_time": "2025-07-26T07:07:44.049394",
   "environment_variables": {},
   "exception": null,
   "input_path": "a_p.ipynb",
   "output_path": "../../results/a_p_executed.ipynb",
   "parameters": {},
   "start_time": "2025-07-26T07:07:43.115623",
   "version": "2.5.0"
  }
 },
 "nbformat": 4,
 "nbformat_minor": 5
}