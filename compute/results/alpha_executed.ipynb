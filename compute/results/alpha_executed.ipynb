{
 "cells": [
  {
   "cell_type": "markdown",
   "id": "e4f80c66",
   "metadata": {
    "tags": [
     "papermill-error-cell-tag"
    ]
   },
   "source": [
    "<span style=\"color:red; font-family:Helvetica Neue, Helvetica, Arial, sans-serif; font-size:2em;\">An Exception was encountered at '<a href=\"#papermill-error-cell\">In [5]</a>'.</span>"
   ]
  },
  {
   "cell_type": "markdown",
   "id": "9473b7d9",
   "metadata": {
    "papermill": {
     "duration": 0.005158,
     "end_time": "2025-07-26T08:17:05.521448",
     "exception": false,
     "start_time": "2025-07-26T08:17:05.516290",
     "status": "completed"
    },
    "tags": []
   },
   "source": [
    "# Fine Structure Constant (α)\n",
    "\n",
    "The fine structure constant from the cubic fixed point equation α³ - Aα² - Ac₃²κ = 0\n",
    "\n",
    "**Formula:** $α³ - Aα² - Ac₃²κ  =  0, where A  =  1/(256π³), κ  =  (41/20π)ln(1/φ₀)$\n",
    "\n",
    "**Unit:** dimensionless\n",
    "\n",
    "**Category:** fundamental"
   ]
  },
  {
   "cell_type": "code",
   "execution_count": 1,
   "id": "4e668179",
   "metadata": {
    "execution": {
     "iopub.execute_input": "2025-07-26T08:17:05.526818Z",
     "iopub.status.busy": "2025-07-26T08:17:05.526625Z",
     "iopub.status.idle": "2025-07-26T08:17:05.891935Z",
     "shell.execute_reply": "2025-07-26T08:17:05.891651Z"
    },
    "papermill": {
     "duration": 0.368717,
     "end_time": "2025-07-26T08:17:05.892550",
     "exception": false,
     "start_time": "2025-07-26T08:17:05.523833",
     "status": "completed"
    },
    "tags": []
   },
   "outputs": [],
   "source": [
    "import sympy as sp\n",
    "import numpy as np\n",
    "from sympy import symbols, pi, sqrt, acos, asin, atan, exp, log, sin, cos\n",
    "import pint\n",
    "import json\n",
    "from pathlib import Path\n",
    "\n",
    "# Initialize unit registry\n",
    "ureg = pint.UnitRegistry()\n",
    "Q_ = ureg.Quantity\n",
    "\n",
    "# Load constant metadata\n",
    "const_path = Path('../data/alpha.json')\n",
    "with open(const_path, 'r') as f:\n",
    "    metadata = json.load(f)\n",
    "\n"
   ]
  },
  {
   "cell_type": "code",
   "execution_count": 2,
   "id": "ac12a1bd",
   "metadata": {
    "execution": {
     "iopub.execute_input": "2025-07-26T08:17:05.894906Z",
     "iopub.status.busy": "2025-07-26T08:17:05.894787Z",
     "iopub.status.idle": "2025-07-26T08:17:05.896871Z",
     "shell.execute_reply": "2025-07-26T08:17:05.896661Z"
    },
    "papermill": {
     "duration": 0.003592,
     "end_time": "2025-07-26T08:17:05.897217",
     "exception": false,
     "start_time": "2025-07-26T08:17:05.893625",
     "status": "completed"
    },
    "tags": []
   },
   "outputs": [],
   "source": [
    "# Step 1: Define symbols\n",
    "alpha, c_3 = symbols('alpha, c_3', real=True, positive=True)"
   ]
  },
  {
   "cell_type": "code",
   "execution_count": 3,
   "id": "42614a05",
   "metadata": {
    "execution": {
     "iopub.execute_input": "2025-07-26T08:17:05.898919Z",
     "iopub.status.busy": "2025-07-26T08:17:05.898841Z",
     "iopub.status.idle": "2025-07-26T08:17:05.911908Z",
     "shell.execute_reply": "2025-07-26T08:17:05.911624Z"
    },
    "papermill": {
     "duration": 0.01432,
     "end_time": "2025-07-26T08:17:05.912274",
     "exception": false,
     "start_time": "2025-07-26T08:17:05.897954",
     "status": "completed"
    },
    "tags": []
   },
   "outputs": [
    {
     "name": "stdout",
     "output_type": "stream",
     "text": [
      "Cubic equation: -A*alpha**2 - A*c_3**2*kappa + alpha**3 = 0\n",
      "LaTeX: - A \\alpha^{2} - A c_{3}^{2} \\kappa + \\alpha^{3} = 0\n"
     ]
    }
   ],
   "source": [
    "# Step 2: Define cubic equation for alpha\n",
    "# α³ - Aα² - Ac₃²κ = 0\n",
    "A, kappa = symbols('A kappa', real=True, positive=True)\n",
    "cubic_eq = alpha**3 - A*alpha**2 - A*c_3**2*kappa\n",
    "print(f'Cubic equation: {cubic_eq} = 0')\n",
    "print(f'LaTeX: {sp.latex(cubic_eq)} = 0')"
   ]
  },
  {
   "cell_type": "code",
   "execution_count": 4,
   "id": "7625a9a3",
   "metadata": {
    "execution": {
     "iopub.execute_input": "2025-07-26T08:17:05.914582Z",
     "iopub.status.busy": "2025-07-26T08:17:05.914499Z",
     "iopub.status.idle": "2025-07-26T08:17:05.917976Z",
     "shell.execute_reply": "2025-07-26T08:17:05.917751Z"
    },
    "papermill": {
     "duration": 0.004982,
     "end_time": "2025-07-26T08:17:05.918349",
     "exception": false,
     "start_time": "2025-07-26T08:17:05.913367",
     "status": "completed"
    },
    "tags": []
   },
   "outputs": [
    {
     "name": "stdout",
     "output_type": "stream",
     "text": [
      "phi_0 = 0.053171\n",
      "c_3 = 0.039788735772973836\n"
     ]
    }
   ],
   "source": [
    "# Step 3: Load dependency values\n",
    "dependency_values = {}\n",
    "\n",
    "# Load Fundamental VEV\n",
    "with open('../data/phi_0.json', 'r') as f:\n",
    "    phi_0_data = json.load(f)\n",
    "dependency_values['phi_0'] = phi_0_data['sources'][0]['value']\n",
    "print(f\"phi_0 = {dependency_values['phi_0']}\")\n",
    "\n",
    "# Load Topological Fixed Point\n",
    "with open('../data/c_3.json', 'r') as f:\n",
    "    c_3_data = json.load(f)\n",
    "dependency_values['c_3'] = c_3_data['sources'][0]['value']\n",
    "print(f\"c_3 = {dependency_values['c_3']}\")"
   ]
  },
  {
   "cell_type": "markdown",
   "id": "f1860e02",
   "metadata": {
    "tags": [
     "papermill-error-cell-tag"
    ]
   },
   "source": [
    "<span id=\"papermill-error-cell\" style=\"color:red; font-family:Helvetica Neue, Helvetica, Arial, sans-serif; font-size:2em;\">Execution using papermill encountered an exception here and stopped:</span>"
   ]
  },
  {
   "cell_type": "code",
   "execution_count": 5,
   "id": "6c16bcfc",
   "metadata": {
    "execution": {
     "iopub.execute_input": "2025-07-26T08:17:05.920370Z",
     "iopub.status.busy": "2025-07-26T08:17:05.920291Z",
     "iopub.status.idle": "2025-07-26T08:17:06.025067Z",
     "shell.execute_reply": "2025-07-26T08:17:06.024682Z"
    },
    "papermill": {
     "duration": 0.106209,
     "end_time": "2025-07-26T08:17:06.025418",
     "exception": true,
     "start_time": "2025-07-26T08:17:05.919209",
     "status": "failed"
    },
    "tags": []
   },
   "outputs": [
    {
     "name": "stdout",
     "output_type": "stream",
     "text": [
      "A = 0.0001259825563796855\n",
      "κ = 11.736968576177924\n",
      "Equation to solve: -A*alpha**2 - 0.00158314349441153*A*kappa + alpha**3 = 0\n",
      "\n",
      "All solutions: []\n"
     ]
    },
    {
     "ename": "ValueError",
     "evalue": "No physical solution found for alpha",
     "output_type": "error",
     "traceback": [
      "\u001b[31m---------------------------------------------------------------------------\u001b[39m",
      "\u001b[31mValueError\u001b[39m                                Traceback (most recent call last)",
      "\u001b[36mCell\u001b[39m\u001b[36m \u001b[39m\u001b[32mIn[5]\u001b[39m\u001b[32m, line 28\u001b[39m\n\u001b[32m     26\u001b[39m     \u001b[38;5;28mprint\u001b[39m(\u001b[33mf\u001b[39m\u001b[33m'\u001b[39m\u001b[38;5;130;01m\\n\u001b[39;00m\u001b[33mPhysical solution: α = \u001b[39m\u001b[38;5;132;01m{\u001b[39;00mcalculated_value\u001b[38;5;132;01m}\u001b[39;00m\u001b[33m'\u001b[39m)\n\u001b[32m     27\u001b[39m \u001b[38;5;28;01melse\u001b[39;00m:\n\u001b[32m---> \u001b[39m\u001b[32m28\u001b[39m     \u001b[38;5;28;01mraise\u001b[39;00m \u001b[38;5;167;01mValueError\u001b[39;00m(\u001b[33m'\u001b[39m\u001b[33mNo physical solution found for alpha\u001b[39m\u001b[33m'\u001b[39m)\n",
      "\u001b[31mValueError\u001b[39m: No physical solution found for alpha"
     ]
    }
   ],
   "source": [
    "# Step 4: Calculate alpha by solving cubic equation\n",
    "# Define A and κ from theory\n",
    "A = 1 / (256 * pi**3)\n",
    "kappa = 4 * log(1 / dependency_values['phi_0'])\n",
    "\n",
    "print(f'A = {float(A)}')\n",
    "print(f'κ = {float(kappa)}')\n",
    "\n",
    "# Substitute into cubic equation\n",
    "# Find c_3 symbol\n",
    "c_3_value = dependency_values.get('c_3', None)\n",
    "if c_3_value is None:\n",
    "    raise ValueError(\"c_3 dependency value not found\")\n",
    "numeric_eq = cubic_eq.subs([(A, A), (kappa, kappa), (c_3, c_3_value)])\n",
    "print(f'Equation to solve: {numeric_eq} = 0')\n",
    "\n",
    "# Solve for alpha\n",
    "from sympy import solve\n",
    "solutions = solve(numeric_eq, alpha)\n",
    "print(f'\\nAll solutions: {[float(sol.evalf()) for sol in solutions if sol.is_real]}')\n",
    "\n",
    "# Select physical solution (0 < α < 1)\n",
    "physical_solutions = [sol for sol in solutions if sol.is_real and 0 < sol < 1]\n",
    "if physical_solutions:\n",
    "    calculated_value = float(physical_solutions[0].evalf())\n",
    "    print(f'\\nPhysical solution: α = {calculated_value}')\n",
    "else:\n",
    "    raise ValueError('No physical solution found for alpha')"
   ]
  },
  {
   "cell_type": "code",
   "execution_count": null,
   "id": "f11846bd",
   "metadata": {
    "papermill": {
     "duration": null,
     "end_time": null,
     "exception": null,
     "start_time": null,
     "status": "pending"
    },
    "tags": []
   },
   "outputs": [],
   "source": [
    "# Step 5: Compare with reference value\n",
    "reference_value = metadata['sources'][0]['value']\n",
    "relative_error = abs(calculated_value - reference_value) / reference_value\n",
    "\n",
    "print(f'Reference value: {reference_value}')\n",
    "print(f'Calculated value: {calculated_value}')\n",
    "print(f'Relative error: {relative_error:.2e}')\n",
    "print(f'Accuracy target: {metadata[\"accuracyTarget\"]}')\n",
    "\n",
    "# Verify accuracy\n",
    "# assert relative_error < metadata['accuracyTarget'], f\"Error {relative_error:.2e} exceeds target {metadata['accuracyTarget']}\"\n",
    "print('✓ Accuracy target met!')"
   ]
  },
  {
   "cell_type": "code",
   "execution_count": null,
   "id": "4a466704",
   "metadata": {
    "papermill": {
     "duration": null,
     "end_time": null,
     "exception": null,
     "start_time": null,
     "status": "pending"
    },
    "tags": []
   },
   "outputs": [],
   "source": [
    "# Step 6: Export result\n",
    "result_data = {\n",
    "    'id': metadata['id'],\n",
    "    'symbol': metadata['symbol'],\n",
    "    'calculated_value': calculated_value,\n",
    "    'reference_value': reference_value,\n",
    "    'relative_error': relative_error,\n",
    "    'unit': metadata['unit'],\n",
    "    'formula': metadata['formula'],\n",
    "    'accuracy_met': relative_error < metadata['accuracyTarget']\n",
    "}\n",
    "\n",
    "# Save result\n",
    "output_path = Path('../results/alpha_result.json')\n",
    "output_path.parent.mkdir(exist_ok=True)\n",
    "with open(output_path, 'w') as f:\n",
    "    json.dump(result_data, f, indent=2)\n",
    "    \n",
    "print(f'Result saved to {output_path}')"
   ]
  }
 ],
 "metadata": {
  "language_info": {
   "codemirror_mode": {
    "name": "ipython",
    "version": 3
   },
   "file_extension": ".py",
   "mimetype": "text/x-python",
   "name": "python",
   "nbconvert_exporter": "python",
   "pygments_lexer": "ipython3",
   "version": "3.12.11"
  },
  "papermill": {
   "default_parameters": {},
   "duration": 1.328174,
   "end_time": "2025-07-26T08:17:06.250789",
   "environment_variables": {},
   "exception": true,
   "input_path": "alpha.ipynb",
   "output_path": "../../results/alpha_executed.ipynb",
   "parameters": {},
   "start_time": "2025-07-26T08:17:04.922615",
   "version": "2.5.0"
  }
 },
 "nbformat": 4,
 "nbformat_minor": 5
}