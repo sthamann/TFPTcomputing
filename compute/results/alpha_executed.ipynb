{
 "cells": [
  {
   "cell_type": "markdown",
   "id": "12eb565f",
   "metadata": {
    "papermill": {
     "duration": 0.00491,
     "end_time": "2025-08-05T06:53:41.987805",
     "exception": false,
     "start_time": "2025-08-05T06:53:41.982895",
     "status": "completed"
    },
    "tags": []
   },
   "source": [
    "# Fine-Structure Constant (α)\n",
    "\n",
    "Solve cubic equation with A = 1/(256π³), κ = (41/20π)ln(1/φ₀)\n",
    "\n",
    "**Formula:** $solveCubic(1, -A, 0, -A * c₃² κ)$\n",
    "\n",
    "**Unit:** dimensionless\n",
    "\n",
    "**Category:** fundamental"
   ]
  },
  {
   "cell_type": "code",
   "execution_count": 1,
   "id": "00679757",
   "metadata": {
    "execution": {
     "iopub.execute_input": "2025-08-05T06:53:41.995375Z",
     "iopub.status.busy": "2025-08-05T06:53:41.995171Z",
     "iopub.status.idle": "2025-08-05T06:53:42.465777Z",
     "shell.execute_reply": "2025-08-05T06:53:42.465477Z"
    },
    "papermill": {
     "duration": 0.474802,
     "end_time": "2025-08-05T06:53:42.466368",
     "exception": false,
     "start_time": "2025-08-05T06:53:41.991566",
     "status": "completed"
    },
    "tags": []
   },
   "outputs": [],
   "source": [
    "import sympy as sp\n",
    "import numpy as np\n",
    "from sympy import symbols, pi, sqrt, acos, asin, atan, exp, log, sin, cos\n",
    "import pint\n",
    "import json\n",
    "from pathlib import Path\n",
    "import os\n",
    "import warnings\n",
    "warnings.filterwarnings('ignore')  # Suppress numpy warnings for cleaner output\n",
    "\n",
    "# Initialize unit registry\n",
    "ureg = pint.UnitRegistry()\n",
    "Q_ = ureg.Quantity\n",
    "\n",
    "# Define custom units if needed\n",
    "try:\n",
    "    # Nuclear magneton (in SI units: J/T)\n",
    "    ureg.define('nuclear_magneton = 5.050783699e-27 * joule / tesla')\n",
    "    ureg.define('μ_N = nuclear_magneton')  # Greek mu with subscript N\n",
    "except:\n",
    "    pass  # Unit might already be defined\n",
    "\n",
    "# Bootstrap commonly used constants that may not be in dependencies\n",
    "# These are fundamental constants that many calculations rely on\n",
    "BOOTSTRAP_CONSTANTS = {\n",
    "    'DISPLAY_SCALE': 1e10,  # GeV display scale\n",
    "    'RG_FACTOR': 1.0,       # Renormalization group factor\n",
    "    'm_e_MEV': 0.51099895,  # Electron mass in MeV\n",
    "    'hbar': 1.0,            # Natural units (ħ=c=1)\n",
    "    'c': 1.0,               # Natural units (ħ=c=1)\n",
    "    'G': 6.67430e-11,       # Gravitational constant (SI)\n",
    "    'b_Y': 41.0/10.0,       # SM beta function coefficient\n",
    "    'g_1': 0.3583,          # U(1) coupling at M_Z\n",
    "    'g_2': 0.6536,          # SU(2) coupling at M_Z\n",
    "    'Y': 1.0,               # Yukawa coupling (placeholder)\n",
    "    'T_PLANCK': 1.416784e32, # Planck temperature in K\n",
    "    'REHEAT_FACTOR': 1e-16,  # Typical reheating factor\n",
    "    'BETA_0': 41.0/10.0,     # Same as b_Y\n",
    "    'H_0': 2.2e-18,          # Hubble constant in SI units (Hz)\n",
    "    'LEPTONIC': 0.17,        # Leptonic branching ratio for tau\n",
    "    'HADRONIC': 0.65,       # Hadronic branching ratio for tau\n",
    "    'E8_FACTOR': 5.0/6.0,    # E8 factor for tau mass\n",
    "    'hbar_GeVs': 6.582119e-25,  # Reduced Planck constant in GeV*s\n",
    "    'hbar': 1.0,             # Natural units (ħ=c=1)\n",
    "    'c': 299792458.0,        # Speed of light in m/s\n",
    "}\n",
    "\n",
    "# Load constant metadata\n",
    "# Handle different working directories (local vs Docker)\n",
    "possible_paths = [\n",
    "    Path('../constants/data/alpha.json'),\n",
    "    Path('/app/constants/data/alpha.json'),\n",
    "    Path('constants/data/alpha.json'),\n",
    "    Path('./data/alpha.json')\n",
    "]\n",
    "\n",
    "metadata = None\n",
    "for const_path in possible_paths:\n",
    "    if const_path.exists():\n",
    "        with open(const_path, 'r') as f:\n",
    "            metadata = json.load(f)\n",
    "        break\n",
    "\n",
    "if metadata is None:\n",
    "    raise FileNotFoundError(f\"Could not find alpha.json in any expected location\")\n"
   ]
  },
  {
   "cell_type": "code",
   "execution_count": 2,
   "id": "51a2b625",
   "metadata": {
    "execution": {
     "iopub.execute_input": "2025-08-05T06:53:42.468759Z",
     "iopub.status.busy": "2025-08-05T06:53:42.468650Z",
     "iopub.status.idle": "2025-08-05T06:53:42.470597Z",
     "shell.execute_reply": "2025-08-05T06:53:42.470386Z"
    },
    "papermill": {
     "duration": 0.003497,
     "end_time": "2025-08-05T06:53:42.470926",
     "exception": false,
     "start_time": "2025-08-05T06:53:42.467429",
     "status": "completed"
    },
    "tags": []
   },
   "outputs": [],
   "source": [
    "# Step 1: Define symbols\n",
    "alpha, c_3 = symbols('alpha, c_3', real=True, positive=True)"
   ]
  },
  {
   "cell_type": "code",
   "execution_count": 3,
   "id": "ef66de6d",
   "metadata": {
    "execution": {
     "iopub.execute_input": "2025-08-05T06:53:42.472808Z",
     "iopub.status.busy": "2025-08-05T06:53:42.472723Z",
     "iopub.status.idle": "2025-08-05T06:53:42.486604Z",
     "shell.execute_reply": "2025-08-05T06:53:42.486340Z"
    },
    "papermill": {
     "duration": 0.015264,
     "end_time": "2025-08-05T06:53:42.486978",
     "exception": false,
     "start_time": "2025-08-05T06:53:42.471714",
     "status": "completed"
    },
    "tags": []
   },
   "outputs": [
    {
     "name": "stdout",
     "output_type": "stream",
     "text": [
      "Cubic equation: -A*alpha**2 - A*c_3**2*kappa + alpha**3 = 0\n",
      "LaTeX: - A \\alpha^{2} - A c_{3}^{2} \\kappa + \\alpha^{3} = 0\n"
     ]
    }
   ],
   "source": [
    "# Step 2: Define cubic equation for alpha\n",
    "# α³ - Aα² - Ac₃²κ = 0\n",
    "A, kappa = symbols('A kappa', real=True, positive=True)\n",
    "cubic_eq = alpha**3 - A*alpha**2 - A*c_3**2*kappa\n",
    "print(f'Cubic equation: {cubic_eq} = 0')\n",
    "print(f'LaTeX: {sp.latex(cubic_eq)} = 0')"
   ]
  },
  {
   "cell_type": "code",
   "execution_count": 4,
   "id": "02444c98",
   "metadata": {
    "execution": {
     "iopub.execute_input": "2025-08-05T06:53:42.489240Z",
     "iopub.status.busy": "2025-08-05T06:53:42.489157Z",
     "iopub.status.idle": "2025-08-05T06:53:42.492536Z",
     "shell.execute_reply": "2025-08-05T06:53:42.492328Z"
    },
    "papermill": {
     "duration": 0.004884,
     "end_time": "2025-08-05T06:53:42.492888",
     "exception": false,
     "start_time": "2025-08-05T06:53:42.488004",
     "status": "completed"
    },
    "tags": []
   },
   "outputs": [
    {
     "name": "stdout",
     "output_type": "stream",
     "text": [
      "phi_0 = 0.053171\n",
      "c_3 = 0.039788735772973836\n"
     ]
    }
   ],
   "source": [
    "# Step 3: Load dependency values\n",
    "dependency_values = {}\n",
    "\n",
    "# Load Fundamental VEV\n",
    "# Try multiple possible paths for phi_0.json\n",
    "dep_paths = [\n",
    "    Path('../constants/data/phi_0.json'),\n",
    "    Path('/app/constants/data/phi_0.json'),\n",
    "    Path('constants/data/phi_0.json'),\n",
    "    Path('./data/phi_0.json')\n",
    "]\n",
    "for dep_path in dep_paths:\n",
    "    if dep_path.exists():\n",
    "        with open(dep_path, 'r') as f:\n",
    "            phi_0_data = json.load(f)\n",
    "        break\n",
    "else:\n",
    "    raise FileNotFoundError(f'Could not find phi_0.json')\n",
    "dependency_values['phi_0'] = phi_0_data['sources'][0]['value']\n",
    "print(f\"phi_0 = {dependency_values['phi_0']}\")\n",
    "\n",
    "# Load Topological Fixed Point\n",
    "# Try multiple possible paths for c_3.json\n",
    "dep_paths = [\n",
    "    Path('../constants/data/c_3.json'),\n",
    "    Path('/app/constants/data/c_3.json'),\n",
    "    Path('constants/data/c_3.json'),\n",
    "    Path('./data/c_3.json')\n",
    "]\n",
    "for dep_path in dep_paths:\n",
    "    if dep_path.exists():\n",
    "        with open(dep_path, 'r') as f:\n",
    "            c_3_data = json.load(f)\n",
    "        break\n",
    "else:\n",
    "    raise FileNotFoundError(f'Could not find c_3.json')\n",
    "dependency_values['c_3'] = c_3_data['sources'][0]['value']\n",
    "print(f\"c_3 = {dependency_values['c_3']}\")"
   ]
  },
  {
   "cell_type": "code",
   "execution_count": 5,
   "id": "5c981a1f",
   "metadata": {
    "execution": {
     "iopub.execute_input": "2025-08-05T06:53:42.494810Z",
     "iopub.status.busy": "2025-08-05T06:53:42.494743Z",
     "iopub.status.idle": "2025-08-05T06:53:42.502588Z",
     "shell.execute_reply": "2025-08-05T06:53:42.502366Z"
    },
    "papermill": {
     "duration": 0.009196,
     "end_time": "2025-08-05T06:53:42.502943",
     "exception": false,
     "start_time": "2025-08-05T06:53:42.493747",
     "status": "completed"
    },
    "tags": []
   },
   "outputs": [
    {
     "name": "stdout",
     "output_type": "stream",
     "text": [
      "A = 0.0001259825563796855\n",
      "κ = 1.9146964799582853\n",
      "Equation to solve: alpha**3 - 0.000125982556379686*alpha**2 - 3.81883272991332e-7 = 0\n",
      "\n",
      "Polynomial coefficients: [1.0, -0.0001259825563796855, 0.0, -3.818832729913318e-07]\n",
      "\n",
      "All roots from polynomial solver:\n",
      "  Root 1: 0.007297340575733252\n",
      "  Root 2: (-0.003585679009676779+0.0062828932743841884j) (complex)\n",
      "  Root 3: (-0.003585679009676779-0.0062828932743841884j) (complex)\n",
      "\n",
      "Positive real roots: [0.007297340575733252]\n",
      "\n",
      "Selected root (largest perturbative): α = 0.007297340575733252\n",
      "\n",
      "Verification - cubic residual: 1.5352472168984194e-21\n",
      "Relative error: 2.10e-19\n"
     ]
    }
   ],
   "source": [
    "# Step 4: Calculate alpha by solving cubic equation\n",
    "# Define A and κ from theory\n",
    "A = 1 / (256 * pi**3)\n",
    "kappa = (41 / (20 * pi)) * log(1 / dependency_values['phi_0'])\n",
    "\n",
    "print(f'A = {float(A)}')\n",
    "print(f'κ = {float(kappa)}')\n",
    "\n",
    "# Substitute into cubic equation\n",
    "# Find c_3 symbol\n",
    "c_3_value = dependency_values.get('c_3', None)\n",
    "if c_3_value is None:\n",
    "    raise ValueError(\"c_3 dependency value not found\")\n",
    "\n",
    "# Create substitution dictionary with numeric values\n",
    "substitutions = {\n",
    "    'A': float(A),\n",
    "    'kappa': float(kappa),\n",
    "    'c_3': c_3_value\n",
    "}\n",
    "\n",
    "# Apply substitutions\n",
    "numeric_eq = cubic_eq\n",
    "for sym in cubic_eq.free_symbols:\n",
    "    if str(sym) in substitutions:\n",
    "        numeric_eq = numeric_eq.subs(sym, substitutions[str(sym)])\n",
    "\n",
    "print(f'Equation to solve: {numeric_eq} = 0')\n",
    "\n",
    "# Solve cubic equation α³ - Aα² - Ac₃²κ = 0 using numpy polynomial solver\n",
    "import numpy as np\n",
    "\n",
    "# Create polynomial coefficients [highest degree first]\n",
    "# α³ - Aα² - Ac₃²κ = 0 => coeffs = [1, -A, 0, -A*c₃²*κ]\n",
    "A_val = float(A)\n",
    "c3_val = c_3_value\n",
    "kappa_val = float(kappa)\n",
    "\n",
    "coeffs = [1.0, -A_val, 0.0, -A_val * c3_val**2 * kappa_val]\n",
    "print(f'\\nPolynomial coefficients: {coeffs}')\n",
    "\n",
    "# Find all roots\n",
    "all_roots = np.roots(coeffs)\n",
    "print(f'\\nAll roots from polynomial solver:')\n",
    "for i, root in enumerate(all_roots):\n",
    "    if np.isreal(root):\n",
    "        print(f'  Root {i+1}: {float(np.real(root))}')\n",
    "    else:\n",
    "        print(f'  Root {i+1}: {root} (complex)')\n",
    "\n",
    "# Filter for positive real roots\n",
    "real_positive_roots = []\n",
    "for root in all_roots:\n",
    "    if np.isreal(root) and np.real(root) > 0:\n",
    "        real_positive_roots.append(float(np.real(root)))\n",
    "\n",
    "real_positive_roots.sort()\n",
    "print(f'\\nPositive real roots: {real_positive_roots}')\n",
    "\n",
    "# Selection criterion: largest perturbative root (α < 0.01)\n",
    "perturbative_roots = [r for r in real_positive_roots if r < 0.01]\n",
    "if perturbative_roots:\n",
    "    calculated_value = max(perturbative_roots)\n",
    "    print(f'\\nSelected root (largest perturbative): α = {calculated_value}')\n",
    "else:\n",
    "    # If no perturbative roots, take the smallest positive root\n",
    "    if real_positive_roots:\n",
    "        calculated_value = min(real_positive_roots)\n",
    "        print(f'\\nNo perturbative roots found, using smallest positive: α = {calculated_value}')\n",
    "    else:\n",
    "        raise ValueError('No positive real solutions found for alpha')\n",
    "\n",
    "# Verification: check that the root satisfies the equation\n",
    "residual = calculated_value**3 - A_val * calculated_value**2 - A_val * c3_val**2 * kappa_val\n",
    "print(f'\\nVerification - cubic residual: {residual}')\n",
    "print(f'Relative error: {abs(residual/calculated_value):.2e}')"
   ]
  },
  {
   "cell_type": "code",
   "execution_count": 6,
   "id": "06297da5",
   "metadata": {
    "execution": {
     "iopub.execute_input": "2025-08-05T06:53:42.505213Z",
     "iopub.status.busy": "2025-08-05T06:53:42.505139Z",
     "iopub.status.idle": "2025-08-05T06:53:42.507554Z",
     "shell.execute_reply": "2025-08-05T06:53:42.507348Z"
    },
    "papermill": {
     "duration": 0.003951,
     "end_time": "2025-08-05T06:53:42.507885",
     "exception": false,
     "start_time": "2025-08-05T06:53:42.503934",
     "status": "completed"
    },
    "tags": []
   },
   "outputs": [
    {
     "name": "stdout",
     "output_type": "stream",
     "text": [
      "Reference value: 0.0072973525643\n",
      "Calculated value: 0.007297340575733252\n",
      "Relative error: 1.64e-06\n",
      "Accuracy target: 0.001\n",
      "✓ Accuracy target met!\n"
     ]
    }
   ],
   "source": [
    "# Step 5: Compare with reference value\n",
    "reference_value = metadata['sources'][0]['value']\n",
    "relative_error = abs(calculated_value - reference_value) / reference_value\n",
    "\n",
    "print(f'Reference value: {reference_value}')\n",
    "print(f'Calculated value: {calculated_value}')\n",
    "print(f'Relative error: {relative_error:.2e}')\n",
    "print(f'Accuracy target: {metadata[\"accuracyTarget\"]}')\n",
    "\n",
    "# Verify accuracy\n",
    "assert relative_error < metadata['accuracyTarget'], f\"Error {relative_error:.2e} exceeds target {metadata['accuracyTarget']}\"\n",
    "print('✓ Accuracy target met!')"
   ]
  },
  {
   "cell_type": "code",
   "execution_count": 7,
   "id": "98f98958",
   "metadata": {
    "execution": {
     "iopub.execute_input": "2025-08-05T06:53:42.509930Z",
     "iopub.status.busy": "2025-08-05T06:53:42.509855Z",
     "iopub.status.idle": "2025-08-05T06:53:42.513416Z",
     "shell.execute_reply": "2025-08-05T06:53:42.513149Z"
    },
    "papermill": {
     "duration": 0.005027,
     "end_time": "2025-08-05T06:53:42.513782",
     "exception": false,
     "start_time": "2025-08-05T06:53:42.508755",
     "status": "completed"
    },
    "tags": []
   },
   "outputs": [
    {
     "name": "stdout",
     "output_type": "stream",
     "text": [
      "Result saved to /app/constants/results/alpha_result.json\n"
     ]
    }
   ],
   "source": [
    "# Step 6: Export result\n",
    "result_data = {\n",
    "    'id': metadata['id'],\n",
    "    'symbol': metadata['symbol'],\n",
    "    'calculated_value': calculated_value,\n",
    "    'reference_value': reference_value,\n",
    "    'relative_error': relative_error,\n",
    "    'unit': metadata['unit'],\n",
    "    'formula': metadata['formula'],\n",
    "    'accuracy_met': relative_error < metadata['accuracyTarget']\n",
    "}\n",
    "\n",
    "# Save result - try multiple possible paths\n",
    "output_paths = [\n",
    "    Path('../constants/results/alpha_result.json'),\n",
    "    Path('/app/constants/results/alpha_result.json'),\n",
    "    Path('constants/results/alpha_result.json'),\n",
    "    Path('./results/alpha_result.json')\n",
    "]\n",
    "\n",
    "saved = False\n",
    "for output_path in output_paths:\n",
    "    try:\n",
    "        output_path.parent.mkdir(parents=True, exist_ok=True)\n",
    "        with open(output_path, 'w') as f:\n",
    "            json.dump(result_data, f, indent=2)\n",
    "        print(f'Result saved to {output_path}')\n",
    "        saved = True\n",
    "        break\n",
    "    except Exception as e:\n",
    "        continue\n",
    "\n",
    "if not saved:\n",
    "    print(f'Warning: Could not save result file - tried all paths')"
   ]
  }
 ],
 "metadata": {
  "language_info": {
   "codemirror_mode": {
    "name": "ipython",
    "version": 3
   },
   "file_extension": ".py",
   "mimetype": "text/x-python",
   "name": "python",
   "nbconvert_exporter": "python",
   "pygments_lexer": "ipython3",
   "version": "3.12.11"
  },
  "papermill": {
   "default_parameters": {},
   "duration": 1.631824,
   "end_time": "2025-08-05T06:53:42.732572",
   "environment_variables": {},
   "exception": null,
   "input_path": "alpha.ipynb",
   "output_path": "../../results/alpha_executed.ipynb",
   "parameters": {},
   "start_time": "2025-08-05T06:53:41.100748",
   "version": "2.5.0"
  }
 },
 "nbformat": 4,
 "nbformat_minor": 5
}