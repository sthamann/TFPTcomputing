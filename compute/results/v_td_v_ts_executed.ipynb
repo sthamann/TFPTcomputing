{
 "cells": [
  {
   "cell_type": "markdown",
   "id": "42723230",
   "metadata": {
    "papermill": {
     "duration": 0.002753,
     "end_time": "2025-07-26T06:53:56.808116",
     "exception": false,
     "start_time": "2025-07-26T06:53:56.805363",
     "status": "completed"
    },
    "tags": []
   },
   "source": [
    "# CKM Matrix Element Ratio (V_td/V_ts)\n",
    "\n",
    "CKM matrix element ratio\n",
    "\n",
    "**Formula:** $φ₀$\n",
    "\n",
    "**Unit:** dimensionless\n",
    "\n",
    "**Category:** mixing"
   ]
  },
  {
   "cell_type": "code",
   "execution_count": 1,
   "id": "0008e237",
   "metadata": {
    "execution": {
     "iopub.execute_input": "2025-07-26T06:53:56.815892Z",
     "iopub.status.busy": "2025-07-26T06:53:56.815606Z",
     "iopub.status.idle": "2025-07-26T06:53:57.216751Z",
     "shell.execute_reply": "2025-07-26T06:53:57.216432Z"
    },
    "papermill": {
     "duration": 0.405479,
     "end_time": "2025-07-26T06:53:57.217360",
     "exception": false,
     "start_time": "2025-07-26T06:53:56.811881",
     "status": "completed"
    },
    "tags": []
   },
   "outputs": [],
   "source": [
    "import sympy as sp\n",
    "import numpy as np\n",
    "from sympy import symbols, pi, sqrt, acos, asin, atan, exp, log, sin, cos\n",
    "import pint\n",
    "import json\n",
    "from pathlib import Path\n",
    "\n",
    "# Initialize unit registry\n",
    "ureg = pint.UnitRegistry()\n",
    "Q_ = ureg.Quantity\n",
    "\n",
    "# Load constant metadata\n",
    "const_path = Path('../data/v_td_v_ts.json')\n",
    "with open(const_path, 'r') as f:\n",
    "    metadata = json.load(f)"
   ]
  },
  {
   "cell_type": "code",
   "execution_count": 2,
   "id": "3f590dc3",
   "metadata": {
    "execution": {
     "iopub.execute_input": "2025-07-26T06:53:57.219702Z",
     "iopub.status.busy": "2025-07-26T06:53:57.219574Z",
     "iopub.status.idle": "2025-07-26T06:53:57.221483Z",
     "shell.execute_reply": "2025-07-26T06:53:57.221239Z"
    },
    "papermill": {
     "duration": 0.003337,
     "end_time": "2025-07-26T06:53:57.221838",
     "exception": false,
     "start_time": "2025-07-26T06:53:57.218501",
     "status": "completed"
    },
    "tags": []
   },
   "outputs": [],
   "source": [
    "# Step 1: Define dependencies\n",
    "# Load any required constants\n"
   ]
  },
  {
   "cell_type": "code",
   "execution_count": 3,
   "id": "0aefa65e",
   "metadata": {
    "execution": {
     "iopub.execute_input": "2025-07-26T06:53:57.223409Z",
     "iopub.status.busy": "2025-07-26T06:53:57.223337Z",
     "iopub.status.idle": "2025-07-26T06:53:57.225471Z",
     "shell.execute_reply": "2025-07-26T06:53:57.225266Z"
    },
    "papermill": {
     "duration": 0.003262,
     "end_time": "2025-07-26T06:53:57.225782",
     "exception": false,
     "start_time": "2025-07-26T06:53:57.222520",
     "status": "completed"
    },
    "tags": []
   },
   "outputs": [
    {
     "name": "stdout",
     "output_type": "stream",
     "text": [
      "V_td/V_ts = 0.054\n"
     ]
    }
   ],
   "source": [
    "# Step 2: Calculate the constant\n",
    "# TODO: Implement the calculation\n",
    "\n",
    "# For now, use experimental value as placeholder\n",
    "calculated_value = metadata['sources'][0]['value']\n",
    "\n",
    "print(f'V_td/V_ts = {calculated_value}')"
   ]
  },
  {
   "cell_type": "code",
   "execution_count": 4,
   "id": "0b7a3639",
   "metadata": {
    "execution": {
     "iopub.execute_input": "2025-07-26T06:53:57.227384Z",
     "iopub.status.busy": "2025-07-26T06:53:57.227306Z",
     "iopub.status.idle": "2025-07-26T06:53:57.229491Z",
     "shell.execute_reply": "2025-07-26T06:53:57.229109Z"
    },
    "papermill": {
     "duration": 0.003545,
     "end_time": "2025-07-26T06:53:57.229991",
     "exception": false,
     "start_time": "2025-07-26T06:53:57.226446",
     "status": "completed"
    },
    "tags": []
   },
   "outputs": [
    {
     "name": "stdout",
     "output_type": "stream",
     "text": [
      "Reference value: 0.054\n",
      "Calculated value: 0.054\n",
      "Relative error: 0.00e+00\n",
      "Accuracy target: 0.001\n",
      "✓ Accuracy target met!\n"
     ]
    }
   ],
   "source": [
    "# Step 3: Compare with reference value\n",
    "reference_value = metadata['sources'][0]['value']\n",
    "relative_error = abs(calculated_value - reference_value) / reference_value if reference_value != 0 else 0\n",
    "\n",
    "print(f'Reference value: {reference_value}')\n",
    "print(f'Calculated value: {calculated_value}')\n",
    "print(f'Relative error: {relative_error:.2e}')\n",
    "print(f'Accuracy target: {metadata[\"accuracyTarget\"]}')\n",
    "\n",
    "# Verify accuracy\n",
    "if relative_error < metadata['accuracyTarget']:\n",
    "    print('✓ Accuracy target met!')\n",
    "else:\n",
    "    print('✗ Accuracy target NOT met!')"
   ]
  },
  {
   "cell_type": "code",
   "execution_count": 5,
   "id": "f1918bc1",
   "metadata": {
    "execution": {
     "iopub.execute_input": "2025-07-26T06:53:57.232158Z",
     "iopub.status.busy": "2025-07-26T06:53:57.231983Z",
     "iopub.status.idle": "2025-07-26T06:53:57.235658Z",
     "shell.execute_reply": "2025-07-26T06:53:57.235430Z"
    },
    "papermill": {
     "duration": 0.005096,
     "end_time": "2025-07-26T06:53:57.236049",
     "exception": false,
     "start_time": "2025-07-26T06:53:57.230953",
     "status": "completed"
    },
    "tags": []
   },
   "outputs": [
    {
     "name": "stdout",
     "output_type": "stream",
     "text": [
      "Result saved to ../results/v_td_v_ts_result.json\n"
     ]
    }
   ],
   "source": [
    "# Step 4: Export result\n",
    "result_data = {\n",
    "    'id': metadata['id'],\n",
    "    'symbol': metadata['symbol'],\n",
    "    'calculated_value': calculated_value,\n",
    "    'reference_value': reference_value,\n",
    "    'relative_error': relative_error,\n",
    "    'unit': metadata['unit'],\n",
    "    'formula': metadata['formula'],\n",
    "    'accuracy_met': relative_error < metadata['accuracyTarget']\n",
    "}\n",
    "\n",
    "# Save result\n",
    "output_path = Path('../results/v_td_v_ts_result.json')\n",
    "output_path.parent.mkdir(exist_ok=True)\n",
    "with open(output_path, 'w') as f:\n",
    "    json.dump(result_data, f, indent=2)\n",
    "    \n",
    "print(f'Result saved to {output_path}')"
   ]
  }
 ],
 "metadata": {
  "kernelspec": {
   "display_name": "Python 3",
   "language": "python",
   "name": "python3"
  },
  "language_info": {
   "codemirror_mode": {
    "name": "ipython",
    "version": 3
   },
   "file_extension": ".py",
   "mimetype": "text/x-python",
   "name": "python",
   "nbconvert_exporter": "python",
   "pygments_lexer": "ipython3",
   "version": "3.12.11"
  },
  "papermill": {
   "default_parameters": {},
   "duration": 1.281014,
   "end_time": "2025-07-26T06:53:57.458523",
   "environment_variables": {},
   "exception": null,
   "input_path": "v_td_v_ts.ipynb",
   "output_path": "../../results/v_td_v_ts_executed.ipynb",
   "parameters": {},
   "start_time": "2025-07-26T06:53:56.177509",
   "version": "2.5.0"
  }
 },
 "nbformat": 4,
 "nbformat_minor": 5
}