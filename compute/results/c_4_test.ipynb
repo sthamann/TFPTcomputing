{
 "cells": [],
 "metadata": {
  "language_info": {
   "name": "python"
  },
  "papermill": {
   "default_parameters": {},
   "duration": 0.020018,
   "end_time": "2025-07-25T18:17:20.728910",
   "environment_variables": {},
   "exception": null,
   "input_path": "constants/notebooks/c_4.ipynb",
   "output_path": "compute/results/c_4_test.ipynb",
   "parameters": {},
   "start_time": "2025-07-25T18:17:20.708892",
   "version": "2.6.0"
  }
 },
 "nbformat": 4,
 "nbformat_minor": 5
}