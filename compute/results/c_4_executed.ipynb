{
 "cells": [],
 "metadata": {
  "language_info": {
   "codemirror_mode": {
    "name": "ipython",
    "version": 3
   },
   "file_extension": ".py",
   "mimetype": "text/x-python",
   "name": "python",
   "nbconvert_exporter": "python",
   "pygments_lexer": "ipython3",
   "version": "3.12.11"
  },
  "papermill": {
   "default_parameters": {},
   "duration": 0.731765,
   "end_time": "2025-07-26T06:55:12.084032",
   "environment_variables": {},
   "exception": null,
   "input_path": "c_4.ipynb",
   "output_path": "../../results/c_4_executed.ipynb",
   "parameters": {},
   "start_time": "2025-07-26T06:55:11.352267",
   "version": "2.5.0"
  }
 },
 "nbformat": 4,
 "nbformat_minor": 5
}