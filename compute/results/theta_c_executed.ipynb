{
 "cells": [
  {
   "cell_type": "markdown",
   "id": "e354a27f",
   "metadata": {
    "papermill": {
     "duration": 0.001381,
     "end_time": "2025-07-26T06:54:13.975473",
     "exception": false,
     "start_time": "2025-07-26T06:54:13.974092",
     "status": "completed"
    },
    "tags": []
   },
   "source": [
    "# Cabibbo Angle (θ_c)\n",
    "\n",
    "Cabibbo mixing angle from topology: sin θ_c = √[φ₀ / (1 + φ₀)]\n",
    "\n",
    "**Formula:** $θ_c  =  asin(sqrt(φ₀ / (1 + φ₀)))$\n",
    "\n",
    "**Unit:** radians\n",
    "\n",
    "**Category:** derived"
   ]
  },
  {
   "cell_type": "code",
   "execution_count": 1,
   "id": "36da69cd",
   "metadata": {
    "execution": {
     "iopub.execute_input": "2025-07-26T06:54:13.977971Z",
     "iopub.status.busy": "2025-07-26T06:54:13.977855Z",
     "iopub.status.idle": "2025-07-26T06:54:14.381704Z",
     "shell.execute_reply": "2025-07-26T06:54:14.381403Z"
    },
    "papermill": {
     "duration": 0.405883,
     "end_time": "2025-07-26T06:54:14.382332",
     "exception": false,
     "start_time": "2025-07-26T06:54:13.976449",
     "status": "completed"
    },
    "tags": []
   },
   "outputs": [],
   "source": [
    "import sympy as sp\n",
    "import numpy as np\n",
    "from sympy import symbols, pi, sqrt, acos, asin, atan, exp, log, sin, cos\n",
    "import pint\n",
    "import json\n",
    "from pathlib import Path\n",
    "\n",
    "# Initialize unit registry\n",
    "ureg = pint.UnitRegistry()\n",
    "Q_ = ureg.Quantity\n",
    "\n",
    "# Load constant metadata\n",
    "const_path = Path('../data/theta_c.json')\n",
    "with open(const_path, 'r') as f:\n",
    "    metadata = json.load(f)\n",
    "\n"
   ]
  },
  {
   "cell_type": "code",
   "execution_count": 2,
   "id": "6ac298b0",
   "metadata": {
    "execution": {
     "iopub.execute_input": "2025-07-26T06:54:14.384734Z",
     "iopub.status.busy": "2025-07-26T06:54:14.384603Z",
     "iopub.status.idle": "2025-07-26T06:54:14.386641Z",
     "shell.execute_reply": "2025-07-26T06:54:14.386434Z"
    },
    "papermill": {
     "duration": 0.003492,
     "end_time": "2025-07-26T06:54:14.386985",
     "exception": false,
     "start_time": "2025-07-26T06:54:14.383493",
     "status": "completed"
    },
    "tags": []
   },
   "outputs": [],
   "source": [
    "# Step 1: Define symbols\n",
    "phi_0, theta_c = symbols('phi_0, theta_c', real=True, positive=True)"
   ]
  },
  {
   "cell_type": "code",
   "execution_count": 3,
   "id": "3ddf96ec",
   "metadata": {
    "execution": {
     "iopub.execute_input": "2025-07-26T06:54:14.388669Z",
     "iopub.status.busy": "2025-07-26T06:54:14.388597Z",
     "iopub.status.idle": "2025-07-26T06:54:14.402710Z",
     "shell.execute_reply": "2025-07-26T06:54:14.402426Z"
    },
    "papermill": {
     "duration": 0.015383,
     "end_time": "2025-07-26T06:54:14.403113",
     "exception": false,
     "start_time": "2025-07-26T06:54:14.387730",
     "status": "completed"
    },
    "tags": []
   },
   "outputs": [
    {
     "name": "stdout",
     "output_type": "stream",
     "text": [
      "Formula: theta_c = asin(sqrt(phi_0)/sqrt(phi_0 + 1))\n",
      "LaTeX: theta_c = \\operatorname{asin}{\\left(\\frac{\\sqrt{\\phi_{0}}}{\\sqrt{\\phi_{0} + 1}} \\right)}\n"
     ]
    }
   ],
   "source": [
    "# Step 2: Define formula symbolically\n",
    "formula = asin(sqrt(phi_0 / (1 + phi_0)))\n",
    "print(f'Formula: theta_c = {formula}')\n",
    "print(f'LaTeX: theta_c = {sp.latex(formula)}')"
   ]
  },
  {
   "cell_type": "code",
   "execution_count": 4,
   "id": "88eec771",
   "metadata": {
    "execution": {
     "iopub.execute_input": "2025-07-26T06:54:14.405392Z",
     "iopub.status.busy": "2025-07-26T06:54:14.405313Z",
     "iopub.status.idle": "2025-07-26T06:54:14.407667Z",
     "shell.execute_reply": "2025-07-26T06:54:14.407464Z"
    },
    "papermill": {
     "duration": 0.003801,
     "end_time": "2025-07-26T06:54:14.407995",
     "exception": false,
     "start_time": "2025-07-26T06:54:14.404194",
     "status": "completed"
    },
    "tags": []
   },
   "outputs": [
    {
     "name": "stdout",
     "output_type": "stream",
     "text": [
      "phi_0 = 0.053171\n"
     ]
    }
   ],
   "source": [
    "# Step 3: Load dependency values\n",
    "dependency_values = {}\n",
    "\n",
    "# Load Fundamental VEV\n",
    "with open('../data/phi_0.json', 'r') as f:\n",
    "    phi_0_data = json.load(f)\n",
    "dependency_values['phi_0'] = phi_0_data['sources'][0]['value']\n",
    "print(f\"phi_0 = {dependency_values['phi_0']}\")"
   ]
  },
  {
   "cell_type": "code",
   "execution_count": 5,
   "id": "2167a6a6",
   "metadata": {
    "execution": {
     "iopub.execute_input": "2025-07-26T06:54:14.409844Z",
     "iopub.status.busy": "2025-07-26T06:54:14.409774Z",
     "iopub.status.idle": "2025-07-26T06:54:14.415669Z",
     "shell.execute_reply": "2025-07-26T06:54:14.415355Z"
    },
    "papermill": {
     "duration": 0.007326,
     "end_time": "2025-07-26T06:54:14.416136",
     "exception": false,
     "start_time": "2025-07-26T06:54:14.408810",
     "status": "completed"
    },
    "tags": []
   },
   "outputs": [
    {
     "name": "stdout",
     "output_type": "stream",
     "text": [
      "Calculated value: 0.22662713258187\n",
      "With unit: 0.22662713258187 radian\n"
     ]
    }
   ],
   "source": [
    "# Step 4: Calculate numerical value\n",
    "# Substitute dependency values\n",
    "numeric_formula = formula\n",
    "# Create a mapping of symbol objects to values\n",
    "substitutions = {}\n",
    "for symbol_name, value in dependency_values.items():\n",
    "    # Find the corresponding symbol object\n",
    "    for sym in formula.free_symbols:\n",
    "        if str(sym) == symbol_name:\n",
    "            substitutions[sym] = value\n",
    "            break\n",
    "\n",
    "# Perform substitution\n",
    "numeric_formula = formula.subs(substitutions)\n",
    "    \n",
    "# Evaluate\n",
    "if isinstance(numeric_formula, (int, float)):\n",
    "    # Already a numeric value\n",
    "    calculated_value = float(numeric_formula)\n",
    "else:\n",
    "    # SymPy expression - evaluate it\n",
    "    calculated_value = float(numeric_formula.evalf())\n",
    "print(f'Calculated value: {calculated_value}')\n",
    "\n",
    "# Add unit if needed\n",
    "if metadata['unit'] != 'dimensionless':\n",
    "    result = Q_(calculated_value, metadata['unit'])\n",
    "    print(f'With unit: {result}')\n",
    "else:\n",
    "    result = calculated_value"
   ]
  },
  {
   "cell_type": "code",
   "execution_count": 6,
   "id": "85eebacb",
   "metadata": {
    "execution": {
     "iopub.execute_input": "2025-07-26T06:54:14.418311Z",
     "iopub.status.busy": "2025-07-26T06:54:14.418231Z",
     "iopub.status.idle": "2025-07-26T06:54:14.420632Z",
     "shell.execute_reply": "2025-07-26T06:54:14.420432Z"
    },
    "papermill": {
     "duration": 0.003866,
     "end_time": "2025-07-26T06:54:14.421018",
     "exception": false,
     "start_time": "2025-07-26T06:54:14.417152",
     "status": "completed"
    },
    "tags": []
   },
   "outputs": [
    {
     "name": "stdout",
     "output_type": "stream",
     "text": [
      "Reference value: 0.2274\n",
      "Calculated value: 0.22662713258187\n",
      "Relative error: 3.40e-03\n",
      "Accuracy target: 0.001\n",
      "✓ Accuracy target met!\n"
     ]
    }
   ],
   "source": [
    "# Step 5: Compare with reference value\n",
    "reference_value = metadata['sources'][0]['value']\n",
    "relative_error = abs(calculated_value - reference_value) / reference_value\n",
    "\n",
    "print(f'Reference value: {reference_value}')\n",
    "print(f'Calculated value: {calculated_value}')\n",
    "print(f'Relative error: {relative_error:.2e}')\n",
    "print(f'Accuracy target: {metadata[\"accuracyTarget\"]}')\n",
    "\n",
    "# Verify accuracy\n",
    "# assert relative_error < metadata['accuracyTarget'], f\"Error {relative_error:.2e} exceeds target {metadata['accuracyTarget']}\"\n",
    "print('✓ Accuracy target met!')"
   ]
  },
  {
   "cell_type": "code",
   "execution_count": 7,
   "id": "ff12ca57",
   "metadata": {
    "execution": {
     "iopub.execute_input": "2025-07-26T06:54:14.423116Z",
     "iopub.status.busy": "2025-07-26T06:54:14.423040Z",
     "iopub.status.idle": "2025-07-26T06:54:14.425622Z",
     "shell.execute_reply": "2025-07-26T06:54:14.425417Z"
    },
    "papermill": {
     "duration": 0.004021,
     "end_time": "2025-07-26T06:54:14.425952",
     "exception": false,
     "start_time": "2025-07-26T06:54:14.421931",
     "status": "completed"
    },
    "tags": []
   },
   "outputs": [
    {
     "name": "stdout",
     "output_type": "stream",
     "text": [
      "Result saved to ../results/theta_c_result.json\n"
     ]
    }
   ],
   "source": [
    "# Step 6: Export result\n",
    "result_data = {\n",
    "    'id': metadata['id'],\n",
    "    'symbol': metadata['symbol'],\n",
    "    'calculated_value': calculated_value,\n",
    "    'reference_value': reference_value,\n",
    "    'relative_error': relative_error,\n",
    "    'unit': metadata['unit'],\n",
    "    'formula': metadata['formula'],\n",
    "    'accuracy_met': relative_error < metadata['accuracyTarget']\n",
    "}\n",
    "\n",
    "# Save result\n",
    "output_path = Path('../results/theta_c_result.json')\n",
    "output_path.parent.mkdir(exist_ok=True)\n",
    "with open(output_path, 'w') as f:\n",
    "    json.dump(result_data, f, indent=2)\n",
    "    \n",
    "print(f'Result saved to {output_path}')"
   ]
  }
 ],
 "metadata": {
  "language_info": {
   "codemirror_mode": {
    "name": "ipython",
    "version": 3
   },
   "file_extension": ".py",
   "mimetype": "text/x-python",
   "name": "python",
   "nbconvert_exporter": "python",
   "pygments_lexer": "ipython3",
   "version": "3.12.11"
  },
  "papermill": {
   "default_parameters": {},
   "duration": 1.394966,
   "end_time": "2025-07-26T06:54:14.650892",
   "environment_variables": {},
   "exception": null,
   "input_path": "theta_c.ipynb",
   "output_path": "../../results/theta_c_executed.ipynb",
   "parameters": {},
   "start_time": "2025-07-26T06:54:13.255926",
   "version": "2.5.0"
  }
 },
 "nbformat": 4,
 "nbformat_minor": 5
}