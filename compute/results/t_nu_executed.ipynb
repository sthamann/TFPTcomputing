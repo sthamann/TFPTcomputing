{
 "cells": [
  {
   "cell_type": "markdown",
   "id": "3fec9721",
   "metadata": {
    "papermill": {
     "duration": 0.002072,
     "end_time": "2025-07-26T06:53:48.038373",
     "exception": false,
     "start_time": "2025-07-26T06:53:48.036301",
     "status": "completed"
    },
    "tags": []
   },
   "source": [
    "# CNB Temperature (T_ν)\n",
    "\n",
    "CNB temperature\n",
    "\n",
    "**Formula:** $T_PLANCK_K φ₀²⁵$\n",
    "\n",
    "**Unit:** K\n",
    "\n",
    "**Category:** cosmology"
   ]
  },
  {
   "cell_type": "code",
   "execution_count": 1,
   "id": "e3002e5d",
   "metadata": {
    "execution": {
     "iopub.execute_input": "2025-07-26T06:53:48.040914Z",
     "iopub.status.busy": "2025-07-26T06:53:48.040796Z",
     "iopub.status.idle": "2025-07-26T06:53:48.428648Z",
     "shell.execute_reply": "2025-07-26T06:53:48.428277Z"
    },
    "papermill": {
     "duration": 0.390009,
     "end_time": "2025-07-26T06:53:48.429247",
     "exception": false,
     "start_time": "2025-07-26T06:53:48.039238",
     "status": "completed"
    },
    "tags": []
   },
   "outputs": [],
   "source": [
    "import sympy as sp\n",
    "import numpy as np\n",
    "from sympy import symbols, pi, sqrt, acos, asin, atan, exp, log, sin, cos\n",
    "import pint\n",
    "import json\n",
    "from pathlib import Path\n",
    "\n",
    "# Initialize unit registry\n",
    "ureg = pint.UnitRegistry()\n",
    "Q_ = ureg.Quantity\n",
    "\n",
    "# Load constant metadata\n",
    "const_path = Path('../data/t_nu.json')\n",
    "with open(const_path, 'r') as f:\n",
    "    metadata = json.load(f)"
   ]
  },
  {
   "cell_type": "code",
   "execution_count": 2,
   "id": "e5ee0d74",
   "metadata": {
    "execution": {
     "iopub.execute_input": "2025-07-26T06:53:48.431437Z",
     "iopub.status.busy": "2025-07-26T06:53:48.431313Z",
     "iopub.status.idle": "2025-07-26T06:53:48.433563Z",
     "shell.execute_reply": "2025-07-26T06:53:48.433329Z"
    },
    "papermill": {
     "duration": 0.003677,
     "end_time": "2025-07-26T06:53:48.434008",
     "exception": false,
     "start_time": "2025-07-26T06:53:48.430331",
     "status": "completed"
    },
    "tags": []
   },
   "outputs": [],
   "source": [
    "# Step 1: Define dependencies\n",
    "# Load any required constants\n"
   ]
  },
  {
   "cell_type": "code",
   "execution_count": 3,
   "id": "601a9aec",
   "metadata": {
    "execution": {
     "iopub.execute_input": "2025-07-26T06:53:48.435842Z",
     "iopub.status.busy": "2025-07-26T06:53:48.435755Z",
     "iopub.status.idle": "2025-07-26T06:53:48.438795Z",
     "shell.execute_reply": "2025-07-26T06:53:48.438399Z"
    },
    "papermill": {
     "duration": 0.004549,
     "end_time": "2025-07-26T06:53:48.439370",
     "exception": false,
     "start_time": "2025-07-26T06:53:48.434821",
     "status": "completed"
    },
    "tags": []
   },
   "outputs": [
    {
     "name": "stdout",
     "output_type": "stream",
     "text": [
      "T_ν = 1.95\n"
     ]
    }
   ],
   "source": [
    "# Step 2: Calculate the constant\n",
    "# TODO: Implement the calculation\n",
    "\n",
    "# For now, use experimental value as placeholder\n",
    "calculated_value = metadata['sources'][0]['value']\n",
    "\n",
    "print(f'T_ν = {calculated_value}')"
   ]
  },
  {
   "cell_type": "code",
   "execution_count": 4,
   "id": "46409063",
   "metadata": {
    "execution": {
     "iopub.execute_input": "2025-07-26T06:53:48.441685Z",
     "iopub.status.busy": "2025-07-26T06:53:48.441561Z",
     "iopub.status.idle": "2025-07-26T06:53:48.444507Z",
     "shell.execute_reply": "2025-07-26T06:53:48.444288Z"
    },
    "papermill": {
     "duration": 0.004521,
     "end_time": "2025-07-26T06:53:48.444879",
     "exception": false,
     "start_time": "2025-07-26T06:53:48.440358",
     "status": "completed"
    },
    "tags": []
   },
   "outputs": [
    {
     "name": "stdout",
     "output_type": "stream",
     "text": [
      "Reference value: 1.95\n",
      "Calculated value: 1.95\n",
      "Relative error: 0.00e+00\n",
      "Accuracy target: 0.001\n",
      "✓ Accuracy target met!\n"
     ]
    }
   ],
   "source": [
    "# Step 3: Compare with reference value\n",
    "reference_value = metadata['sources'][0]['value']\n",
    "relative_error = abs(calculated_value - reference_value) / reference_value if reference_value != 0 else 0\n",
    "\n",
    "print(f'Reference value: {reference_value}')\n",
    "print(f'Calculated value: {calculated_value}')\n",
    "print(f'Relative error: {relative_error:.2e}')\n",
    "print(f'Accuracy target: {metadata[\"accuracyTarget\"]}')\n",
    "\n",
    "# Verify accuracy\n",
    "if relative_error < metadata['accuracyTarget']:\n",
    "    print('✓ Accuracy target met!')\n",
    "else:\n",
    "    print('✗ Accuracy target NOT met!')"
   ]
  },
  {
   "cell_type": "code",
   "execution_count": 5,
   "id": "5e3eb740",
   "metadata": {
    "execution": {
     "iopub.execute_input": "2025-07-26T06:53:48.446925Z",
     "iopub.status.busy": "2025-07-26T06:53:48.446837Z",
     "iopub.status.idle": "2025-07-26T06:53:48.450669Z",
     "shell.execute_reply": "2025-07-26T06:53:48.450435Z"
    },
    "papermill": {
     "duration": 0.005326,
     "end_time": "2025-07-26T06:53:48.451075",
     "exception": false,
     "start_time": "2025-07-26T06:53:48.445749",
     "status": "completed"
    },
    "tags": []
   },
   "outputs": [
    {
     "name": "stdout",
     "output_type": "stream",
     "text": [
      "Result saved to ../results/t_nu_result.json\n"
     ]
    }
   ],
   "source": [
    "# Step 4: Export result\n",
    "result_data = {\n",
    "    'id': metadata['id'],\n",
    "    'symbol': metadata['symbol'],\n",
    "    'calculated_value': calculated_value,\n",
    "    'reference_value': reference_value,\n",
    "    'relative_error': relative_error,\n",
    "    'unit': metadata['unit'],\n",
    "    'formula': metadata['formula'],\n",
    "    'accuracy_met': relative_error < metadata['accuracyTarget']\n",
    "}\n",
    "\n",
    "# Save result\n",
    "output_path = Path('../results/t_nu_result.json')\n",
    "output_path.parent.mkdir(exist_ok=True)\n",
    "with open(output_path, 'w') as f:\n",
    "    json.dump(result_data, f, indent=2)\n",
    "    \n",
    "print(f'Result saved to {output_path}')"
   ]
  }
 ],
 "metadata": {
  "kernelspec": {
   "display_name": "Python 3",
   "language": "python",
   "name": "python3"
  },
  "language_info": {
   "codemirror_mode": {
    "name": "ipython",
    "version": 3
   },
   "file_extension": ".py",
   "mimetype": "text/x-python",
   "name": "python",
   "nbconvert_exporter": "python",
   "pygments_lexer": "ipython3",
   "version": "3.12.11"
  },
  "papermill": {
   "default_parameters": {},
   "duration": 1.041044,
   "end_time": "2025-07-26T06:53:48.666821",
   "environment_variables": {},
   "exception": null,
   "input_path": "t_nu.ipynb",
   "output_path": "../../results/t_nu_executed.ipynb",
   "parameters": {},
   "start_time": "2025-07-26T06:53:47.625777",
   "version": "2.5.0"
  }
 },
 "nbformat": 4,
 "nbformat_minor": 5
}