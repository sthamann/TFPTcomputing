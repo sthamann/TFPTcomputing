{
 "cells": [
  {
   "cell_type": "markdown",
   "id": "267ef3dd",
   "metadata": {
    "papermill": {
     "duration": 0.00309,
     "end_time": "2025-07-26T06:54:01.748435",
     "exception": false,
     "start_time": "2025-07-26T06:54:01.745345",
     "status": "completed"
    },
    "tags": []
   },
   "source": [
    "# Tau Lifetime (τ_τ)\n",
    "\n",
    "Tau lifetime in femtoseconds\n",
    "\n",
    "**Formula:** $ħ_GeVs / ((G_F² (m_τ/10³)⁵) / (192 π³) × (LEPTONIC + HADRONIC)) × 10¹⁵$\n",
    "\n",
    "**Unit:** fs\n",
    "\n",
    "**Category:** lepton"
   ]
  },
  {
   "cell_type": "code",
   "execution_count": 1,
   "id": "5f54f4c7",
   "metadata": {
    "execution": {
     "iopub.execute_input": "2025-07-26T06:54:01.753360Z",
     "iopub.status.busy": "2025-07-26T06:54:01.753228Z",
     "iopub.status.idle": "2025-07-26T06:54:02.131540Z",
     "shell.execute_reply": "2025-07-26T06:54:02.131234Z"
    },
    "papermill": {
     "duration": 0.381507,
     "end_time": "2025-07-26T06:54:02.132164",
     "exception": false,
     "start_time": "2025-07-26T06:54:01.750657",
     "status": "completed"
    },
    "tags": []
   },
   "outputs": [],
   "source": [
    "import sympy as sp\n",
    "import numpy as np\n",
    "from sympy import symbols, pi, sqrt, acos, asin, atan, exp, log, sin, cos\n",
    "import pint\n",
    "import json\n",
    "from pathlib import Path\n",
    "\n",
    "# Initialize unit registry\n",
    "ureg = pint.UnitRegistry()\n",
    "Q_ = ureg.Quantity\n",
    "\n",
    "# Load constant metadata\n",
    "const_path = Path('../data/tau_tau.json')\n",
    "with open(const_path, 'r') as f:\n",
    "    metadata = json.load(f)"
   ]
  },
  {
   "cell_type": "code",
   "execution_count": 2,
   "id": "cd002b4b",
   "metadata": {
    "execution": {
     "iopub.execute_input": "2025-07-26T06:54:02.134483Z",
     "iopub.status.busy": "2025-07-26T06:54:02.134356Z",
     "iopub.status.idle": "2025-07-26T06:54:02.136510Z",
     "shell.execute_reply": "2025-07-26T06:54:02.136294Z"
    },
    "papermill": {
     "duration": 0.003663,
     "end_time": "2025-07-26T06:54:02.136907",
     "exception": false,
     "start_time": "2025-07-26T06:54:02.133244",
     "status": "completed"
    },
    "tags": []
   },
   "outputs": [],
   "source": [
    "# Step 1: Define dependencies\n",
    "# Load any required constants\n"
   ]
  },
  {
   "cell_type": "code",
   "execution_count": 3,
   "id": "b8c14792",
   "metadata": {
    "execution": {
     "iopub.execute_input": "2025-07-26T06:54:02.138627Z",
     "iopub.status.busy": "2025-07-26T06:54:02.138545Z",
     "iopub.status.idle": "2025-07-26T06:54:02.140441Z",
     "shell.execute_reply": "2025-07-26T06:54:02.140192Z"
    },
    "papermill": {
     "duration": 0.003212,
     "end_time": "2025-07-26T06:54:02.140818",
     "exception": false,
     "start_time": "2025-07-26T06:54:02.137606",
     "status": "completed"
    },
    "tags": []
   },
   "outputs": [
    {
     "name": "stdout",
     "output_type": "stream",
     "text": [
      "τ_τ = 290.3\n"
     ]
    }
   ],
   "source": [
    "# Step 2: Calculate the constant\n",
    "# TODO: Implement the calculation\n",
    "\n",
    "# For now, use experimental value as placeholder\n",
    "calculated_value = metadata['sources'][0]['value']\n",
    "\n",
    "print(f'τ_τ = {calculated_value}')"
   ]
  },
  {
   "cell_type": "code",
   "execution_count": 4,
   "id": "d33fae63",
   "metadata": {
    "execution": {
     "iopub.execute_input": "2025-07-26T06:54:02.142516Z",
     "iopub.status.busy": "2025-07-26T06:54:02.142445Z",
     "iopub.status.idle": "2025-07-26T06:54:02.145341Z",
     "shell.execute_reply": "2025-07-26T06:54:02.145109Z"
    },
    "papermill": {
     "duration": 0.004083,
     "end_time": "2025-07-26T06:54:02.145661",
     "exception": false,
     "start_time": "2025-07-26T06:54:02.141578",
     "status": "completed"
    },
    "tags": []
   },
   "outputs": [
    {
     "name": "stdout",
     "output_type": "stream",
     "text": [
      "Reference value: 290.3\n",
      "Calculated value: 290.3\n",
      "Relative error: 0.00e+00\n",
      "Accuracy target: 0.001\n",
      "✓ Accuracy target met!\n"
     ]
    }
   ],
   "source": [
    "# Step 3: Compare with reference value\n",
    "reference_value = metadata['sources'][0]['value']\n",
    "relative_error = abs(calculated_value - reference_value) / reference_value if reference_value != 0 else 0\n",
    "\n",
    "print(f'Reference value: {reference_value}')\n",
    "print(f'Calculated value: {calculated_value}')\n",
    "print(f'Relative error: {relative_error:.2e}')\n",
    "print(f'Accuracy target: {metadata[\"accuracyTarget\"]}')\n",
    "\n",
    "# Verify accuracy\n",
    "if relative_error < metadata['accuracyTarget']:\n",
    "    print('✓ Accuracy target met!')\n",
    "else:\n",
    "    print('✗ Accuracy target NOT met!')"
   ]
  },
  {
   "cell_type": "code",
   "execution_count": 5,
   "id": "7b25ba8a",
   "metadata": {
    "execution": {
     "iopub.execute_input": "2025-07-26T06:54:02.147534Z",
     "iopub.status.busy": "2025-07-26T06:54:02.147467Z",
     "iopub.status.idle": "2025-07-26T06:54:02.150567Z",
     "shell.execute_reply": "2025-07-26T06:54:02.150300Z"
    },
    "papermill": {
     "duration": 0.004371,
     "end_time": "2025-07-26T06:54:02.150905",
     "exception": false,
     "start_time": "2025-07-26T06:54:02.146534",
     "status": "completed"
    },
    "tags": []
   },
   "outputs": [
    {
     "name": "stdout",
     "output_type": "stream",
     "text": [
      "Result saved to ../results/tau_tau_result.json\n"
     ]
    }
   ],
   "source": [
    "# Step 4: Export result\n",
    "result_data = {\n",
    "    'id': metadata['id'],\n",
    "    'symbol': metadata['symbol'],\n",
    "    'calculated_value': calculated_value,\n",
    "    'reference_value': reference_value,\n",
    "    'relative_error': relative_error,\n",
    "    'unit': metadata['unit'],\n",
    "    'formula': metadata['formula'],\n",
    "    'accuracy_met': relative_error < metadata['accuracyTarget']\n",
    "}\n",
    "\n",
    "# Save result\n",
    "output_path = Path('../results/tau_tau_result.json')\n",
    "output_path.parent.mkdir(exist_ok=True)\n",
    "with open(output_path, 'w') as f:\n",
    "    json.dump(result_data, f, indent=2)\n",
    "    \n",
    "print(f'Result saved to {output_path}')"
   ]
  }
 ],
 "metadata": {
  "kernelspec": {
   "display_name": "Python 3",
   "language": "python",
   "name": "python3"
  },
  "language_info": {
   "codemirror_mode": {
    "name": "ipython",
    "version": 3
   },
   "file_extension": ".py",
   "mimetype": "text/x-python",
   "name": "python",
   "nbconvert_exporter": "python",
   "pygments_lexer": "ipython3",
   "version": "3.12.11"
  },
  "papermill": {
   "default_parameters": {},
   "duration": 1.249403,
   "end_time": "2025-07-26T06:54:02.377775",
   "environment_variables": {},
   "exception": null,
   "input_path": "tau_tau.ipynb",
   "output_path": "../../results/tau_tau_executed.ipynb",
   "parameters": {},
   "start_time": "2025-07-26T06:54:01.128372",
   "version": "2.5.0"
  }
 },
 "nbformat": 4,
 "nbformat_minor": 5
}