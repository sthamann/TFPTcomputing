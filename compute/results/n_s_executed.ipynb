{
 "cells": [
  {
   "cell_type": "markdown",
   "id": "f48c5fd8",
   "metadata": {
    "papermill": {
     "duration": 0.003313,
     "end_time": "2025-07-26T06:55:09.942250",
     "exception": false,
     "start_time": "2025-07-26T06:55:09.938937",
     "status": "completed"
    },
    "tags": []
   },
   "source": [
    "# Scalar spectral index (n_s)\n",
    "\n",
    "Primordial scalar spectral index\n",
    "\n",
    "Formula: n_s = 1 – 6 ε + 2 η with ε = φ₀ c₃/4, η = –φ₀/2"
   ]
  },
  {
   "cell_type": "code",
   "execution_count": 1,
   "id": "ef5266d1",
   "metadata": {
    "execution": {
     "iopub.execute_input": "2025-07-26T06:55:09.947335Z",
     "iopub.status.busy": "2025-07-26T06:55:09.947035Z",
     "iopub.status.idle": "2025-07-26T06:55:10.119940Z",
     "shell.execute_reply": "2025-07-26T06:55:10.119616Z"
    },
    "papermill": {
     "duration": 0.176542,
     "end_time": "2025-07-26T06:55:10.120505",
     "exception": false,
     "start_time": "2025-07-26T06:55:09.943963",
     "status": "completed"
    },
    "tags": []
   },
   "outputs": [],
   "source": [
    "import json\n",
    "import numpy as np\n",
    "from sympy import symbols, pi, log, sqrt\n",
    "\n",
    "# Note: Full calculation implementation needed\n",
    "# Formula: n_s = 1 – 6 ε + 2 η with ε = φ₀ c₃/4, η = –φ₀/2\n",
    "# Dependencies: phi_0, c_3\n",
    "# Expected value: 0.967"
   ]
  }
 ],
 "metadata": {
  "kernelspec": {
   "display_name": "Python 3",
   "language": "python",
   "name": "python3"
  },
  "language_info": {
   "codemirror_mode": {
    "name": "ipython",
    "version": 3
   },
   "file_extension": ".py",
   "mimetype": "text/x-python",
   "name": "python",
   "nbconvert_exporter": "python",
   "pygments_lexer": "ipython3",
   "version": "3.12.11"
  },
  "papermill": {
   "default_parameters": {},
   "duration": 0.887991,
   "end_time": "2025-07-26T06:55:10.340185",
   "environment_variables": {},
   "exception": null,
   "input_path": "n_s.ipynb",
   "output_path": "../../results/n_s_executed.ipynb",
   "parameters": {},
   "start_time": "2025-07-26T06:55:09.452194",
   "version": "2.5.0"
  }
 },
 "nbformat": 4,
 "nbformat_minor": 5
}