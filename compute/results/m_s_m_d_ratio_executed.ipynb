{
 "cells": [
  {
   "cell_type": "markdown",
   "id": "b056a6ee",
   "metadata": {
    "papermill": {
     "duration": 0.00166,
     "end_time": "2025-07-26T06:54:04.070638",
     "exception": false,
     "start_time": "2025-07-26T06:54:04.068978",
     "status": "completed"
    },
    "tags": []
   },
   "source": [
    "# Strange/Down Mass Ratio (m_s/m_d)\n",
    "\n",
    "Strange to down quark mass ratio\n",
    "\n",
    "**Formula:** $1 / φ₀$\n",
    "\n",
    "**Unit:** dimensionless\n",
    "\n",
    "**Category:** quark"
   ]
  },
  {
   "cell_type": "code",
   "execution_count": 1,
   "id": "acfe8013",
   "metadata": {
    "execution": {
     "iopub.execute_input": "2025-07-26T06:54:04.073936Z",
     "iopub.status.busy": "2025-07-26T06:54:04.073769Z",
     "iopub.status.idle": "2025-07-26T06:54:04.467667Z",
     "shell.execute_reply": "2025-07-26T06:54:04.467353Z"
    },
    "papermill": {
     "duration": 0.396309,
     "end_time": "2025-07-26T06:54:04.468264",
     "exception": false,
     "start_time": "2025-07-26T06:54:04.071955",
     "status": "completed"
    },
    "tags": []
   },
   "outputs": [],
   "source": [
    "import sympy as sp\n",
    "import numpy as np\n",
    "from sympy import symbols, pi, sqrt, acos, asin, atan, exp, log, sin, cos\n",
    "import pint\n",
    "import json\n",
    "from pathlib import Path\n",
    "\n",
    "# Initialize unit registry\n",
    "ureg = pint.UnitRegistry()\n",
    "Q_ = ureg.Quantity\n",
    "\n",
    "# Load constant metadata\n",
    "const_path = Path('../data/m_s_m_d_ratio.json')\n",
    "with open(const_path, 'r') as f:\n",
    "    metadata = json.load(f)"
   ]
  },
  {
   "cell_type": "code",
   "execution_count": 2,
   "id": "496bc4c1",
   "metadata": {
    "execution": {
     "iopub.execute_input": "2025-07-26T06:54:04.470459Z",
     "iopub.status.busy": "2025-07-26T06:54:04.470342Z",
     "iopub.status.idle": "2025-07-26T06:54:04.472545Z",
     "shell.execute_reply": "2025-07-26T06:54:04.472340Z"
    },
    "papermill": {
     "duration": 0.003569,
     "end_time": "2025-07-26T06:54:04.472924",
     "exception": false,
     "start_time": "2025-07-26T06:54:04.469355",
     "status": "completed"
    },
    "tags": []
   },
   "outputs": [],
   "source": [
    "# Step 1: Define dependencies\n",
    "# Load any required constants\n"
   ]
  },
  {
   "cell_type": "code",
   "execution_count": 3,
   "id": "2b0577bb",
   "metadata": {
    "execution": {
     "iopub.execute_input": "2025-07-26T06:54:04.474743Z",
     "iopub.status.busy": "2025-07-26T06:54:04.474658Z",
     "iopub.status.idle": "2025-07-26T06:54:04.477663Z",
     "shell.execute_reply": "2025-07-26T06:54:04.477439Z"
    },
    "papermill": {
     "duration": 0.004266,
     "end_time": "2025-07-26T06:54:04.477979",
     "exception": false,
     "start_time": "2025-07-26T06:54:04.473713",
     "status": "completed"
    },
    "tags": []
   },
   "outputs": [
    {
     "name": "stdout",
     "output_type": "stream",
     "text": [
      "m_s/m_d = 20.2\n"
     ]
    }
   ],
   "source": [
    "# Step 2: Calculate the constant\n",
    "# TODO: Implement the calculation\n",
    "\n",
    "# For now, use experimental value as placeholder\n",
    "calculated_value = metadata['sources'][0]['value']\n",
    "\n",
    "print(f'm_s/m_d = {calculated_value}')"
   ]
  },
  {
   "cell_type": "code",
   "execution_count": 4,
   "id": "b6e3b592",
   "metadata": {
    "execution": {
     "iopub.execute_input": "2025-07-26T06:54:04.479767Z",
     "iopub.status.busy": "2025-07-26T06:54:04.479699Z",
     "iopub.status.idle": "2025-07-26T06:54:04.482483Z",
     "shell.execute_reply": "2025-07-26T06:54:04.482264Z"
    },
    "papermill": {
     "duration": 0.00413,
     "end_time": "2025-07-26T06:54:04.482850",
     "exception": false,
     "start_time": "2025-07-26T06:54:04.478720",
     "status": "completed"
    },
    "tags": []
   },
   "outputs": [
    {
     "name": "stdout",
     "output_type": "stream",
     "text": [
      "Reference value: 20.2\n",
      "Calculated value: 20.2\n",
      "Relative error: 0.00e+00\n",
      "Accuracy target: 0.001\n",
      "✓ Accuracy target met!\n"
     ]
    }
   ],
   "source": [
    "# Step 3: Compare with reference value\n",
    "reference_value = metadata['sources'][0]['value']\n",
    "relative_error = abs(calculated_value - reference_value) / reference_value if reference_value != 0 else 0\n",
    "\n",
    "print(f'Reference value: {reference_value}')\n",
    "print(f'Calculated value: {calculated_value}')\n",
    "print(f'Relative error: {relative_error:.2e}')\n",
    "print(f'Accuracy target: {metadata[\"accuracyTarget\"]}')\n",
    "\n",
    "# Verify accuracy\n",
    "if relative_error < metadata['accuracyTarget']:\n",
    "    print('✓ Accuracy target met!')\n",
    "else:\n",
    "    print('✗ Accuracy target NOT met!')"
   ]
  },
  {
   "cell_type": "code",
   "execution_count": 5,
   "id": "7e8d94c4",
   "metadata": {
    "execution": {
     "iopub.execute_input": "2025-07-26T06:54:04.484711Z",
     "iopub.status.busy": "2025-07-26T06:54:04.484640Z",
     "iopub.status.idle": "2025-07-26T06:54:04.487446Z",
     "shell.execute_reply": "2025-07-26T06:54:04.487246Z"
    },
    "papermill": {
     "duration": 0.004076,
     "end_time": "2025-07-26T06:54:04.487786",
     "exception": false,
     "start_time": "2025-07-26T06:54:04.483710",
     "status": "completed"
    },
    "tags": []
   },
   "outputs": [
    {
     "name": "stdout",
     "output_type": "stream",
     "text": [
      "Result saved to ../results/m_s_m_d_ratio_result.json\n"
     ]
    }
   ],
   "source": [
    "# Step 4: Export result\n",
    "result_data = {\n",
    "    'id': metadata['id'],\n",
    "    'symbol': metadata['symbol'],\n",
    "    'calculated_value': calculated_value,\n",
    "    'reference_value': reference_value,\n",
    "    'relative_error': relative_error,\n",
    "    'unit': metadata['unit'],\n",
    "    'formula': metadata['formula'],\n",
    "    'accuracy_met': relative_error < metadata['accuracyTarget']\n",
    "}\n",
    "\n",
    "# Save result\n",
    "output_path = Path('../results/m_s_m_d_ratio_result.json')\n",
    "output_path.parent.mkdir(exist_ok=True)\n",
    "with open(output_path, 'w') as f:\n",
    "    json.dump(result_data, f, indent=2)\n",
    "    \n",
    "print(f'Result saved to {output_path}')"
   ]
  }
 ],
 "metadata": {
  "kernelspec": {
   "display_name": "Python 3",
   "language": "python",
   "name": "python3"
  },
  "language_info": {
   "codemirror_mode": {
    "name": "ipython",
    "version": 3
   },
   "file_extension": ".py",
   "mimetype": "text/x-python",
   "name": "python",
   "nbconvert_exporter": "python",
   "pygments_lexer": "ipython3",
   "version": "3.12.11"
  },
  "papermill": {
   "default_parameters": {},
   "duration": 1.026205,
   "end_time": "2025-07-26T06:54:04.709057",
   "environment_variables": {},
   "exception": null,
   "input_path": "m_s_m_d_ratio.ipynb",
   "output_path": "../../results/m_s_m_d_ratio_executed.ipynb",
   "parameters": {},
   "start_time": "2025-07-26T06:54:03.682852",
   "version": "2.5.0"
  }
 },
 "nbformat": 4,
 "nbformat_minor": 5
}