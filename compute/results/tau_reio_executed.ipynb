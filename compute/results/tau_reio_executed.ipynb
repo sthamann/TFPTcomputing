{
 "cells": [
  {
   "cell_type": "markdown",
   "id": "789d2a7f",
   "metadata": {
    "papermill": {
     "duration": 0.002943,
     "end_time": "2025-07-26T06:54:59.951473",
     "exception": false,
     "start_time": "2025-07-26T06:54:59.948530",
     "status": "completed"
    },
    "tags": []
   },
   "source": [
    "# Optical depth to re-ionisation (τ_reio)\n",
    "\n",
    "Thomson optical depth to reionization\n",
    "\n",
    "Formula: τ_reio = 2 c₃ φ₀⁵"
   ]
  },
  {
   "cell_type": "code",
   "execution_count": 1,
   "id": "0dfc5d50",
   "metadata": {
    "execution": {
     "iopub.execute_input": "2025-07-26T06:54:59.956119Z",
     "iopub.status.busy": "2025-07-26T06:54:59.955970Z",
     "iopub.status.idle": "2025-07-26T06:55:00.119984Z",
     "shell.execute_reply": "2025-07-26T06:55:00.119692Z"
    },
    "papermill": {
     "duration": 0.167291,
     "end_time": "2025-07-26T06:55:00.120575",
     "exception": false,
     "start_time": "2025-07-26T06:54:59.953284",
     "status": "completed"
    },
    "tags": []
   },
   "outputs": [],
   "source": [
    "import json\n",
    "import numpy as np\n",
    "from sympy import symbols, pi, log, sqrt\n",
    "\n",
    "# Note: Full calculation implementation needed\n",
    "# Formula: τ_reio = 2 c₃ φ₀⁵\n",
    "# Dependencies: c_3, phi_0\n",
    "# Expected value: 0.054"
   ]
  }
 ],
 "metadata": {
  "kernelspec": {
   "display_name": "Python 3",
   "language": "python",
   "name": "python3"
  },
  "language_info": {
   "codemirror_mode": {
    "name": "ipython",
    "version": 3
   },
   "file_extension": ".py",
   "mimetype": "text/x-python",
   "name": "python",
   "nbconvert_exporter": "python",
   "pygments_lexer": "ipython3",
   "version": "3.12.11"
  },
  "papermill": {
   "default_parameters": {},
   "duration": 0.904875,
   "end_time": "2025-07-26T06:55:00.343916",
   "environment_variables": {},
   "exception": null,
   "input_path": "tau_reio.ipynb",
   "output_path": "../../results/tau_reio_executed.ipynb",
   "parameters": {},
   "start_time": "2025-07-26T06:54:59.439041",
   "version": "2.5.0"
  }
 },
 "nbformat": 4,
 "nbformat_minor": 5
}