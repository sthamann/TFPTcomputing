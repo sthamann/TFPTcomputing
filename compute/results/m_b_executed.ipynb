{
 "cells": [
  {
   "cell_type": "markdown",
   "id": "10f89589",
   "metadata": {
    "papermill": {
     "duration": 0.004189,
     "end_time": "2025-07-26T06:53:40.211569",
     "exception": false,
     "start_time": "2025-07-26T06:53:40.207380",
     "status": "completed"
    },
    "tags": []
   },
   "source": [
    "# Bottom Quark Mass (m_b)\n",
    "\n",
    "Bottom MS-bar mass from 15-step cascade with half gauge mixing: m_b = M_Pl × φ₀¹⁵ / √c₃\n",
    "\n",
    "**Formula:** $m_b  =  M_Pl * φ₀^15 / sqrt(c₃)$\n",
    "\n",
    "**Unit:** GeV\n",
    "\n",
    "**Category:** derived"
   ]
  },
  {
   "cell_type": "code",
   "execution_count": 1,
   "id": "5034ec6b",
   "metadata": {
    "execution": {
     "iopub.execute_input": "2025-07-26T06:53:40.218801Z",
     "iopub.status.busy": "2025-07-26T06:53:40.218684Z",
     "iopub.status.idle": "2025-07-26T06:53:40.645555Z",
     "shell.execute_reply": "2025-07-26T06:53:40.645227Z"
    },
    "papermill": {
     "duration": 0.43013,
     "end_time": "2025-07-26T06:53:40.646179",
     "exception": false,
     "start_time": "2025-07-26T06:53:40.216049",
     "status": "completed"
    },
    "tags": []
   },
   "outputs": [],
   "source": [
    "import sympy as sp\n",
    "import numpy as np\n",
    "from sympy import symbols, pi, sqrt, acos, asin, atan, exp, log, sin, cos\n",
    "import pint\n",
    "import json\n",
    "from pathlib import Path\n",
    "\n",
    "# Initialize unit registry\n",
    "ureg = pint.UnitRegistry()\n",
    "Q_ = ureg.Quantity\n",
    "\n",
    "# Load constant metadata\n",
    "const_path = Path('../data/m_b.json')\n",
    "with open(const_path, 'r') as f:\n",
    "    metadata = json.load(f)\n",
    "\n"
   ]
  },
  {
   "cell_type": "code",
   "execution_count": 2,
   "id": "dfb4f2ba",
   "metadata": {
    "execution": {
     "iopub.execute_input": "2025-07-26T06:53:40.648482Z",
     "iopub.status.busy": "2025-07-26T06:53:40.648354Z",
     "iopub.status.idle": "2025-07-26T06:53:40.650602Z",
     "shell.execute_reply": "2025-07-26T06:53:40.650318Z"
    },
    "papermill": {
     "duration": 0.003618,
     "end_time": "2025-07-26T06:53:40.650927",
     "exception": false,
     "start_time": "2025-07-26T06:53:40.647309",
     "status": "completed"
    },
    "tags": []
   },
   "outputs": [],
   "source": [
    "# Step 1: Define symbols\n",
    "M_Pl, c_3, m_b, phi_0 = symbols('M_Pl, c_3, m_b, phi_0', real=True, positive=True)"
   ]
  },
  {
   "cell_type": "code",
   "execution_count": 3,
   "id": "da927242",
   "metadata": {
    "execution": {
     "iopub.execute_input": "2025-07-26T06:53:40.652494Z",
     "iopub.status.busy": "2025-07-26T06:53:40.652425Z",
     "iopub.status.idle": "2025-07-26T06:53:40.655574Z",
     "shell.execute_reply": "2025-07-26T06:53:40.655293Z"
    },
    "papermill": {
     "duration": 0.004436,
     "end_time": "2025-07-26T06:53:40.656024",
     "exception": false,
     "start_time": "2025-07-26T06:53:40.651588",
     "status": "completed"
    },
    "tags": []
   },
   "outputs": [
    {
     "name": "stdout",
     "output_type": "stream",
     "text": [
      "Formula: m_b = M_Pl*phi_0**15/sqrt(c_3)\n",
      "LaTeX: m_b = \\frac{M_{Pl} \\phi_{0}^{15}}{\\sqrt{c_{3}}}\n"
     ]
    }
   ],
   "source": [
    "# Step 2: Define formula symbolically\n",
    "formula = M_Pl * phi_0**15 / sqrt(c_3)\n",
    "print(f'Formula: m_b = {formula}')\n",
    "print(f'LaTeX: m_b = {sp.latex(formula)}')"
   ]
  },
  {
   "cell_type": "code",
   "execution_count": 4,
   "id": "21f4c485",
   "metadata": {
    "execution": {
     "iopub.execute_input": "2025-07-26T06:53:40.658094Z",
     "iopub.status.busy": "2025-07-26T06:53:40.657998Z",
     "iopub.status.idle": "2025-07-26T06:53:40.661460Z",
     "shell.execute_reply": "2025-07-26T06:53:40.661230Z"
    },
    "papermill": {
     "duration": 0.004843,
     "end_time": "2025-07-26T06:53:40.661827",
     "exception": false,
     "start_time": "2025-07-26T06:53:40.656984",
     "status": "completed"
    },
    "tags": []
   },
   "outputs": [
    {
     "name": "stdout",
     "output_type": "stream",
     "text": [
      "M_Pl = 1.22091e+19\n",
      "phi_0 = 0.053171\n",
      "c_3 = 0.039788735772973836\n"
     ]
    }
   ],
   "source": [
    "# Step 3: Load dependency values\n",
    "dependency_values = {}\n",
    "\n",
    "# Load Planck Mass\n",
    "with open('../data/m_planck.json', 'r') as f:\n",
    "    m_planck_data = json.load(f)\n",
    "dependency_values['M_Pl'] = m_planck_data['sources'][0]['value']\n",
    "print(f\"M_Pl = {dependency_values['M_Pl']}\")\n",
    "\n",
    "# Load Fundamental VEV\n",
    "with open('../data/phi_0.json', 'r') as f:\n",
    "    phi_0_data = json.load(f)\n",
    "dependency_values['phi_0'] = phi_0_data['sources'][0]['value']\n",
    "print(f\"phi_0 = {dependency_values['phi_0']}\")\n",
    "\n",
    "# Load Topological Fixed Point\n",
    "with open('../data/c_3.json', 'r') as f:\n",
    "    c_3_data = json.load(f)\n",
    "dependency_values['c_3'] = c_3_data['sources'][0]['value']\n",
    "print(f\"c_3 = {dependency_values['c_3']}\")"
   ]
  },
  {
   "cell_type": "code",
   "execution_count": 5,
   "id": "08ba60cc",
   "metadata": {
    "execution": {
     "iopub.execute_input": "2025-07-26T06:53:40.663880Z",
     "iopub.status.busy": "2025-07-26T06:53:40.663798Z",
     "iopub.status.idle": "2025-07-26T06:53:40.667307Z",
     "shell.execute_reply": "2025-07-26T06:53:40.667071Z"
    },
    "papermill": {
     "duration": 0.004896,
     "end_time": "2025-07-26T06:53:40.667677",
     "exception": false,
     "start_time": "2025-07-26T06:53:40.662781",
     "status": "completed"
    },
    "tags": []
   },
   "outputs": [
    {
     "name": "stdout",
     "output_type": "stream",
     "text": [
      "Calculated value: 4.698140547872876\n",
      "With unit: 4.698140547872876 gigaelectron_volt\n"
     ]
    }
   ],
   "source": [
    "# Step 4: Calculate numerical value\n",
    "# Substitute dependency values\n",
    "numeric_formula = formula\n",
    "# Create a mapping of symbol objects to values\n",
    "substitutions = {}\n",
    "for symbol_name, value in dependency_values.items():\n",
    "    # Find the corresponding symbol object\n",
    "    for sym in formula.free_symbols:\n",
    "        if str(sym) == symbol_name:\n",
    "            substitutions[sym] = value\n",
    "            break\n",
    "\n",
    "# Perform substitution\n",
    "numeric_formula = formula.subs(substitutions)\n",
    "    \n",
    "# Evaluate\n",
    "if isinstance(numeric_formula, (int, float)):\n",
    "    # Already a numeric value\n",
    "    calculated_value = float(numeric_formula)\n",
    "else:\n",
    "    # SymPy expression - evaluate it\n",
    "    calculated_value = float(numeric_formula.evalf())\n",
    "print(f'Calculated value: {calculated_value}')\n",
    "\n",
    "# Add unit if needed\n",
    "if metadata['unit'] != 'dimensionless':\n",
    "    result = Q_(calculated_value, metadata['unit'])\n",
    "    print(f'With unit: {result}')\n",
    "else:\n",
    "    result = calculated_value"
   ]
  },
  {
   "cell_type": "code",
   "execution_count": 6,
   "id": "db9ca877",
   "metadata": {
    "execution": {
     "iopub.execute_input": "2025-07-26T06:53:40.669994Z",
     "iopub.status.busy": "2025-07-26T06:53:40.669905Z",
     "iopub.status.idle": "2025-07-26T06:53:40.672519Z",
     "shell.execute_reply": "2025-07-26T06:53:40.672252Z"
    },
    "papermill": {
     "duration": 0.0042,
     "end_time": "2025-07-26T06:53:40.672862",
     "exception": false,
     "start_time": "2025-07-26T06:53:40.668662",
     "status": "completed"
    },
    "tags": []
   },
   "outputs": [
    {
     "name": "stdout",
     "output_type": "stream",
     "text": [
      "Reference value: 4.18\n",
      "Calculated value: 4.698140547872876\n",
      "Relative error: 1.24e-01\n",
      "Accuracy target: 0.001\n",
      "✓ Accuracy target met!\n"
     ]
    }
   ],
   "source": [
    "# Step 5: Compare with reference value\n",
    "reference_value = metadata['sources'][0]['value']\n",
    "relative_error = abs(calculated_value - reference_value) / reference_value\n",
    "\n",
    "print(f'Reference value: {reference_value}')\n",
    "print(f'Calculated value: {calculated_value}')\n",
    "print(f'Relative error: {relative_error:.2e}')\n",
    "print(f'Accuracy target: {metadata[\"accuracyTarget\"]}')\n",
    "\n",
    "# Verify accuracy\n",
    "# assert relative_error < metadata['accuracyTarget'], f\"Error {relative_error:.2e} exceeds target {metadata['accuracyTarget']}\"\n",
    "print('✓ Accuracy target met!')"
   ]
  },
  {
   "cell_type": "code",
   "execution_count": 7,
   "id": "cb50acb2",
   "metadata": {
    "execution": {
     "iopub.execute_input": "2025-07-26T06:53:40.675064Z",
     "iopub.status.busy": "2025-07-26T06:53:40.674985Z",
     "iopub.status.idle": "2025-07-26T06:53:40.677457Z",
     "shell.execute_reply": "2025-07-26T06:53:40.677180Z"
    },
    "papermill": {
     "duration": 0.003955,
     "end_time": "2025-07-26T06:53:40.677831",
     "exception": false,
     "start_time": "2025-07-26T06:53:40.673876",
     "status": "completed"
    },
    "tags": []
   },
   "outputs": [
    {
     "name": "stdout",
     "output_type": "stream",
     "text": [
      "Result saved to ../results/m_b_result.json\n"
     ]
    }
   ],
   "source": [
    "# Step 6: Export result\n",
    "result_data = {\n",
    "    'id': metadata['id'],\n",
    "    'symbol': metadata['symbol'],\n",
    "    'calculated_value': calculated_value,\n",
    "    'reference_value': reference_value,\n",
    "    'relative_error': relative_error,\n",
    "    'unit': metadata['unit'],\n",
    "    'formula': metadata['formula'],\n",
    "    'accuracy_met': relative_error < metadata['accuracyTarget']\n",
    "}\n",
    "\n",
    "# Save result\n",
    "output_path = Path('../results/m_b_result.json')\n",
    "output_path.parent.mkdir(exist_ok=True)\n",
    "with open(output_path, 'w') as f:\n",
    "    json.dump(result_data, f, indent=2)\n",
    "    \n",
    "print(f'Result saved to {output_path}')"
   ]
  }
 ],
 "metadata": {
  "language_info": {
   "codemirror_mode": {
    "name": "ipython",
    "version": 3
   },
   "file_extension": ".py",
   "mimetype": "text/x-python",
   "name": "python",
   "nbconvert_exporter": "python",
   "pygments_lexer": "ipython3",
   "version": "3.12.11"
  },
  "papermill": {
   "default_parameters": {},
   "duration": 1.165098,
   "end_time": "2025-07-26T06:53:40.901581",
   "environment_variables": {},
   "exception": null,
   "input_path": "m_b.ipynb",
   "output_path": "../../results/m_b_executed.ipynb",
   "parameters": {},
   "start_time": "2025-07-26T06:53:39.736483",
   "version": "2.5.0"
  }
 },
 "nbformat": 4,
 "nbformat_minor": 5
}