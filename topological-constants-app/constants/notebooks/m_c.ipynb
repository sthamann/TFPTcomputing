{
 "cells": [
  {
   "cell_type": "markdown",
   "id": "d957d193",
   "metadata": {},
   "source": [
    "# Charm Quark Mass (m_c)\n",
    "\n",
    "Charm MS-bar mass from 16-step cascade: m_c = M_Pl × φ₀¹⁶ / c₃\n",
    "\n",
    "**Formula:** $m_c  =  M_Pl * φ₀^16 / c₃$\n",
    "\n",
    "**Unit:** GeV\n",
    "\n",
    "**Category:** derived"
   ]
  },
  {
   "cell_type": "code",
   "execution_count": null,
   "id": "fb767fae",
   "metadata": {},
   "outputs": [],
   "source": [
    "import sympy as sp\n",
    "import numpy as np\n",
    "from sympy import symbols, pi, sqrt, acos, asin, atan, exp, log, sin, cos\n",
    "import pint\n",
    "import json\n",
    "from pathlib import Path\n",
    "\n",
    "# Initialize unit registry\n",
    "ureg = pint.UnitRegistry()\n",
    "Q_ = ureg.Quantity\n",
    "\n",
    "# Load constant metadata\n",
    "const_path = Path('../data/m_c.json')\n",
    "with open(const_path, 'r') as f:\n",
    "    metadata = json.load(f)\n"
   ]
  },
  {
   "cell_type": "code",
   "execution_count": null,
   "id": "90c6f588",
   "metadata": {},
   "outputs": [],
   "source": [
    "# Step 1: Define symbols\n",
    "M_Pl, c₃, m_c, phi_0 = symbols('M_Pl, c₃, m_c, phi_0', real=True, positive=True)"
   ]
  },
  {
   "cell_type": "code",
   "execution_count": null,
   "id": "368e5542",
   "metadata": {},
   "outputs": [],
   "source": [
    "# Step 2: Define formula symbolically\n",
    "formula = M_Pl * phi_0^16 / c₃\n",
    "print(f'Formula: m_c = {formula}')\n",
    "print(f'LaTeX: m_c = {sp.latex(formula)}')"
   ]
  },
  {
   "cell_type": "code",
   "execution_count": null,
   "id": "773d4b8f",
   "metadata": {},
   "outputs": [],
   "source": [
    "# Step 3: Load dependency values\n",
    "dependency_values = {}\n",
    "\n",
    "# Load Planck Mass\n",
    "with open('../data/m_planck.json', 'r') as f:\n",
    "    m_planck_data = json.load(f)\n",
    "dependency_values['M_Pl'] = m_planck_data['sources'][0]['value']\n",
    "print(f\"M_Pl = {dependency_values['M_Pl']}\")\n",
    "\n",
    "# Load Golden Angle\n",
    "with open('../data/phi_0.json', 'r') as f:\n",
    "    phi_0_data = json.load(f)\n",
    "dependency_values['phi_0'] = phi_0_data['sources'][0]['value']\n",
    "print(f\"phi_0 = {dependency_values['phi_0']}\")\n",
    "\n",
    "# Load Topological Fixed Point\n",
    "with open('../data/c_3.json', 'r') as f:\n",
    "    c_3_data = json.load(f)\n",
    "dependency_values['c₃'] = c_3_data['sources'][0]['value']\n",
    "print(f\"c₃ = {dependency_values['c₃']}\")"
   ]
  },
  {
   "cell_type": "code",
   "execution_count": null,
   "id": "cb2e9b57",
   "metadata": {},
   "outputs": [],
   "source": [
    "# Step 4: Calculate numerical value\n",
    "# Substitute dependency values\n",
    "numeric_formula = formula\n",
    "for symbol, value in dependency_values.items():\n",
    "    numeric_formula = numeric_formula.subs(symbol, value)\n",
    "    \n",
    "# Evaluate\n",
    "calculated_value = float(numeric_formula.evalf())\n",
    "print(f'Calculated value: {calculated_value}')\n",
    "\n",
    "# Add unit if needed\n",
    "if metadata['unit'] != 'dimensionless':\n",
    "    result = Q_(calculated_value, metadata['unit'])\n",
    "    print(f'With unit: {result}')\n",
    "else:\n",
    "    result = calculated_value"
   ]
  },
  {
   "cell_type": "code",
   "execution_count": null,
   "id": "b718a8ec",
   "metadata": {},
   "outputs": [],
   "source": [
    "# Step 5: Compare with reference value\n",
    "reference_value = metadata['sources'][0]['value']\n",
    "relative_error = abs(calculated_value - reference_value) / reference_value\n",
    "\n",
    "print(f'Reference value: {reference_value}')\n",
    "print(f'Calculated value: {calculated_value}')\n",
    "print(f'Relative error: {relative_error:.2e}')\n",
    "print(f'Accuracy target: {metadata[\"accuracyTarget\"]}')\n",
    "\n",
    "# Verify accuracy\n",
    "assert relative_error < metadata['accuracyTarget'], f\"Error {relative_error:.2e} exceeds target {metadata['accuracyTarget']}\"\n",
    "print('✓ Accuracy target met!')"
   ]
  },
  {
   "cell_type": "code",
   "execution_count": null,
   "id": "f8dacf8f",
   "metadata": {},
   "outputs": [],
   "source": [
    "# Step 6: Export result\n",
    "result_data = {\n",
    "    'id': metadata['id'],\n",
    "    'symbol': metadata['symbol'],\n",
    "    'calculated_value': calculated_value,\n",
    "    'reference_value': reference_value,\n",
    "    'relative_error': relative_error,\n",
    "    'unit': metadata['unit'],\n",
    "    'formula': metadata['formula'],\n",
    "    'accuracy_met': relative_error < metadata['accuracyTarget']\n",
    "}\n",
    "\n",
    "# Save result\n",
    "output_path = Path('../results/m_c_result.json')\n",
    "output_path.parent.mkdir(exist_ok=True)\n",
    "with open(output_path, 'w') as f:\n",
    "    json.dump(result_data, f, indent=2)\n",
    "    \n",
    "print(f'Result saved to {output_path}')"
   ]
  }
 ],
 "metadata": {},
 "nbformat": 4,
 "nbformat_minor": 5
}
