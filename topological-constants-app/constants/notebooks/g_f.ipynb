{
 "cells": [
  {
   "cell_type": "markdown",
   "id": "64beb16a",
   "metadata": {},
   "source": [
    "# Fermi Constant (G_F)\n",
    "\n",
    "Fermi constant from weak coupling: G_F = 1 / (√2 × v_H²)\n",
    "\n",
    "**Formula:** $G_F  =  1 / (sqrt(2) * v_H^2)$\n",
    "\n",
    "**Unit:** GeV^-2\n",
    "\n",
    "**Category:** derived"
   ]
  },
  {
   "cell_type": "code",
   "execution_count": null,
   "id": "dbf67cfb",
   "metadata": {},
   "outputs": [],
   "source": [
    "import sympy as sp\n",
    "import numpy as np\n",
    "from sympy import symbols, pi, sqrt, acos, asin, atan, exp, log, sin, cos\n",
    "import pint\n",
    "import json\n",
    "from pathlib import Path\n",
    "\n",
    "# Initialize unit registry\n",
    "ureg = pint.UnitRegistry()\n",
    "Q_ = ureg.Quantity\n",
    "\n",
    "# Load constant metadata\n",
    "const_path = Path('../data/g_f.json')\n",
    "with open(const_path, 'r') as f:\n",
    "    metadata = json.load(f)\n"
   ]
  },
  {
   "cell_type": "code",
   "execution_count": null,
   "id": "f18dd404",
   "metadata": {},
   "outputs": [],
   "source": [
    "# Step 1: Define symbols\n",
    "G_F, v_H = symbols('G_F, v_H', real=True, positive=True)"
   ]
  },
  {
   "cell_type": "code",
   "execution_count": null,
   "id": "fbf987ba",
   "metadata": {},
   "outputs": [],
   "source": [
    "# Step 2: Define formula symbolically\n",
    "formula = 1 / (sqrt(2) * v_H^2)\n",
    "print(f'Formula: G_F = {formula}')\n",
    "print(f'LaTeX: G_F = {sp.latex(formula)}')"
   ]
  },
  {
   "cell_type": "code",
   "execution_count": null,
   "id": "5d82c830",
   "metadata": {},
   "outputs": [],
   "source": [
    "# Step 3: Load dependency values\n",
    "dependency_values = {}\n",
    "\n",
    "# Load Higgs Vacuum Expectation Value\n",
    "with open('../data/v_h.json', 'r') as f:\n",
    "    v_h_data = json.load(f)\n",
    "dependency_values['v_H'] = v_h_data['sources'][0]['value']\n",
    "print(f\"v_H = {dependency_values['v_H']}\")"
   ]
  },
  {
   "cell_type": "code",
   "execution_count": null,
   "id": "014b231c",
   "metadata": {},
   "outputs": [],
   "source": [
    "# Step 4: Calculate numerical value\n",
    "# Substitute dependency values\n",
    "numeric_formula = formula\n",
    "for symbol, value in dependency_values.items():\n",
    "    numeric_formula = numeric_formula.subs(symbol, value)\n",
    "    \n",
    "# Evaluate\n",
    "calculated_value = float(numeric_formula.evalf())\n",
    "print(f'Calculated value: {calculated_value}')\n",
    "\n",
    "# Add unit if needed\n",
    "if metadata['unit'] != 'dimensionless':\n",
    "    result = Q_(calculated_value, metadata['unit'])\n",
    "    print(f'With unit: {result}')\n",
    "else:\n",
    "    result = calculated_value"
   ]
  },
  {
   "cell_type": "code",
   "execution_count": null,
   "id": "b2f29626",
   "metadata": {},
   "outputs": [],
   "source": [
    "# Step 5: Compare with reference value\n",
    "reference_value = metadata['sources'][0]['value']\n",
    "relative_error = abs(calculated_value - reference_value) / reference_value\n",
    "\n",
    "print(f'Reference value: {reference_value}')\n",
    "print(f'Calculated value: {calculated_value}')\n",
    "print(f'Relative error: {relative_error:.2e}')\n",
    "print(f'Accuracy target: {metadata[\"accuracyTarget\"]}')\n",
    "\n",
    "# Verify accuracy\n",
    "assert relative_error < metadata['accuracyTarget'], f\"Error {relative_error:.2e} exceeds target {metadata['accuracyTarget']}\"\n",
    "print('✓ Accuracy target met!')"
   ]
  },
  {
   "cell_type": "code",
   "execution_count": null,
   "id": "071e2062",
   "metadata": {},
   "outputs": [],
   "source": [
    "# Step 6: Export result\n",
    "result_data = {\n",
    "    'id': metadata['id'],\n",
    "    'symbol': metadata['symbol'],\n",
    "    'calculated_value': calculated_value,\n",
    "    'reference_value': reference_value,\n",
    "    'relative_error': relative_error,\n",
    "    'unit': metadata['unit'],\n",
    "    'formula': metadata['formula'],\n",
    "    'accuracy_met': relative_error < metadata['accuracyTarget']\n",
    "}\n",
    "\n",
    "# Save result\n",
    "output_path = Path('../results/g_f_result.json')\n",
    "output_path.parent.mkdir(exist_ok=True)\n",
    "with open(output_path, 'w') as f:\n",
    "    json.dump(result_data, f, indent=2)\n",
    "    \n",
    "print(f'Result saved to {output_path}')"
   ]
  }
 ],
 "metadata": {},
 "nbformat": 4,
 "nbformat_minor": 5
}
