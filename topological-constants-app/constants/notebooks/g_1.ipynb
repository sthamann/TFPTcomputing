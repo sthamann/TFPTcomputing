{
 "cells": [
  {
   "cell_type": "markdown",
   "id": "3c82f989",
   "metadata": {},
   "source": [
    "# U(1) Gauge Coupling (g₁)\n",
    "\n",
    "U(1)_Y gauge coupling at electroweak scale: g₁ = √(4πα) / cos(θ_W)\n",
    "\n",
    "**Formula:** $g₁  =  sqrt(4 * pi * α) / sqrt(1 - sin²θ_W)$\n",
    "\n",
    "**Unit:** dimensionless\n",
    "\n",
    "**Category:** derived"
   ]
  },
  {
   "cell_type": "code",
   "execution_count": null,
   "id": "01f75779",
   "metadata": {},
   "outputs": [],
   "source": [
    "import sympy as sp\n",
    "import numpy as np\n",
    "from sympy import symbols, pi, sqrt, acos, asin, atan, exp, log, sin, cos\n",
    "import pint\n",
    "import json\n",
    "from pathlib import Path\n",
    "\n",
    "# Initialize unit registry\n",
    "ureg = pint.UnitRegistry()\n",
    "Q_ = ureg.Quantity\n",
    "\n",
    "# Load constant metadata\n",
    "const_path = Path('../data/g_1.json')\n",
    "with open(const_path, 'r') as f:\n",
    "    metadata = json.load(f)\n"
   ]
  },
  {
   "cell_type": "code",
   "execution_count": null,
   "id": "1fad38d2",
   "metadata": {},
   "outputs": [],
   "source": [
    "# Step 1: Define symbols\n",
    "alpha, g₁, sin²θ_W = symbols('alpha, g₁, sin²θ_W', real=True, positive=True)"
   ]
  },
  {
   "cell_type": "code",
   "execution_count": null,
   "id": "35ee5c69",
   "metadata": {},
   "outputs": [],
   "source": [
    "# Step 2: Define formula symbolically\n",
    "formula = sqrt(4 * pi * alpha) / sqrt(1 - sin²θ_W)\n",
    "print(f'Formula: g₁ = {formula}')\n",
    "print(f'LaTeX: g₁ = {sp.latex(formula)}')"
   ]
  },
  {
   "cell_type": "code",
   "execution_count": null,
   "id": "9369b4df",
   "metadata": {},
   "outputs": [],
   "source": [
    "# Step 3: Load dependency values\n",
    "dependency_values = {}\n",
    "\n",
    "# Load Fine Structure Constant\n",
    "with open('../data/alpha.json', 'r') as f:\n",
    "    alpha_data = json.load(f)\n",
    "dependency_values['alpha'] = alpha_data['sources'][0]['value']\n",
    "print(f\"alpha = {dependency_values['alpha']}\")\n",
    "\n",
    "# Load Weinberg Angle\n",
    "with open('../data/sin2_theta_w.json', 'r') as f:\n",
    "    sin2_theta_w_data = json.load(f)\n",
    "dependency_values['sin²θ_W'] = sin2_theta_w_data['sources'][0]['value']\n",
    "print(f\"sin²θ_W = {dependency_values['sin²θ_W']}\")"
   ]
  },
  {
   "cell_type": "code",
   "execution_count": null,
   "id": "dba4a97e",
   "metadata": {},
   "outputs": [],
   "source": [
    "# Step 4: Calculate numerical value\n",
    "# Substitute dependency values\n",
    "numeric_formula = formula\n",
    "for symbol, value in dependency_values.items():\n",
    "    numeric_formula = numeric_formula.subs(symbol, value)\n",
    "    \n",
    "# Evaluate\n",
    "calculated_value = float(numeric_formula.evalf())\n",
    "print(f'Calculated value: {calculated_value}')\n",
    "\n",
    "# Add unit if needed\n",
    "if metadata['unit'] != 'dimensionless':\n",
    "    result = Q_(calculated_value, metadata['unit'])\n",
    "    print(f'With unit: {result}')\n",
    "else:\n",
    "    result = calculated_value"
   ]
  },
  {
   "cell_type": "code",
   "execution_count": null,
   "id": "c02c3b73",
   "metadata": {},
   "outputs": [],
   "source": [
    "# Step 5: Compare with reference value\n",
    "reference_value = metadata['sources'][0]['value']\n",
    "relative_error = abs(calculated_value - reference_value) / reference_value\n",
    "\n",
    "print(f'Reference value: {reference_value}')\n",
    "print(f'Calculated value: {calculated_value}')\n",
    "print(f'Relative error: {relative_error:.2e}')\n",
    "print(f'Accuracy target: {metadata[\"accuracyTarget\"]}')\n",
    "\n",
    "# Verify accuracy\n",
    "assert relative_error < metadata['accuracyTarget'], f\"Error {relative_error:.2e} exceeds target {metadata['accuracyTarget']}\"\n",
    "print('✓ Accuracy target met!')"
   ]
  },
  {
   "cell_type": "code",
   "execution_count": null,
   "id": "7b40627d",
   "metadata": {},
   "outputs": [],
   "source": [
    "# Step 6: Export result\n",
    "result_data = {\n",
    "    'id': metadata['id'],\n",
    "    'symbol': metadata['symbol'],\n",
    "    'calculated_value': calculated_value,\n",
    "    'reference_value': reference_value,\n",
    "    'relative_error': relative_error,\n",
    "    'unit': metadata['unit'],\n",
    "    'formula': metadata['formula'],\n",
    "    'accuracy_met': relative_error < metadata['accuracyTarget']\n",
    "}\n",
    "\n",
    "# Save result\n",
    "output_path = Path('../results/g_1_result.json')\n",
    "output_path.parent.mkdir(exist_ok=True)\n",
    "with open(output_path, 'w') as f:\n",
    "    json.dump(result_data, f, indent=2)\n",
    "    \n",
    "print(f'Result saved to {output_path}')"
   ]
  }
 ],
 "metadata": {},
 "nbformat": 4,
 "nbformat_minor": 5
}
