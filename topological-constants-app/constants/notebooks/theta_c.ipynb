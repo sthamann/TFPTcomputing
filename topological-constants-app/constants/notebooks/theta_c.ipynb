{
 "cells": [
  {
   "cell_type": "markdown",
   "id": "d5846781",
   "metadata": {},
   "source": [
    "# Cabibbo Angle (θ_c)\n",
    "\n",
    "Cabibbo mixing angle from topology: sin θ_c = √[φ₀ / (1 + φ₀)]\n",
    "\n",
    "**Formula:** $θ_c  =  asin(sqrt(φ₀ / (1 + φ₀)))$\n",
    "\n",
    "**Unit:** radians\n",
    "\n",
    "**Category:** derived"
   ]
  },
  {
   "cell_type": "code",
   "execution_count": null,
   "id": "57670a8b",
   "metadata": {},
   "outputs": [],
   "source": [
    "import sympy as sp\n",
    "import numpy as np\n",
    "from sympy import symbols, pi, sqrt, acos, asin, atan, exp, log, sin, cos\n",
    "import pint\n",
    "import json\n",
    "from pathlib import Path\n",
    "\n",
    "# Initialize unit registry\n",
    "ureg = pint.UnitRegistry()\n",
    "Q_ = ureg.Quantity\n",
    "\n",
    "# Load constant metadata\n",
    "const_path = Path('../data/theta_c.json')\n",
    "with open(const_path, 'r') as f:\n",
    "    metadata = json.load(f)\n"
   ]
  },
  {
   "cell_type": "code",
   "execution_count": null,
   "id": "220328cd",
   "metadata": {},
   "outputs": [],
   "source": [
    "# Step 1: Define symbols\n",
    "phi_0, θ_c = symbols('phi_0, θ_c', real=True, positive=True)"
   ]
  },
  {
   "cell_type": "code",
   "execution_count": null,
   "id": "adb93ddd",
   "metadata": {},
   "outputs": [],
   "source": [
    "# Step 2: Define formula symbolically\n",
    "formula = asin(sqrt(phi_0 / (1 + phi_0)))\n",
    "print(f'Formula: θ_c = {formula}')\n",
    "print(f'LaTeX: θ_c = {sp.latex(formula)}')"
   ]
  },
  {
   "cell_type": "code",
   "execution_count": null,
   "id": "5decf71c",
   "metadata": {},
   "outputs": [],
   "source": [
    "# Step 3: Load dependency values\n",
    "dependency_values = {}\n",
    "\n",
    "# Load Golden Angle\n",
    "with open('../data/phi_0.json', 'r') as f:\n",
    "    phi_0_data = json.load(f)\n",
    "dependency_values['phi_0'] = phi_0_data['sources'][0]['value']\n",
    "print(f\"phi_0 = {dependency_values['phi_0']}\")"
   ]
  },
  {
   "cell_type": "code",
   "execution_count": null,
   "id": "57d5cdc9",
   "metadata": {},
   "outputs": [],
   "source": [
    "# Step 4: Calculate numerical value\n",
    "# Substitute dependency values\n",
    "numeric_formula = formula\n",
    "for symbol, value in dependency_values.items():\n",
    "    numeric_formula = numeric_formula.subs(symbol, value)\n",
    "    \n",
    "# Evaluate\n",
    "calculated_value = float(numeric_formula.evalf())\n",
    "print(f'Calculated value: {calculated_value}')\n",
    "\n",
    "# Add unit if needed\n",
    "if metadata['unit'] != 'dimensionless':\n",
    "    result = Q_(calculated_value, metadata['unit'])\n",
    "    print(f'With unit: {result}')\n",
    "else:\n",
    "    result = calculated_value"
   ]
  },
  {
   "cell_type": "code",
   "execution_count": null,
   "id": "57c5e78c",
   "metadata": {},
   "outputs": [],
   "source": [
    "# Step 5: Compare with reference value\n",
    "reference_value = metadata['sources'][0]['value']\n",
    "relative_error = abs(calculated_value - reference_value) / reference_value\n",
    "\n",
    "print(f'Reference value: {reference_value}')\n",
    "print(f'Calculated value: {calculated_value}')\n",
    "print(f'Relative error: {relative_error:.2e}')\n",
    "print(f'Accuracy target: {metadata[\"accuracyTarget\"]}')\n",
    "\n",
    "# Verify accuracy\n",
    "assert relative_error < metadata['accuracyTarget'], f\"Error {relative_error:.2e} exceeds target {metadata['accuracyTarget']}\"\n",
    "print('✓ Accuracy target met!')"
   ]
  },
  {
   "cell_type": "code",
   "execution_count": null,
   "id": "d454ce6e",
   "metadata": {},
   "outputs": [],
   "source": [
    "# Step 6: Export result\n",
    "result_data = {\n",
    "    'id': metadata['id'],\n",
    "    'symbol': metadata['symbol'],\n",
    "    'calculated_value': calculated_value,\n",
    "    'reference_value': reference_value,\n",
    "    'relative_error': relative_error,\n",
    "    'unit': metadata['unit'],\n",
    "    'formula': metadata['formula'],\n",
    "    'accuracy_met': relative_error < metadata['accuracyTarget']\n",
    "}\n",
    "\n",
    "# Save result\n",
    "output_path = Path('../results/theta_c_result.json')\n",
    "output_path.parent.mkdir(exist_ok=True)\n",
    "with open(output_path, 'w') as f:\n",
    "    json.dump(result_data, f, indent=2)\n",
    "    \n",
    "print(f'Result saved to {output_path}')"
   ]
  }
 ],
 "metadata": {},
 "nbformat": 4,
 "nbformat_minor": 5
}
