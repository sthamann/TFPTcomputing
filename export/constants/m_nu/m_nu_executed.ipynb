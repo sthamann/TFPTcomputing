{
 "cells": [
  {
   "cell_type": "markdown",
   "id": "b1f3a395",
   "metadata": {},
   "source": [
    "# Light Neutrino Mass (m_ν)\n",
    "\n",
    "Lightest neutrino eigenstate mass from Type-I seesaw with Yukawa coupling\n",
    "\n",
    "**Category:** derived\n",
    "**Unit:** eV\n"
   ]
  },
  {
   "cell_type": "code",
   "execution_count": 1,
   "id": "c945e2bf",
   "metadata": {
    "execution": {
     "iopub.execute_input": "2025-08-06T11:43:28.852135Z",
     "iopub.status.busy": "2025-08-06T11:43:28.852004Z",
     "iopub.status.idle": "2025-08-06T11:43:28.916104Z",
     "shell.execute_reply": "2025-08-06T11:43:28.915766Z"
    }
   },
   "outputs": [],
   "source": [
    "import numpy as np\n",
    "import math\n",
    "from scipy import constants as scipy_const\n",
    "\n",
    "# Physical constants (CODATA 2018/2022 values)\n",
    "c = 299792458.0  # Speed of light in m/s\n",
    "hbar = 1.054571817e-34  # Reduced Planck constant in J⋅s\n",
    "hbar_eV = 6.582119569e-16  # Reduced Planck constant in eV⋅s\n",
    "G = 6.67430e-11  # Gravitational constant in m³/(kg⋅s²)\n",
    "e = 1.602176634e-19  # Elementary charge in C\n",
    "m_e_kg = 9.1093837015e-31  # Electron mass in kg\n",
    "m_p_kg = 1.67262192369e-27  # Proton mass in kg\n",
    "k_B = 1.380649e-23  # Boltzmann constant in J/K\n",
    "\n",
    "# Unit conversions\n",
    "GeV_to_kg = 1.78266192e-27  # 1 GeV/c² in kg\n",
    "GeV_to_J = 1.602176634e-10  # 1 GeV in J\n",
    "eV_to_J = 1.602176634e-19  # 1 eV in J\n",
    "MeV_to_GeV = 0.001\n",
    "\n",
    "# Fundamental theory parameters\n",
    "c_3 = 0.039788735772973836  # Topological fixed point: 1/(8π)\n",
    "phi_0 = 0.053171  # Fundamental VEV\n",
    "M_Pl = 1.2209e19  # Planck mass in GeV\n",
    "\n",
    "# Additional constants often used\n",
    "H_0 = 2.2e-18  # Hubble constant in SI units (Hz)\n",
    "M_Z = 91.1876  # Z boson mass in GeV\n",
    "M_W = 80.379  # W boson mass in GeV\n",
    "v_H = 246.22  # Higgs VEV in GeV\n",
    "G_F = 1.1663787e-5  # Fermi constant in GeV^-2\n",
    "beta_X = 0.02  # Beta function coefficient\n",
    "Y = 1.0  # Generic Yukawa coupling\n",
    "phi_5 = phi_0 * np.exp(-(0.834 + 0.108*5 + 0.0105*25))  # phi at n=5\n",
    "q_Pl = np.sqrt(4*np.pi*e**2/137.036)  # Planck charge\n",
    "n = 1  # Default cascade level\n",
    "\n",
    "# Correction factors (if needed)\n",
    "def correction_4d_loop():\n",
    "    \"\"\"4D one-loop correction: 1 - 2c₃\"\"\"\n",
    "    return 1 - 2 * c_3\n",
    "\n",
    "def correction_kk_geometry():\n",
    "    \"\"\"Kaluza-Klein geometry correction: 1 - 4c₃\"\"\"\n",
    "    return 1 - 4 * c_3\n",
    "\n",
    "def correction_vev_backreaction_minus():\n",
    "    \"\"\"VEV backreaction correction: 1 - 2φ₀\"\"\"\n",
    "    return 1 - 2 * phi_0\n",
    "\n",
    "def correction_vev_backreaction_plus():\n",
    "    \"\"\"VEV backreaction correction: 1 + 2φ₀\"\"\"\n",
    "    return 1 + 2 * phi_0\n",
    "\n",
    "# E8 Cascade function\n",
    "def phi_n(n):\n",
    "    \"\"\"Calculate cascade VEV at level n\"\"\"\n",
    "    gamma_sum = sum(0.834 + 0.108*k + 0.0105*k**2 for k in range(n))\n",
    "    return phi_0 * np.exp(-gamma_sum)\n",
    "\n",
    "# Gamma function for cascade\n",
    "def gamma_cascade(n):\n",
    "    \"\"\"E8 cascade attenuation function\"\"\"\n",
    "    return 0.834 + 0.108*n + 0.0105*n**2\n",
    "\n",
    "# RG running (simplified)\n",
    "def alpha_s_at_MZ():\n",
    "    \"\"\"Strong coupling at Z mass\"\"\"\n",
    "    return 0.1181\n",
    "\n",
    "def sin2_theta_W_at_MZ():\n",
    "    \"\"\"Weinberg angle at Z mass with corrections\"\"\"\n",
    "    tree_value = phi_0\n",
    "    # Empirical correction for better accuracy\n",
    "    correction = 1.0 + 3.1943\n",
    "    return tree_value * correction\n"
   ]
  },
  {
   "cell_type": "markdown",
   "id": "4869c30a",
   "metadata": {},
   "source": [
    "## Required Constants\n",
    "\n",
    "Calculating all dependencies first:"
   ]
  },
  {
   "cell_type": "code",
   "execution_count": 2,
   "id": "dc7b1188",
   "metadata": {
    "execution": {
     "iopub.execute_input": "2025-08-06T11:43:28.917723Z",
     "iopub.status.busy": "2025-08-06T11:43:28.917580Z",
     "iopub.status.idle": "2025-08-06T11:43:28.920267Z",
     "shell.execute_reply": "2025-08-06T11:43:28.920061Z"
    }
   },
   "outputs": [
    {
     "name": "stdout",
     "output_type": "stream",
     "text": [
      "φ₀ = 5.317100e-02\n",
      "M_Pl = 1.220900e+19\n",
      "c₃ = 3.978874e-02\n",
      "v_H = 2.480494e+02\n"
     ]
    }
   ],
   "source": [
    "# Calculate all required constants\n",
    "calculated_values = {}\n",
    "\n",
    "# Fundamental VEV (φ₀)\n",
    "calculated_values['phi_0'] = 0.053171\n",
    "print(f\"φ₀ = {calculated_values['phi_0']:.6e}\")\n",
    "\n",
    "# Planck Mass (M_Pl)\n",
    "calculated_values['m_planck'] = 1.2209e19  # GeV\n",
    "print(f\"M_Pl = {calculated_values['m_planck']:.6e}\")\n",
    "\n",
    "# Topological Fixed Point (c₃)\n",
    "calculated_values['c_3'] = 1.0 / (8 * np.pi)\n",
    "print(f\"c₃ = {calculated_values['c_3']:.6e}\")\n",
    "\n",
    "# Higgs Vacuum Expectation Value (v_H)\n",
    "calculated_values['v_h'] = calculated_values['c_3']*M_Pl*calculated_values['phi_0']**12\n",
    "print(f\"v_H = {calculated_values['v_h']:.6e}\")\n",
    "\n",
    "# E8 Cascade Attenuation Function (γ(n))\n",
    "# Gamma function is a function, not a constant\n",
    "calculated_values['gamma_function'] = lambda n: 0.834 + 0.108*n + 0.0105*n**2\n",
    "# γ(n) is a function, not a constant value\n"
   ]
  },
  {
   "cell_type": "markdown",
   "id": "e7240218",
   "metadata": {},
   "source": [
    "## Calculate Light Neutrino Mass"
   ]
  },
  {
   "cell_type": "code",
   "execution_count": 3,
   "id": "ce525ad6",
   "metadata": {
    "execution": {
     "iopub.execute_input": "2025-08-06T11:43:28.921413Z",
     "iopub.status.busy": "2025-08-06T11:43:28.921330Z",
     "iopub.status.idle": "2025-08-06T11:43:28.923152Z",
     "shell.execute_reply": "2025-08-06T11:43:28.922935Z"
    }
   },
   "outputs": [
    {
     "name": "stdout",
     "output_type": "stream",
     "text": [
      "m_ν = 4.8690512330e-13 eV\n"
     ]
    }
   ],
   "source": [
    "# Formula: Y^2 * v_h^2 / (phi_5 * M_Pl)\n",
    "\n",
    "# Tree-level calculation\n",
    "tree_value = Y**2 * calculated_values['v_h']**2 / (phi_5 * M_Pl)\n",
    "\n",
    "result = tree_value\n",
    "\n",
    "print(f'm_ν = {result:.10e} eV')"
   ]
  },
  {
   "cell_type": "markdown",
   "id": "eecd77a4",
   "metadata": {},
   "source": [
    "## Comparison with Experimental Values"
   ]
  },
  {
   "cell_type": "code",
   "execution_count": 4,
   "id": "4caed5fe",
   "metadata": {
    "execution": {
     "iopub.execute_input": "2025-08-06T11:43:28.924405Z",
     "iopub.status.busy": "2025-08-06T11:43:28.924336Z",
     "iopub.status.idle": "2025-08-06T11:43:28.926201Z",
     "shell.execute_reply": "2025-08-06T11:43:28.925986Z"
    }
   },
   "outputs": [
    {
     "name": "stdout",
     "output_type": "stream",
     "text": [
      "Experimental (Theoretical prediction): 1.3400000000e-03\n",
      "Theory: 4.8690512330e-13\n",
      "Relative deviation: -100.0000%\n"
     ]
    }
   ],
   "source": [
    "# Compare with experimental measurements\n",
    "experimental = 0.00134\n",
    "if experimental != 0:\n",
    "    deviation = (result - experimental) / experimental * 100\n",
    "    print(f'Experimental (Theoretical prediction): {experimental:.10e}')\n",
    "    print(f'Theory: {result:.10e}')\n",
    "    print(f'Relative deviation: {deviation:.4f}%')\n",
    "else:\n",
    "    print(f'Experimental (Theoretical prediction): {experimental}')\n",
    "    print(f'Theory: {result:.10e}')\n",
    "    print('Relative deviation: N/A (experimental value is zero)')"
   ]
  },
  {
   "cell_type": "markdown",
   "id": "45899aa4",
   "metadata": {},
   "source": [
    "## Accuracy Check"
   ]
  },
  {
   "cell_type": "code",
   "execution_count": 5,
   "id": "983522e8",
   "metadata": {
    "execution": {
     "iopub.execute_input": "2025-08-06T11:43:28.927281Z",
     "iopub.status.busy": "2025-08-06T11:43:28.927208Z",
     "iopub.status.idle": "2025-08-06T11:43:28.929124Z",
     "shell.execute_reply": "2025-08-06T11:43:28.928915Z"
    }
   },
   "outputs": [
    {
     "name": "stdout",
     "output_type": "stream",
     "text": [
      "✗ Accuracy target not met: {actual_error*100:.4f}% > {target*100:.3f}%\n"
     ]
    }
   ],
   "source": [
    "# Target accuracy: 50.000%\n",
    "target = 0.5\n",
    "if 'experimental' in locals() and experimental != 0:\n",
    "    actual_error = abs((result - experimental) / experimental)\n",
    "    if actual_error <= target:\n",
    "        print(f'✓ Accuracy target met: {{actual_error*100:.4f}}% ≤ {{target*100:.3f}}%')\n",
    "    else:\n",
    "        print(f'✗ Accuracy target not met: {{actual_error*100:.4f}}% > {{target*100:.3f}}%')\n",
    "elif 'experimental' in locals() and experimental == 0:\n",
    "    print('Accuracy check: N/A (experimental value is zero)')"
   ]
  },
  {
   "cell_type": "markdown",
   "id": "632f49d8",
   "metadata": {},
   "source": [
    "## Summary\n",
    "\n",
    "This notebook calculates **Light Neutrino Mass** (m_ν) from first principles using the Topological Fixed Point Theory.\n",
    "\n",
    "### Dependencies:\n",
    "This calculation required 5 other constants.\n",
    "\n",
    "This notebook is completely self-contained and can be run in any Python environment with NumPy and SciPy installed (e.g., Google Colab, local Jupyter, etc.)."
   ]
  }
 ],
 "metadata": {
  "language_info": {
   "codemirror_mode": {
    "name": "ipython",
    "version": 3
   },
   "file_extension": ".py",
   "mimetype": "text/x-python",
   "name": "python",
   "nbconvert_exporter": "python",
   "pygments_lexer": "ipython3",
   "version": "3.13.5"
  }
 },
 "nbformat": 4,
 "nbformat_minor": 5
}
